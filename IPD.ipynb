{
  "nbformat": 4,
  "nbformat_minor": 0,
  "metadata": {
    "colab": {
      "provenance": [],
      "authorship_tag": "ABX9TyMtdDdY/kENqN4kBAMr5AxF",
      "include_colab_link": true
    },
    "kernelspec": {
      "name": "python3",
      "display_name": "Python 3"
    },
    "language_info": {
      "name": "python"
    }
  },
  "cells": [
    {
      "cell_type": "markdown",
      "metadata": {
        "id": "view-in-github",
        "colab_type": "text"
      },
      "source": [
        "<a href=\"https://colab.research.google.com/github/Rajoshi11/IPD-UI/blob/vraj/IPD.ipynb\" target=\"_parent\"><img src=\"https://colab.research.google.com/assets/colab-badge.svg\" alt=\"Open In Colab\"/></a>"
      ]
    },
    {
      "cell_type": "markdown",
      "source": [
        "# Analyzing the features of a dataset"
      ],
      "metadata": {
        "id": "-H8LaXgaK2CH"
      }
    },
    {
      "cell_type": "markdown",
      "source": [
        "\n",
        "\n",
        "1.   Low gamma reading -> presence of oil and gas\n",
        "2.   High resistivity log -> presence of oil and gas \n",
        "3.   High Porosity index -> presence of oil and gas \n",
        "4.   Low density log -> presence of oil and gas\n",
        "5.   Low photoelctric effect -> presence of oil and gas\n",
        "\n"
      ],
      "metadata": {
        "id": "lpJJcwOsVecB"
      }
    },
    {
      "cell_type": "markdown",
      "source": [
        "To analyze how much a particular feature varies in a dataset"
      ],
      "metadata": {
        "id": "lAHEaDygK7Ji"
      }
    },
    {
      "cell_type": "code",
      "source": [
        "import pandas as pd\n",
        "import matplotlib.pyplot as plt\n",
        "import numpy as np\n",
        "from scipy.signal import find_peaks"
      ],
      "metadata": {
        "id": "VMsP7GT5LByk"
      },
      "execution_count": null,
      "outputs": []
    },
    {
      "cell_type": "code",
      "source": [
        "df = pd.read_csv(\"WELL_LOG_MAIN_DATASET.csv\")"
      ],
      "metadata": {
        "id": "bqJj4fXlLVz4"
      },
      "execution_count": null,
      "outputs": []
    },
    {
      "cell_type": "markdown",
      "source": [
        "##**GAMMA RAY**"
      ],
      "metadata": {
        "id": "OCom54L1Q4a7"
      }
    },
    {
      "cell_type": "code",
      "source": [
        "df['GR']"
      ],
      "metadata": {
        "colab": {
          "base_uri": "https://localhost:8080/"
        },
        "id": "KyyRKBmSLufL",
        "outputId": "953babc5-546a-48bd-cd72-4861cfc44f92"
      },
      "execution_count": null,
      "outputs": [
        {
          "output_type": "execute_result",
          "data": {
            "text/plain": [
              "0       77.450\n",
              "1       78.260\n",
              "2       79.050\n",
              "3       86.100\n",
              "4       74.580\n",
              "         ...  \n",
              "3227    46.719\n",
              "3228    44.563\n",
              "3229    49.719\n",
              "3230    51.469\n",
              "3231    50.031\n",
              "Name: GR, Length: 3232, dtype: float64"
            ]
          },
          "metadata": {},
          "execution_count": 19
        }
      ]
    },
    {
      "cell_type": "code",
      "source": [
        "max = df['GR'].max()\n",
        "min = df['GR'].min()"
      ],
      "metadata": {
        "id": "hk69WSOyjb3t"
      },
      "execution_count": null,
      "outputs": []
    },
    {
      "cell_type": "code",
      "source": [
        "max"
      ],
      "metadata": {
        "colab": {
          "base_uri": "https://localhost:8080/"
        },
        "id": "h1aGim1yjiXV",
        "outputId": "69d9e8d0-33e6-4515-d733-025f6fa2b695"
      },
      "execution_count": null,
      "outputs": [
        {
          "output_type": "execute_result",
          "data": {
            "text/plain": [
              "361.15"
            ]
          },
          "metadata": {},
          "execution_count": 21
        }
      ]
    },
    {
      "cell_type": "code",
      "source": [
        "min"
      ],
      "metadata": {
        "colab": {
          "base_uri": "https://localhost:8080/"
        },
        "id": "zislxuoOjl8C",
        "outputId": "764a88ee-c35e-47c2-eea7-a56909c4be84"
      },
      "execution_count": null,
      "outputs": [
        {
          "output_type": "execute_result",
          "data": {
            "text/plain": [
              "13.25"
            ]
          },
          "metadata": {},
          "execution_count": 22
        }
      ]
    },
    {
      "cell_type": "code",
      "source": [
        "range = max - min\n",
        "print(f\"The range of GR is {range}.\")"
      ],
      "metadata": {
        "colab": {
          "base_uri": "https://localhost:8080/"
        },
        "id": "_fhH8xbZLoxG",
        "outputId": "3a069e14-03a0-438a-9b0e-fdc3efa2249d"
      },
      "execution_count": null,
      "outputs": [
        {
          "output_type": "stream",
          "name": "stdout",
          "text": [
            "The range of GR is 347.9.\n"
          ]
        }
      ]
    },
    {
      "cell_type": "code",
      "source": [
        "std_dev = df['GR'].std()\n",
        "print(f\"The standard deviation of GR is {std_dev}.\")"
      ],
      "metadata": {
        "colab": {
          "base_uri": "https://localhost:8080/"
        },
        "id": "u7dm9FEmMBhg",
        "outputId": "84a587a0-ffea-4b45-b6e7-fc92f2766f97"
      },
      "execution_count": null,
      "outputs": [
        {
          "output_type": "stream",
          "name": "stdout",
          "text": [
            "The standard deviation of GR is 30.854826227695074.\n"
          ]
        }
      ]
    },
    {
      "cell_type": "code",
      "source": [
        "variance = df['GR'].var()\n",
        "print(f\"The variance of GR is {variance}.\")"
      ],
      "metadata": {
        "colab": {
          "base_uri": "https://localhost:8080/"
        },
        "id": "cN9kGx1nMG0p",
        "outputId": "33d88d7b-c485-44b9-cfc7-eb4b194277df"
      },
      "execution_count": null,
      "outputs": [
        {
          "output_type": "stream",
          "name": "stdout",
          "text": [
            "The variance of GR is 952.0203015412599.\n"
          ]
        }
      ]
    },
    {
      "cell_type": "code",
      "source": [
        "column = df['GR']"
      ],
      "metadata": {
        "id": "fJGd1MCaW4Qq"
      },
      "execution_count": null,
      "outputs": []
    },
    {
      "cell_type": "code",
      "source": [
        "plt.hist(column, bins=50, color='blue', edgecolor='black')\n",
        "plt.xlabel('GR')\n",
        "plt.ylabel('Frequency')\n",
        "plt.title('Histogram of GR')\n",
        "plt.show()"
      ],
      "metadata": {
        "colab": {
          "base_uri": "https://localhost:8080/",
          "height": 295
        },
        "id": "yJkrgxxjWmRF",
        "outputId": "c3216604-813d-4f1d-e373-f80f18587e53"
      },
      "execution_count": null,
      "outputs": [
        {
          "output_type": "display_data",
          "data": {
            "text/plain": [
              "<Figure size 432x288 with 1 Axes>"
            ],
            "image/png": "[encoded data removed]"
          },
          "metadata": {
            "needs_background": "light"
          }
        }
      ]
    },
    {
      "cell_type": "code",
      "source": [
        "peaks, _ = find_peaks(np.histogram(column, bins=50)[0], distance=1)"
      ],
      "metadata": {
        "id": "SGjxpDtUd-Kn"
      },
      "execution_count": null,
      "outputs": []
    },
    {
      "cell_type": "code",
      "source": [
        "peaks"
      ],
      "metadata": {
        "colab": {
          "base_uri": "https://localhost:8080/"
        },
        "id": "-01-1VNGeJU_",
        "outputId": "c2b32387-c3b1-4aa2-d87d-d7f68d2bac7e"
      },
      "execution_count": null,
      "outputs": [
        {
          "output_type": "execute_result",
          "data": {
            "text/plain": [
              "array([ 3,  7, 20, 22, 24, 27, 29, 37, 39, 42])"
            ]
          },
          "metadata": {},
          "execution_count": 29
        }
      ]
    },
    {
      "cell_type": "code",
      "source": [
        "threshold = np.histogram(column, bins=50)[1][peaks[1]]\n",
        "threshold"
      ],
      "metadata": {
        "colab": {
          "base_uri": "https://localhost:8080/"
        },
        "id": "JOdBPBiueCTs",
        "outputId": "dca30923-42a8-4b95-d41d-5f95fac44c8e"
      },
      "execution_count": null,
      "outputs": [
        {
          "output_type": "execute_result",
          "data": {
            "text/plain": [
              "61.955999999999996"
            ]
          },
          "metadata": {},
          "execution_count": 30
        }
      ]
    },
    {
      "cell_type": "code",
      "source": [
        "import numpy as np\n",
        "\n",
        "\n",
        "# Define a function to remove outliers\n",
        "def remove_outliers(column, threshold=61.955999999999996):\n",
        "    \"\"\"\n",
        "    Remove outliers from the data using the specified threshold.\n",
        "    \"\"\"\n",
        "    data_mean = np.mean(column)\n",
        "    data_std = np.std(column)\n",
        "    cutoff = data_std * threshold\n",
        "    lower, upper = data_mean - cutoff, data_mean + cutoff\n",
        "    outliers = [x for x in column if x < lower or x > upper]\n",
        "    return [x for x in column if x >= lower and x <= upper], outliers\n",
        "\n",
        "\n",
        "data, outliers = remove_outliers(column, threshold=61.955999999999996)\n",
        "\n",
        "# Print the results\n",
        "print(f\"Data with outliers:\\n{column}\\n\")\n",
        "print(f\"Outliers:\\n{outliers}\\n\")\n",
        "print(f\"Data without outliers:\\n{column}\\n\")\n"
      ],
      "metadata": {
        "colab": {
          "base_uri": "https://localhost:8080/"
        },
        "id": "8CIxTggCqAf4",
        "outputId": "c7c635c8-a79f-401e-b621-2d3d2bd066e6"
      },
      "execution_count": null,
      "outputs": [
        {
          "output_type": "stream",
          "name": "stdout",
          "text": [
            "Data with outliers:\n",
            "0       77.450\n",
            "1       78.260\n",
            "2       79.050\n",
            "3       86.100\n",
            "4       74.580\n",
            "         ...  \n",
            "3227    46.719\n",
            "3228    44.563\n",
            "3229    49.719\n",
            "3230    51.469\n",
            "3231    50.031\n",
            "Name: GR, Length: 3232, dtype: float64\n",
            "\n",
            "Outliers:\n",
            "[]\n",
            "\n",
            "Data without outliers:\n",
            "0       77.450\n",
            "1       78.260\n",
            "2       79.050\n",
            "3       86.100\n",
            "4       74.580\n",
            "         ...  \n",
            "3227    46.719\n",
            "3228    44.563\n",
            "3229    49.719\n",
            "3230    51.469\n",
            "3231    50.031\n",
            "Name: GR, Length: 3232, dtype: float64\n",
            "\n"
          ]
        }
      ]
    },
    {
      "cell_type": "code",
      "source": [
        "# GR value < 61.955999999999996 will statistically infere low gamma reading which indicates the presence of oil and gas.\n",
        "# GR value > 61.955999999999996 will statistically infere high gamma reading which indicates the less/no possibility of presence of oil and gas."
      ],
      "metadata": {
        "id": "qTWCOJBYhTNC"
      },
      "execution_count": null,
      "outputs": []
    },
    {
      "cell_type": "markdown",
      "source": [
        "## **ILD_log10**"
      ],
      "metadata": {
        "id": "QkSpeSMGiIfM"
      }
    },
    {
      "cell_type": "code",
      "source": [
        "df['ILD_log10']"
      ],
      "metadata": {
        "colab": {
          "base_uri": "https://localhost:8080/"
        },
        "id": "zcqZfO3biXME",
        "outputId": "33db8d07-7874-438e-9267-01e18d4a28aa"
      },
      "execution_count": null,
      "outputs": [
        {
          "output_type": "execute_result",
          "data": {
            "text/plain": [
              "0       0.664\n",
              "1       0.661\n",
              "2       0.658\n",
              "3       0.655\n",
              "4       0.647\n",
              "        ...  \n",
              "3227    0.947\n",
              "3228    0.953\n",
              "3229    0.964\n",
              "3230    0.965\n",
              "3231    0.970\n",
              "Name: ILD_log10, Length: 3232, dtype: float64"
            ]
          },
          "metadata": {},
          "execution_count": 33
        }
      ]
    },
    {
      "cell_type": "code",
      "source": [
        "max_ILD = df['ILD_log10'].max()\n",
        "min_ILD = df['ILD_log10'].min()"
      ],
      "metadata": {
        "id": "nx_73tZfjHHx"
      },
      "execution_count": null,
      "outputs": []
    },
    {
      "cell_type": "code",
      "source": [
        "max_ILD"
      ],
      "metadata": {
        "colab": {
          "base_uri": "https://localhost:8080/"
        },
        "id": "mW8VgQqZjOlE",
        "outputId": "717adbd8-4152-46aa-911d-b2053df01e9a"
      },
      "execution_count": null,
      "outputs": [
        {
          "output_type": "execute_result",
          "data": {
            "text/plain": [
              "1.48"
            ]
          },
          "metadata": {},
          "execution_count": 35
        }
      ]
    },
    {
      "cell_type": "code",
      "source": [
        "min_ILD"
      ],
      "metadata": {
        "colab": {
          "base_uri": "https://localhost:8080/"
        },
        "id": "q92bbM26jQU1",
        "outputId": "e2aa7df5-e5a9-46ab-cab5-0be8a4362ed8"
      },
      "execution_count": null,
      "outputs": [
        {
          "output_type": "execute_result",
          "data": {
            "text/plain": [
              "-0.025949097"
            ]
          },
          "metadata": {},
          "execution_count": 36
        }
      ]
    },
    {
      "cell_type": "code",
      "source": [
        "range = max_ILD - min_ILD\n",
        "print(f\"The range of ILD_log10 is {range}.\")"
      ],
      "metadata": {
        "colab": {
          "base_uri": "https://localhost:8080/"
        },
        "id": "R8SRdiHkijFA",
        "outputId": "a4c12a32-5e83-4f70-bb78-6e899c6ca506"
      },
      "execution_count": null,
      "outputs": [
        {
          "output_type": "stream",
          "name": "stdout",
          "text": [
            "The range of ILD_log10 is 1.505949097.\n"
          ]
        }
      ]
    },
    {
      "cell_type": "code",
      "source": [
        "variance_ILD = df['ILD_log10'].var()\n",
        "print(f\"The variance of ILD_log10 is {variance_ILD}.\")"
      ],
      "metadata": {
        "colab": {
          "base_uri": "https://localhost:8080/"
        },
        "id": "30AL3dRfj3Im",
        "outputId": "02efffc8-fd57-412c-e933-f8f340201866"
      },
      "execution_count": null,
      "outputs": [
        {
          "output_type": "stream",
          "name": "stdout",
          "text": [
            "The variance of ILD_log10 is 0.05848877592705574.\n"
          ]
        }
      ]
    },
    {
      "cell_type": "code",
      "source": [
        "std_dev_ILD = df['ILD_log10'].std()\n",
        "print(f\"The standard deviation of ILD_log10 is {std_dev_ILD}.\")"
      ],
      "metadata": {
        "colab": {
          "base_uri": "https://localhost:8080/"
        },
        "id": "cArJNbN1jEZl",
        "outputId": "562b27c6-de60-4d9a-e4bc-2e94f4732980"
      },
      "execution_count": null,
      "outputs": [
        {
          "output_type": "stream",
          "name": "stdout",
          "text": [
            "The standard deviation of ILD_log10 is 0.24184452842075163.\n"
          ]
        }
      ]
    },
    {
      "cell_type": "code",
      "source": [
        "column_ILD = df['ILD_log10']"
      ],
      "metadata": {
        "id": "N3SWp7oekUNm"
      },
      "execution_count": null,
      "outputs": []
    },
    {
      "cell_type": "code",
      "source": [
        "plt.hist(column_ILD, bins=50, color='blue', edgecolor='black')\n",
        "plt.xlabel('ILD_log10')\n",
        "plt.ylabel('Frequency')\n",
        "plt.title('Histogram of ILD_log10')\n",
        "plt.show()"
      ],
      "metadata": {
        "colab": {
          "base_uri": "https://localhost:8080/",
          "height": 296
        },
        "id": "jlGrQYw8kZxY",
        "outputId": "43787018-fd8f-49f4-a1bf-a84ee0161cd8"
      },
      "execution_count": null,
      "outputs": [
        {
          "output_type": "display_data",
          "data": {
            "text/plain": [
              "<Figure size 432x288 with 1 Axes>"
            ],
            "image/png": "[encoded data removed]"
          },
          "metadata": {
            "needs_background": "light"
          }
        }
      ]
    },
    {
      "cell_type": "code",
      "source": [
        "peaks_ILD, _ = find_peaks(np.histogram(column_ILD, bins=50)[0], distance=1)\n",
        "peaks_ILD"
      ],
      "metadata": {
        "colab": {
          "base_uri": "https://localhost:8080/"
        },
        "id": "0pden1myk9c0",
        "outputId": "4032fe61-c91b-4261-fd61-5b72d6f56161"
      },
      "execution_count": null,
      "outputs": [
        {
          "output_type": "execute_result",
          "data": {
            "text/plain": [
              "array([ 4,  7, 10, 12, 14, 18, 21, 24, 27, 30, 43])"
            ]
          },
          "metadata": {},
          "execution_count": 42
        }
      ]
    },
    {
      "cell_type": "code",
      "source": [
        "threshold_ILD = np.histogram(column_ILD, bins=50)[1][peaks_ILD[6]]\n",
        "threshold_ILD"
      ],
      "metadata": {
        "colab": {
          "base_uri": "https://localhost:8080/"
        },
        "id": "gibLzSq4rMvb",
        "outputId": "84122582-fb53-4806-ae8a-4bcdeec7077c"
      },
      "execution_count": null,
      "outputs": [
        {
          "output_type": "execute_result",
          "data": {
            "text/plain": [
              "0.60654952374"
            ]
          },
          "metadata": {},
          "execution_count": 43
        }
      ]
    },
    {
      "cell_type": "code",
      "source": [
        "import numpy as np\n",
        "data = column_ILD\n",
        "# Define a function to remove outliers\n",
        "def remove_outliers(column, threshold=0.60654952374):\n",
        "    \"\"\"\n",
        "    Remove outliers from the data using the specified threshold.\n",
        "    \"\"\"\n",
        "    data_mean = np.mean(column)\n",
        "    data_std = np.std(column)\n",
        "    cutoff = data_std * threshold\n",
        "    lower, upper = data_mean - cutoff, data_mean + cutoff\n",
        "    outliers = [x for x in column if x < lower or x > upper]\n",
        "    return [x for x in column if x >= lower and x <= upper], outliers\n",
        "\n",
        "\n",
        "data, outliers = remove_outliers(data, threshold=0.60654952374)\n",
        "\n",
        "# Print the results\n",
        "# print(f\"Data with outliers:\\n{data}\\n\")\n",
        "print(f\"Outliers:\\n{outliers}\\n\")\n",
        "print(f\"Data without outliers:\\n{data}\\n\")\n"
      ],
      "metadata": {
        "colab": {
          "base_uri": "https://localhost:8080/"
        },
        "id": "K7XPOGuJrg2p",
        "outputId": "0c014546-091d-4386-9340-25d699e07c59"
      },
      "execution_count": null,
      "outputs": [
        {
          "output_type": "stream",
          "name": "stdout",
          "text": [
            "Outliers:\n",
            "[0.467, 0.438, 0.418, 0.401, 0.386, 0.369, 0.352, 0.344, 0.342, 0.346, 0.354, 0.354, 0.348, 0.346, 0.358, 0.377, 0.401, 0.439, 0.47, 0.493, 0.823, 0.915, 0.999, 1.045, 1.064, 1.051, 1.018, 0.972, 0.952, 0.924, 0.876, 0.826, 0.839, 0.881, 0.911, 0.94, 0.972, 1.008, 1.061, 1.076, 1.071, 1.058, 1.038, 1.005, 0.968, 0.943, 0.924, 0.9, 0.875, 0.854, 0.849, 0.864, 0.907, 0.932, 0.92, 0.886, 0.829, 0.496, 0.486, 0.483, 0.486, 0.493, 0.491, 0.47, 0.435, 0.401, 0.371, 0.334, 0.307, 0.297, 0.301, 0.314, 0.338, 0.377, 0.428, 0.47, 0.803, 0.913, 1.031, 1.147, 1.292, 1.405, 1.452, 1.465, 1.48, 1.479, 1.437, 1.36, 1.249, 1.104, 0.966, 0.862, 0.806, 0.855, 0.982, 1.107, 1.17, 1.173, 1.15, 1.115, 1.064, 1.008, 0.943, 0.88, 0.812, 0.489, 0.481, 0.477, 0.471, 0.467, 0.467, 0.467, 0.471, 0.48, 0.487, 0.484, 0.479, 0.471, 0.464, 0.474, 0.484, 0.476, 0.48, 0.493, 0.496, 0.489, 0.476, 0.456, 0.447, 0.447, 0.446, 0.441, 0.431, 0.42, 0.41, 0.401, 0.389, 0.375, 0.362, 0.354, 0.348, 0.344, 0.344, 0.35, 0.354, 0.362, 0.367, 0.382, 0.403, 0.436, 0.473, 0.462, 0.425, 0.401, 0.394, 0.391, 0.391, 0.391, 0.387, 0.38, 0.369, 0.358, 0.354, 0.358, 0.384, 0.398, 0.413, 0.438, 0.467, 0.487, 0.496, 0.496, 0.484, 0.453, 0.433, 0.415, 0.401, 0.401, 0.405, 0.41, 0.418, 0.425, 0.431, 0.441, 0.456, 0.471, 0.48, 0.489, 0.496, 0.493, 0.48, 0.471, 0.462, 0.456, 0.453, 0.45, 0.452, 0.461, 0.471, 0.484, 0.874, 0.947, 0.983, 0.983, 0.946, 0.907, 0.881, 0.862, 0.841, 0.819, 0.794, 0.792, 0.803, 0.82, 0.839, 0.865, 0.889, 0.906, 0.918, 0.929, 0.936, 0.94, 0.94, 0.943, 0.946, 0.947, 0.949, 0.952, 0.954, 0.956, 0.96, 0.963, 0.967, 0.972, 0.969, 0.954, 0.936, 0.92, 0.903, 0.896, 0.894, 0.893, 0.893, 0.898, 0.91, 0.925, 0.942, 0.975, 0.982, 0.985, 0.986, 0.986, 0.986, 0.985, 0.982, 0.971, 0.955, 0.937, 0.915, 0.889, 0.863, 0.836, 0.816, 0.798, 0.791, 0.797, 0.803, 0.808, 0.808, 0.814, 0.82, 0.821, 0.814, 0.473, 0.444, 0.413, 0.378, 0.344, 0.32, 0.312, 0.31, 0.307, 0.301, 0.292, 0.288, 0.294, 0.31, 0.328, 0.346, 0.367, 0.389, 0.408, 0.415, 0.408, 0.387, 0.367, 0.362, 0.367, 0.377, 0.389, 0.396, 0.405, 0.415, 0.423, 0.428, 0.427, 0.422, 0.412, 0.396, 0.384, 0.382, 0.389, 0.423, 0.494, 0.794, 0.867, 0.925, 0.965, 0.985, 0.974, 0.952, 0.956, 0.971, 1.009, 1.064, 1.102, 1.121, 1.125, 1.109, 1.115, 1.13, 1.124, 1.097, 1.069, 1.028, 0.989, 0.96, 0.937, 0.907, 0.918, 0.946, 0.993, 1.05, 1.107, 1.135, 1.133, 1.094, 1.029, 0.956, 0.908, 0.867, 0.817, 0.493, 0.48, 0.477, 0.486, 0.809, 0.863, 0.901, 0.916, 0.921, 0.912, 0.893, 0.874, 0.852, 0.819, 0.493, 0.467, 0.446, 0.43, 0.425, 0.425, 0.433, 0.449, 0.471, 0.491, 0.803, 0.88, 1.002, 1.161, 1.291, 1.311, 1.213, 1.051, 0.888, 0.799, 0.798, 0.486, 0.464, 0.47, 0.481, 0.793, 0.804, 0.456, 0.418, 0.387, 0.362, 0.346, 0.348, 0.358, 0.358, 0.358, 0.358, 0.358, 0.356, 0.354, 0.348, 0.328, 0.305, 0.286, 0.274, 0.27, 0.279, 0.301, 0.326, 0.35, 0.367, 0.386, 0.412, 0.453, 0.493, 0.456, 0.425, 0.396, 0.371, 0.352, 0.342, 0.338, 0.346, 0.358, 0.371, 0.384, 0.389, 0.386, 0.384, 0.38, 0.373, 0.365, 0.354, 0.342, 0.344, 0.354, 0.362, 0.362, 0.348, 0.324, 0.292, 0.262, 0.243, 0.243, 0.236, 0.243, 0.258, 0.279, 0.301, 0.324, 0.354, 0.398, 0.459, 0.796, 0.876, 0.941, 0.903, 0.809, 0.47, 0.468, 0.453, 0.43, 0.391, 0.34, 0.29, 0.241, 0.193, 0.152, 0.121, 0.097, 0.093, 0.111, 0.146, 0.196, 0.255, 0.318, 0.386, 0.456, 0.797, 0.842, 0.881, 0.914, 0.932, 0.921, 0.883, 0.822, 0.825, 0.837, 0.818, 0.792, 0.846, 0.884, 0.905, 0.913, 0.913, 0.91, 0.908, 0.905, 0.901, 0.897, 0.89, 0.884, 0.88, 0.876, 0.873, 0.872, 0.87, 0.872, 0.875, 0.877, 0.88, 0.884, 0.885, 0.887, 0.889, 0.893, 0.899, 0.907, 0.919, 0.932, 0.932, 0.941, 0.943, 0.943, 0.939, 0.941, 0.957, 0.996, 1.039, 1.084, 1.118, 1.12, 1.112, 1.112, 1.092, 1.026, 0.483, 0.436, 0.399, 0.39, 0.39, 0.39, 0.418, 0.436, 0.446, 0.455, 0.455, 0.465, 0.455, 0.465, 0.483, 0.493, 0.493, 0.483, 0.446, 0.362, 0.315, 0.306, 0.296, 0.32, 0.347, 0.373, 0.398, 0.421, 0.441, 0.465, 0.465, 0.446, 0.436, 0.418, 0.399, 0.39, 0.38, 0.38, 0.385, 0.413, 0.458, 0.81, 0.848, 0.866, 0.866, 0.801, 0.904, 0.923, 0.913, 0.885, 0.866, 0.829, 0.81, 0.801, 0.81, 0.82, 0.866, 0.932, 0.96, 0.951, 0.923, 0.885, 0.829, 0.857, 0.838, 0.801, 0.806, 0.848, 0.894, 0.904, 0.904, 0.885, 0.838, 0.483, 0.436, 0.411, 0.39, 0.362, 0.352, 0.362, 0.371, 0.371, 0.38, 0.407, 0.436, 0.464, 0.49, 0.792, 0.81, 0.866, 0.904, 0.932, 0.979, 1.007, 1.025, 1.053, 1.072, 1.1, 1.119, 1.119, 1.128, 1.119, 1.119, 1.095, 1.063, 1.044, 0.894, 0.82, 0.493, 0.792, 0.792, 0.801, 0.838, 0.857, 0.876, 0.885, 0.904, 0.904, 0.913, 0.904, 0.866, 0.866, 0.824, 0.493, 0.446, 0.427, 0.399, 0.371, 0.343, 0.306, 0.268, 0.25, 0.231, 0.222, 0.212, 0.194, 0.194, 0.194, 0.203, 0.226, 0.24, 0.269, 0.302, 0.334, 0.371, 0.446, 0.493, 0.801, 0.81, 0.829, 0.829, 0.801, 0.465, 0.427, 0.371, 0.362, 0.343, 0.343, 0.343, 0.409, 0.455, 0.493, 0.409, 0.362, 0.296, 0.259, 0.226, 0.203, 0.194, 0.194, 0.194, 0.203, 0.212, 0.231, 0.259, 0.296, 0.352, 0.362, 0.38, 0.399, 0.418, 0.436, 0.452, 0.494, 0.493, 0.483, 0.465, 0.455, 0.436, 0.427, 0.418, 0.409, 0.409, 0.418, 0.446, 0.455, 0.483, 0.997, 1.063, 1.109, 1.137, 1.137, 1.137, 1.109, 1.072, 1.016, 0.979, 0.941, 0.932, 0.932, 0.932, 0.932, 0.955, 0.979, 1.007, 1.044, 1.053, 1.044, 1.016, 0.997, 0.988, 0.969, 0.96, 0.979, 1.007, 1.081, 1.1, 1.109, 1.081, 1.025, 1.025, 1.054, 1.072, 1.063, 1.044, 1.007, 0.988, 0.96, 0.913, 0.876, 0.857, 0.857, 0.988, 0.997, 0.988, 0.969, 0.913, 0.465, 0.418, 0.423, 0.436, 0.493, 0.469085299, 0.419460073, 0.366982976, 0.314709693, 0.260548373, 0.211921084, 0.172310969, 0.1430148, 0.123524981, 0.111262514, 0.099335278, 0.095866453, 0.091666958, 0.084218687, 0.071882007, 0.055760465, 0.03702788, -0.004364805, -0.011441043, -0.015922966, -0.019088062, -0.022733788, -0.025949097, -0.025949097, -0.019088062, -0.002613616, 0.02201574, 0.055378331, 0.095518042, 0.13893394, 0.181843588, 0.222196046, 0.283074975, 0.292034436, 0.287353773, 0.273464273, 0.259593879, 0.249931757, 0.247482261, 0.255272505, 0.273464273, 0.300812794, 0.33405144, 0.370698093, 0.407560849, 0.471291711, 0.824646415, 0.855761372, 0.87875152, 0.891983231, 0.892428547, 0.885021795, 0.877025616, 0.875813389, 0.884398826, 0.904553263, 0.924434364, 0.940516485, 0.960851154, 0.99237676, 1.033463966, 1.081995025, 1.120705516, 1.14245204, 1.147026715, 1.141575183, 1.132483825, 1.126423654, 1.12083706, 1.111967837, 1.09961159, 1.086644521, 1.07773118, 1.073498399, 1.074560468, 1.08546897, 1.107345665, 1.13219563, 1.146314122, 1.115244285, 1.02341709, 0.888740961, 0.812646016, 0.879497287, 0.90982337, 0.899163641, 0.870637963, 0.837272703, 0.806451323, 0.441066407, 0.386498966, 0.334654767, 0.285782274, 0.237543738, 0.194514342, 0.15715444, 0.123524981, 0.09482038, 0.070776463, 0.050766311, 0.034227261, 0.021189299, 0.011147361, 0.004321374, 0.002166062, 0.005180513, 0.01494035, 0.034227261, 0.061452479, 0.098297536, 0.145817714, 0.197831693, 0.255031163, 0.308350949, 0.351022853, 0.380573003, 0.404833717, 0.404833717, 0.424064525, 0.44684771, 0.473048805, 0.838219222, 0.912434633, 0.927626962, 0.906227263, 0.879497287, 0.85691006, 0.793301354, 0.790636962, 0.807737922, 0.819938569, 0.831421817, 0.840858554, 0.846460825, 0.845160078, 0.834102656, 0.819083076, 0.802294711, 0.48301642, 0.461648568, 0.436480695, 0.407730728, 0.380753771, 0.356599436, 0.338057875, 0.326540669, 0.323045735, 0.326949994, 0.33725954, 0.353531559, 0.372727941, 0.395675785, 0.419790586, 0.444513206, 0.46612587, 0.481299273, 0.484726804, 0.474653253, 0.474653253, 0.45331834, 0.421768401, 0.386677284, 0.350441857, 0.317645543, 0.286680969, 0.260071388, 0.236789099, 0.219584526, 0.206556044, 0.197556213, 0.191171456, 0.183554534, 0.173186268, 0.160168293, 0.145507171, 0.13225969, 0.12515583, 0.12515583, 0.136403448, 0.157456768, 0.18582536, 0.218797998, 0.2509077, 0.278524965, 0.294245716, 0.29578694, 0.284656283, 0.267640982, 0.251881455, 0.239299479, 0.229681842, 0.220631019, 0.212187604, 0.20709554, 0.206825876, 0.209783015, 0.210586025, 0.206556044, 0.194514342, 0.17868924, 0.165244326, 0.15715444, 0.159867847, 0.171433901, 0.191730393, 0.220369632, 0.250420002, 0.282848603, 0.313234292, 0.345177617, 0.378579576, 0.410608543, 0.410608543, 0.441695136, 0.472317546, 0.495821753, 0.46746011, 0.384532615, 0.326130957, 0.289811839, 0.268577972, 0.254789687, 0.241795431, 0.241546481, 0.263636069, 0.311541958, 0.379849179, 0.45591024, 0.494154594, 0.488832634, 0.488127496, 0.487421211, 0.486005186, 0.483587297, 0.48029446, 0.478277832, 0.479863113, 0.486572151, 0.480725379, 0.867349617, 0.963315511, 1.042536137, 1.091350352, 1.10744741, 1.107277823, 1.107820267, 1.111262514, 1.1069724, 1.089198367, 1.058501943, 1.024362504, 0.997648455, 0.978773784, 0.965201701, 0.94767874, 0.927319025, 0.911477217, 0.905472062, 0.913707914, 0.92808846, 0.939718882, 0.945714714, 0.945960704, 0.949341207, 0.958372732, 0.972063916, 0.99100444, 1.011866357, 1.032739605, 1.05415324, 1.070000904, 1.085112113, 1.093946724, 1.096562438, 1.092439911, 1.081995025, 1.066251362, 1.045283851, 1.019946682, 0.996686756, 0.984347258, 0.988648125, 1.000217093, 1.005609445, 0.991624735, 0.951483231, 0.892484179, 0.835753968, 0.794418331, 0.793650718, 0.467, 0.46, 0.453, 0.441, 0.426, 0.415, 0.401, 0.383, 0.357, 0.332, 0.31, 0.295, 0.293, 0.292, 0.293, 0.307, 0.333, 0.371, 0.419, 0.463, 0.493, 0.486, 0.457, 0.421, 0.38, 0.341, 0.31, 0.295, 0.301, 0.323, 0.35, 0.384, 0.438, 0.487, 0.495, 0.47, 0.441, 0.418, 0.407, 0.408, 0.415, 0.429, 0.446, 0.462, 0.486, 0.799, 0.795, 0.795, 0.845, 0.905, 0.961, 0.992, 0.971, 0.944, 0.928, 0.919, 0.92, 0.933, 0.941, 0.938, 0.929, 0.919, 0.893, 0.847, 0.795, 0.799, 0.802, 0.808, 0.813, 0.816, 0.822, 0.828, 0.84, 0.854, 0.873, 0.898, 0.907, 0.882, 0.839, 0.795, 0.489, 0.473, 0.462, 0.467, 0.471, 0.467, 0.462, 0.467, 0.48, 0.493, 0.473, 0.473, 0.832, 0.903, 0.949, 0.931, 0.838, 0.385, 0.269, 0.182, 0.114, 0.056, 0.012, -0.013, -0.019, -0.012, 0.014, 0.046, 0.077, 0.098, 0.102, 0.098, 0.1, 0.118, 0.152, 0.192, 0.225, 0.249, 0.265, 0.282, 0.295, 0.281, 0.252, 0.22, 0.192, 0.176, 0.172, 0.18, 0.194, 0.215, 0.243, 0.279, 0.323, 0.376, 0.434, 0.484, 0.474, 0.447, 0.425, 0.422, 0.426, 0.424, 0.427, 0.434, 0.438, 0.448, 0.467, 0.483, 0.859, 0.908, 0.909, 0.888, 0.862, 0.818, 0.79, 0.844, 0.896, 0.931, 0.94, 0.939, 0.95, 0.967, 0.972, 0.969, 0.957, 0.938, 0.915, 0.89, 0.864, 0.838, 0.82, 0.814, 0.815, 0.811, 0.808, 0.806, 0.817, 0.839, 0.868, 0.89, 0.909, 0.92, 0.927, 0.933, 0.939, 0.939, 0.938, 0.936, 0.932, 0.926, 0.921, 0.913, 0.882, 0.897, 0.45, 0.899, 0.895, 0.898, 0.891, 0.878, 0.867, 0.85, 0.821, 0.486, 0.479, 0.462, 0.429, 0.387, 0.348, 0.314, 0.283, 0.257, 0.234, 0.211, 0.184, 0.167, 0.158, 0.148, 0.133, 0.118, 0.106, 0.1, 0.106, 0.123, 0.151, 0.184, 0.227, 0.29, 0.366, 0.446, 0.802, 0.83, 0.852, 1.294, 1.273, 0.486, 0.473, 0.471, 0.477, 0.483, 0.489, 0.493, 0.491, 0.481, 0.464, 0.441, 0.422, 0.398, 0.375, 0.35, 0.334, 0.336, 0.352, 0.377, 0.405, 0.431, 0.458, 0.49, 0.792, 0.823, 0.86, 0.898, 0.93, 0.946, 0.945, 0.935, 0.924, 0.919, 0.918, 0.91, 0.886, 0.847, 0.801, 0.856, 0.923, 0.961, 0.946, 0.887, 0.805, 0.841, 0.898, 0.932, 0.928, 0.886, 0.823, 0.806, 0.833, 0.846, 0.842, 0.822, 0.79, 0.481, 0.465, 0.456, 0.467, 0.816, 0.886, 0.96, 1.01, 1.013, 0.964, 0.88, 0.489, 0.48, 0.494, 0.794, 0.814, 0.461, 0.433, 0.41, 0.389, 0.373, 0.358, 0.346, 0.338, 0.336, 0.342, 0.356, 0.382, 0.42, 0.464, 0.464, 0.797, 0.866, 0.917, 0.944, 0.957, 0.957, 0.947, 0.927, 0.894, 0.846, 0.48, 0.433, 0.396, 0.371, 0.358, 0.358, 0.367, 0.375, 0.377, 0.369, 0.356, 0.344, 0.34, 0.346, 0.36, 0.384, 0.418, 0.464, 0.496, 0.49, 0.484, 0.484, 0.806, 0.852, 0.89, 0.916, 0.916, 0.891, 0.856, 0.826, 0.808, 0.796, 0.812, 0.851, 0.898, 0.936, 0.961, 0.979, 0.999, 1.024, 1.05, 1.063, 1.06, 1.048, 1.04, 1.039, 1.042, 1.043, 1.035, 1.024, 1.015, 1.009, 1.008, 1.008, 1.007, 1.003, 0.994, 0.973, 0.94, 0.909, 0.889, 0.888, 0.907, 0.939, 0.979, 1.022, 1.064, 1.101, 1.118, 1.107, 1.074, 1.022, 0.963, 0.899, 0.839, 0.792, 0.803, 0.828, 0.841, 0.838, 0.823, 0.797, 0.826, 0.873, 0.906, 0.951, 0.99, 1.003, 0.994, 0.984, 0.939, 0.857, 0.809, 0.791, 0.798, 0.817, 0.836, 0.865, 0.843, 0.799, 0.865, 0.923, 0.95, 0.955, 0.956, 0.951, 0.951, 0.944, 0.935, 0.93, 0.918, 0.925, 0.937, 0.959, 1.004, 1.034, 1.038, 1.046, 1.056, 1.063, 1.086, 1.111, 1.129, 1.145, 1.157, 1.162, 1.157, 1.135, 1.116, 1.083, 1.041, 1.041, 1.009, 0.974, 0.933, 0.904, 0.877, 0.845, 0.823, 0.805, 0.795, 0.816, 0.855, 0.905, 0.952, 1.008, 1.008, 1.05, 1.091, 1.167, 1.25, 1.25, 1.299, 1.308, 1.222, 1.048, 0.864, 0.818, 0.886, 0.89, 0.868, 0.821, 0.495, 0.801, 0.905, 0.996, 1.023, 0.995, 0.929, 0.851, 0.799, 0.793, 0.801, 0.803, 0.814, 0.842, 0.895, 0.969, 0.995, 1.002, 1.006, 0.988, 0.968, 0.934, 0.887, 0.825, 0.492, 0.828, 0.84, 0.852, 0.872, 0.883, 0.899, 0.895, 0.898, 0.891, 0.878, 0.867, 0.85, 0.821, 0.383, 0.339, 0.277, 0.224, 0.194, 0.192, 0.208, 0.237, 0.29, 0.341, 0.401, 0.81, 0.871, 0.912, 0.925, 0.926, 0.914, 0.898, 0.904, 0.912, 0.907, 0.895, 0.864, 0.837, 0.811, 0.817, 0.886, 0.936, 0.959, 0.963, 0.956, 0.923, 0.871, 0.811, 0.466, 0.405, 0.404, 0.408, 0.424, 0.446, 0.466, 0.479, 0.486, 0.479, 0.462, 0.429, 0.387, 0.348, 0.314, 0.283, 0.257, 0.234, 0.211, 0.184, 0.167, 0.158, 0.148, 0.133, 0.118, 0.106, 0.1, 0.106, 0.123, 0.151, 0.184, 0.227, 0.29, 0.366, 0.446, 0.802, 0.83, 0.852, 0.802, 0.83, 0.852, 0.867, 0.86, 0.844, 0.812, 0.812, 0.839, 0.937, 1.058, 1.195, 1.294, 1.273, 1.223, 1.157, 1.069, 0.994, 0.974, 0.978, 0.991, 1.013, 1.04, 1.044, 1.051, 1.057, 1.06, 1.062, 1.05, 1.028, 1.014, 1.005, 1.027, 1.057, 1.087, 1.109, 1.107, 1.085, 1.07, 1.061, 1.052, 1.034, 1.003, 0.972, 0.954, 0.947, 0.953, 0.964, 0.965, 0.97]\n",
            "\n",
            "Data without outliers:\n",
            "[0.664, 0.661, 0.658, 0.655, 0.647, 0.636, 0.63, 0.625, 0.624, 0.615, 0.6, 0.583, 0.561, 0.537, 0.519, 0.524, 0.543, 0.555, 0.558, 0.549, 0.53, 0.521, 0.535, 0.628, 0.702, 0.762, 0.777, 0.728, 0.699, 0.682, 0.676, 0.671, 0.68, 0.71, 0.744, 0.786, 0.754, 0.713, 0.686, 0.665, 0.64, 0.601, 0.568, 0.561, 0.568, 0.585, 0.583, 0.566, 0.543, 0.516, 0.501, 0.501, 0.509, 0.539, 0.548, 0.556, 0.629, 0.668, 0.703, 0.744, 0.763, 0.714, 0.661, 0.602, 0.561, 0.537, 0.525, 0.522, 0.52, 0.516, 0.507, 0.504, 0.512, 0.529, 0.559, 0.589, 0.604, 0.604, 0.58, 0.543, 0.519, 0.502, 0.5, 0.519, 0.543, 0.567, 0.601, 0.656, 0.747, 0.74, 0.684, 0.648, 0.619, 0.584, 0.559, 0.548, 0.542, 0.535, 0.529, 0.524, 0.515, 0.501, 0.501, 0.521, 0.534, 0.547, 0.549, 0.549, 0.558, 0.565, 0.56, 0.55, 0.534, 0.507, 0.509, 0.548, 0.597, 0.669, 0.745, 0.778, 0.775, 0.732, 0.669, 0.602, 0.55, 0.507, 0.501, 0.504, 0.501, 0.515, 0.515, 0.538, 0.573, 0.6, 0.616, 0.616, 0.621, 0.605, 0.574, 0.545, 0.519, 0.504, 0.509, 0.509, 0.508, 0.507, 0.505, 0.504, 0.507, 0.509, 0.511, 0.507, 0.502, 0.517, 0.525, 0.531, 0.535, 0.537, 0.538, 0.538, 0.539, 0.535, 0.529, 0.521, 0.515, 0.516, 0.543, 0.584, 0.627, 0.667, 0.708, 0.77, 0.772, 0.768, 0.775, 0.78, 0.783, 0.787, 0.782, 0.776, 0.775, 0.771, 0.762, 0.756, 0.751, 0.74, 0.723, 0.711, 0.706, 0.704, 0.709, 0.721, 0.733, 0.747, 0.747, 0.764, 0.777, 0.784, 0.642, 0.631, 0.615, 0.597, 0.592, 0.599, 0.611, 0.62, 0.627, 0.629, 0.629, 0.626, 0.625, 0.626, 0.624, 0.622, 0.607, 0.58, 0.543, 0.507, 0.572, 0.645, 0.645, 0.748, 0.688, 0.626, 0.582, 0.553, 0.531, 0.513, 0.515, 0.567, 0.625, 0.684, 0.736, 0.772, 0.774, 0.732, 0.699, 0.667, 0.629, 0.59, 0.551, 0.519, 0.508, 0.517, 0.526, 0.55, 0.597, 0.781, 0.732, 0.702, 0.668, 0.643, 0.638, 0.667, 0.7, 0.727, 0.746, 0.747, 0.726, 0.698, 0.67, 0.637, 0.617, 0.616, 0.617, 0.625, 0.645, 0.676, 0.705, 0.736, 0.767, 0.712, 0.619, 0.54, 0.498, 0.524, 0.567, 0.643, 0.732, 0.779, 0.738, 0.702, 0.679, 0.669, 0.666, 0.665, 0.659, 0.646, 0.625, 0.591, 0.544, 0.498, 0.505, 0.607, 0.607, 0.607, 0.599, 0.58, 0.556, 0.528, 0.538, 0.605, 0.725, 0.722, 0.531, 0.607, 0.68, 0.744, 0.711, 0.571, 0.56, 0.567, 0.584, 0.609, 0.634, 0.652, 0.659, 0.661, 0.657, 0.649, 0.639, 0.626, 0.616, 0.61, 0.606, 0.605, 0.606, 0.607, 0.61, 0.615, 0.622, 0.627, 0.628, 0.624, 0.621, 0.621, 0.62, 0.616, 0.611, 0.606, 0.606, 0.614, 0.626, 0.633, 0.635, 0.636, 0.629, 0.622, 0.622, 0.621, 0.618, 0.624, 0.628, 0.623, 0.612, 0.597, 0.576, 0.575, 0.603, 0.654, 0.7, 0.721, 0.781, 0.778, 0.738, 0.705, 0.67, 0.633, 0.599, 0.567, 0.539, 0.519, 0.516, 0.529, 0.558, 0.605, 0.666, 0.728, 0.782, 0.745, 0.726, 0.708, 0.708, 0.708, 0.717, 0.726, 0.736, 0.726, 0.717, 0.675, 0.567, 0.499, 0.558, 0.651, 0.736, 0.782, 0.745, 0.736, 0.736, 0.736, 0.745, 0.754, 0.754, 0.717, 0.689, 0.66, 0.628, 0.614, 0.623, 0.623, 0.623, 0.633, 0.633, 0.661, 0.689, 0.764, 0.754, 0.689, 0.633, 0.595, 0.577, 0.605, 0.654, 0.711, 0.761, 0.745, 0.708, 0.661, 0.623, 0.614, 0.614, 0.614, 0.614, 0.623, 0.642, 0.67, 0.698, 0.736, 0.736, 0.736, 0.717, 0.717, 0.676, 0.624, 0.565, 0.511, 0.502, 0.521, 0.537, 0.633, 0.717, 0.727, 0.661, 0.623, 0.586, 0.567, 0.567, 0.595, 0.623, 0.623, 0.633, 0.623, 0.567, 0.53, 0.502, 0.502, 0.53, 0.549, 0.595, 0.614, 0.661, 0.689, 0.745, 0.764, 0.764, 0.773, 0.773, 0.726, 0.595, 0.521, 0.53, 0.53, 0.521, 0.521, 0.521, 0.558, 0.741, 0.773, 0.773, 0.736, 0.698, 0.642, 0.62, 0.596, 0.567, 0.558, 0.567, 0.549, 0.549, 0.539, 0.53, 0.53, 0.53, 0.521, 0.53, 0.53, 0.539, 0.539, 0.53, 0.53, 0.53, 0.539, 0.558, 0.61, 0.61, 0.689, 0.698, 0.698, 0.68, 0.562, 0.53, 0.567, 0.623, 0.68, 0.651, 0.623, 0.586, 0.502, 0.531, 0.567, 0.586, 0.633, 0.651, 0.661, 0.661, 0.642, 0.642, 0.614, 0.567, 0.549, 0.549, 0.549, 0.558, 0.558, 0.549, 0.549, 0.539, 0.533, 0.53, 0.53, 0.53, 0.53, 0.521, 0.511, 0.53, 0.549, 0.614, 0.633, 0.642, 0.651, 0.651, 0.651, 0.651, 0.633, 0.614, 0.586, 0.567, 0.549, 0.53, 0.511, 0.521, 0.521, 0.521, 0.53, 0.538, 0.562, 0.584, 0.606, 0.727, 0.642, 0.605, 0.567, 0.642, 0.689, 0.689, 0.633, 0.567, 0.674493717, 0.645225712, 0.630020851, 0.60031933, 0.57863921, 0.569958818, 0.576456532, 0.592731766, 0.610660163, 0.623766, 0.630427875, 0.631342286, 0.629817196, 0.627365857, 0.622317661, 0.613841822, 0.602819342, 0.592176757, 0.583538819, 0.575072326, 0.562887381, 0.542202782, 0.510276844, 0.503245771, 0.540454614, 0.581038949, 0.620552445, 0.655138435, 0.688330818, 0.719911064, 0.751894688, 0.787956123, 0.770189023, 0.678700435, 0.578753784, 0.568319085, 0.56205483, 0.566437492, 0.593396842, 0.649042634, 0.728678367, 0.779307828, 0.757851344, 0.738859802, 0.720655357, 0.70612011, 0.697490887, 0.696618459, 0.698883137, 0.697316542, 0.692318044, 0.683317262, 0.671265433, 0.651181062, 0.623869268, 0.589502796, 0.546048866, 0.497067936, 0.501333179, 0.529173603, 0.564547712, 0.607133204, 0.671635597, 0.760271661, 0.69609416, 0.662946614, 0.652826303, 0.653501947, 0.65571455, 0.656002321, 0.656385719, 0.661718058, 0.677150521, 0.70457945, 0.736316808, 0.76604086, 0.782185866, 0.757775491, 0.722880611, 0.686546899, 0.651471852, 0.625826713, 0.607025878, 0.592953572, 0.583198774, 0.57818061, 0.577146985, 0.578868329, 0.581494542, 0.585573519, 0.593175263, 0.60498163, 0.620448385, 0.63748973, 0.653887558, 0.670338641, 0.688686724, 0.708250889, 0.726564216, 0.74225367, 0.74733411, 0.737987326, 0.715585552, 0.682866796, 0.682866796, 0.653405491, 0.631849462, 0.617943435, 0.609167374, 0.60162548, 0.595826777, 0.594723946, 0.600864036, 0.613947477, 0.630529571, 0.644832329, 0.652149605, 0.651181062, 0.643748685, 0.631849462, 0.617210095, 0.600864036, 0.582063363, 0.564429327, 0.549003262, 0.536937023, 0.526855987, 0.519040039, 0.513883186, 0.512684396, 0.514149134, 0.515211304, 0.513883186, 0.508664363, 0.498586209, 0.510410948, 0.559068334, 0.611085733, 0.657820456, 0.685920792, 0.692318044, 0.682325619, 0.66143405, 0.640580806, 0.621799224, 0.537441283, 0.543695632, 0.550228353, 0.550717423, 0.540954809, 0.524915148, 0.507180977, 0.496098992, 0.505556939, 0.526210004, 0.552668216, 0.581152892, 0.591843411, 0.540079089, 0.529430354, 0.577031986, 0.597914471, 0.602059991, 0.59900924, 0.596157081, 0.59117595, 0.581152892, 0.564902673, 0.542825427, 0.521138084, 0.504334912, 0.498861689, 0.514149134, 0.527758753, 0.635584266, 0.629409599, 0.624282096, 0.621280168, 0.618675539, 0.617314933, 0.61898892, 0.622731965, 0.624591459, 0.621902961, 0.615107987, 0.605412798, 0.592953572, 0.578982843, 0.565257343, 0.549248557, 0.539703239, 0.536684673, 0.538070787, 0.541454429, 0.537567257, 0.52530401, 0.510142699, 0.502153893, 0.507720977, 0.654657755, 0.70969387, 0.777571805, 0.618884485, 0.631545228, 0.666424373, 0.710963119, 0.745230985, 0.765668555, 0.772761647, 0.775537635, 0.782615932, 0.533, 0.542, 0.553, 0.554, 0.56, 0.567, 0.569, 0.567, 0.581, 0.578, 0.56, 0.533, 0.499, 0.5, 0.518, 0.614, 0.696, 0.749, 0.767, 0.751, 0.724, 0.703, 0.685, 0.658, 0.622, 0.576, 0.53, 0.498, 0.511, 0.523, 0.529, 0.54, 0.566, 0.612, 0.664, 0.704, 0.727, 0.733, 0.733, 0.73, 0.72, 0.7, 0.667, 0.628, 0.591, 0.559, 0.531, 0.5, 0.522, 0.567, 0.625, 0.702, 0.764, 0.739, 0.676, 0.667, 0.671, 0.664, 0.649, 0.612, 0.568, 0.568, 0.581, 0.581, 0.569, 0.555, 0.533, 0.525, 0.531, 0.54, 0.551, 0.573, 0.601, 0.636, 0.681, 0.716, 0.728, 0.719, 0.693, 0.662, 0.623, 0.578, 0.55, 0.528, 0.504, 0.498, 0.518, 0.528, 0.551, 0.596, 0.631, 0.675, 0.766, 0.782, 0.721, 0.676, 0.653, 0.643, 0.623, 0.594, 0.567, 0.546, 0.535, 0.535, 0.539, 0.538, 0.532, 0.534, 0.535, 0.547, 0.576, 0.597, 0.597, 0.625, 0.658, 0.66, 0.651, 0.64, 0.624, 0.657, 0.721, 0.76, 0.779, 0.741, 0.688, 0.643, 0.601, 0.577, 0.572, 0.572, 0.577, 0.59, 0.607, 0.624, 0.642, 0.652, 0.654, 0.655, 0.653, 0.641, 0.616, 0.584, 0.546, 0.513, 0.513, 0.548, 0.574, 0.596, 0.624, 0.626, 0.602, 0.565, 0.533, 0.523, 0.526, 0.515, 0.507, 0.564, 0.614, 0.646, 0.66, 0.658, 0.655, 0.663, 0.664, 0.651, 0.611, 0.564, 0.526, 0.519, 0.535, 0.549, 0.567, 0.588, 0.611, 0.665, 0.753, 0.684, 0.524, 0.519, 0.529, 0.52, 0.512, 0.517, 0.517, 0.501, 0.502, 0.526, 0.545, 0.562, 0.576, 0.582, 0.585, 0.593, 0.595, 0.593, 0.591, 0.585, 0.57, 0.557, 0.546, 0.531, 0.518, 0.519, 0.515, 0.516, 0.53, 0.562, 0.597, 0.643, 0.69, 0.734, 0.782, 0.773, 0.734, 0.697, 0.667, 0.661, 0.672, 0.69, 0.709, 0.728, 0.752, 0.723, 0.711, 0.706, 0.704, 0.709, 0.721, 0.733, 0.747, 0.747, 0.764, 0.777, 0.784, 0.598, 0.581, 0.529, 0.778, 0.724, 0.516, 0.585, 0.643, 0.68, 0.707, 0.735, 0.768, 0.768, 0.719, 0.688, 0.664, 0.648, 0.648, 0.663, 0.685, 0.705, 0.717, 0.719, 0.718, 0.715, 0.716, 0.719, 0.723, 0.723, 0.721, 0.72, 0.721, 0.723, 0.722, 0.717, 0.706, 0.688, 0.666, 0.639, 0.613, 0.589, 0.571, 0.555, 0.542, 0.525, 0.504, 0.53, 0.577, 0.628, 0.679, 0.725, 0.761, 0.757, 0.721, 0.693, 0.675, 0.666, 0.661, 0.658, 0.654, 0.646, 0.638, 0.63, 0.624, 0.623, 0.624, 0.626, 0.631, 0.638, 0.651, 0.667, 0.687, 0.703, 0.71, 0.707, 0.693, 0.672, 0.65, 0.626, 0.603, 0.58, 0.559, 0.544, 0.542, 0.554, 0.58, 0.617, 0.665, 0.721, 0.785, 0.725, 0.658, 0.61, 0.583, 0.569, 0.567, 0.574, 0.595, 0.63, 0.675, 0.719, 0.75, 0.763, 0.76, 0.745, 0.728, 0.713, 0.702, 0.695, 0.691, 0.688, 0.682, 0.671, 0.656, 0.644, 0.633, 0.623, 0.613, 0.6, 0.589, 0.59, 0.605, 0.632, 0.664, 0.69, 0.713, 0.713, 0.743, 0.785, 0.759, 0.708, 0.664, 0.627, 0.597, 0.575, 0.572, 0.587, 0.622, 0.671, 0.723, 0.769, 0.757, 0.727, 0.706, 0.693, 0.688, 0.687, 0.684, 0.674, 0.65, 0.616, 0.616, 0.579, 0.545, 0.521, 0.5, 0.498, 0.545, 0.605, 0.605, 0.663, 0.713, 0.76, 0.786, 0.7, 0.623, 0.561, 0.517, 0.531, 0.585, 0.646, 0.709, 0.757, 0.779, 0.732, 0.684, 0.645, 0.623, 0.614, 0.607, 0.6, 0.592, 0.589, 0.589, 0.59, 0.588, 0.579, 0.565, 0.547, 0.529, 0.519, 0.52, 0.537, 0.567, 0.605, 0.605, 0.644, 0.68, 0.711, 0.724, 0.714, 0.677, 0.627, 0.583, 0.553, 0.533, 0.521, 0.512, 0.512, 0.522, 0.544, 0.569, 0.591, 0.603, 0.609, 0.606, 0.602, 0.598, 0.593, 0.587, 0.581, 0.579, 0.587, 0.605, 0.629, 0.656, 0.681, 0.708, 0.736, 0.757, 0.766, 0.753, 0.72, 0.668, 0.609, 0.55, 0.5, 0.513, 0.571, 0.639, 0.72, 0.78, 0.704, 0.617, 0.542, 0.526, 0.599, 0.666, 0.703, 0.7, 0.669, 0.631, 0.594, 0.561, 0.533, 0.513, 0.501, 0.497, 0.504, 0.515, 0.529, 0.542, 0.549, 0.554, 0.558, 0.565, 0.574, 0.585, 0.595, 0.603, 0.607, 0.613, 0.621, 0.631, 0.64, 0.643, 0.632, 0.609, 0.577, 0.545, 0.52, 0.502, 0.497, 0.521, 0.565, 0.621, 0.689, 0.753, 0.786, 0.781, 0.787, 0.761, 0.748, 0.754, 0.775, 0.763, 0.721, 0.705, 0.709, 0.7, 0.685, 0.669, 0.658, 0.658, 0.671, 0.686, 0.687, 0.679, 0.66, 0.643, 0.644, 0.652, 0.661, 0.68, 0.734, 0.77, 0.772, 0.746, 0.733, 0.73, 0.734, 0.762, 0.78, 0.722, 0.661, 0.613, 0.59, 0.58, 0.573, 0.595, 0.625, 0.677, 0.739, 0.788, 0.787, 0.779, 0.727, 0.705, 0.695, 0.672, 0.657, 0.661, 0.689, 0.752, 0.694, 0.675, 0.646, 0.608, 0.563, 0.51, 0.52, 0.545, 0.577, 0.618, 0.657, 0.713, 0.781, 0.783, 0.755, 0.707, 0.664, 0.61, 0.558, 0.516, 0.505, 0.535, 0.548, 0.556, 0.638, 0.696, 0.771, 0.778, 0.724, 0.68, 0.62, 0.504, 0.5, 0.587, 0.633, 0.645, 0.653, 0.649, 0.639, 0.635, 0.617, 0.624, 0.651, 0.681, 0.681, 0.72, 0.75, 0.757, 0.772, 0.778, 0.757, 0.745, 0.743, 0.746, 0.743, 0.735, 0.733, 0.714, 0.687, 0.686, 0.705, 0.752, 0.772, 0.752, 0.685, 0.64, 0.601, 0.641, 0.671, 0.695, 0.69, 0.635, 0.566, 0.509, 0.516, 0.585, 0.643, 0.68, 0.707, 0.735, 0.768, 0.768, 0.758, 0.701, 0.641, 0.59, 0.551, 0.529, 0.52, 0.512, 0.511, 0.521, 0.526, 0.535, 0.542, 0.547, 0.551, 0.546, 0.554, 0.567, 0.596, 0.626, 0.648, 0.676, 0.729, 0.763, 0.785, 0.78, 0.758, 0.725, 0.647, 0.609, 0.584, 0.576, 0.65, 0.71, 0.765]\n",
            "\n"
          ]
        }
      ]
    },
    {
      "cell_type": "code",
      "source": [
        "# ILD_log value < 0.60654952374  will statistically infere low resistivity log reading which indicates the less/no possibility of presence of oil and gas.\n",
        "# ILD_log value > 0.60654952374 will statistically infere high resistivity log reading which indicates the presence of oil and gas."
      ],
      "metadata": {
        "id": "l7bQLOQ0UlaL"
      },
      "execution_count": null,
      "outputs": []
    },
    {
      "cell_type": "markdown",
      "source": [
        "## **DEPTH**"
      ],
      "metadata": {
        "id": "c7BvbHbX4Zjr"
      }
    },
    {
      "cell_type": "code",
      "source": [
        "df['Depth']"
      ],
      "metadata": {
        "colab": {
          "base_uri": "https://localhost:8080/"
        },
        "id": "EemPMNTQ4iXP",
        "outputId": "a4a9d356-210b-4197-a4cc-a6399047890f"
      },
      "execution_count": null,
      "outputs": [
        {
          "output_type": "execute_result",
          "data": {
            "text/plain": [
              "0       2793.0\n",
              "1       2793.5\n",
              "2       2794.0\n",
              "3       2794.5\n",
              "4       2795.0\n",
              "         ...  \n",
              "3227    3120.5\n",
              "3228    3121.0\n",
              "3229    3121.5\n",
              "3230    3122.0\n",
              "3231    3122.5\n",
              "Name: Depth, Length: 3232, dtype: float64"
            ]
          },
          "metadata": {},
          "execution_count": 31
        }
      ]
    },
    {
      "cell_type": "code",
      "source": [
        "max_Depth = df['Depth'].max()\n",
        "min_Depth = df['Depth'].min()"
      ],
      "metadata": {
        "id": "EjYXN9AC4sg6"
      },
      "execution_count": null,
      "outputs": []
    },
    {
      "cell_type": "code",
      "source": [
        "max_Depth"
      ],
      "metadata": {
        "colab": {
          "base_uri": "https://localhost:8080/"
        },
        "id": "pcVq1x3k47lY",
        "outputId": "2535b33c-14fb-4c71-beee-077f906dbb31"
      },
      "execution_count": null,
      "outputs": [
        {
          "output_type": "execute_result",
          "data": {
            "text/plain": [
              "3122.5"
            ]
          },
          "metadata": {},
          "execution_count": 33
        }
      ]
    },
    {
      "cell_type": "code",
      "source": [
        "min_Depth"
      ],
      "metadata": {
        "colab": {
          "base_uri": "https://localhost:8080/"
        },
        "id": "NNLfFpKd5BEa",
        "outputId": "41e00d60-2077-4237-8916-f68a2233a0eb"
      },
      "execution_count": null,
      "outputs": [
        {
          "output_type": "execute_result",
          "data": {
            "text/plain": [
              "2573.5"
            ]
          },
          "metadata": {},
          "execution_count": 34
        }
      ]
    },
    {
      "cell_type": "code",
      "source": [
        "range_Depth = max_Depth - min_Depth\n",
        "print(f\"The range of Depth is {range_Depth}.\")"
      ],
      "metadata": {
        "colab": {
          "base_uri": "https://localhost:8080/"
        },
        "id": "juMu_rOd5D6t",
        "outputId": "8941c162-c125-4d3f-da34-f11d3006a160"
      },
      "execution_count": null,
      "outputs": [
        {
          "output_type": "stream",
          "name": "stdout",
          "text": [
            "The range of Depth is 549.0.\n"
          ]
        }
      ]
    },
    {
      "cell_type": "code",
      "source": [
        "variance_Depth = df['Depth'].var()\n",
        "print(f\"The variance of Depth is {variance_Depth}.\")"
      ],
      "metadata": {
        "colab": {
          "base_uri": "https://localhost:8080/"
        },
        "id": "8hFQteI-5OKC",
        "outputId": "0e669c42-a697-4154-8c29-24cb2c1debd3"
      },
      "execution_count": null,
      "outputs": [
        {
          "output_type": "stream",
          "name": "stdout",
          "text": [
            "The variance of Depth is 17162.643772638057.\n"
          ]
        }
      ]
    },
    {
      "cell_type": "code",
      "source": [
        "std_dev_Depth = df['Depth'].std()\n",
        "print(f\"The standard deviation of Depth is {std_dev_Depth}.\")"
      ],
      "metadata": {
        "colab": {
          "base_uri": "https://localhost:8080/"
        },
        "id": "s3SlNcbG5goJ",
        "outputId": "4f2239a2-9ab9-44b6-cece-1c63dcd58b5f"
      },
      "execution_count": null,
      "outputs": [
        {
          "output_type": "stream",
          "name": "stdout",
          "text": [
            "The standard deviation of Depth is 131.0062737911359.\n"
          ]
        }
      ]
    },
    {
      "cell_type": "code",
      "source": [
        "column_Depth = df['Depth']"
      ],
      "metadata": {
        "id": "oxG3IcPC5ukk"
      },
      "execution_count": null,
      "outputs": []
    },
    {
      "cell_type": "code",
      "source": [
        "plt.hist(column_Depth, bins=50, color='blue', edgecolor='black')\n",
        "plt.xlabel('Depth')\n",
        "plt.ylabel('Frequency')\n",
        "plt.title('Histogram of Depth')\n",
        "plt.show()"
      ],
      "metadata": {
        "colab": {
          "base_uri": "https://localhost:8080/",
          "height": 295
        },
        "id": "EcT777Kg5yoB",
        "outputId": "bf21af6c-ac22-4dcc-e5e0-66e26f659740"
      },
      "execution_count": null,
      "outputs": [
        {
          "output_type": "display_data",
          "data": {
            "text/plain": [
              "<Figure size 432x288 with 1 Axes>"
            ],
            "image/png": "[encoded data removed]"
          },
          "metadata": {
            "needs_background": "light"
          }
        }
      ]
    },
    {
      "cell_type": "code",
      "source": [
        "peaks_Depth, _ = find_peaks(np.histogram(column_Depth, bins=50)[0], distance=1)\n",
        "peaks_Depth"
      ],
      "metadata": {
        "colab": {
          "base_uri": "https://localhost:8080/"
        },
        "id": "RSn0jbGy6CHb",
        "outputId": "5553b994-7e48-4d6e-a87b-180cf2b0b0fb"
      },
      "execution_count": null,
      "outputs": [
        {
          "output_type": "execute_result",
          "data": {
            "text/plain": [
              "array([ 4,  6, 11, 13, 18, 20, 23, 27, 31, 33, 35, 37, 48])"
            ]
          },
          "metadata": {},
          "execution_count": 40
        }
      ]
    },
    {
      "cell_type": "code",
      "source": [
        "threshold_Depth = np.histogram(column_Depth, bins=50)[1][peaks[9]]\n",
        "threshold_Depth"
      ],
      "metadata": {
        "colab": {
          "base_uri": "https://localhost:8080/"
        },
        "id": "6M7xZNbw6Iw-",
        "outputId": "63194a32-c913-47d2-db8d-2623263de152"
      },
      "execution_count": null,
      "outputs": [
        {
          "output_type": "execute_result",
          "data": {
            "text/plain": [
              "3034.66"
            ]
          },
          "metadata": {},
          "execution_count": 41
        }
      ]
    },
    {
      "cell_type": "code",
      "source": [
        "import numpy as np\n",
        "data = column_Depth\n",
        "# Define a function to remove outliers\n",
        "def remove_outliers(column, threshold=3034.66):\n",
        "    \"\"\"\n",
        "    Remove outliers from the data using the specified threshold.\n",
        "    \"\"\"\n",
        "    data_mean = np.mean(column)\n",
        "    data_std = np.std(column)\n",
        "    cutoff = data_std * threshold\n",
        "    lower, upper = data_mean - cutoff, data_mean + cutoff\n",
        "    outliers = [x for x in column if x < lower or x > upper]\n",
        "    return [x for x in column if x >= lower and x <= upper], outliers\n",
        "\n",
        "\n",
        "data, outliers = remove_outliers(data, threshold=3034.66)\n",
        "\n",
        "# Print the results\n",
        "# print(f\"Data with outliers:\\n{data}\\n\")\n",
        "print(f\"Outliers:\\n{outliers}\\n\")\n",
        "print(f\"Data without outliers:\\n{data}\\n\")\n"
      ],
      "metadata": {
        "colab": {
          "base_uri": "https://localhost:8080/"
        },
        "id": "gynrLt1WAph8",
        "outputId": "416c3a18-5dec-4fde-f576-1b4872121a6a"
      },
      "execution_count": null,
      "outputs": [
        {
          "output_type": "stream",
          "name": "stdout",
          "text": [
            "Outliers:\n",
            "[]\n",
            "\n",
            "Data without outliers:\n",
            "[2793.0, 2793.5, 2794.0, 2794.5, 2795.0, 2795.5, 2796.0, 2796.5, 2797.0, 2797.5, 2798.0, 2798.5, 2799.0, 2799.5, 2800.0, 2800.5, 2801.0, 2801.5, 2802.0, 2802.5, 2803.0, 2803.5, 2804.0, 2804.5, 2805.0, 2805.5, 2806.0, 2806.5, 2807.0, 2807.5, 2808.0, 2808.5, 2809.0, 2809.5, 2810.0, 2810.5, 2811.0, 2811.5, 2812.0, 2812.5, 2813.0, 2813.5, 2814.0, 2814.5, 2815.0, 2815.5, 2816.0, 2816.5, 2817.0, 2817.5, 2818.0, 2818.5, 2819.0, 2819.5, 2820.0, 2820.5, 2821.0, 2821.5, 2822.0, 2822.5, 2823.0, 2823.5, 2824.0, 2824.5, 2825.0, 2825.5, 2826.0, 2826.5, 2827.0, 2827.5, 2828.0, 2828.5, 2829.0, 2829.5, 2830.0, 2830.5, 2831.0, 2831.5, 2832.0, 2832.5, 2833.0, 2833.5, 2834.0, 2834.5, 2835.0, 2835.5, 2836.0, 2836.5, 2837.0, 2837.5, 2838.0, 2838.5, 2839.0, 2839.5, 2840.0, 2840.5, 2841.0, 2841.5, 2842.0, 2842.5, 2843.0, 2843.5, 2844.0, 2844.5, 2845.0, 2845.5, 2846.0, 2846.5, 2847.0, 2847.5, 2848.0, 2848.5, 2849.0, 2849.5, 2850.0, 2850.5, 2851.0, 2851.5, 2852.0, 2852.5, 2853.0, 2853.5, 2854.0, 2854.5, 2855.0, 2855.5, 2856.0, 2856.5, 2857.0, 2857.5, 2858.0, 2858.5, 2859.0, 2859.5, 2860.0, 2860.5, 2861.0, 2861.5, 2862.0, 2862.5, 2863.0, 2863.5, 2864.0, 2864.5, 2865.0, 2865.5, 2866.0, 2866.5, 2867.0, 2867.5, 2868.0, 2868.5, 2869.0, 2869.5, 2870.0, 2870.5, 2871.0, 2871.5, 2872.0, 2872.5, 2873.0, 2873.5, 2874.0, 2874.5, 2875.0, 2875.5, 2876.0, 2876.5, 2877.0, 2877.5, 2878.0, 2878.5, 2879.0, 2879.5, 2880.0, 2880.5, 2881.0, 2881.5, 2882.0, 2882.5, 2883.0, 2883.5, 2884.0, 2884.5, 2885.0, 2885.5, 2886.0, 2886.5, 2887.0, 2887.5, 2888.0, 2888.5, 2889.0, 2889.5, 2890.0, 2890.5, 2891.0, 2891.5, 2892.0, 2892.5, 2893.0, 2893.5, 2894.0, 2894.5, 2895.0, 2895.5, 2896.0, 2896.5, 2897.0, 2897.5, 2898.0, 2898.5, 2899.0, 2899.5, 2900.0, 2900.5, 2901.0, 2901.5, 2902.0, 2902.5, 2903.0, 2903.5, 2904.0, 2904.5, 2905.0, 2905.5, 2906.0, 2906.5, 2907.0, 2907.5, 2908.0, 2908.5, 2909.0, 2909.5, 2910.0, 2910.5, 2911.0, 2911.5, 2912.0, 2912.5, 2913.0, 2913.5, 2914.0, 2914.5, 2915.0, 2915.5, 2916.0, 2916.5, 2917.0, 2917.5, 2918.0, 2918.5, 2919.0, 2919.5, 2920.0, 2920.5, 2921.0, 2921.5, 2922.0, 2922.5, 2923.0, 2923.5, 2924.0, 2924.5, 2925.0, 2925.5, 2926.0, 2926.5, 2927.0, 2927.5, 2928.0, 2928.5, 2929.0, 2929.5, 2930.0, 2930.5, 2931.0, 2931.5, 2932.0, 2932.5, 2933.0, 2933.5, 2934.0, 2934.5, 2935.0, 2935.5, 2936.0, 2936.5, 2937.0, 2937.5, 2938.0, 2938.5, 2939.0, 2939.5, 2940.0, 2940.5, 2941.0, 2941.5, 2942.0, 2942.5, 2943.0, 2944.0, 2944.0, 2944.5, 2945.0, 2945.5, 2946.0, 2946.5, 2947.0, 2947.5, 2948.0, 2948.5, 2949.0, 2949.5, 2950.0, 2950.5, 2951.0, 2951.5, 2952.0, 2952.5, 2953.0, 2953.5, 2954.0, 2954.5, 2955.0, 2955.5, 2956.0, 2956.5, 2957.0, 2957.5, 2958.0, 2958.5, 2959.0, 2959.5, 2960.0, 2960.5, 2961.0, 2961.5, 2962.0, 2962.5, 2963.0, 2963.5, 2964.0, 2964.5, 2965.0, 2965.5, 2966.0, 2966.5, 2967.0, 2967.5, 2968.0, 2968.5, 2969.0, 2969.5, 2970.0, 2970.5, 2971.0, 2971.5, 2972.0, 2972.5, 2973.0, 2973.5, 2974.0, 2974.5, 2975.0, 2975.5, 2976.0, 2976.5, 2977.0, 2977.5, 2978.0, 2978.5, 2979.0, 2979.5, 2980.0, 2980.5, 2981.0, 2981.5, 2982.0, 2982.5, 2983.0, 2983.5, 2984.0, 2984.5, 2985.0, 2985.5, 2986.0, 2986.5, 2987.0, 2987.5, 2988.0, 2988.5, 2989.0, 2989.5, 2990.0, 2990.5, 2991.0, 2991.5, 2992.0, 2992.5, 2993.0, 2993.5, 2994.0, 2994.5, 2995.0, 2995.5, 2996.0, 2996.5, 2997.0, 2997.5, 2998.0, 2998.5, 2999.0, 2999.5, 3000.0, 3000.5, 3001.0, 3001.5, 3002.0, 3002.5, 3003.0, 3003.5, 3004.0, 3004.5, 3005.0, 3005.5, 3006.0, 3006.5, 3007.0, 3007.5, 3008.0, 3008.5, 3009.0, 3009.5, 3010.0, 3010.5, 3011.0, 3011.5, 3012.0, 3012.5, 3013.0, 3013.5, 3014.0, 3014.5, 3015.0, 3015.5, 3016.0, 3016.5, 3017.0, 3017.5, 3018.0, 3018.5, 3019.0, 3019.5, 3020.0, 3020.5, 3021.0, 3021.5, 3022.0, 3022.5, 3023.0, 3023.5, 3024.0, 3024.5, 3025.0, 3025.5, 3026.0, 3026.5, 3027.0, 3027.5, 3028.0, 2774.5, 2775.0, 2775.5, 2776.0, 2776.5, 2777.0, 2777.5, 2778.0, 2778.5, 2779.0, 2779.5, 2780.0, 2780.5, 2781.0, 2781.5, 2782.0, 2782.5, 2783.0, 2783.5, 2784.0, 2784.5, 2785.0, 2785.5, 2786.0, 2786.5, 2787.0, 2787.5, 2788.0, 2788.5, 2789.0, 2789.5, 2790.0, 2790.5, 2791.0, 2791.5, 2792.0, 2792.5, 2793.0, 2793.5, 2794.0, 2794.5, 2795.0, 2795.5, 2796.0, 2796.5, 2797.0, 2797.5, 2798.0, 2798.5, 2799.0, 2799.5, 2800.0, 2800.5, 2801.0, 2801.5, 2802.0, 2802.5, 2803.0, 2803.5, 2804.0, 2804.5, 2805.0, 2805.5, 2806.0, 2807.0, 2807.5, 2808.0, 2808.5, 2809.0, 2809.5, 2810.0, 2810.5, 2811.0, 2811.5, 2812.0, 2812.5, 2813.0, 2813.5, 2814.0, 2814.5, 2815.0, 2815.5, 2816.0, 2816.5, 2817.0, 2817.5, 2818.0, 2818.5, 2819.0, 2819.5, 2820.0, 2820.5, 2821.0, 2821.5, 2822.0, 2822.5, 2823.0, 2823.5, 2824.0, 2824.5, 2825.0, 2825.5, 2826.0, 2826.5, 2827.0, 2827.5, 2828.0, 2828.5, 2829.0, 2829.5, 2830.0, 2830.5, 2831.0, 2831.5, 2832.0, 2832.5, 2833.0, 2833.5, 2834.0, 2834.5, 2835.0, 2835.5, 2836.0, 2836.5, 2837.0, 2837.5, 2838.0, 2838.5, 2839.0, 2839.5, 2840.0, 2840.5, 2841.0, 2841.5, 2842.0, 2842.5, 2843.0, 2843.5, 2844.0, 2844.5, 2845.0, 2845.5, 2846.0, 2846.5, 2847.0, 2847.5, 2848.0, 2848.5, 2849.0, 2849.5, 2850.0, 2850.5, 2852.5, 2853.0, 2853.5, 2854.0, 2854.5, 2855.0, 2855.5, 2856.0, 2856.5, 2857.0, 2857.5, 2858.0, 2859.0, 2859.5, 2860.0, 2860.5, 2861.0, 2861.5, 2862.0, 2862.5, 2863.0, 2863.5, 2864.0, 2864.5, 2865.0, 2865.5, 2866.0, 2866.5, 2867.0, 2867.5, 2868.0, 2868.5, 2869.0, 2869.5, 2870.0, 2870.5, 2871.0, 2871.5, 2872.0, 2872.5, 2873.0, 2873.5, 2874.0, 2874.5, 2875.0, 2875.5, 2876.0, 2876.5, 2877.0, 2877.5, 2878.0, 2878.5, 2879.0, 2879.5, 2880.0, 2880.5, 2881.0, 2881.5, 2882.0, 2882.5, 2883.0, 2883.5, 2884.0, 2884.5, 2885.0, 2885.5, 2886.0, 2886.5, 2887.0, 2887.5, 2888.0, 2888.5, 2889.0, 2889.5, 2890.0, 2890.5, 2891.0, 2891.5, 2892.0, 2892.5, 2893.0, 2893.5, 2894.0, 2894.5, 2895.0, 2895.5, 2896.0, 2896.5, 2897.0, 2897.5, 2899.5, 2900.0, 2900.5, 2901.0, 2901.5, 2902.0, 2902.5, 2903.0, 2903.5, 2904.0, 2904.5, 2905.0, 2905.5, 2906.0, 2906.5, 2907.0, 2907.5, 2908.0, 2908.5, 2909.0, 2909.5, 2910.0, 2910.5, 2911.0, 2911.5, 2912.0, 2912.5, 2913.0, 2913.5, 2914.0, 2914.5, 2915.0, 2915.5, 2916.0, 2916.5, 2917.0, 2917.5, 2918.0, 2918.5, 2919.0, 2919.5, 2920.0, 2920.5, 2921.0, 2921.5, 2922.0, 2922.5, 2923.0, 2924.0, 2924.5, 2925.0, 2925.5, 2926.0, 2926.5, 2927.0, 2930.0, 2930.5, 2931.0, 2931.5, 2932.0, 2932.5, 2933.0, 2933.5, 2934.0, 2934.5, 2935.0, 2935.5, 2936.0, 2936.5, 2937.0, 2937.5, 2938.0, 2938.5, 2939.0, 2939.5, 2940.0, 2940.5, 2941.0, 2941.5, 2942.0, 2942.5, 2943.0, 2943.5, 2944.0, 2944.5, 2945.0, 2945.5, 2946.0, 2948.0, 2948.5, 2949.0, 2949.5, 2950.0, 2950.5, 2951.0, 2951.5, 2952.0, 2952.5, 2953.0, 2953.5, 2954.0, 2954.5, 2955.0, 2955.5, 2956.0, 2956.5, 2957.0, 2957.5, 2958.0, 2958.5, 2959.0, 2959.5, 2960.0, 2960.5, 2961.0, 2961.5, 2962.0, 2962.5, 2963.0, 2963.5, 2964.0, 2964.5, 2965.0, 2965.5, 2966.0, 2966.5, 2967.0, 2967.5, 2968.0, 2968.5, 2969.0, 2969.5, 2970.0, 2970.5, 2971.0, 2971.5, 2972.0, 2972.5, 2973.0, 2974.5, 2975.0, 2975.5, 2976.0, 2976.5, 2977.0, 2977.5, 2978.0, 2978.5, 2979.0, 2979.5, 2980.0, 2980.5, 2981.0, 2981.5, 2982.0, 2982.5, 2983.0, 2983.5, 2984.0, 2984.5, 2985.0, 2985.5, 2986.0, 2986.5, 2987.0, 2987.5, 2988.0, 2988.5, 2989.0, 2989.5, 2990.0, 2990.5, 2991.0, 2991.5, 2992.0, 2992.5, 2993.0, 2993.5, 2994.0, 2994.5, 2995.0, 2995.5, 2996.0, 2996.5, 2997.0, 2997.5, 2998.0, 2998.5, 2999.0, 2999.5, 3000.0, 3000.5, 3001.0, 3001.5, 3002.0, 3002.5, 3003.0, 3003.5, 3004.0, 3004.5, 3005.0, 3005.5, 3006.0, 3006.5, 3007.0, 3007.5, 3008.0, 2610.5, 2611.0, 2611.5, 2612.0, 2612.5, 2613.0, 2613.5, 2614.0, 2614.5, 2615.0, 2615.5, 2616.0, 2616.5, 2617.0, 2617.5, 2618.0, 2618.5, 2619.0, 2619.5, 2620.0, 2620.5, 2621.0, 2621.5, 2622.0, 2622.5, 2623.0, 2623.5, 2624.0, 2624.5, 2625.0, 2625.5, 2626.0, 2626.5, 2627.0, 2627.5, 2628.0, 2628.5, 2629.0, 2629.5, 2630.0, 2630.5, 2631.0, 2631.5, 2632.0, 2632.5, 2633.0, 2633.5, 2634.0, 2634.5, 2635.0, 2635.5, 2636.0, 2636.5, 2637.0, 2637.5, 2638.0, 2638.5, 2639.0, 2639.5, 2640.0, 2640.5, 2641.0, 2641.5, 2642.0, 2642.5, 2643.0, 2643.5, 2644.0, 2644.5, 2645.0, 2645.5, 2646.0, 2646.5, 2647.0, 2647.5, 2648.0, 2648.5, 2649.0, 2649.5, 2650.0, 2650.5, 2651.0, 2651.5, 2652.0, 2652.5, 2653.0, 2653.5, 2654.0, 2654.5, 2655.0, 2655.5, 2656.0, 2656.5, 2657.0, 2657.5, 2658.0, 2658.5, 2659.0, 2659.5, 2660.0, 2660.5, 2661.0, 2661.5, 2662.0, 2662.5, 2663.0, 2663.5, 2664.0, 2664.5, 2665.0, 2665.5, 2666.0, 2666.5, 2667.0, 2667.5, 2668.0, 2668.5, 2669.0, 2669.5, 2670.0, 2670.5, 2671.0, 2671.5, 2672.0, 2672.5, 2673.0, 2673.5, 2674.0, 2674.5, 2675.0, 2675.5, 2676.0, 2676.5, 2677.0, 2677.5, 2678.0, 2678.5, 2679.0, 2679.5, 2680.0, 2680.5, 2681.0, 2681.5, 2682.0, 2682.5, 2683.0, 2683.5, 2684.0, 2684.5, 2685.0, 2685.5, 2686.0, 2686.5, 2687.0, 2687.5, 2688.0, 2688.5, 2689.0, 2689.5, 2690.0, 2690.5, 2691.0, 2691.5, 2692.0, 2692.5, 2693.0, 2693.5, 2694.0, 2694.5, 2695.0, 2695.5, 2696.0, 2696.5, 2697.0, 2697.5, 2698.0, 2698.5, 2699.0, 2699.5, 2700.0, 2700.5, 2701.0, 2701.5, 2702.0, 2702.5, 2703.0, 2703.5, 2704.0, 2704.5, 2705.0, 2705.5, 2706.0, 2706.5, 2707.0, 2707.5, 2708.0, 2708.5, 2709.0, 2709.5, 2710.0, 2710.5, 2711.0, 2711.5, 2712.0, 2712.5, 2713.0, 2713.5, 2714.0, 2714.5, 2715.0, 2715.5, 2716.0, 2716.5, 2717.0, 2717.5, 2718.0, 2718.5, 2719.0, 2719.5, 2720.0, 2720.5, 2721.0, 2721.5, 2722.0, 2722.5, 2723.0, 2723.5, 2724.0, 2724.5, 2725.0, 2725.5, 2726.0, 2726.5, 2727.0, 2727.5, 2728.0, 2728.5, 2729.0, 2729.5, 2730.0, 2730.5, 2731.0, 2731.5, 2732.0, 2732.5, 2733.0, 2733.5, 2734.0, 2734.5, 2735.0, 2735.5, 2736.0, 2736.5, 2737.0, 2737.5, 2738.0, 2738.5, 2739.0, 2739.5, 2740.0, 2740.5, 2741.0, 2741.5, 2742.0, 2742.5, 2743.0, 2743.5, 2744.0, 2744.5, 2745.0, 2745.5, 2746.0, 2746.5, 2747.0, 2747.5, 2748.0, 2748.5, 2749.0, 2749.5, 2750.0, 2750.5, 2751.0, 2751.5, 2752.0, 2752.5, 2753.0, 2753.5, 2754.0, 2754.5, 2755.0, 2755.5, 2756.0, 2756.5, 2757.0, 2757.5, 2758.0, 2758.5, 2759.0, 2759.5, 2760.0, 2760.5, 2761.0, 2761.5, 2762.0, 2762.5, 2763.0, 2763.5, 2764.0, 2764.5, 2765.0, 2765.5, 2766.0, 2766.5, 2767.0, 2767.5, 2768.0, 2768.5, 2769.0, 2769.5, 2770.0, 2770.5, 2771.0, 2771.5, 2772.0, 2772.5, 2773.0, 2773.5, 2774.0, 2774.5, 2775.0, 2775.5, 2776.0, 2776.5, 2777.0, 2777.5, 2778.0, 2778.5, 2779.0, 2779.5, 2780.0, 2780.5, 2781.0, 2781.5, 2782.0, 2782.5, 2783.0, 2783.5, 2784.0, 2784.5, 2785.0, 2785.5, 2786.0, 2786.5, 2787.0, 2787.5, 2788.0, 2788.5, 2789.0, 2789.5, 2790.0, 2790.5, 2791.0, 2791.5, 2792.0, 2792.5, 2793.0, 2793.5, 2794.0, 2794.5, 2795.0, 2795.5, 2796.0, 2796.5, 2797.0, 2797.5, 2798.0, 2798.5, 2799.0, 2799.5, 2800.0, 2800.5, 2801.0, 2801.5, 2802.0, 2802.5, 2803.0, 2803.5, 2804.0, 2804.5, 2805.0, 2805.5, 2806.0, 2806.5, 2807.0, 2807.5, 2808.0, 2808.5, 2810.5, 2811.0, 2811.5, 2812.0, 2812.5, 2813.0, 2813.5, 2814.0, 2814.5, 2815.0, 2815.5, 2816.0, 2816.5, 2817.0, 2817.5, 2818.0, 2818.5, 2819.0, 2819.5, 2820.0, 2820.5, 2821.0, 2821.5, 2822.0, 2822.5, 2823.0, 2823.5, 2824.0, 2824.5, 2825.0, 2825.5, 2826.0, 2826.5, 2827.0, 2827.5, 2828.0, 2828.5, 2829.0, 2829.5, 2830.0, 2830.5, 2831.0, 2831.5, 2832.0, 2832.5, 2833.0, 2833.5, 2834.0, 2834.5, 2835.0, 2835.5, 2836.0, 2836.5, 2837.0, 2837.5, 2838.0, 2838.5, 2839.0, 2839.5, 2840.0, 2840.5, 2841.0, 2841.5, 2842.0, 2573.5, 2574.0, 2574.5, 2575.0, 2575.5, 2576.0, 2576.5, 2577.0, 2577.5, 2578.0, 2578.5, 2579.0, 2579.5, 2580.0, 2580.5, 2581.0, 2581.5, 2582.0, 2582.5, 2583.0, 2583.5, 2584.0, 2584.5, 2585.0, 2585.5, 2586.0, 2586.5, 2587.0, 2587.5, 2588.0, 2588.5, 2589.0, 2589.5, 2590.0, 2590.5, 2591.0, 2591.5, 2592.0, 2592.5, 2593.0, 2593.5, 2594.0, 2594.5, 2595.0, 2595.5, 2596.0, 2596.5, 2597.0, 2597.5, 2598.0, 2598.5, 2599.0, 2599.5, 2600.0, 2600.5, 2601.0, 2601.5, 2602.0, 2602.5, 2603.0, 2603.5, 2604.0, 2604.5, 2605.0, 2605.5, 2606.0, 2606.5, 2607.0, 2607.5, 2608.0, 2608.5, 2609.0, 2609.5, 2610.0, 2610.5, 2611.0, 2611.5, 2612.0, 2612.5, 2613.0, 2613.5, 2614.0, 2614.5, 2615.0, 2615.5, 2616.0, 2616.5, 2617.0, 2617.5, 2618.0, 2618.5, 2619.0, 2619.5, 2620.0, 2620.5, 2621.0, 2621.5, 2622.0, 2622.5, 2623.0, 2623.5, 2624.0, 2624.5, 2625.0, 2625.5, 2626.0, 2626.5, 2627.0, 2627.5, 2628.0, 2628.5, 2629.0, 2629.5, 2630.0, 2630.5, 2631.0, 2632.5, 2633.0, 2633.5, 2634.0, 2634.5, 2635.0, 2635.5, 2636.0, 2636.5, 2637.0, 2637.5, 2638.0, 2638.5, 2639.0, 2639.5, 2640.0, 2640.5, 2641.0, 2641.5, 2642.0, 2642.5, 2643.0, 2643.5, 2644.0, 2644.5, 2645.0, 2645.5, 2646.0, 2646.5, 2647.0, 2647.5, 2648.0, 2648.5, 2649.0, 2649.5, 2650.0, 2650.5, 2651.0, 2651.5, 2652.0, 2652.5, 2653.0, 2653.5, 2654.0, 2654.5, 2655.0, 2655.5, 2656.0, 2656.5, 2657.0, 2657.5, 2658.0, 2658.5, 2659.0, 2659.5, 2660.0, 2660.5, 2661.0, 2661.5, 2662.0, 2662.5, 2663.0, 2663.5, 2664.0, 2664.5, 2665.0, 2665.5, 2666.0, 2666.5, 2667.0, 2667.5, 2668.0, 2668.5, 2669.0, 2669.5, 2671.0, 2672.0, 2672.5, 2673.0, 2673.5, 2674.0, 2674.5, 2675.0, 2675.5, 2676.0, 2676.5, 2677.0, 2677.5, 2678.0, 2678.5, 2679.0, 2679.5, 2680.0, 2680.5, 2681.0, 2681.5, 2682.0, 2682.5, 2683.0, 2683.5, 2684.0, 2684.5, 2685.0, 2685.5, 2686.0, 2686.5, 2687.0, 2687.5, 2688.0, 2688.5, 2689.0, 2689.5, 2690.0, 2690.5, 2691.0, 2691.5, 2692.0, 2692.5, 2693.0, 2693.5, 2694.0, 2694.5, 2695.0, 2695.5, 2696.0, 2696.5, 2696.5, 2697.0, 2697.5, 2698.0, 2698.5, 2699.0, 2699.5, 2700.0, 2700.5, 2701.0, 2701.5, 2702.0, 2702.5, 2703.0, 2703.5, 2704.0, 2704.5, 2705.0, 2705.5, 2706.0, 2706.5, 2707.0, 2707.5, 2708.0, 2708.5, 2709.0, 2709.5, 2710.0, 2710.5, 2711.0, 2711.5, 2712.0, 2712.5, 2713.0, 2713.5, 2714.0, 2714.5, 2715.0, 2715.5, 2716.0, 2716.5, 2717.0, 2717.5, 2718.0, 2718.5, 2719.0, 2719.5, 2720.0, 2720.5, 2721.0, 2721.5, 2721.5, 2722.0, 2722.5, 2723.0, 2723.5, 2724.0, 2724.5, 2725.0, 2725.5, 2726.0, 2726.5, 2727.0, 2727.5, 2728.0, 2728.5, 2729.0, 2729.5, 2730.0, 2730.5, 2731.0, 2731.5, 2732.0, 2732.5, 2733.0, 2733.5, 2734.0, 2734.5, 2735.0, 2735.5, 2736.0, 2736.5, 2737.0, 2737.5, 2738.0, 2738.5, 2739.0, 2739.5, 2740.0, 2740.5, 2741.0, 2741.5, 2742.0, 2742.5, 2743.0, 2743.5, 2744.0, 2744.5, 2745.0, 2745.5, 2746.0, 2746.5, 2747.0, 2747.5, 2748.0, 2748.5, 2749.0, 2749.5, 2750.0, 2750.5, 2751.0, 2751.5, 2752.0, 2752.5, 2753.0, 2753.5, 2754.0, 2754.5, 2757.0, 2757.5, 2758.0, 2758.5, 2759.0, 2759.5, 2760.0, 2760.5, 2761.0, 2761.5, 2762.0, 2762.5, 2763.0, 2763.5, 2764.0, 2764.5, 2765.0, 2765.5, 2766.0, 2766.5, 2767.0, 2767.5, 2768.0, 2768.5, 2769.0, 2769.5, 2770.0, 2770.5, 2771.0, 2771.5, 2772.0, 2772.5, 2773.0, 2773.5, 2774.0, 2774.5, 2775.0, 2775.5, 2776.0, 2776.5, 2777.0, 2777.5, 2778.0, 2778.5, 2779.0, 2779.5, 2780.0, 2780.5, 2781.0, 2781.5, 2782.0, 2782.5, 2788.0, 2793.5, 2794.0, 2794.5, 2795.0, 2795.5, 2796.0, 2796.5, 2797.0, 2797.5, 2798.0, 2798.5, 2799.0, 2799.5, 2800.0, 2800.5, 2801.0, 2801.5, 2802.0, 2802.5, 2803.0, 2803.5, 2804.0, 2804.5, 2805.0, 2805.5, 2808.0, 2808.5, 2809.0, 2809.5, 2810.0, 2810.5, 2811.0, 2811.5, 2812.0, 2812.5, 2813.0, 2813.5, 2814.0, 2814.5, 2815.0, 2815.5, 2816.0, 2816.5, 2817.0, 2817.5, 2818.0, 2818.5, 2819.0, 2819.5, 2820.0, 2820.5, 2821.0, 2821.5, 2822.0, 2822.5, 2823.0, 2823.5, 2824.0, 2824.5, 2825.0, 2825.5, 2826.0, 2826.5, 2827.0, 2827.5, 2828.0, 2828.5, 2829.0, 2829.5, 2830.0, 2830.5, 2831.0, 2831.5, 2832.0, 2832.5, 2833.0, 2833.5, 2834.0, 2837.0, 2837.5, 2838.0, 2838.5, 2839.0, 2839.5, 2840.0, 2840.5, 2841.0, 2841.5, 2853.5, 2854.0, 2854.5, 2855.0, 2855.5, 2856.0, 2856.5, 2857.0, 2857.5, 2858.0, 2858.5, 2859.0, 2859.5, 2860.0, 2860.5, 2861.0, 2861.5, 2862.0, 2862.5, 2863.0, 2863.5, 2864.0, 2864.5, 2865.0, 2865.5, 2866.0, 2866.5, 2867.0, 2867.5, 2868.0, 2868.5, 2869.0, 2869.5, 2870.0, 2870.5, 2871.0, 2871.5, 2872.0, 2872.5, 2873.0, 2873.5, 2874.0, 2874.5, 2875.0, 2875.5, 2876.0, 2876.5, 2877.0, 2877.5, 2878.0, 2878.5, 2879.0, 2879.5, 2880.0, 2880.5, 2881.0, 2881.5, 2882.0, 2882.5, 2883.0, 2883.5, 2884.0, 2884.5, 2885.0, 2885.5, 2886.0, 2886.5, 2887.0, 2887.5, 2888.0, 2888.5, 2889.0, 2889.5, 2890.0, 2890.5, 2891.0, 2891.5, 2892.0, 2892.5, 2893.0, 2893.5, 2894.0, 2894.5, 2895.0, 2895.5, 2896.0, 2896.5, 2897.0, 2897.5, 2898.0, 2898.5, 2899.0, 2899.5, 2900.0, 2900.5, 2901.0, 2901.5, 2902.0, 2902.5, 2903.0, 2903.5, 2904.0, 2904.5, 2905.0, 2905.5, 2906.0, 2906.5, 2907.0, 2907.5, 2908.0, 2908.5, 2909.0, 2909.5, 2910.0, 2910.5, 2911.0, 2911.5, 2912.0, 2912.5, 2913.0, 2913.5, 2914.0, 2914.5, 2915.0, 2915.5, 2916.0, 2916.5, 2917.0, 2917.5, 2918.0, 2918.5, 2919.0, 2919.5, 2920.0, 2920.5, 2921.0, 2921.5, 2922.0, 2922.5, 2923.0, 2923.5, 2924.0, 2924.5, 2925.0, 2925.5, 2926.0, 2926.5, 2927.0, 2927.5, 2928.0, 2928.5, 2929.0, 2929.5, 2930.0, 2930.5, 2931.0, 2931.5, 2932.0, 2932.5, 2933.0, 2933.5, 2934.0, 2934.5, 2935.0, 2935.5, 2936.0, 2936.5, 2937.0, 2937.5, 2938.0, 2938.5, 2939.0, 2939.5, 2940.0, 2940.5, 2941.0, 2941.5, 2942.0, 2942.5, 2943.0, 2943.5, 2944.0, 2944.5, 2945.0, 2945.5, 2946.0, 2946.5, 2947.0, 2947.5, 2948.0, 2948.5, 2949.0, 2949.5, 2950.0, 2950.5, 2951.0, 2951.5, 2952.0, 2952.5, 2953.0, 2953.5, 2954.0, 2954.5, 2955.0, 2955.5, 2956.0, 2956.5, 2957.0, 2957.5, 2958.0, 2958.5, 2959.0, 2959.5, 2960.0, 2960.5, 2961.0, 2961.5, 2962.0, 2962.5, 2963.0, 2963.5, 2964.0, 2964.5, 2965.0, 2965.5, 2966.0, 2966.5, 2967.0, 2967.5, 2968.0, 2968.5, 2969.0, 2969.5, 2970.0, 2970.5, 2971.0, 2971.5, 2972.0, 2972.5, 2973.0, 2973.5, 2974.0, 2974.5, 2975.0, 2975.5, 2976.0, 2976.5, 2977.0, 2977.5, 2978.0, 2978.5, 2979.0, 2979.5, 2980.0, 2980.5, 2981.0, 2981.5, 2982.0, 2982.5, 2983.0, 2983.5, 2984.0, 2984.5, 2985.0, 2985.5, 2986.0, 2986.5, 2987.0, 2987.5, 2988.0, 2988.5, 2989.0, 2989.5, 2990.0, 2990.5, 2991.0, 2991.5, 2992.0, 2992.5, 2993.0, 2993.5, 2994.0, 2994.5, 2995.0, 2995.5, 2996.0, 2996.5, 2997.0, 2997.5, 2998.0, 2998.5, 2999.0, 2999.5, 3000.0, 3000.5, 3001.0, 3001.5, 3002.0, 3002.5, 3003.0, 3003.5, 3004.0, 3004.5, 3005.0, 3005.5, 3006.0, 3006.5, 3007.0, 3007.5, 3008.0, 3008.5, 3009.0, 3009.5, 3010.0, 3010.5, 3011.0, 3011.5, 3012.0, 3012.5, 3013.0, 3013.5, 3014.0, 3014.5, 3015.0, 3015.5, 3016.0, 3016.5, 3017.0, 3017.5, 3018.0, 3018.5, 3019.0, 3019.5, 3020.0, 3020.5, 3021.0, 3021.5, 3022.0, 3022.5, 3023.0, 3023.5, 3024.0, 3024.5, 3025.0, 3025.5, 3026.0, 3026.5, 3027.0, 3027.5, 3028.0, 3028.5, 3029.0, 3029.5, 3030.0, 3030.5, 3031.0, 3031.5, 3032.0, 3032.5, 3033.0, 3033.5, 3034.0, 3034.5, 3035.0, 3035.5, 3036.0, 3036.5, 3037.0, 3037.5, 3038.0, 3038.5, 3039.0, 3039.5, 3040.0, 3040.5, 3041.0, 3041.5, 3042.0, 3042.5, 3043.0, 3043.5, 3044.0, 3044.5, 3045.0, 3045.5, 3046.0, 3046.5, 3047.0, 3047.5, 3048.0, 3048.5, 3049.0, 3049.5, 3050.0, 3050.5, 3051.0, 3051.5, 3052.0, 3052.5, 3053.0, 3053.5, 3054.0, 3054.5, 3055.0, 3055.5, 3056.0, 3056.5, 3057.0, 3057.5, 3058.0, 3058.5, 3059.0, 3059.5, 3060.0, 3060.5, 3018.0, 3018.5, 3019.0, 3019.5, 3020.0, 3020.5, 3021.0, 3021.5, 3022.0, 3022.5, 3023.0, 3023.5, 2843.0, 2843.5, 2914.0, 2914.5, 2915.0, 2915.5, 3009.5, 3010.0, 3010.5, 3011.0, 3011.5, 3012.0, 3012.5, 3013.0, 3013.5, 3014.0, 3061.5, 3062.0, 3062.5, 3063.0, 3063.5, 3064.0, 3064.5, 3065.0, 3065.5, 3066.0, 3066.5, 3067.0, 3067.5, 3068.0, 3068.5, 3069.0, 3069.5, 3070.0, 3070.5, 3071.0, 3071.5, 3072.0, 3072.5, 3073.0, 3073.5, 3074.0, 3074.5, 3075.0, 3075.5, 3076.0, 3076.5, 3077.0, 3077.5, 3078.0, 3078.5, 3079.0, 3079.5, 3080.0, 3104.0, 3104.5, 2826.0, 2826.5, 2827.0, 2827.5, 2828.0, 2828.5, 2829.0, 2829.5, 2830.0, 2830.5, 2831.0, 2831.5, 2832.0, 2832.5, 2833.0, 2833.5, 2834.0, 2834.5, 2835.0, 2835.5, 2836.0, 2836.5, 2837.0, 2837.5, 2838.0, 2838.5, 2839.0, 2839.5, 2840.0, 2840.5, 2841.0, 2841.5, 2842.0, 2842.5, 2843.0, 2843.5, 2844.0, 2844.5, 2845.0, 2845.5, 2846.0, 2846.5, 2847.0, 2847.5, 2848.0, 2848.5, 2849.0, 2849.5, 2850.0, 2850.5, 2851.0, 2851.5, 2852.0, 2852.5, 2853.0, 2853.5, 2854.0, 2854.5, 2855.0, 2855.5, 2856.0, 2856.5, 2857.0, 2857.5, 2858.0, 2858.5, 2859.0, 2859.5, 2860.0, 2860.5, 2861.0, 2861.5, 2862.0, 2862.5, 2863.0, 2863.5, 2864.0, 2864.5, 2865.0, 2865.5, 2866.0, 2866.5, 2867.0, 2867.5, 2868.0, 2868.5, 2869.0, 2869.5, 2870.0, 2870.5, 2871.0, 2871.5, 2872.0, 2872.5, 2873.0, 2873.5, 2874.0, 2874.5, 2875.0, 2875.5, 2876.0, 2876.5, 2877.0, 2877.5, 2878.0, 2878.5, 2879.0, 2879.5, 2880.0, 2880.5, 2881.0, 2881.5, 2882.0, 2882.5, 2883.0, 2883.5, 2884.0, 2884.5, 2885.0, 2885.5, 2886.0, 2886.5, 2887.0, 2887.5, 2888.0, 2888.5, 2889.0, 2889.5, 2890.0, 2890.5, 2891.0, 2891.5, 2892.0, 2892.5, 2893.0, 2893.5, 2894.0, 2894.5, 2895.0, 2895.5, 2896.0, 2896.5, 2897.0, 2897.5, 2898.0, 2898.5, 2899.0, 2899.5, 2900.0, 2900.5, 2901.0, 2901.5, 2902.0, 2902.5, 2903.0, 2903.5, 2904.0, 2904.5, 2905.0, 2905.5, 2906.0, 2906.5, 2907.0, 2907.5, 2908.0, 2908.5, 2909.0, 2909.5, 2910.0, 2910.5, 2911.0, 2911.5, 2912.0, 2912.5, 2913.0, 2913.5, 2914.0, 2914.5, 2915.0, 2915.5, 2916.0, 2916.5, 2917.0, 2917.5, 2918.0, 2918.5, 2919.0, 2919.5, 2920.0, 2920.5, 2921.0, 2921.5, 2922.0, 2922.5, 2923.0, 2923.5, 2924.0, 2924.5, 2925.0, 2925.5, 2926.0, 2926.5, 2927.0, 2927.5, 2928.0, 2928.5, 2929.0, 2929.5, 2930.0, 2930.5, 2931.0, 2931.5, 2932.0, 2932.5, 2933.0, 2933.5, 2934.0, 2934.5, 2935.0, 2935.5, 2936.0, 2936.5, 2937.0, 2937.5, 2938.0, 2938.5, 2939.0, 2939.5, 2940.0, 2940.5, 2941.0, 2941.5, 2942.0, 2942.5, 2943.0, 2943.5, 2944.0, 2944.5, 2945.0, 2945.5, 2946.0, 2946.5, 2947.0, 2947.5, 2948.0, 2948.5, 2949.0, 2949.5, 2950.0, 2950.5, 2951.0, 2951.5, 2952.0, 2952.5, 2953.0, 2953.5, 2954.0, 2954.5, 2955.0, 2955.5, 2956.0, 2956.5, 2957.0, 2957.5, 2958.0, 2958.5, 2959.0, 2959.5, 2960.0, 2960.5, 2961.0, 2961.5, 2962.0, 2962.5, 2963.0, 2963.5, 2964.0, 2964.5, 2965.0, 2965.5, 2966.0, 2966.5, 2967.0, 2967.5, 2968.0, 2968.5, 2969.0, 2969.5, 2970.0, 2970.5, 2971.0, 2971.5, 2972.0, 2972.5, 2973.0, 2973.5, 2974.0, 2974.5, 2975.0, 2975.5, 2976.0, 2976.5, 2977.0, 2977.5, 2978.0, 2978.5, 2979.0, 2979.5, 2980.0, 2980.5, 2981.0, 2981.5, 2982.0, 2982.5, 2983.0, 2983.5, 2984.0, 2984.5, 2985.0, 2985.5, 2986.0, 2986.5, 2987.0, 2987.5, 2988.0, 2988.5, 2989.0, 2989.5, 2990.0, 2990.5, 2991.0, 2991.5, 2992.0, 2992.5, 2993.0, 2993.5, 2994.0, 2994.5, 2995.0, 2995.5, 2996.0, 2996.5, 2997.0, 2997.5, 2998.0, 2998.5, 2999.0, 2999.5, 3000.0, 3000.5, 3001.0, 3001.5, 3002.0, 3002.5, 3003.0, 3003.5, 3004.0, 3004.5, 3005.0, 3005.5, 3006.0, 3006.5, 3007.0, 3007.5, 3008.0, 3008.5, 3009.0, 3009.5, 3010.0, 3010.5, 3011.0, 3011.5, 3012.0, 3012.5, 3013.0, 3013.5, 3014.0, 3014.5, 3015.0, 3015.5, 3016.0, 3016.5, 3017.0, 3017.5, 3018.0, 3018.5, 3019.0, 3019.5, 3020.0, 3020.5, 3021.0, 3021.5, 3022.0, 3022.5, 3023.0, 3023.5, 3024.0, 3024.5, 3025.0, 3025.5, 3026.0, 3026.5, 3027.0, 3027.5, 3028.0, 3028.5, 3029.0, 3029.5, 3030.0, 3030.5, 3031.0, 3031.5, 3032.0, 3032.5, 3033.0, 3033.5, 3034.0, 3034.5, 3035.0, 3035.5, 3036.0, 3036.5, 3037.0, 3037.5, 3038.0, 3038.5, 3039.0, 3039.5, 3040.0, 3040.5, 3041.0, 3041.5, 3042.0, 3042.5, 3043.0, 3043.5, 3044.0, 3044.5, 3045.0, 3045.5, 3046.0, 3046.5, 3047.0, 3047.5, 3048.0, 3048.5, 3049.0, 3049.5, 3050.0, 3050.5, 3051.0, 3051.5, 3052.0, 3052.5, 3053.0, 3053.5, 3054.0, 3054.5, 3055.0, 3055.5, 3056.0, 3056.5, 3057.0, 2917.5, 2918.0, 2918.5, 2919.0, 2919.5, 2920.0, 2920.5, 2921.0, 2921.5, 2922.0, 2922.5, 2923.0, 2923.5, 2924.0, 2924.5, 2925.0, 2925.5, 2926.0, 2926.5, 2927.0, 2927.5, 2928.0, 2928.5, 2929.0, 2929.5, 2930.0, 2930.5, 2931.0, 2931.5, 2932.0, 2932.5, 2933.0, 2933.5, 2934.0, 2934.5, 2935.0, 2935.5, 2936.0, 2936.5, 2937.0, 2937.5, 2938.0, 2938.5, 2939.0, 2939.5, 2940.0, 2940.5, 2941.0, 2941.5, 2942.0, 2942.5, 2943.0, 2943.5, 2944.0, 2944.5, 2945.0, 2945.5, 2946.0, 2946.5, 2947.0, 2947.5, 2948.0, 2948.5, 2949.0, 2949.5, 2950.0, 2950.5, 2951.0, 2951.5, 2952.0, 2952.5, 2953.0, 2953.5, 2954.0, 2954.5, 2955.0, 2955.5, 2956.0, 2956.5, 2957.0, 2957.5, 2958.0, 2958.5, 2959.0, 2959.5, 2960.0, 2960.5, 2961.0, 2961.5, 2962.0, 2962.5, 2963.0, 2963.5, 2964.0, 2964.5, 2965.0, 2965.5, 2966.0, 2966.5, 2967.0, 2967.5, 2968.0, 2968.5, 2969.0, 2969.5, 2970.0, 2970.5, 2971.0, 2971.5, 2972.0, 2972.5, 2973.0, 2973.5, 2974.0, 2974.5, 2975.0, 2975.5, 2976.0, 2976.5, 2977.0, 2977.5, 2978.0, 2978.5, 2979.0, 2979.5, 2980.0, 2980.5, 2981.0, 2981.5, 2982.0, 2982.5, 2983.0, 2983.5, 2984.0, 2984.5, 2985.0, 2985.5, 2986.0, 2986.5, 2987.0, 2987.5, 2988.0, 2988.5, 2989.0, 2989.5, 2990.0, 2990.5, 2991.0, 2991.5, 2992.0, 2992.5, 2993.0, 2993.5, 2994.0, 2994.5, 2995.0, 2995.5, 2996.0, 2996.5, 2997.0, 2997.5, 2998.0, 2998.5, 2999.0, 2999.5, 3000.0, 3000.5, 3001.0, 3001.5, 3002.0, 3002.5, 3003.0, 3003.5, 3004.0, 3004.5, 3005.0, 3005.5, 3006.0, 3006.5, 3007.0, 3007.5, 3008.0, 3008.5, 3009.0, 3009.5, 3010.0, 3010.5, 3011.0, 3011.5, 3012.0, 3012.5, 3013.0, 3013.5, 3014.0, 3014.5, 3015.0, 3015.5, 3016.0, 3016.5, 3017.0, 3017.5, 3018.0, 3018.5, 3019.0, 3019.5, 3020.0, 3020.5, 3021.0, 3021.5, 3022.0, 3022.5, 3023.0, 3023.5, 3024.0, 3024.5, 3025.0, 3025.5, 3026.0, 3026.5, 3027.0, 3027.5, 3028.0, 3028.5, 3029.0, 3029.5, 3030.0, 3030.5, 3031.0, 3031.5, 3032.0, 3032.5, 3033.0, 3033.5, 3034.0, 3034.5, 3035.0, 3035.5, 3036.0, 3036.5, 3037.0, 3037.5, 3038.0, 3038.5, 3039.0, 3039.5, 3040.0, 3040.5, 3041.0, 3041.5, 3042.0, 3042.5, 3044.0, 3044.5, 3045.0, 3045.5, 3046.0, 3046.5, 3047.0, 3047.5, 3048.0, 3048.5, 3049.0, 3049.5, 3050.0, 3050.5, 3051.0, 3054.0, 3054.5, 3055.0, 3055.5, 3056.0, 3056.5, 3057.0, 3057.5, 3058.0, 3058.5, 3059.0, 3059.5, 3060.0, 3060.5, 3061.0, 3061.5, 3062.0, 3062.5, 3063.0, 3063.5, 3064.0, 3064.5, 3065.0, 3065.5, 3066.0, 3066.5, 3067.0, 3067.5, 3068.0, 3068.5, 3069.0, 3069.5, 3070.0, 3070.5, 3071.0, 3071.5, 3072.0, 3072.5, 3073.0, 3073.5, 3074.0, 3074.5, 3075.0, 3075.5, 3076.0, 3076.5, 3077.0, 3077.5, 3078.0, 3078.5, 3079.0, 3079.5, 3080.0, 3080.5, 3081.0, 3081.5, 3082.0, 3082.5, 3083.0, 3083.5, 3084.0, 3084.5, 3085.0, 3085.5, 3086.0, 3086.5, 3087.0, 3087.5, 3088.0, 3088.5, 3089.0, 3089.5, 3090.0, 3090.5, 3091.0, 3091.5, 3092.0, 3092.5, 3093.0, 3093.5, 3094.0, 3094.5, 3095.0, 3095.5, 3096.0, 3096.5, 3097.0, 3097.5, 3098.0, 3098.5, 3099.0, 3099.5, 3100.0, 3100.5, 3101.0, 3101.5, 3102.0, 3102.5, 3103.0, 3103.5, 3104.0, 3104.5, 3105.0, 3105.5, 3106.0, 3106.5, 3107.0, 3107.5, 3108.0, 3108.5, 3109.0, 3109.5, 3110.0, 3110.5, 3111.0, 3111.5, 3112.0, 3112.5, 3113.0, 3113.5, 3114.0, 3114.5, 3115.0, 3115.5, 3116.0, 3116.5, 3117.0, 3117.5, 3118.0, 3118.5, 3119.0, 3119.5, 3120.0, 3120.5, 3121.0, 3121.5, 3122.0, 3122.5]\n",
            "\n"
          ]
        }
      ]
    },
    {
      "cell_type": "markdown",
      "source": [
        "## **DeltaPHI**"
      ],
      "metadata": {
        "id": "4-zyGQLOUOSQ"
      }
    },
    {
      "cell_type": "code",
      "source": [
        "df['DeltaPHI']"
      ],
      "metadata": {
        "colab": {
          "base_uri": "https://localhost:8080/"
        },
        "id": "kHHwku-AUiML",
        "outputId": "a2aaa2ed-9b66-41b0-8f43-035ca8fe7e5e"
      },
      "execution_count": null,
      "outputs": [
        {
          "output_type": "execute_result",
          "data": {
            "text/plain": [
              "0        9.900\n",
              "1       14.200\n",
              "2       14.800\n",
              "3       13.900\n",
              "4       13.500\n",
              "         ...  \n",
              "3227     1.828\n",
              "3228     2.241\n",
              "3229     2.925\n",
              "3230     3.083\n",
              "3231     2.609\n",
              "Name: DeltaPHI, Length: 3232, dtype: float64"
            ]
          },
          "metadata": {},
          "execution_count": 6
        }
      ]
    },
    {
      "cell_type": "code",
      "source": [
        "max_DeltaPHI = df['DeltaPHI'].max()\n",
        "min_DeltaPHI = df['DeltaPHI'].min()"
      ],
      "metadata": {
        "id": "_T2fWj-9Uqgd"
      },
      "execution_count": null,
      "outputs": []
    },
    {
      "cell_type": "code",
      "source": [
        "max_DeltaPHI"
      ],
      "metadata": {
        "colab": {
          "base_uri": "https://localhost:8080/"
        },
        "id": "7zXacNrvU8Zx",
        "outputId": "ee4a54ce-f1fc-4119-a66b-83de1f05e76c"
      },
      "execution_count": null,
      "outputs": [
        {
          "output_type": "execute_result",
          "data": {
            "text/plain": [
              "18.6"
            ]
          },
          "metadata": {},
          "execution_count": 8
        }
      ]
    },
    {
      "cell_type": "code",
      "source": [
        "min_DeltaPHI"
      ],
      "metadata": {
        "colab": {
          "base_uri": "https://localhost:8080/"
        },
        "id": "5abDoL7vVBnY",
        "outputId": "a358f46c-cdf6-45c2-e060-77b5f90ad1b5"
      },
      "execution_count": null,
      "outputs": [
        {
          "output_type": "execute_result",
          "data": {
            "text/plain": [
              "-21.832"
            ]
          },
          "metadata": {},
          "execution_count": 9
        }
      ]
    },
    {
      "cell_type": "code",
      "source": [
        "range = max_DeltaPHI - min_DeltaPHI\n",
        "print(f\"The range of DeltaPHI is {range}.\")"
      ],
      "metadata": {
        "colab": {
          "base_uri": "https://localhost:8080/"
        },
        "id": "qFMImygwSo2Q",
        "outputId": "44a2546e-3bc6-4d07-a74f-9c0fc2c05be2"
      },
      "execution_count": null,
      "outputs": [
        {
          "output_type": "stream",
          "name": "stdout",
          "text": [
            "The range of DeltaPHI is 40.432.\n"
          ]
        }
      ]
    },
    {
      "cell_type": "code",
      "source": [
        "std_dev = df['DeltaPHI'].std()\n",
        "print(f\"The standard deviation of DeltaPHI is {std_dev}.\")"
      ],
      "metadata": {
        "colab": {
          "base_uri": "https://localhost:8080/"
        },
        "id": "rxtHcL3LVEfO",
        "outputId": "eba8c902-fad4-47c0-e23d-e3ba2f20d265"
      },
      "execution_count": null,
      "outputs": [
        {
          "output_type": "stream",
          "name": "stdout",
          "text": [
            "The standard deviation of DeltaPHI is 5.228948410034839.\n"
          ]
        }
      ]
    },
    {
      "cell_type": "code",
      "source": [
        "variance_DeltaPHI = df['DeltaPHI'].var()\n",
        "print(f\"The variance of DeltaPHI is {variance_DeltaPHI}.\")"
      ],
      "metadata": {
        "colab": {
          "base_uri": "https://localhost:8080/"
        },
        "id": "t1drQOVIS4Fv",
        "outputId": "87a08418-268d-4f30-e65b-918ac927629c"
      },
      "execution_count": null,
      "outputs": [
        {
          "output_type": "stream",
          "name": "stdout",
          "text": [
            "The variance of DeltaPHI is 27.341901474805873.\n"
          ]
        }
      ]
    },
    {
      "cell_type": "code",
      "source": [
        "column_DeltaPHI = df['DeltaPHI']"
      ],
      "metadata": {
        "id": "sPSvMEXUTE-g"
      },
      "execution_count": null,
      "outputs": []
    },
    {
      "cell_type": "code",
      "source": [
        "plt.hist(column_DeltaPHI, bins=50, color='blue', edgecolor='black')\n",
        "plt.xlabel('DeltaPHI')\n",
        "plt.ylabel('Frequency')\n",
        "plt.title('Histogram of DeltaPHI')\n",
        "plt.show()"
      ],
      "metadata": {
        "colab": {
          "base_uri": "https://localhost:8080/",
          "height": 295
        },
        "id": "DqWaBfQaTMoF",
        "outputId": "309902a8-bef8-47b5-b47d-466d7462742a"
      },
      "execution_count": null,
      "outputs": [
        {
          "output_type": "display_data",
          "data": {
            "text/plain": [
              "<Figure size 432x288 with 1 Axes>"
            ],
            "image/png": "[encoded data removed]"
          },
          "metadata": {
            "needs_background": "light"
          }
        }
      ]
    },
    {
      "cell_type": "code",
      "source": [
        "peaks_DeltaPHI, _ = find_peaks(np.histogram(column_DeltaPHI, bins=50)[0], distance=1)\n",
        "peaks_DeltaPHI"
      ],
      "metadata": {
        "colab": {
          "base_uri": "https://localhost:8080/"
        },
        "id": "v8VBlyTgTWV4",
        "outputId": "688cd89d-74e7-4565-d86d-5a86c97632f2"
      },
      "execution_count": null,
      "outputs": [
        {
          "output_type": "execute_result",
          "data": {
            "text/plain": [
              "array([ 4,  6,  8, 11, 14, 20, 30, 34, 43, 47])"
            ]
          },
          "metadata": {},
          "execution_count": 15
        }
      ]
    },
    {
      "cell_type": "code",
      "source": [
        "threshold_DeltaPHI = np.histogram(column_DeltaPHI, bins=50)[1][peaks_DeltaPHI[6]]\n",
        "threshold_DeltaPHI"
      ],
      "metadata": {
        "colab": {
          "base_uri": "https://localhost:8080/"
        },
        "id": "fiizTQCXTqvk",
        "outputId": "247491a2-f134-4f06-ad59-d18063c09697"
      },
      "execution_count": null,
      "outputs": [
        {
          "output_type": "execute_result",
          "data": {
            "text/plain": [
              "2.427199999999999"
            ]
          },
          "metadata": {},
          "execution_count": 17
        }
      ]
    },
    {
      "cell_type": "code",
      "source": [
        "import numpy as np\n",
        "data = column_DeltaPHI\n",
        "# Define a function to remove outliers\n",
        "def remove_outliers(column, threshold=2.427199999999999):\n",
        "    \"\"\"\n",
        "    Remove outliers from the data using the specified threshold.\n",
        "    \"\"\"\n",
        "    data_mean = np.mean(column)\n",
        "    data_std = np.std(column)\n",
        "    cutoff = data_std * threshold\n",
        "    lower, upper = data_mean - cutoff, data_mean + cutoff\n",
        "    outliers = [x for x in column if x < lower or x > upper]\n",
        "    return [x for x in column if x >= lower and x <= upper], outliers\n",
        "\n",
        "\n",
        "data, outliers = remove_outliers(data, threshold=2.427199999999999)\n",
        "\n",
        "# Print the results\n",
        "# print(f\"Data with outliers:\\n{data}\\n\")\n",
        "print(f\"Outliers:\\n{outliers}\\n\")\n",
        "print(f\"Data without outliers:\\n{data}\\n\")\n"
      ],
      "metadata": {
        "colab": {
          "base_uri": "https://localhost:8080/"
        },
        "id": "vrUV1QlLT2rn",
        "outputId": "ab4b84bb-c405-4675-e2d8-e8a62757c2c1"
      },
      "execution_count": null,
      "outputs": [
        {
          "output_type": "stream",
          "name": "stdout",
          "text": [
            "Outliers:\n",
            "[16.5, 16.9, 17.2, 16.5, 18.5, 17.9, 17.2, 16.7, 18.6, 16.4, -17.8, -17.8, -14.8, -19.0, -16.2, -10.2, -14.4, -14.8, -19.9, -15.7, -19.0, -13.9, -11.1, -12.1, -13.2, -9.6, -13.0, -12.9, -9.9, -9.4, -12.3, -9.4, -10.2, -13.2, -9.8, -9.9, -18.3, 16.7, 17.9, -12.3, -14.4, -13.4, -9.2, -16.0, -12.2, -15.4, -11.8, -16.4, -10.3, -14.5, -13.6, -11.0, -13.3, -16.9, -19.5, -14.7, -12.8, -12.8, -12.6, -14.3, -12.8, -18.7, -12.8, -18.1, -16.5, -16.5, -18.6, -14.3, -10.7, -10.6, -14.8, -15.2, -14.6, -11.5, -12.3, -12.3, -12.6, -10.3, -12.4, -18.2, -16.0, -12.9, -10.0, -11.6, -12.5, -14.0, -19.6, -15.0, -12.1, -10.4, -11.4, -11.1, -9.5, -10.2, -9.8, -9.25, -9.69, -9.88, -16.331, -18.252, -9.77, -10.539, -10.074, -21.832, -15.014]\n",
            "\n",
            "Data without outliers:\n",
            "[9.9, 14.2, 14.8, 13.9, 13.5, 14.0, 15.6, 16.2, 14.8, 13.3, 11.3, 13.3, 14.3, 11.8, 9.5, 8.8, 7.2, 6.6, 5.5, 6.1, 6.0, 6.8, 6.1, 5.8, 5.2, 7.4, 11.5, 14.2, 13.9, 11.5, 10.3, 9.9, 11.1, 12.1, 11.3, 14.1, 15.8, 15.5, 14.0, 14.7, 11.6, 7.3, 5.7, 5.1, 4.6, 4.4, 4.7, 5.2, 6.5, 7.8, 10.0, 8.6, 5.4, 3.6, 5.1, 9.7, 12.8, 14.9, 16.0, 15.2, 9.1, 6.1, 4.3, 2.9, 3.1, 3.9, 5.2, 5.9, 6.0, 5.8, 3.6, 3.6, 3.0, 3.6, 2.3, 2.2, 2.2, 2.1, 1.1, 1.9, 4.3, 8.3, 11.0, 11.3, 9.6, 7.3, 5.7, 3.6, 2.9, 2.0, 1.8, 6.0, 8.6, 9.6, 9.0, 11.2, 12.0, 12.4, 12.7, 13.2, 14.1, 14.4, 12.1, 9.7, 6.1, 7.0, 9.4, 13.2, 13.1, 11.2, 4.9, 2.2, 5.1, 8.3, 7.5, 6.1, 5.4, 4.7, 4.4, 4.1, 5.8, 6.8, 6.6, 4.4, 3.6, 7.5, 8.1, 9.2, 6.4, 4.3, 4.9, 7.9, 7.8, 6.0, 5.0, 4.1, 4.7, 5.2, 4.7, 4.2, 3.1, 4.2, 4.1, 4.2, 3.6, 3.3, 4.2, 6.1, 9.4, 10.5, 9.6, 8.6, 8.9, 11.4, 13.4, 14.6, 14.7, 13.0, 12.1, 11.4, 11.0, 10.1, 9.4, 9.7, 8.4, 6.9, 5.5, 5.3, 5.7, 5.4, 2.0, -3.8, -2.0, -4.3, 1.6, 1.9, 4.2, 4.7, 5.6, 5.4, 5.5, 5.0, 5.1, 4.5, 5.0, 5.3, 5.5, 4.1, 3.9, 5.7, 9.1, 12.4, 13.7, 13.7, 12.9, 12.0, 11.3, 10.9, 10.4, 11.1, 11.5, 11.2, 10.3, 8.9, 8.8, 8.3, 8.5, 8.6, 9.0, 9.1, 9.2, 8.7, 8.2, 7.3, 7.5, 8.4, 9.1, 8.1, 6.4, 3.7, 2.5, 2.3, 1.9, 2.4, 3.5, 3.9, 3.7, 3.0, 3.1, 3.9, 3.6, 3.5, 5.7, 8.0, 8.6, 6.8, 6.3, 6.0, 6.8, 7.5, 7.6, 8.4, 10.0, 12.3, 13.6, 11.6, 10.4, 7.4, 6.4, 4.5, 4.4, 5.0, 5.9, 6.8, 7.1, 6.9, 8.0, 8.6, 12.2, 13.7, 12.7, 8.2, 3.1, 1.7, 1.3, 2.3, 3.6, 3.6, 3.9, 5.7, 7.3, 9.9, 11.0, 11.9, 11.0, 8.4, 7.8, 8.2, 11.1, 11.6, 11.9, 13.8, 15.5, 15.2, 8.2, 6.1, 4.7, 4.4, 4.6, 5.1, 5.2, 5.5, 5.1, 4.6, 4.3, 4.7, 4.7, 5.3, 5.9, 5.9, 4.3, 4.3, 3.5, 3.8, 5.0, 6.2, 7.5, 10.4, 13.2, 12.9, 14.9, 14.7, 14.9, 14.1, 13.5, 13.6, 14.1, 14.7, 13.9, 13.4, 13.6, 13.1, 13.4, 13.0, 13.5, 12.2, 12.6, 13.7, 14.6, 13.7, 12.7, 12.5, 12.0, 12.0, 11.3, 10.5, 11.1, 12.3, 15.0, 15.3, 13.5, 12.2, 11.7, 12.1, 12.3, 12.3, 12.5, 10.8, 10.9, 11.4, 10.9, 10.1, 10.0, 10.1, 10.9, 10.6, 11.0, 13.6, 16.2, 15.0, 10.4, 6.2, 5.9, 5.3, 4.9, 3.9, 2.3, 0.1, 0.1, 3.7, 9.4, 13.3, 11.1, 7.1, 4.8, 3.5, 2.2, 1.5, 0.9, 0.5, 0.6, 1.5, 2.1, 2.3, 2.3, 2.5, 2.4, 2.7, 2.1, 2.4, 2.1, 2.7, 2.7, 2.4, 2.9, 3.1, 4.6, 4.3, 3.9, 3.7, 4.3, 4.5, 4.8, 4.6, 4.7, 4.8, 5.2, 6.9, 8.5, 9.9, 10.3, 10.0, 9.3, 8.4, 7.6, 7.3, 7.6, 7.8, 7.8, 7.6, 7.2, 7.1, 7.4, 7.7, 7.2, 7.1, 6.8, 7.1, 7.1, 8.0, 8.1, 8.2, 8.0, 8.9, 10.0, 11.0, 9.4, 7.8, 6.6, 7.4, 6.4, 4.3, 1.2, 0.3, 0.5, 1.7, 1.9, 1.6, 0.9, 2.0, 2.0, 2.7, 2.5, 1.4, 1.6, 2.1, 1.9, 1.5, 1.5, 2.0, 3.3, 2.5, 1.6, -0.1, 7.9, 12.8, 13.0, 12.3, 12.9, 13.2, 12.8, 13.2, 13.0, 13.0, 11.4, 10.1, 9.0, 10.0, 10.1, 12.0, 11.7, 11.1, 8.5, 6.2, 4.4, 3.7, 2.5, 1.1, -0.3, -0.1, 0.9, 1.6, 1.7, 0.8, 0.3, -0.5, -0.1, 0.3, 0.9, 1.5, 1.7, 2.1, 1.1, 1.1, 1.0, 0.3, -0.2, 1.1, 5.1, 8.5, 6.0, 3.2, 2.2, 4.0, 4.5, 4.7, 7.1, 9.1, 7.6, 3.9, 2.1, 4.4, 1.7, -9.0, 0.1, 4.2, 9.4, 12.2, 10.9, 7.7, 4.6, 2.5, 0.8, 1.4, 4.3, 5.3, 4.4, 1.7, -0.2, -1.4, -2.1, -2.4, -2.0, 1.1, 4.9, 8.7, 10.0, 10.7, 6.7, 1.9, -2.7, -4.6, -4.6, -2.1, -1.1, 0.1, 0.8, 1.9, 3.5, 6.6, 8.5, 6.2, 3.9, -8.6, -6.5, 0.2, 6.5, -1.7, -4.1, -3.2, -7.9, 2.6, 7.8, 6.8, 7.1, 8.0, 8.4, 6.2, 4.0, 2.5, 1.3, -0.1, 1.1, 2.1, 3.0, 1.8, 1.7, 2.2, 2.5, 2.5, 1.5, 2.1, 2.3, 3.1, 2.3, 1.4, 1.9, 7.0, 8.1, 2.7, -4.0, -4.1, 4.6, 1.2, -7.5, -2.4, -4.3, -3.0, 0.2, 2.5, 1.7, 1.6, 1.4, -2.5, -7.2, 0.8, 2.6, 3.0, 3.8, 6.2, 8.8, 10.4, 10.4, 9.0, 9.2, 9.6, 11.2, 11.2, 14.3, 13.2, 1.3, -6.0, 0.3, 2.0, 2.6, 5.3, 11.5, 1.2, -2.1, -4.1, 2.2, 2.2, -1.7, -3.1, -1.3, 1.9, 5.2, 9.5, 12.1, 13.0, 10.7, 8.6, 6.8, 6.5, 5.8, 4.6, 3.9, 4.8, 6.2, 6.8, 6.1, 7.3, 8.3, 7.6, 6.5, 5.1, 5.8, 6.4, 7.7, 7.7, 8.0, 8.0, 8.6, 9.8, 8.1, 5.7, 5.1, 4.9, 5.3, 5.0, 4.6, 3.8, 3.1, 2.3, 3.0, 5.6, 7.6, 5.2, -5.5, -0.6, 0.7, -1.9, 1.5, 3.9, 2.1, 1.2, 0.7, 1.3, 0.8, 1.2, 1.5, 1.4, 1.2, 0.1, 1.4, 3.0, 5.6, 7.1, 7.7, 7.7, 8.2, 7.2, 6.0, 3.5, 1.3, 0.3, 0.6, 1.3, -0.8, -1.6, -0.2, 4.0, 5.9, 5.9, 5.9, 4.7, 3.7, 3.9, 5.0, 7.0, 8.1, 0.5, -6.8, -7.4, 3.7, 7.6, 9.7, 7.7, 4.3, -0.1, -6.0, -6.4, -8.4, -7.6, -2.9, -0.2, -4.0, -1.9, 5.9, 12.2, 10.8, 6.4, 3.8, 3.6, 4.7, 2.1, -1.1, -1.3, 0.5, 1.6, 1.0, 0.6, 0.7, 1.4, 0.8, -0.5, -1.0, -1.9, -2.5, -0.8, 4.2, -5.9, 2.5, -0.2, -1.6, -2.1, 5.3, 8.9, 10.7, 9.3, 6.3, 6.3, 7.1, 6.4, 3.6, 2.9, 6.6, 3.5, -3.0, -1.1, 3.1, 0.3, -8.0, -1.1, 6.8, 5.2, 2.0, 3.5, 5.7, 4.4, 1.5, 0.8, 1.8, -3.6, -9.0, -5.1, 1.0, 6.2, 5.8, -2.7, -9.0, -3.5, -5.4, -3.6, 7.1, 1.0, 8.8, 9.1, 7.9, 6.4, 6.4, 3.5, 3.0, 5.0, 7.7, 8.6, 8.1, 7.7, 6.0, 4.2, 2.4, 1.7, 1.9, 2.0, 1.7, 1.5, 1.9, 2.3, 2.8, 3.8, 3.9, 2.6, 2.4, 1.9, 2.0, 1.6, 2.6, 3.0, 3.6, 3.1, 2.9, 2.0, 1.9, 1.9, 2.4, 2.6, 3.1, 3.2, 3.0, 3.6, 3.9, 4.9, 5.1, 5.7, 5.6, 5.2, 4.6, 4.6, 4.3, 4.2, 4.9, 5.6, 5.8, 6.9, 8.4, 7.7, 4.0, -0.4, -2.2, -1.6, -1.6, -0.4, 1.6, 9.3, 12.0, 12.9, 13.2, 11.8, 11.3, 11.5, 11.7, 11.1, 8.6, 7.8, 6.3, 9.2, 11.3, 0.0, 3.1, 8.4, 8.2, 0.0, 10.1, 7.0, 7.1, 6.3, 4.8, 4.7, 4.5, 4.6, 5.1, 4.7, 4.8, 4.9, 4.0, 4.5, 4.7, 5.3, 7.3, 8.6, 8.6, 6.5, 3.9, 3.9, 4.3, 5.6, 6.7, 8.1, 9.9, 10.6, 11.0, 14.2, 12.6, 9.5, 2.8, 4.6, -0.3, 0.4, 0.5, 3.1, 4.0, 6.8, 8.0, 10.1, 12.6, 12.8, 12.3, 11.1, 10.0, 7.2, 2.5, 2.5, 2.5, 3.1, 5.4, 8.2, 8.2, 8.1, 8.0, 8.3, 7.0, 5.6, 3.0, 2.0, 2.1, 5.4, 10.1, 9.8, 11.9, 10.7, 10.2, 9.9, 9.6, 9.6, 9.4, 9.1, 8.7, 8.6, 8.7, 9.2, 9.5, 8.5, 3.8, 3.2, 3.2, 3.4, 3.7, 4.7, 7.6, 7.8, 7.4, 4.5, 4.7, 6.8, 7.5, 6.4, 5.0, 1.7, -4.3, -6.3, -1.0, 0.3, 1.1, 1.0, 6.3, 6.8, 6.6, 3.3, 0.1, 4.0, 4.6, 6.3, 7.4, 9.0, 9.2, 6.7, 4.3, 2.5, 0.8, 0.4, 0.5, 0.8, 1.2, 1.1, 1.0, 0.9, 1.0, 1.7, 2.4, 8.6, 8.4, 8.2, 6.9, 6.7, 3.7, -1.0, -0.5, -0.2, -1.6, 0.5, 0.6, 1.8, 0.9, 0.5, -0.2, -0.7, -0.2, 0.7, 0.5, 0.8, 1.4, 1.7, 1.8, 1.9, 2.9, 2.6, 1.7, 1.2, 0.8, 2.4, 2.5, 5.9, 7.5, 6.6, 7.0, 6.8, 5.8, 6.6, 6.4, 4.8, 3.1, 2.0, -5.5, -4.8, -2.5, -1.9, 2.3, 1.8, 4.7, -3.6, 0.5, 2.0, 0.0, 0.2, 0.1, -1.5, -2.0, -2.5, -3.0, -3.0, -0.4, 0.7, 1.2, 1.1, 0.8, 1.8, 1.8, 2.9, 3.5, 2.8, 0.3, -5.8, -5.6, -0.6, -0.2, -0.5, -3.4, -1.3, 3.0, 7.3, 7.6, 4.3, 4.1, 3.0, 5.4, 5.8, 5.5, 7.6, 6.4, 5.9, 4.1, 3.2, 2.8, 2.7, 2.5, 2.5, 2.8, 3.1, 4.4, 5.7, 2.5, 1.4, 0.6, -0.7, -1.5, -1.5, -0.8, 0.1, 0.9, 1.6, 1.6, 1.8, 3.0, 4.1, 5.1, 6.9, 9.5, 8.7, 7.7, 6.7, 5.7, 2.8, 2.2, 2.2, 2.5, 2.8, 3.6, 4.4, 4.4, 2.7, 3.0, 3.2, 7.0, 7.0, 7.0, 5.6, 4.2, 3.2, 3.7, 1.3, -1.1, -0.9, -0.7, -1.4, -2.9, 1.1, -1.1, -2.4, -3.3, -4.2, -5.8, -4.6, 5.0, 6.8, 6.5, 5.8, 5.1, 4.8, 4.1, 4.1, 3.5, 2.5, 3.6, 5.7, 7.6, 11.0, 11.5, 10.4, 8.9, 6.4, 7.3, 7.3, 6.0, 6.3, 5.8, 5.7, 4.2, 4.2, 2.6, 0.5, -0.4, 0.4, 1.9, 2.0, 1.8, 2.0, 1.5, 1.5, 1.2, 0.2, 0.7, 2.9, 5.2, 8.4, 9.2, 8.6, 8.9, 10.0, 10.0, 8.9, 6.7, 5.7, 5.0, 5.8, 7.6, 13.0, 14.3, 13.4, 13.1, 10.5, 10.1, 9.9, 7.7, 7.3, 4.9, 2.8, 1.3, 4.1, 9.7, 13.9, 12.3, 11.9, 11.7, 11.3, 10.8, 10.5, 10.1, 10.1, 8.8, 7.7, 0.4, 1.9, 3.0, 5.7, 9.5, 9.8, 9.5, 8.1, 1.6, -7.0, 0.7, 3.9, 11.1, 5.1, 2.9, 3.4, 3.6, 3.1, 2.8, 2.6, 2.0, 1.2, 2.2, 4.3, 7.0, 9.1, 8.4, 5.7, 3.5, 3.5, 3.9, 3.5, 2.8, 2.3, 1.8, 1.7, 2.6, 3.7, 3.6, 3.4, 2.5, 0.7, 0.6, 0.6, 1.0, 3.7, 4.9, 6.3, 6.4, 0.8, 1.1, 1.7, 3.0, 5.1, 5.9, 9.0, 8.8, 7.7, 8.5, 1.2, 2.0, 2.1, -1.4, -5.6, -8.0, -2.4, 1.8, 12.2, 11.0, 7.7, 12.6, 13.7, 3.2, 3.0, 6.3, 9.9, 12.0, 15.1, 13.6, 13.0, 12.7, 12.8, 13.5, 13.4, 12.7, 12.6, 12.3, 12.1, 11.6, 11.3, 10.3, 9.2, 8.0, 7.6, 8.0, 8.8, 9.6, 9.5, 9.0, 9.1, 9.6, 9.2, 8.4, 7.5, 6.7, 5.5, 4.2, 3.6, 4.4, 5.0, 4.9, 4.4, 3.8, 4.0, 2.3, 2.2, 2.3, 2.8, 2.9, 3.1, 3.3, 3.4, 3.3, 3.6, 4.2, 4.3, 3.8, 4.9, 6.0, 7.4, 7.0, 7.1, 6.3, 5.6, 5.2, 5.1, 5.1, 6.4, 6.0, 2.8, 5.0, 3.4, 7.0, 9.7, 5.1, 2.3, 2.9, 1.0, 0.8, 1.6, 2.9, 2.4, 2.3, 3.5, 5.1, 8.7, 11.6, 11.8, 10.7, 10.5, 8.0, -0.4, -0.9, -3.0, -4.4, -2.7, -1.1, -0.6, -0.3, 0.8, 2.1, 3.3, 5.5, 7.8, 8.3, 6.7, 4.6, 3.3, 2.2, 1.9, 1.7, 1.9, 1.9, 2.3, 3.6, 4.2, 3.4, 2.9, 2.4, -1.8, 2.0, 1.5, -5.5, -1.7, 2.2, 3.9, 6.5, 9.7, 8.2, 11.0, 7.2, 6.9, 6.1, 7.1, 9.0, 3.6, 0.5, 0.2, 1.3, 6.0, 7.5, 6.7, 4.1, 2.1, 0.7, 1.1, 2.5, 3.5, 4.4, 5.1, 5.1, 5.0, 4.5, 4.9, 4.8, 4.2, 3.2, 3.3, 2.9, 2.8, 2.9, 2.8, 2.8, 3.0, 2.7, 3.0, 3.1, 4.6, 4.6, -6.2, -8.0, -5.6, -5.6, 4.7, 8.6, 12.1, 12.5, 11.7, 7.5, 4.1, 0.6, -0.6, -1.0, -0.9, -0.5, 0.3, 1.5, -6.1, -1.4, 4.9, 5.5, 6.0, 7.3, 8.7, 9.4, 10.7, 11.9, 11.5, 9.5, 8.2, 7.7, 8.4, 7.6, 4.9, 5.8, 4.5, 6.9, 6.2, 5.5, 4.2, 4.2, 5.0, 6.2, 7.2, 9.0, 9.8, 2.5, 2.1, 0.3, 0.2, 6.5, 9.9, 11.4, 10.8, 11.2, 10.2, 11.4, 7.9, 3.7, 4.0, 3.1, 5.1, 5.9, 7.0, 7.3, 6.0, 6.6, 6.6, 8.5, 7.2, -2.9, -6.8, -7.4, -7.3, -3.6, 3.5, 5.3, 3.3, 3.6, 1.8, 0.9, 1.9, 4.4, 3.4, 2.7, 2.9, 2.1, 1.8, 0.8, 1.8, 2.0, 3.0, 3.1, 4.1, 5.6, 6.1, 6.1, 7.0, 6.1, 5.5, 4.4, 4.2, 4.3, 4.2, 4.4, 4.2, 3.9, 4.3, 4.3, 4.4, 3.9, -7.1, -8.9, -6.4, -6.3, -2.8, 5.8, 9.0, 9.0, 11.2, 9.8, 7.5, 7.0, 7.0, 4.9, 4.7, 4.3, 2.9, 1.1, 0.6, 1.1, 1.0, 1.1, 1.4, 2.1, 2.6, 3.7, 4.5, 4.4, 4.2, 3.7, 3.9, 4.7, 5.5, 6.5, 6.9, 6.3, 4.6, 3.6, 3.7, 3.2, 2.5, 2.2, 2.2, 3.2, 5.0, 5.6, 6.0, 5.8, 5.8, 5.8, 5.7, 5.7, 5.2, 4.8, 4.9, 4.9, 4.9, 5.1, 5.7, -3.7, 2.0, 4.4, 6.0, 4.6, 5.5, 4.7, 3.7, 0.4, -8.1, 5.4, 2.7, -3.3, 1.7, -0.6, 5.5, 5.7, 7.9, 5.2, -9.0, 0.9, 5.2, 6.1, 5.2, 5.0, 4.7, 4.8, 4.8, 4.8, 4.0, 4.4, 5.0, 5.2, 4.7, 5.2, 6.4, 7.8, 9.7, 4.0, -8.3, -6.3, -7.0, -7.9, -6.3, -2.9, -1.4, 1.3, 7.7, 10.1, 1.7, 1.1, 0.7, 1.4, 4.9, 10.2, 10.2, 11.9, 10.1, 4.4, 0.4, -3.9, -5.6, 1.4, -2.2, 1.3, 3.7, 2.6, 1.8, 0.7, -0.3, -0.6, -0.3, 0.1, -0.2, 0.2, 0.7, 1.2, 1.8, 1.3, 0.0, -1.0, -0.9, 0.9, 3.0, 4.6, 6.1, 7.0, 6.9, 6.1, 5.8, 5.3, 5.1, 5.1, 5.3, 5.3, 5.2, 4.5, 3.5, 2.6, 2.6, 3.0, 3.6, 4.4, 4.2, 3.6, 2.1, 0.6, -0.1, -0.7, -0.5, 0.7, 2.1, 3.0, -2.8, -6.9, -8.4, -6.1, -6.5, -3.8, 1.1, 3.1, 5.0, 6.8, 9.339, 8.857, 7.097, 7.081, 6.733, 6.578, 5.569, 4.861, 5.634, 6.443, 6.897, 4.634, 3.571, 2.563, 3.922, 3.145, 3.31, 2.439, 2.877, 2.333, 1.926, 2.152, 3.078, 5.733, 6.937, 7.76, 6.294, 5.391, 4.007, 3.218, 2.909, 2.838, 2.855, 2.702, 3.026, 3.352, 3.945, 5.444, 6.592, 6.672, 6.614, 7.123, 10.693, 8.346, 5.703, 1.07, 0.969, 1.062, 0.67, 0.442, 0.54, 1.25, 2.104, 2.47, 2.639, 2.932, 4.265, 4.477, 3.558, 2.147, 2.587, 5.048, 7.595, 9.249, 8.082, 6.129, 4.233, 2.686, 1.667, 0.755, 0.975, 1.09, 1.139, 1.139, 1.311, 1.565, 1.23, 0.702, 0.043, 0.472, 0.413, 1.692, 1.298, 0.924, -0.136, 0.299, 0.616, 0.018, -0.731, -0.414, 0.486, 1.505, 1.367, 1.325, 1.359, 2.214, 3.406, 5.345, 5.84, 4.279, 4.279, 2.334, 0.446, 1.984, 1.088, 0.0, 1.395, 0.808, 2.991, 4.263, 5.689, 5.641, 5.791, 5.529, 5.446, 4.813, 6.429, 5.759, 5.239, 3.499, 4.323, 4.629, 3.464, 2.422, 1.631, 1.158, 0.916, 0.58, 0.896, 1.247, 2.513, 1.859, 2.565, 2.98, 6.042, 5.913, 5.425, 3.01, 2.861, 2.844, 2.21, 1.437, 1.495, 1.218, 1.619, 1.547, 0.892, 0.322, 1.558, 2.585, 1.968, 0.845, 0.339, 0.3, 0.546, 0.7, 0.82, 1.615, 3.299, 4.893, 6.112, 5.027, 3.709, 2.686, 2.959, 4.279, 5.234, 6.867, 7.596, 7.613, 5.035, 4.116, 3.499, 3.858, 3.046, 2.454, 3.569, 2.096, -0.258, -3.639, -5.054, -1.233, 2.222, 1.528, -0.348, -0.907, -0.693, 0.198, 0.198, 1.626, 3.541, 4.486, 3.868, 2.603, 1.714, 1.235, 1.365, 1.311, -0.026, -0.705, -0.482, 0.03, 1.023, 2.505, 4.586, 5.74, 6.552, 5.038, 3.579, 2.959, 2.847, 2.977, 3.223, 2.792, 2.1, 1.783, 1.856, 2.849, 3.64, 3.638, 3.192, 3.028, 3.842, 4.388, 5.143, 4.295, 5.523, 6.978, 8.101, 5.888, 3.841, 3.483, 3.206, 1.941, 1.257, 1.316, 1.367, 0.521, -0.205, -0.073, 2.51, 4.381, 5.516, 3.957, 2.854, 1.497, 1.604, 1.75, 1.75, 2.996, 4.566, 5.413, 4.698, 2.914, 1.93, 1.241, 1.355, 1.622, 1.913, 1.97, 1.98, 4.313, 6.545, 9.423, 6.296, 1.993, -0.483, 0.898, -0.429, -0.616, 1.022, 2.365, 2.837, 2.13, 1.667, 2.746, 3.715, 6.086, 6.257, 7.445, 9.376, 9.334, 8.292, 5.381, 3.818, 2.117, 1.619, 1.674, 1.674, 0.886, 0.404, 0.103, 0.657, 0.772, 0.79, 1.096, 2.656, 4.468, 5.942, 5.154, 4.109, 2.51, 1.815, 1.351, 1.303, 2.035, 2.762, 2.51, 1.906, 1.906, 1.313, 1.41, 1.364, 0.981, 0.99, 0.655, -0.093, -0.871, 0.179, 3.99, 8.549, 9.149, 5.552, 3.698, 3.835, 6.177, 6.533, 7.422, 6.891, 8.294, 7.729, 7.826, 5.943, 5.733, 5.628, 6.157, 6.614, 7.713, 7.04, 6.162, 4.795, 4.761, 4.461, 4.411, 4.974, 6.129, 6.155, 5.999, 5.884, 6.392, 5.941, 7.357, 6.842, 6.555, 3.788, 6.043, 5.83, 6.517, 2.971, 2.578, 1.403, 0.948, -0.063, 0.336, 0.842, 1.437, 1.16, 2.348, 3.005, 3.034, 2.897, 3.849, 5.339, 5.764, 5.243, 3.199, 1.314, 0.809, 1.924, 2.275, 1.239, -0.242, -0.591, -0.182, 0.169, 0.217, 0.117, 0.069, 0.288, 0.516, 1.186, 2.279, 1.948, 2.926, 3.614, 4.063, 3.186, 2.053, 1.712, 1.956, 2.635, 3.205, 3.504, 3.195, 2.845, 2.713, 2.689, 2.528, 2.023, 2.249, 2.249, 2.12, 1.909, 1.109, 1.534, 1.2, 0.3, 0.5, 1.7, 1.9, 1.6, 0.9, 2.0, 2.0, 2.7, 2.5, 1.4, 1.6, 0.1, 3.4, 3.1, 0.9, -1.0, 0.99, 1.105, 0.916, 0.793, 0.492, -0.022, -1.111, -1.42, -1.263, -0.57, 3.68, 4.463, 4.29, 3.075, 1.846, 0.672, 0.292, 0.828, 1.594, 1.921, 1.498, 1.629, 2.706, 3.576, 3.308, 3.224, 2.679, 2.082, 1.348, 1.723, 2.001, 1.666, 1.033, 0.945, 0.659, 0.74, 0.122, 0.398, 1.393, 2.044, 1.426, 0.181, -0.061, 0.243, 1.28, 3.48, 4.614, 0.243, 0.227, 1.905, 7.8, 9.7, 10.1, 10.1, 9.3, 9.2, 8.7, 8.6, 8.6, 7.3, 6.3, 5.7, 4.9, 6.4, 7.9, 8.1, 5.5, 3.7, 2.2, 1.0, 0.6, 1.3, 1.5, 2.1, 2.1, 2.1, 3.7, 5.6, 6.3, 6.3, 6.1, 5.0, 6.3, 5.0, -2.6, -2.2, 3.1, 3.3, 9.5, 11.6, 12.7, 9.9, 5.2, 4.5, 3.6, 5.9, 6.5, 6.5, 7.7, 8.2, 8.8, 9.0, 9.1, 9.3, 10.4, 11.1, 10.9, 11.9, 11.8, 9.2, 5.8, 1.6, -1.2, -1.9, -1.3, 1.7, 4.9, 6.5, 5.3, 1.9, -0.5, -1.2, -1.0, -0.1, 1.5, 3.2, 4.1, 5.0, 5.2, 6.2, 6.6, 6.7, 6.2, 6.1, 6.0, 5.5, 5.0, 5.2, 4.9, 5.2, 5.8, 6.2, 5.7, 5.9, 5.1, 4.2, 3.5, 1.8, 0.8, 2.5, 4.1, 3.2, 2.7, 3.0, 3.6, 3.3, 3.1, 3.0, 2.7, 3.2, 4.4, 5.9, 5.5, 4.9, 3.4, 2.7, 1.3, 0.9, 0.7, 1.1, 2.5, 3.8, -0.6, -2.5, -0.6, -0.1, 0.2, 0.8, -0.7, 7.7, 7.8, 8.8, 6.5, 6.0, 6.8, 6.8, 7.3, 6.7, 6.7, 6.6, 4.8, 3.1, 1.9, 1.0, 0.5, 0.9, 1.7, 3.3, 5.7, 7.2, 8.6, 8.2, 3.8, 0.4, 1.6, -3.2, -3.7, -3.7, -1.9, -0.5, 1.5, 2.2, 1.0, -0.1, -0.3, -0.2, 0.1, 0.8, 3.3, 5.5, 6.0, 7.3, 7.4, 5.0, 2.6, 0.6, -1.2, -1.6, -1.6, -0.5, 0.3, -0.8, -1.4, -2.3, -4.5, -6.9, -7.3, -6.7, -5.5, -4.1, -2.3, -0.6, 1.8, 5.2, 5.2, 2.3, 1.3, 4.3, 7.2, 9.3, 7.0, 3.5, 10.2, 5.9, 5.1, 6.7, 6.7, 3.1, -0.2, -0.9, -4.2, -8.5, -8.2, -5.0, -5.6, -6.3, -7.7, -8.9, -7.7, -6.7, -5.0, -3.2, -2.2, -1.5, -0.4, 0.0, 3.8, 3.8, 4.0, -2.3, -2.9, -1.7, -0.9, 1.9, 7.3, 2.9, 3.5, 3.9, 3.3, 1.8, 3.9, 5.0, 6.1, 7.0, 8.5, 10.0, 11.2, 10.2, 10.2, 6.5, 2.6, -0.4, 0.1, 2.1, 3.7, 4.7, 5.2, 3.6, 4.1, 5.9, 3.2, 2.3, 2.2, 2.4, 3.1, 4.9, 6.0, 6.2, 4.5, 2.7, 2.3, 2.2, 2.2, 2.7, 3.6, 6.5, 7.8, 8.8, 7.7, 4.9, 5.4, 1.6, 1.5, 2.6, 2.9, 2.7, 4.6, 5.5, 4.9, 5.3, 6.1, 7.8, 9.3, 9.4, 9.8, 9.0, 11.2, 12.6, 13.2, 12.9, 14.2, 13.0, 13.8, 11.8, 11.8, 8.4, 3.4, 2.5, 1.3, 3.1, 2.9, 2.8, 2.7, 2.8, 2.1, 1.4, 0.8, -0.4, -1.4, -1.9, -2.8, -3.2, -4.8, -5.7, -6.2, -7.0, -7.1, -7.1, -6.2, -4.9, -5.3, -5.0, -5.1, -6.1, -5.8, -5.3, -4.2, -3.7, -3.8, -3.4, -2.5, -0.1, 3.0, 4.4, 4.9, 4.2, 0.3, -0.2, 2.5, 6.2, 10.4, 13.5, 14.3, 13.7, 13.2, 11.8, 11.5, 10.5, 10.4, 10.7, 10.6, 10.6, 10.8, 12.4, 12.6, 14.4, 14.2, 12.5, 9.8, 9.5, 8.8, 10.6, 8.6, 9.1, 9.9, 10.4, 8.0, 5.8, 6.1, 6.5, 6.3, 9.9, 9.5, 10.3, 14.1, 8.9, 8.5, 4.9, -1.4, 0.8, 2.4, 0.6, 0.4, 0.2, -0.1, 0.7, 2.5, 5.2, 6.1, 6.0, 4.5, 3.5, 2.7, 2.2, 2.7, 1.0, 0.2, -0.3, 0.1, 1.4, 2.6, 1.9, 0.3, -1.0, -1.0, 0.4, 1.5, 2.4, 2.1, 1.5, 1.0, 0.3, 1.3, 1.6, 2.0, 3.1, 3.4, 4.1, 3.9, 2.9, 3.0, 4.2, 6.3, 6.6, 4.3, 2.4, 1.4, -0.4, -1.2, -0.4, -0.8, 0.4, 4.1, 5.6, 6.1, 6.6, 7.5, 7.3, 8.5, 9.5, 9.5, 6.8, 4.0, 1.9, 0.7, 2.3, 3.2, 4.916, 7.514, 7.785, 7.547, 5.912, 4.537, 3.974, 4.98, 4.552, 3.621, 1.003, 0.746, 1.838, 2.744, 2.922, 3.286, 5.487, 4.784, 1.439, 1.122, -1.021, 0.046, 0.086, -0.207, -1.041, -1.57, -1.863, -1.698, -0.436, 3.982, 4.184, 3.478, -0.136, 1.94, 2.966, 1.488, -3.187, -2.171, 0.0, 1.127, 1.022, 1.299, 1.37, 2.225, 3.038, 4.283, 4.306, 3.915, 3.866, 6.423, 6.823, 5.522, 4.471, 4.584, 4.273, 2.835, 0.156, -0.398, 0.531, 2.584, 4.121, 6.222, 6.938, 6.411, 3.905, 1.999, 0.353, -0.667, -1.114, -0.248, 1.152, 1.634, 0.981, -0.388, -0.85, -0.819, 0.39, 0.772, 1.099, 1.351, 1.633, 1.665, 0.98, 0.147, 0.221, 0.221, 0.654, 1.476, 2.566, 2.843, 3.6, 4.357, 5.742, 6.166, 5.791, 4.743, 3.853, 2.991, 3.365, 3.429, 2.949, 2.203, 2.203, 1.187, 1.124, 0.723, 0.731, 0.731, 0.729, 0.687, 0.809, 2.187, 4.158, -0.666, 0.793, -1.06, -1.309, -2.435, -5.069, -3.162, -1.192, 3.299, 2.794, 2.077, 1.903, 1.138, 3.491, 5.213, -1.635, -3.951, -1.914, 3.503, 7.9, 7.18, 3.448, -1.737, -2.896, -2.215, 0.709, -0.468, 1.12, 1.335, 2.804, 3.242, 2.739, 1.696, 0.865, 2.169, 4.538, 4.914, 3.895, 1.46, 0.241, -0.878, -0.494, 0.257, 1.975, 1.5, 1.408, 2.224, 3.323, 4.188, 3.038, 2.094, 1.651, -0.923, -7.337, 2.671, 6.728, 2.318, -8.228, 5.584, -1.373, -3.23, 2.505, 1.34, 0.933, 0.99, 1.105, 0.916, 0.793, 0.492, -0.022, -1.111, -1.42, -1.263, -0.57, 0.108, 1.744, 4.265, 5.89, 6.374, 5.916, 5.712, 5.443, 3.586, 1.204, 0.16, 1.229, 3.054, 3.396, 3.797, 3.314, 3.947, 4.261, 3.445, 3.398, 3.774, 3.915, 2.883, 2.114, -0.804, -3.342, -3.342, -7.159, -8.424, -4.656, 0.388, 1.211, 0.838, 1.891, 1.728, 0.987, 0.251, 0.09, 2.719, 2.443, 2.948, 1.993, 3.033, 2.843, 3.072, 3.549, 4.616, 4.885, 3.581, 2.844, 2.723, 3.213, 2.796, 2.46, 3.565, 3.887, -1.003, -8.496, -1.453, 0.486, -0.126, -0.711, -0.849, -1.205, -0.291, 0.877, 2.296, 2.231, 2.612, 3.529, 5.685, 6.364, 1.365, 1.659, 4.629, 5.923, 6.613, 6.039, 6.381, 6.061, 6.206, 5.099, 3.692, 3.276, 2.716, 2.02, 2.241, 3.68, 4.463, 4.29, 3.075, 1.846, 0.672, 0.292, 0.828, 1.594, 1.921, 1.498, 1.629, 2.706, 3.576, 3.308, 3.224, 2.679, 2.082, 1.348, 1.723, 2.001, 1.666, 1.033, 0.945, 0.659, 0.74, 0.122, 0.398, 1.393, 2.044, 1.426, 0.181, -0.061, 0.243, 1.28, 3.48, 4.614, 0.243, 1.28, 3.48, 4.614, 4.225, 4.381, 5.123, 6.249, 6.249, 7.296, 7.562, 7.388, 5.83, 4.46, 2.024, -4.122, -6.8, -6.868, -2.572, 2.082, 2.334, 3.223, 3.429, 2.625, 2.915, 3.902, 4.708, 3.409, -0.391, -4.575, -4.527, 6.794, 6.874, 7.047, 4.635, 4.089, 4.598, -2.975, -1.253, 2.481, 6.147, -0.749, -5.427, -1.957, -1.133, 0.227, 1.905, 3.264, 3.449, 3.075, 2.703, 1.928, 1.977, 1.552, 1.342, 0.681, 0.96, 1.448, 2.736, 3.092, 3.018, 2.245, 1.193, 0.662, 0.377, 0.615, 0.672, 0.648, 1.025, 0.659, 1.165, 1.872, 3.76, 4.296, 3.863, 2.225, 1.64, 1.494, 1.828, 2.241, 2.925, 3.083, 2.609]\n",
            "\n"
          ]
        }
      ]
    },
    {
      "cell_type": "code",
      "source": [
        "# DeltaPHI value < 2.427199999999999  will statistically infere low porosity index reading which indicates the less/no possibility of presence of oil and gas.\n",
        "# DeltaPHI value > 2.427199999999999 will statistically infere high porosity index reading which indicates the presence of oil and gas."
      ],
      "metadata": {
        "id": "MiehT4Y5UbXl"
      },
      "execution_count": null,
      "outputs": []
    },
    {
      "cell_type": "markdown",
      "source": [
        "## **PHIND**"
      ],
      "metadata": {
        "id": "ZuI1nxmf3wEG"
      }
    },
    {
      "cell_type": "code",
      "source": [
        "df['PHIND']"
      ],
      "metadata": {
        "colab": {
          "base_uri": "https://localhost:8080/"
        },
        "id": "PZFZEH8C3pHu",
        "outputId": "3fe66cbb-2d62-4be1-d6fd-3d1c770cebf0"
      },
      "execution_count": null,
      "outputs": [
        {
          "output_type": "execute_result",
          "data": {
            "text/plain": [
              "0       11.915\n",
              "1       12.565\n",
              "2       13.050\n",
              "3       13.115\n",
              "4       13.300\n",
              "         ...  \n",
              "3227     7.254\n",
              "3228     8.013\n",
              "3229     8.013\n",
              "3230     7.708\n",
              "3231     6.668\n",
              "Name: PHIND, Length: 3232, dtype: float64"
            ]
          },
          "metadata": {},
          "execution_count": 46
        }
      ]
    },
    {
      "cell_type": "code",
      "source": [
        "max_PHIND = df['PHIND'].max()\n",
        "min_PHIND = df['PHIND'].min()"
      ],
      "metadata": {
        "id": "iVYjuWUQ4JQL"
      },
      "execution_count": null,
      "outputs": []
    },
    {
      "cell_type": "code",
      "source": [
        "max_PHIND"
      ],
      "metadata": {
        "colab": {
          "base_uri": "https://localhost:8080/"
        },
        "id": "zom1xNID4WVe",
        "outputId": "2e148a7c-b700-4a64-da83-9ae0f2fc51d4"
      },
      "execution_count": null,
      "outputs": [
        {
          "output_type": "execute_result",
          "data": {
            "text/plain": [
              "84.4"
            ]
          },
          "metadata": {},
          "execution_count": 48
        }
      ]
    },
    {
      "cell_type": "code",
      "source": [
        "min_PHIND"
      ],
      "metadata": {
        "colab": {
          "base_uri": "https://localhost:8080/"
        },
        "id": "rnn_L_Ld4Z1d",
        "outputId": "a799b508-8f3b-4c1c-c374-3412a939148f"
      },
      "execution_count": null,
      "outputs": [
        {
          "output_type": "execute_result",
          "data": {
            "text/plain": [
              "0.55"
            ]
          },
          "metadata": {},
          "execution_count": 49
        }
      ]
    },
    {
      "cell_type": "code",
      "source": [
        "range_PHIND = max_PHIND - min_PHIND\n",
        "print(f\"The range of DeltaPHI is {range_PHIND}.\")"
      ],
      "metadata": {
        "colab": {
          "base_uri": "https://localhost:8080/"
        },
        "id": "M96TtUJx4bFx",
        "outputId": "39f5f299-84bf-46c2-cc0a-99c27a86835b"
      },
      "execution_count": null,
      "outputs": [
        {
          "output_type": "stream",
          "name": "stdout",
          "text": [
            "The range of DeltaPHI is 83.85000000000001.\n"
          ]
        }
      ]
    },
    {
      "cell_type": "code",
      "source": [
        "std_dev_PHIND = df['PHIND'].std()\n",
        "print(f\"The standard deviation of PHIND is {std_dev_PHIND}.\")"
      ],
      "metadata": {
        "colab": {
          "base_uri": "https://localhost:8080/"
        },
        "id": "SIackiQi4kdd",
        "outputId": "272826a2-3633-4f9a-d39b-6b8a716a34fe"
      },
      "execution_count": null,
      "outputs": [
        {
          "output_type": "stream",
          "name": "stdout",
          "text": [
            "The standard deviation of PHIND is 7.698980155426338.\n"
          ]
        }
      ]
    },
    {
      "cell_type": "code",
      "source": [
        "variance_PHIND = df['PHIND'].var()\n",
        "print(f\"The variance of PHIND is {variance_PHIND}.\")"
      ],
      "metadata": {
        "colab": {
          "base_uri": "https://localhost:8080/"
        },
        "id": "ibUtVTds4vk_",
        "outputId": "315cb2dd-b641-4b0b-8110-be6da60d697c"
      },
      "execution_count": null,
      "outputs": [
        {
          "output_type": "stream",
          "name": "stdout",
          "text": [
            "The variance of PHIND is 59.27429543364856.\n"
          ]
        }
      ]
    },
    {
      "cell_type": "code",
      "source": [
        "column_PHIND = df['PHIND']"
      ],
      "metadata": {
        "id": "LTlt2bTz45Bb"
      },
      "execution_count": null,
      "outputs": []
    },
    {
      "cell_type": "code",
      "source": [
        "plt.hist(column_PHIND, bins=50, color='blue', edgecolor='black')\n",
        "plt.xlabel('PHIND')\n",
        "plt.ylabel('Frequency')\n",
        "plt.title('Histogram of PHIND')\n",
        "plt.show()"
      ],
      "metadata": {
        "colab": {
          "base_uri": "https://localhost:8080/",
          "height": 295
        },
        "id": "Rb6dQrjW4-B3",
        "outputId": "0ee5317f-9f6c-4795-ee3c-bc106b7964d4"
      },
      "execution_count": null,
      "outputs": [
        {
          "output_type": "display_data",
          "data": {
            "text/plain": [
              "<Figure size 432x288 with 1 Axes>"
            ],
            "image/png": "[encoded data removed]"
          },
          "metadata": {
            "needs_background": "light"
          }
        }
      ]
    },
    {
      "cell_type": "code",
      "source": [
        "peaks_PHIND, _ = find_peaks(np.histogram(column_PHIND, bins=50)[0], distance=1)\n",
        "peaks_PHIND"
      ],
      "metadata": {
        "colab": {
          "base_uri": "https://localhost:8080/"
        },
        "id": "RKdbbFSz5I3j",
        "outputId": "de83589f-411d-40c5-aae8-39d21247bd2b"
      },
      "execution_count": null,
      "outputs": [
        {
          "output_type": "execute_result",
          "data": {
            "text/plain": [
              "array([ 4,  6, 19, 22, 26, 33, 38, 42, 44])"
            ]
          },
          "metadata": {},
          "execution_count": 55
        }
      ]
    },
    {
      "cell_type": "code",
      "source": [
        "threshold_PHIND = np.histogram(column_PHIND, bins=50)[1][peaks_PHIND[1]]\n",
        "threshold_PHIND"
      ],
      "metadata": {
        "colab": {
          "base_uri": "https://localhost:8080/"
        },
        "id": "gMsPe33O5SuT",
        "outputId": "d8d32b97-ba12-45c3-ecfd-651e3a93cd6c"
      },
      "execution_count": null,
      "outputs": [
        {
          "output_type": "execute_result",
          "data": {
            "text/plain": [
              "10.612000000000002"
            ]
          },
          "metadata": {},
          "execution_count": 56
        }
      ]
    },
    {
      "cell_type": "code",
      "source": [
        "import numpy as np\n",
        "data = column_PHIND\n",
        "# Define a function to remove outliers\n",
        "def remove_outliers(column, threshold=10.612000000000002):\n",
        "    \"\"\"\n",
        "    Remove outliers from the data using the specified threshold.\n",
        "    \"\"\"\n",
        "    data_mean = np.mean(column)\n",
        "    data_std = np.std(column)\n",
        "    cutoff = data_std * threshold\n",
        "    lower, upper = data_mean - cutoff, data_mean + cutoff\n",
        "    outliers = [x for x in column if x < lower or x > upper]\n",
        "    return [x for x in column if x >= lower and x <= upper], outliers\n",
        "\n",
        "\n",
        "data, outliers = remove_outliers(data, threshold=10.612000000000002)\n",
        "\n",
        "# Print the results\n",
        "# print(f\"Data with outliers:\\n{data}\\n\")\n",
        "print(f\"Outliers:\\n{outliers}\\n\")\n",
        "print(f\"Data without outliers:\\n{data}\\n\")\n"
      ],
      "metadata": {
        "colab": {
          "base_uri": "https://localhost:8080/"
        },
        "id": "a727lkxN5ovp",
        "outputId": "b149495c-2422-424a-b3f9-ac7bb100bb8e"
      },
      "execution_count": null,
      "outputs": [
        {
          "output_type": "stream",
          "name": "stdout",
          "text": [
            "Outliers:\n",
            "[]\n",
            "\n",
            "Data without outliers:\n",
            "[11.915, 12.565, 13.05, 13.115, 13.3, 13.385, 13.93, 13.92, 13.98, 14.22, 13.375, 12.69, 12.475, 14.93, 16.555, 15.96, 15.12, 15.19, 15.39, 14.885, 14.8, 14.46, 14.745, 15.135, 15.48, 14.675, 13.635, 15.055, 20.23, 24.015, 23.58, 18.395, 13.815, 9.44, 5.255, 5.265, 11.76, 17.665, 20.145, 18.07, 15.72, 15.98, 18.02, 12.09, 6.705, 4.595, 4.62, 5.01, 5.295, 5.32, 5.785, 6.38, 7.215, 8.925, 9.355, 9.12, 8.225, 7.875, 8.575, 10.66, 12.375, 13.54, 12.89, 11.785, 8.97, 8.93, 9.215, 9.5, 8.89, 8.06, 6.875, 6.085, 6.135, 6.64, 6.865, 6.25, 6.225, 6.19, 6.375, 6.61, 7.355, 8.33, 8.84, 8.125, 7.845, 8.665, 10.04, 10.85, 9.815, 7.475, 5.265, 4.045, 4.36, 9.795, 19.545, 26.65, 26.94, 21.77, 15.99, 12.565, 11.69, 12.285, 11.735, 11.73, 12.475, 13.095, 13.35, 15.12, 20.48, 23.225, 21.305, 17.235, 16.71, 18.675, 20.405, 20.3, 17.16, 15.87, 16.85, 17.3, 17.57, 17.195, 16.415, 14.19, 13.25, 15.72, 20.045, 20.455, 16.78, 11.78, 14.545, 23.83, 26.67, 16.61, 8.22, 4.71, 4.24, 4.22, 3.785, 3.145, 2.195, 1.59, 1.755, 2.36, 3.11, 2.95, 3.03, 3.02, 3.445, 4.095, 5.13, 7.84, 11.2, 13.97, 12.96, 10.425, 8.785, 10.305, 13.745, 16.66, 17.625, 16.245, 14.85, 13.27, 12.48, 11.525, 11.31, 10.865, 10.365, 9.385, 8.53, 8.6, 9.98, 13.745, 21.885, 33.79, 37.47, 31.57, 16.04, 5.725, 2.73, 2.925, 3.285, 3.99, 4.34, 4.645, 4.77, 4.725, 4.365, 4.4, 4.86, 5.47, 5.905, 7.13, 9.33, 11.31, 11.975, 12.065, 12.21, 12.485, 12.23, 11.67, 11.96, 13.05, 13.735, 13.6, 12.905, 12.575, 12.305, 12.35, 12.855, 14.3, 14.21, 13.64, 12.5, 11.92, 11.635, 11.265, 11.375, 12.285, 15.135, 21.93, 26.715, 25.875, 18.92, 12.215, 10.63, 11.06, 12.15, 13.16, 14.02, 14.255, 12.705, 11.095, 10.225, 10.81, 11.865, 11.795, 11.345, 10.6, 10.89, 11.805, 12.205, 12.495, 12.57, 12.535, 13.055, 14.46, 15.78, 15.58, 15.095, 14.62, 15.335, 15.0, 14.44, 13.845, 14.19, 14.375, 14.075, 13.22, 14.63, 18.955, 24.86, 26.24, 21.64, 15.465, 11.83, 9.835, 7.54, 5.93, 5.83, 6.47, 6.69, 7.985, 10.27, 13.345, 14.745, 16.365, 18.035, 21.3, 21.825, 20.44, 17.735, 18.11, 19.115, 18.12, 17.425, 18.72, 21.295, 24.97, 20.85, 14.47, 12.17, 12.545, 13.01, 12.835, 12.71, 12.8, 12.9, 12.795, 12.595, 11.41, 11.41, 10.045, 8.48, 7.805, 7.58, 7.58, 7.795, 7.73, 8.61, 12.17, 17.585, 20.065, 19.63, 17.945, 17.19, 16.855, 17.04, 16.725, 16.505, 16.735, 16.94, 17.845, 18.455, 18.05, 15.635, 13.72, 13.05, 13.785, 13.815, 14.275, 15.215, 16.465, 16.885, 16.3, 15.225, 15.12, 15.145, 14.82, 14.335, 15.695, 18.01, 20.75, 22.025, 22.97, 22.12, 20.35, 17.53, 16.31, 15.875, 15.865, 15.685, 15.23, 14.78, 15.47, 15.235, 14.25, 14.015, 14.465, 15.11, 15.73, 15.115, 13.995, 14.065, 20.0, 23.385, 20.82, 12.115, 6.42, 4.845, 4.695, 4.67, 5.705, 7.35, 8.365, 8.53, 8.695, 10.025, 9.785, 9.24, 8.02, 7.48, 7.98, 8.295, 8.515, 8.165, 8.115, 7.475, 6.77, 6.215, 6.04, 6.61, 7.01, 7.33, 6.94, 6.705, 6.685, 7.07, 7.445, 7.445, 7.655, 7.705, 7.33, 6.865, 6.88, 7.085, 7.105, 6.665, 6.645, 6.69, 6.815, 6.475, 6.14, 6.41, 7.65, 10.035, 12.255, 12.67, 11.24, 9.055, 8.13, 7.585, 7.795, 7.84, 8.3, 8.335, 8.07, 8.13, 8.165, 8.46, 8.54, 8.38, 8.295, 8.035, 8.86, 9.95, 11.39, 12.28, 12.17, 12.37, 12.94, 14.235, 14.86, 13.74, 11.48, 8.025, 9.425, 11.7, 13.34, 13.11, 12.3, 11.79, 11.325, 11.165, 10.535, 10.04, 8.545, 8.545, 7.73, 8.195, 10.29, 12.12, 12.385, 11.12, 9.73, 9.73, 8.275, 7.68, 7.445, 7.34, 18.685, 16.745, 14.105, 13.385, 13.345, 13.105, 14.0, 13.685, 13.92, 13.975, 14.235, 13.17, 12.32, 11.805, 11.72, 11.75, 12.155, 12.955, 12.865, 12.23, 11.89, 12.44, 13.64, 14.49, 15.085, 14.985, 14.945, 15.055, 15.28, 15.905, 16.485, 17.33, 17.77, 17.9, 17.97, 18.3, 19.49, 20.135, 20.495, 20.34, 20.015, 19.615, 19.01, 18.66, 17.45, 18.705, 19.555, 20.265, 16.485, 12.965, 11.34, 12.33, 13.295, 16.445, 24.17, 28.165, 26.97, 20.215, 16.27, 22.62, 33.13, 36.13, 28.075, 28.075, 9.105, 5.945, 7.395, 8.825, 8.85, 7.225, 5.565, 4.495, 4.19, 4.695, 5.175, 6.455, 7.235, 7.765, 7.655, 7.95, 7.585, 6.74, 5.865, 5.575, 6.59, 8.1, 9.485, 10.025, 10.155, 8.985, 8.955, 9.75, 9.235, 7.61, 5.46, 4.55, 3.965, 3.9, 4.185, 5.795, 8.635, 13.285, 16.07, 16.375, 30.425, 39.125, 45.275, 44.37, 43.805, 39.435, 34.29, 33.645, 35.66, 36.645, 32.775, 31.68, 28.625, 24.055, 12.49, 8.38, 8.2, 8.695, 9.35, 9.06, 8.57, 7.775, 7.255, 7.185, 7.125, 7.255, 8.18, 9.33, 10.295, 10.175, 9.88, 10.15, 11.1, 11.88, 12.195, 13.045, 13.625, 14.215, 13.465, 13.145, 14.36, 17.515, 20.055, 19.3, 15.79, 14.23, 25.065, 49.715, 16.885, 10.105, 7.285, 5.12, 4.05, 3.865, 4.915, 5.02, 5.46, 13.875, 31.775, 38.6, 28.955, 21.33, 12.435, 9.145, 8.185, 8.49, 9.41, 10.57, 11.44, 11.56, 11.04, 10.57, 10.765, 10.75, 10.465, 11.855, 18.745, 28.06, 27.415, 21.085, 9.5, 5.64, 6.47, 9.15, 17.22, 32.92, 38.485, 36.14, 25.745, 17.06, 10.485, 5.835, 3.865, 4.385, 6.805, 9.275, 10.99, 11.5, 10.86, 10.29, 9.89, 9.98, 9.985, 9.89, 10.335, 11.02, 11.625, 11.865, 11.935, 12.61, 14.11, 15.635, 16.275, 16.055, 15.965, 15.65, 15.31, 14.55, 14.36, 14.36, 14.54, 15.115, 15.995, 17.015, 17.755, 18.465, 19.315, 20.22, 20.435, 20.185, 19.13, 18.115, 16.33, 14.845, 14.515, 18.02, 25.095, 35.24, 25.315, 16.415, 15.25, 15.465, 12.685, 11.32, 12.39, 12.93, 13.1, 13.6, 13.875, 14.2, 14.5, 15.285, 15.91, 15.585, 14.44, 13.57, 13.74, 14.31, 14.44, 14.25, 14.51, 15.655, 16.385, 16.94, 17.025, 17.325, 17.815, 18.575, 18.52, 17.575, 16.275, 16.375, 17.115, 18.435, 18.435, 18.565, 18.135, 16.665, 15.155, 13.77, 14.83, 24.675, 35.2, 44.645, 51.805, 46.795, 16.17, 4.785, 4.555, 6.745, 9.415, 11.98, 19.085, 35.77, 33.73, 31.445, 31.45, 30.565, 33.215, 39.915, 41.445, 37.005, 29.525, 27.265, 27.915, 27.115, 26.515, 24.38, 22.525, 19.515, 16.71, 14.275, 12.48, 11.42, 10.82, 10.535, 10.32, 10.38, 10.56, 10.57, 10.18, 9.31, 8.1, 6.22, 5.195, 24.32, 34.61, 28.99, 27.455, 24.68, 21.265, 16.795, 13.99, 14.42, 15.755, 17.91, 17.22, 16.125, 16.405, 17.57, 18.53, 17.785, 21.265, 23.97, 24.32, 23.925, 27.215, 30.125, 29.985, 26.215, 21.255, 16.645, 17.925, 18.325, 16.405, 15.525, 16.48, 18.61, 19.615, 21.045, 22.505, 22.545, 17.625, 14.06, 14.855, 19.845, 23.955, 25.4, 24.095, 24.15, 24.425, 21.35, 17.66, 16.71, 35.285, 51.3, 55.915, 9.78, 9.73, 11.93, 12.695, 11.9, 10.875, 9.39, 8.16, 7.4, 8.56, 10.67, 12.535, 13.935, 14.68, 14.81, 13.68, 12.36, 10.51, 9.08, 8.405, 8.235, 8.035, 7.68, 7.775, 7.92, 8.16, 8.54, 8.6, 8.9, 8.845, 8.5, 8.25, 8.42, 8.495, 8.695, 8.505, 8.845, 8.74, 8.715, 8.375, 8.47, 8.2, 8.555, 8.435, 8.76, 8.645, 8.42, 8.515, 8.31, 8.545, 8.855, 8.915, 8.915, 8.86, 8.675, 9.365, 9.555, 9.585, 9.95, 10.39, 9.95, 7.9, 5.215, 3.455, 2.89, 2.89, 3.4, 4.715, 11.75, 13.1, 12.55, 12.0, 11.4, 11.55, 11.25, 11.05, 10.65, 9.7, 9.8, 10.65, 13.2, 15.75, 19.65, 29.9, 31.45, 34.1, 34.1, 30.0, 20.15, 12.25, 8.1, 7.95, 8.55, 10.4, 11.15, 11.65, 12.2, 12.95, 13.35, 13.5, 13.75, 14.6, 15.25, 15.35, 15.35, 14.85, 14.3, 13.4, 12.35, 11.15, 10.95, 11.05, 11.8, 13.05, 14.15, 15.75, 16.5, 17.0, 19.5, 23.3, 24.65, 21.4, 16.7, 11.35, 7.3, 5.15, 4.15, 4.4, 6.0, 7.4, 8.85, 10.4, 10.7, 10.95, 11.55, 11.0, 9.3, 6.55, 4.95, 4.85, 6.05, 8.3, 10.7, 11.5, 11.55, 11.5, 11.25, 9.7, 7.7, 5.2, 3.4, 3.25, 5.5, 8.65, 11.4, 13.75, 14.45, 14.7, 14.85, 14.8, 14.8, 14.9, 15.05, 14.95, 14.8, 14.65, 14.3, 13.95, 13.05, 10.1, 9.0, 8.9, 9.3, 10.35, 11.75, 14.1, 16.3, 18.6, 20.95, 20.85, 13.5, 9.75, 8.3, 7.2, 5.45, 8.35, 12.45, 17.3, 21.8, 21.75, 20.0, 20.35, 21.15, 24.1, 23.55, 23.7, 23.6, 24.25, 23.65, 17.9, 16.0, 14.85, 13.6, 11.6, 10.7, 11.15, 11.05, 11.65, 11.7, 11.6, 11.55, 11.5, 11.6, 11.75, 11.9, 11.85, 11.7, 11.45, 11.6, 14.6, 14.8, 14.6, 13.55, 15.15, 18.55, 21.9, 20.45, 16.1, 6.4, 4.55, 4.6, 5.6, 6.15, 6.25, 5.9, 5.45, 4.4, 3.25, 3.05, 3.3, 3.6, 3.75, 3.9, 4.25, 5.35, 5.3, 4.35, 3.4, 3.5, 4.9, 9.95, 12.95, 14.05, 13.5, 11.0, 9.4, 8.4, 8.9, 9.1, 9.8, 10.65, 12.8, 23.9, 27.15, 27.5, 25.55, 15.95, 9.95, 10.3, 17.45, 21.4, 17.25, 13.2, 9.6, 9.4, 9.75, 11.15, 11.4, 11.15, 10.4, 8.6, 6.6, 5.95, 6.5, 6.75, 7.8, 8.1, 8.1, 8.15, 8.55, 8.9, 8.95, 11.9, 17.8, 23.4, 27.1, 29.6, 29.8, 29.55, 28.0, 23.45, 20.9, 18.85, 19.5, 21.85, 21.85, 21.2, 19.6, 19.7, 19.85, 18.4, 16.2, 14.05, 11.95, 11.2, 11.5, 11.95, 12.15, 11.85, 11.7, 11.55, 11.5, 11.65, 13.85, 12.9, 9.2, 8.35, 7.55, 7.15, 6.7, 6.75, 7.15, 7.9, 8.2, 8.8, 9.1, 9.45, 9.85, 11.35, 13.95, 13.65, 12.75, 11.95, 11.65, 10.7, 11.0, 11.2, 11.45, 11.5, 11.2, 10.9, 10.9, 12.25, 14.5, 17.8, 17.7, 17.7, 14.1, 9.2, 6.4, 5.3, 5.55, 7.95, 13.65, 19.55, 28.15, 26.8, 24.15, 20.65, 21.85, 22.9, 23.45, 23.9, 24.6, 22.6, 10.9, 9.4, 9.55, 10.4, 12.05, 13.5, 14.95, 16.15, 16.85, 15.95, 14.3, 13.15, 12.8, 15.3, 17.75, 18.5, 17.65, 14.5, 13.45, 12.55, 11.4, 10.55, 9.8, 9.75, 10.8, 12.3, 13.3, 13.85, 13.2, 10.5, 7.55, 5.6, 4.3, 4.2, 5.05, 5.05, 9.4, 13.0, 16.65, 18.35, 19.5, 20.7, 20.3, 18.9, 17.95, 16.7, 16.9, 17.65, 18.75, 18.45, 18.1, 16.3, 15.5, 13.3, 14.25, 14.5, 14.45, 13.25, 13.45, 15.35, 17.05, 20.75, 22.25, 23.2, 22.65, 18.85, 15.35, 13.05, 13.25, 13.05, 12.65, 12.25, 11.9, 11.85, 12.05, 12.25, 14.7, 18.45, 24.1, 23.15, 20.4, 18.55, 16.25, 15.9, 15.55, 15.35, 19.0, 25.6, 26.45, 25.05, 0.55, 3.55, 5.15, 5.5, 5.6, 5.15, 4.7, 4.5, 4.6, 5.0, 5.4, 5.15, 6.1, 6.55, 6.9, 5.75, 4.85, 5.05, 5.45, 5.45, 5.5, 5.65, 6.0, 6.35, 7.1, 8.15, 8.2, 7.8, 6.75, 5.35, 5.3, 5.4, 5.6, 7.05, 7.65, 8.35, 8.3, 5.2, 4.95, 4.95, 5.3, 6.65, 8.45, 10.8, 11.3, 11.85, 11.15, 5.6, 4.1, 3.95, 5.8, 9.0, 18.1, 22.5, 25.0, 24.4, 24.7, 29.4, 28.5, 26.15, 23.7, 10.65, 3.9, 4.2, 9.95, 13.05, 14.5, 16.05, 15.9, 14.9, 14.35, 14.7, 15.15, 15.1, 14.75, 14.4, 13.95, 13.65, 13.3, 13.05, 12.75, 12.6, 12.3, 12.3, 12.8, 13.4, 13.8, 13.55, 12.9, 12.25, 11.8, 12.3, 13.0, 14.25, 15.75, 16.95, 17.8, 17.2, 16.6, 16.7, 17.35, 18.6, 19.6, 20.1, 20.25, 19.9, 19.95, 20.1, 20.25, 20.45, 20.65, 20.5, 20.45, 20.2, 20.1, 19.55, 18.3, 17.05, 16.7, 17.9, 17.2, 15.75, 15.35, 15.4, 15.9, 16.25, 16.15, 16.2, 18.3, 23.5, 25.9, 24.8, 15.6, 13.25, 16.05, 19.75, 20.95, 18.8, 13.3, 10.2, 8.75, 9.1, 9.25, 8.75, 8.65, 8.85, 8.8, 8.7, 8.85, 8.75, 10.0, 13.8, 14.85, 13.9, 10.6, 7.55, 6.75, 6.5, 6.55, 6.3, 6.05, 6.25, 6.65, 7.1, 7.25, 6.65, 6.2, 5.95, 6.3, 6.85, 7.05, 6.65, 6.25, 5.75, 5.3, 5.3, 6.0, 7.05, 8.9, 14.4, 71.7, 84.4, 81.65, 65.85, 50.85, 39.4, 31.6, 23.85, 17.85, 13.5, 10.35, 8.15, 7.45, 11.0, 13.0, 15.9, 16.25, 15.55, 12.65, 10.4, 14.0, 17.65, 17.8, 15.35, 11.7, 10.45, 9.05, 8.15, 8.05, 8.75, 9.05, 8.85, 9.15, 10.4, 12.05, 13.65, 15.0, 16.15, 17.15, 17.7, 18.3, 19.0, 19.15, 19.45, 19.8, 19.85, 20.0, 19.9, 19.6, 19.35, 19.3, 18.85, 18.9, 21.3, 30.7, 33.6, 30.25, 25.75, 18.5, 18.5, 14.25, 14.4, 15.75, 17.35, 16.45, 13.35, 9.75, 8.1, 7.3, 7.0, 6.85, 6.55, 5.75, 5.75, 11.95, 36.35, 20.55, 12.2, 9.55, 10.35, 11.5, 11.95, 11.45, 10.6, 9.75, 9.15, 8.95, 8.45, 7.7, 7.55, 7.8, 9.4, 12.15, 12.1, 11.45, 8.35, 7.0, 6.25, 6.7, 7.0, 7.1, 7.1, 7.6, 8.7, 10.9, 17.95, 20.25, 20.85, 19.9, 16.15, 13.85, 11.7, 10.5, 9.6, 10.5, 11.0, 13.35, 16.55, 17.0, 15.85, 13.05, 11.65, 10.9, 11.15, 12.4, 12.4, 12.4, 11.55, 13.1, 20.35, 24.7, 26.3, 24.75, 20.0, 13.55, 9.75, 8.75, 7.4, 8.2, 8.75, 8.75, 9.0, 11.9, 14.35, 14.45, 13.05, 11.6, 11.8, 11.6, 11.8, 11.4, 11.35, 11.15, 10.8, 11.45, 12.85, 13.6, 13.55, 12.65, 12.4, 12.2, 12.65, 13.2, 13.7, 14.0, 14.35, 14.35, 14.65, 14.5, 15.65, 22.85, 27.15, 29.0, 29.65, 26.3, 21.0, 17.7, 17.7, 14.1, 13.1, 12.85, 12.5, 12.4, 14.35, 16.15, 17.75, 17.65, 16.95, 16.2, 15.75, 15.6, 15.75, 16.2, 16.85, 17.6, 18.15, 18.25, 18.2, 17.8, 17.25, 16.55, 15.75, 15.35, 15.05, 15.35, 15.15, 15.0, 15.2, 15.85, 16.6, 16.65, 15.4, 14.0, 13.2, 13.1, 14.2, 15.8, 17.2, 18.0, 18.1, 17.75, 17.05, 16.3, 16.4, 16.25, 15.75, 15.25, 14.75, 15.15, 21.05, 28.0, 28.0, 29.9, 30.15, 28.0, 20.0, 16.5, 10.4, 6.4, 3.25, 2.95, 4.35, 8.7, 23.45, 17.75, 10.2, 13.35, 25.1, 33.55, 39.85, 41.35, 38.7, 33.35, 31.05, 28.45, 24.85, 23.3, 18.85, 17.85, 16.65, 18.1, 27.6, 32.3, 35.2, 33.6, 25.7, 17.15, 14.1, 13.05, 13.0, 12.4, 12.05, 11.6, 11.3, 10.5, 10.1, 10.3, 10.8, 11.3, 11.05, 10.4, 9.8, 10.3, 11.55, 16.6, 27.45, 31.95, 33.35, 33.3, 30.75, 30.35, 31.3, 32.85, 35.05, 37.9, 41.1, 75.5, 33.55, 28.75, 25.35, 22.2, 17.95, 13.35, 12.15, 17.95, 20.15, 20.85, 19.1, 16.35, 13.2, 13.1, 13.75, 17.05, 22.6, 25.0, 27.25, 30.5, 31.7, 30.55, 27.2, 21.0, 29.3, 25.7, 11.7, 9.4, 6.05, 4.55, 5.3, 5.8, 5.85, 5.75, 5.6, 5.25, 4.75, 4.6, 4.4, 4.15, 4.4, 5.3, 6.95, 8.1, 8.2, 7.35, 6.15, 5.4, 5.8, 6.55, 7.0, 7.05, 6.95, 6.6, 6.55, 6.55, 6.55, 6.55, 6.45, 6.0, 5.75, 5.35, 5.0, 4.9, 5.2, 5.7, 6.2, 7.1, 7.5, 7.75, 8.3, 8.65, 8.45, 7.55, 6.75, 6.45, 6.5, 10.5, 21.45, 19.25, 22.6, 23.35, 22.85, 18.7, 13.45, 9.25, 7.1, 7.3, 15.222, 15.313, 14.583, 14.11, 13.189, 12.806, 12.253, 12.229, 13.458, 17.922, 19.177, 17.827, 13.226, 13.013, 13.46, 14.97, 15.245, 14.602, 14.017, 13.585, 13.406, 14.205, 16.844, 18.242, 19.674, 19.584, 19.487, 18.584, 17.428, 16.411, 14.962, 13.177, 12.282, 11.556, 11.769, 12.322, 13.144, 15.21, 16.358, 16.326, 17.409, 19.977, 21.143, 20.17, 16.27, 13.579, 9.822, 7.629, 6.898, 6.442, 6.54, 6.905, 7.075, 8.125, 9.324, 10.984, 11.75, 11.734, 11.383, 10.89, 11.329, 12.872, 14.28, 16.044, 15.111, 13.842, 11.49, 11.084, 10.638, 10.866, 10.402, 10.628, 9.993, 9.993, 9.48, 8.933, 8.487, 8.527, 8.551, 9.098, 10.524, 11.687, 12.667, 12.748, 12.49, 12.006, 11.64, 12.872, 13.719, 14.037, 12.649, 11.727, 11.133, 10.98, 10.213, 9.7, 9.289, 9.743, 10.127, 8.905, 8.905, 6.504, 4.388, 5.926, 17.369, 27.246, 27.267, 20.627, 14.587, 13.462, 12.719, 12.67, 11.446, 11.073, 13.499, 17.55, 21.452, 23.636, 21.519, 17.839, 12.376, 9.483, 7.522, 7.393, 7.403, 7.386, 7.483, 8.404, 8.381, 9.3, 11.256, 15.28, 16.331, 17.43, 19.691, 24.702, 24.214, 19.402, 13.545, 9.412, 7.409, 6.18, 5.097, 4.592, 4.192, 4.459, 4.723, 5.977, 6.645, 6.643, 6.138, 5.014, 3.713, 2.873, 2.774, 3.841, 4.99, 6.93, 9.299, 12.49, 15.422, 15.822, 13.82, 10.4, 8.614, 8.905, 12.491, 17.206, 20.333, 18.754, 16.059, 13.315, 12.809, 10.888, 9.502, 8.337, 9.908, 20.658, 26.186, 26.344, 17.847, 11.731, 9.936, 11.411, 12.506, 10.917, 9.19, 7.566, 7.566, 6.48, 5.541, 4.889, 5.067, 6.088, 6.685, 6.089, 4.739, 3.767, 4.372, 4.611, 4.144, 3.632, 4.397, 6.675, 10.013, 12.424, 13.809, 13.663, 13.462, 13.643, 12.73, 12.404, 11.621, 11.417, 10.498, 10.18, 10.254, 11.018, 11.692, 12.036, 11.701, 11.425, 11.783, 12.897, 13.997, 14.406, 17.231, 20.171, 20.61, 17.256, 13.151, 12.337, 13.2, 14.221, 13.538, 12.112, 11.133, 9.831, 8.994, 7.641, 8.281, 11.293, 14.943, 16.355, 14.334, 11.491, 9.773, 9.236, 9.236, 10.481, 11.596, 12.898, 12.294, 10.856, 8.959, 8.036, 7.922, 8.534, 9.171, 9.456, 10.032, 13.167, 20.311, 25.587, 23.489, 17.245, 11.225, 6.67, 6.483, 6.524, 6.449, 7.108, 7.124, 6.756, 5.608, 8.29, 15.084, 22.478, 24.017, 23.609, 23.827, 24.357, 23.544, 20.059, 17.813, 17.024, 17.326, 17.955, 17.955, 17.962, 18.053, 17.524, 17.166, 17.392, 16.153, 13.26, 9.112, 7.153, 8.17, 11.154, 14.104, 15.703, 16.154, 15.69, 15.982, 16.374, 16.867, 16.387, 15.672, 15.672, 15.191, 14.264, 13.528, 12.349, 12.242, 11.796, 10.591, 9.123, 8.805, 11.586, 14.888, 16.974, 18.862, 17.347, 16.233, 15.259, 16.416, 17.188, 16.546, 16.803, 18.296, 19.762, 19.253, 18.242, 16.54, 16.841, 16.725, 17.14, 15.665, 14.443, 13.076, 13.159, 12.97, 13.265, 12.799, 13.158, 13.523, 13.484, 13.598, 13.188, 13.883, 15.299, 17.865, 18.152, 17.209, 16.955, 19.023, 15.26, 11.14, 6.748, 6.947, 7.059, 7.534, 7.476, 7.41, 6.864, 7.727, 8.687, 10.374, 12.005, 12.435, 12.703, 12.825, 13.132, 12.384, 10.228, 8.11, 6.809, 7.696, 8.614, 8.38, 6.443, 5.181, 4.333, 4.567, 4.959, 5.889, 6.181, 6.744, 6.516, 6.04, 5.191, 7.036, 9.037, 10.644, 10.976, 9.753, 8.738, 7.712, 7.272, 7.033, 7.147, 8.019, 8.622, 8.728, 8.029, 8.005, 7.726, 8.134, 8.249, 8.249, 8.231, 8.248, 8.022, 8.329, 13.11, 12.3, 11.79, 11.325, 11.165, 10.535, 10.04, 8.545, 8.545, 7.73, 8.195, 10.29, 8.2, 7.25, 6.8, 6.95, 8.65, 11.3, 12.242, 12.128, 12.512, 13.074, 13.229, 12.376, 11.17, 9.721, 9.076, 8.284, 17.218, 18.34, 18.512, 19.239, 19.15, 19.006, 17.824, 17.336, 17.302, 17.512, 16.861, 15.851, 15.214, 15.857, 16.273, 16.99, 17.585, 19.158, 19.453, 18.688, 18.165, 17.719, 17.424, 16.536, 16.138, 15.764, 15.601, 16.106, 16.527, 16.266, 15.42, 13.491, 11.536, 9.67, 8.876, 7.995, 6.959, 9.67, 2.8, 3.905, 11.0, 12.55, 11.95, 11.15, 11.45, 11.6, 11.35, 11.1, 10.8, 10.75, 10.45, 10.05, 10.45, 10.4, 9.85, 8.65, 7.75, 7.05, 7.1, 7.4, 7.5, 7.45, 7.85, 8.25, 8.85, 9.65, 10.65, 11.4, 12.45, 13.45, 14.35, 14.1, 11.55, 11.0, 15.8, 21.4, 24.25, 22.85, 17.25, 15.6, 14.35, 11.45, 8.8, 7.95, 10.7, 12.55, 12.95, 11.85, 10.95, 11.2, 12.1, 12.8, 12.75, 12.55, 12.4, 12.35, 13.15, 13.55, 13.5, 12.5, 9.4, 6.3, 4.6, 4.35, 5.75, 7.65, 9.65, 9.85, 8.55, 6.25, 4.65, 4.1, 4.8, 6.65, 8.65, 10.1, 11.25, 12.1, 12.4, 12.7, 12.9, 13.25, 13.5, 13.75, 13.8, 14.35, 14.8, 14.5, 14.75, 14.9, 15.1, 14.8, 14.15, 12.95, 11.65, 11.4, 10.95, 10.5, 10.6, 10.45, 10.25, 10.8, 11.45, 12.0, 12.8, 13.75, 13.85, 13.9, 14.45, 14.8, 15.2, 14.65, 12.45, 9.45, 7.1, 5.45, 4.35, 3.45, 3.65, 4.55, 5.95, 8.1, 14.2, 21.35, 28.2, 31.65, 30.2, 24.4, 18.45, 10.55, 9.3, 8.0, 9.45, 10.1, 10.7, 11.2, 11.25, 11.25, 10.65, 10.5, 9.9, 9.45, 8.85, 8.6, 8.45, 8.35, 8.85, 9.95, 10.75, 11.0, 11.4, 12.6, 15.3, 19.4, 20.6, 18.6, 13.05, 13.05, 9.55, 8.55, 8.05, 7.6, 7.1, 6.35, 5.85, 6.0, 7.05, 9.2, 10.25, 10.85, 9.9, 8.65, 8.0, 8.9, 9.1, 8.8, 7.9, 6.8, 6.2, 5.45, 4.95, 5.3, 6.4, 8.15, 10.25, 11.95, 12.75, 12.95, 12.25, 10.65, 8.35, 7.3, 7.9, 8.9, 8.9, 14.45, 19.65, 25.15, 28.7, 28.35, 24.5, 19.35, 14.1, 16.85, 20.15, 21.15, 21.15, 18.05, 13.7, 10.25, 10.3, 11.75, 12.2, 11.7, 10.25, 7.7, 5.7, 6.4, 8.45, 11.45, 14.45, 16.1, 16.2, 15.65, 14.65, 13.35, 11.2, 8.4, 6.3, 4.95, 4.7, 6.2, 8.5, 9.0, 9.4, 14.75, 18.95, 22.15, 21.65, 17.85, 12.25, 12.45, 11.95, 11.45, 10.65, 11.1, 10.85, 11.6, 11.75, 12.1, 12.85, 13.9, 14.1, 13.3, 13.3, 12.45, 8.5, 6.7, 6.05, 5.95, 6.85, 8.05, 9.8, 12.3, 14.55, 14.85, 12.7, 10.55, 9.5, 9.7, 10.35, 10.75, 11.4, 11.5, 10.65, 9.65, 8.85, 8.8, 9.5, 10.05, 10.8, 11.35, 13.5, 15.1, 13.75, 10.65, 7.3, 7.7, 7.75, 6.4, 5.75, 6.25, 6.5, 6.35, 6.65, 7.25, 8.85, 11.5, 14.95, 19.0, 20.6, 21.8, 20.9, 19.9, 19.8, 20.05, 20.1, 21.7, 23.0, 22.9, 22.9, 20.6, 15.0, 9.95, 7.95, 6.95, 6.95, 6.2, 5.35, 4.7, 4.15, 3.1, 2.6, 3.3, 5.5, 7.95, 9.8, 10.7, 12.2, 14.35, 16.4, 17.3, 17.45, 17.75, 17.6, 16.65, 15.95, 14.9, 14.35, 14.95, 16.1, 17.45, 18.3, 17.55, 15.2, 11.6, 8.25, 5.85, 4.6, 4.8, 5.05, 5.9, 10.15, 15.0, 17.75, 20.7, 19.6, 18.25, 18.05, 18.35, 18.6, 19.3, 19.55, 19.35, 17.9, 15.75, 13.6, 12.6, 13.5, 14.6, 16.7, 16.7, 16.6, 16.15, 15.7, 13.95, 13.0, 11.3, 12.1, 12.15, 12.55, 12.8, 15.8, 19.5, 21.45, 23.15, 23.15, 21.65, 21.25, 19.95, 17.95, 20.65, 21.65, 20.55, 15.3, 9.0, 6.1, 7.0, 7.0, 6.1, 5.75, 6.25, 7.85, 9.9, 10.75, 9.9, 8.95, 8.55, 8.45, 8.1, 6.85, 6.0, 5.1, 4.95, 5.75, 6.8, 7.4, 7.05, 5.45, 4.6, 4.4, 4.7, 5.65, 6.4, 7.05, 7.15, 7.4, 7.45, 6.65, 5.7, 5.5, 5.75, 6.6, 6.85, 7.25, 7.85, 8.3, 9.0, 9.45, 8.0, 6.15, 4.0, 2.4, 2.3, 2.7, 3.1, 5.1, 7.7, 9.95, 11.4, 12.25, 13.3, 15.15, 15.85, 16.05, 16.85, 16.05, 12.5, 8.0, 5.45, 4.85, 4.85, 7.2, 12.174, 13.286, 13.212, 13.547, 12.252, 11.332, 11.114, 14.746, 18.202, 17.961, 14.769, 11.998, 10.809, 11.025, 11.776, 12.485, 13.312, 13.527, 10.182, 4.835, 5.318, 4.788, 5.285, 5.676, 6.217, 6.599, 6.306, 5.214, 4.88, 9.982, 18.863, 22.157, 20.595, 19.935, 20.96, 19.02, 14.808, 11.595, 9.082, 7.466, 7.133, 6.953, 7.37, 8.225, 9.266, 10.511, 12.247, 12.54, 13.175, 13.792, 12.367, 10.493, 10.471, 11.041, 11.303, 9.519, 7.413, 7.087, 7.672, 9.379, 9.893, 10.965, 11.909, 10.581, 8.302, 6.058, 6.581, 6.819, 6.827, 6.547, 6.123, 6.032, 5.952, 6.296, 5.489, 4.725, 3.419, 3.573, 3.784, 4.264, 5.007, 5.952, 6.979, 7.177, 7.25, 7.25, 7.11, 7.704, 8.566, 9.755, 10.512, 10.585, 10.713, 10.68, 10.078, 9.369, 8.94, 9.558, 10.16, 9.657, 8.037, 5.805, 5.805, 3.988, 3.124, 3.525, 4.445, 4.445, 5.472, 6.686, 6.125, 7.041, 14.152, 32.404, 40.027, 42.174, 41.299, 42.571, 38.223, 27.967, 18.282, 9.983, 9.022, 9.446, 10.646, 11.021, 12.573, 23.547, 38.745, 40.768, 33.469, 21.104, 16.468, 19.151, 27.683, 27.606, 21.854, 11.783, 6.756, 3.393, 5.643, 6.546, 8.821, 8.231, 8.33, 7.71, 7.924, 8.461, 8.28, 8.597, 8.172, 7.726, 6.548, 5.668, 6.151, 5.962, 6.14, 6.033, 8.412, 9.578, 10.276, 9.323, 9.387, 9.266, 8.55, 10.849, 22.896, 39.427, 45.231, 46.692, 42.934, 44.249, 48.464, 52.369, 46.605, 40.175, 32.941, 37.75, 34.037, 24.016, 16.706, 11.704, 12.82, 12.641, 12.242, 12.128, 12.512, 13.074, 13.229, 12.376, 11.17, 9.721, 9.076, 8.284, 8.388, 8.656, 11.75, 15.545, 19.456, 20.939, 21.876, 22.291, 20.095, 16.227, 12.096, 11.223, 11.106, 10.764, 9.68, 11.139, 13.485, 15.173, 15.842, 14.082, 13.657, 11.173, 10.252, 12.681, 26.781, 36.008, 36.008, 36.7, 27.272, 18.133, 11.868, 10.41, 10.148, 8.803, 8.868, 9.267, 9.222, 8.26, 4.947, 3.758, 3.351, 5.478, 6.635, 8.387, 9.184, 10.806, 12.669, 12.937, 11.751, 9.412, 8.606, 8.067, 8.679, 8.917, 10.595, 20.624, 35.378, 19.434, 12.196, 11.281, 11.698, 11.453, 10.175, 9.017, 7.078, 5.275, 3.612, 3.775, 4.273, 7.36, 11.112, 14.534, 4.739, 6.056, 8.115, 10.777, 12.04, 13.297, 14.322, 15.716, 16.89, 16.239, 14.716, 13.96, 13.739, 14.874, 16.118, 17.218, 18.34, 18.512, 19.239, 19.15, 19.006, 17.824, 17.336, 17.302, 17.512, 16.861, 15.851, 15.214, 15.857, 16.273, 16.99, 17.585, 19.158, 19.453, 18.688, 18.165, 17.719, 17.424, 16.536, 16.138, 15.764, 15.601, 16.106, 16.527, 16.266, 15.42, 13.491, 11.536, 9.67, 8.876, 7.995, 6.959, 9.67, 8.876, 7.995, 6.959, 6.225, 4.896, 3.813, 3.565, 3.565, 5.302, 7.965, 10.874, 12.286, 12.63, 19.217, 34.884, 48.597, 49.787, 40.316, 38.69, 38.486, 38.574, 37.294, 34.093, 31.412, 29.545, 28.983, 32.479, 33.936, 32.261, 24.888, 11.419, 10.704, 9.848, 10.746, 10.657, 13.908, 36.031, 39.583, 38.633, 39.556, 53.678, 47.721, 35.162, 19.653, 9.48, 4.838, 3.037, 2.8, 3.905, 5.72, 6.707, 6.104, 5.159, 4.957, 5.006, 5.382, 5.055, 4.739, 3.533, 3.337, 4.051, 5.893, 6.503, 5.958, 5.936, 5.978, 6.605, 6.27, 5.871, 4.479, 2.686, 2.32, 2.937, 5.013, 6.445, 7.325, 7.465, 7.541, 7.295, 7.149, 7.254, 8.013, 8.013, 7.708, 6.668]\n",
            "\n"
          ]
        }
      ]
    },
    {
      "cell_type": "code",
      "source": [
        "# PHIND value < 10.612000000000002 will statistically infere low density reading which indicates the presence of oil and gas.\n",
        "# PHIND value > 10.612000000000002 will statistically infere high density reading which indicates the less/no possibility of presence of oil and gas."
      ],
      "metadata": {
        "id": "CoA1Bamn54o_"
      },
      "execution_count": null,
      "outputs": []
    },
    {
      "cell_type": "markdown",
      "source": [
        "## **PE**\n"
      ],
      "metadata": {
        "id": "Spp5GWId6UI1"
      }
    },
    {
      "cell_type": "code",
      "source": [
        "df['PE']"
      ],
      "metadata": {
        "colab": {
          "base_uri": "https://localhost:8080/"
        },
        "id": "Ep95U9sP6bqz",
        "outputId": "3c558c87-ad6d-4701-ca88-67e3208d913e"
      },
      "execution_count": null,
      "outputs": [
        {
          "output_type": "execute_result",
          "data": {
            "text/plain": [
              "0       4.600\n",
              "1       4.100\n",
              "2       3.600\n",
              "3       3.500\n",
              "4       3.400\n",
              "        ...  \n",
              "3227    3.617\n",
              "3228    3.344\n",
              "3229    3.190\n",
              "3230    3.152\n",
              "3231    3.295\n",
              "Name: PE, Length: 3232, dtype: float64"
            ]
          },
          "metadata": {},
          "execution_count": 59
        }
      ]
    },
    {
      "cell_type": "code",
      "source": [
        "max_PE = df['PE'].max()\n",
        "min_PE = df['PE'].min()"
      ],
      "metadata": {
        "id": "WHnVKc6G7gGj"
      },
      "execution_count": null,
      "outputs": []
    },
    {
      "cell_type": "code",
      "source": [
        "max_PE"
      ],
      "metadata": {
        "colab": {
          "base_uri": "https://localhost:8080/"
        },
        "id": "nQZA3yoQ7mGI",
        "outputId": "fa10aa0c-5fcd-45d7-f703-8b3e886f8bba"
      },
      "execution_count": null,
      "outputs": [
        {
          "output_type": "execute_result",
          "data": {
            "text/plain": [
              "8.094"
            ]
          },
          "metadata": {},
          "execution_count": 61
        }
      ]
    },
    {
      "cell_type": "code",
      "source": [
        "min_PE"
      ],
      "metadata": {
        "colab": {
          "base_uri": "https://localhost:8080/"
        },
        "id": "5tqrsUC_7ngI",
        "outputId": "13393634-aeb5-48ad-edd4-b2b433f85826"
      },
      "execution_count": null,
      "outputs": [
        {
          "output_type": "execute_result",
          "data": {
            "text/plain": [
              "0.2"
            ]
          },
          "metadata": {},
          "execution_count": 62
        }
      ]
    },
    {
      "cell_type": "code",
      "source": [
        "range_PE = max_PE - min_PE\n",
        "print(f\"The range of PE is {range_PE}.\")"
      ],
      "metadata": {
        "colab": {
          "base_uri": "https://localhost:8080/"
        },
        "id": "nnl6tpqp7pd1",
        "outputId": "b76e757a-ed4f-4cf4-acd7-f08192de5a79"
      },
      "execution_count": null,
      "outputs": [
        {
          "output_type": "stream",
          "name": "stdout",
          "text": [
            "The range of PE is 7.893999999999999.\n"
          ]
        }
      ]
    },
    {
      "cell_type": "code",
      "source": [
        "std_dev_PE = df['PE'].std()\n",
        "print(f\"The standard deviation of PE is {std_dev_PE}.\")"
      ],
      "metadata": {
        "colab": {
          "base_uri": "https://localhost:8080/"
        },
        "id": "4bW7ZxtH7yji",
        "outputId": "d43f686d-4fe2-4697-b96a-fe5c3d57bb01"
      },
      "execution_count": null,
      "outputs": [
        {
          "output_type": "stream",
          "name": "stdout",
          "text": [
            "The standard deviation of PE is 0.8961521949634139.\n"
          ]
        }
      ]
    },
    {
      "cell_type": "code",
      "source": [
        "variance_PE = df['PE'].var()\n",
        "print(f\"The variance of PE is {variance_PE}.\")"
      ],
      "metadata": {
        "colab": {
          "base_uri": "https://localhost:8080/"
        },
        "id": "SJiohEEI74wT",
        "outputId": "17ae3088-e86b-4799-f2d8-8e0b148e95ad"
      },
      "execution_count": null,
      "outputs": [
        {
          "output_type": "stream",
          "name": "stdout",
          "text": [
            "The variance of PE is 0.8030887565377447.\n"
          ]
        }
      ]
    },
    {
      "cell_type": "code",
      "source": [
        "column_PE = df['PE']"
      ],
      "metadata": {
        "id": "ahhk-1XB8Fu4"
      },
      "execution_count": null,
      "outputs": []
    },
    {
      "cell_type": "code",
      "source": [
        "plt.hist(column_PE, bins=50, color='blue', edgecolor='black')\n",
        "plt.xlabel('PE')\n",
        "plt.ylabel('Frequency')\n",
        "plt.title('Histogram of PE')\n",
        "plt.show()"
      ],
      "metadata": {
        "colab": {
          "base_uri": "https://localhost:8080/",
          "height": 295
        },
        "id": "6qrheRTa8MFr",
        "outputId": "a61f0d58-711b-4ce7-f1d6-8fb6af22178f"
      },
      "execution_count": null,
      "outputs": [
        {
          "output_type": "display_data",
          "data": {
            "text/plain": [
              "<Figure size 432x288 with 1 Axes>"
            ],
            "image/png": "[encoded data removed]"
          },
          "metadata": {
            "needs_background": "light"
          }
        }
      ]
    },
    {
      "cell_type": "code",
      "source": [
        "peaks_PE, _ = find_peaks(np.histogram(column_PE, bins=50)[0], distance=1)\n",
        "peaks_PE"
      ],
      "metadata": {
        "colab": {
          "base_uri": "https://localhost:8080/"
        },
        "id": "D4nMja9V8SqA",
        "outputId": "8a2fc45d-0d7e-421f-d6cd-364ec04f3ac9"
      },
      "execution_count": null,
      "outputs": [
        {
          "output_type": "execute_result",
          "data": {
            "text/plain": [
              "array([ 2,  4,  8, 10, 13, 15, 19, 22, 24, 27, 34, 38, 41, 44, 46])"
            ]
          },
          "metadata": {},
          "execution_count": 68
        }
      ]
    },
    {
      "cell_type": "code",
      "source": [
        "threshold_PE = np.histogram(column_PE, bins=50)[1][peaks_PE[6]]\n",
        "threshold_PE"
      ],
      "metadata": {
        "colab": {
          "base_uri": "https://localhost:8080/"
        },
        "id": "9KOnpcjR8hiz",
        "outputId": "f57f68b9-d855-4876-e1af-a866154d4136"
      },
      "execution_count": null,
      "outputs": [
        {
          "output_type": "execute_result",
          "data": {
            "text/plain": [
              "3.19972"
            ]
          },
          "metadata": {},
          "execution_count": 69
        }
      ]
    },
    {
      "cell_type": "code",
      "source": [
        "import numpy as np\n",
        "data = column_PE\n",
        "# Define a function to remove outliers\n",
        "def remove_outliers(column, threshold=3.19972):\n",
        "    \"\"\"\n",
        "    Remove outliers from the data using the specified threshold.\n",
        "    \"\"\"\n",
        "    data_mean = np.mean(column)\n",
        "    data_std = np.std(column)\n",
        "    cutoff = data_std * threshold\n",
        "    lower, upper = data_mean - cutoff, data_mean + cutoff\n",
        "    outliers = [x for x in column if x < lower or x > upper]\n",
        "    return [x for x in column if x >= lower and x <= upper], outliers\n",
        "\n",
        "\n",
        "data, outliers = remove_outliers(data, threshold=3.19972)\n",
        "\n",
        "# Print the results\n",
        "# print(f\"Data with outliers:\\n{data}\\n\")\n",
        "print(f\"Outliers:\\n{outliers}\\n\")\n",
        "print(f\"Data without outliers:\\n{data}\\n\")\n"
      ],
      "metadata": {
        "colab": {
          "base_uri": "https://localhost:8080/"
        },
        "id": "k7Q-Ypc-9Cqu",
        "outputId": "1e0c75f5-5fc0-4f7e-b566-293a355c4b3e"
      },
      "execution_count": null,
      "outputs": [
        {
          "output_type": "stream",
          "name": "stdout",
          "text": [
            "Outliers:\n",
            "[0.2, 0.833, 0.852, 0.646, 8.063, 7.172, 7.652, 7.598, 6.941, 6.711, 8.094, 6.902, 6.742, 7.652, 7.598, 6.941, 6.711, 8.094, 6.902, 6.742]\n",
            "\n",
            "Data without outliers:\n",
            "[4.6, 4.1, 3.6, 3.5, 3.4, 3.6, 3.7, 3.5, 3.4, 3.5, 3.6, 3.7, 3.5, 3.4, 3.2, 3.1, 3.1, 3.0, 2.9, 2.8, 3.0, 3.0, 3.0, 3.0, 3.0, 3.0, 3.0, 3.0, 3.1, 3.0, 3.1, 3.1, 3.1, 3.2, 3.4, 4.6, 4.1, 3.5, 3.2, 3.2, 3.3, 3.3, 3.3, 3.5, 4.0, 5.0, 5.5, 5.6, 5.5, 5.4, 5.4, 5.4, 5.5, 4.9, 4.5, 4.3, 4.1, 4.3, 4.3, 4.4, 4.0, 3.9, 3.7, 3.7, 4.5, 5.1, 5.5, 5.6, 5.4, 5.3, 5.3, 5.2, 5.6, 5.6, 6.1, 6.2, 5.8, 5.7, 5.5, 5.4, 5.3, 4.9, 4.7, 4.6, 4.6, 4.8, 4.6, 4.7, 4.6, 4.7, 5.0, 5.4, 5.5, 5.7, 4.0, 3.3, 2.8, 2.7, 2.9, 3.5, 4.2, 4.2, 3.9, 3.9, 3.9, 3.8, 3.7, 3.6, 3.6, 3.4, 3.5, 3.4, 3.5, 3.5, 3.3, 3.1, 2.8, 2.8, 2.9, 2.9, 2.9, 3.0, 3.0, 3.2, 3.4, 3.8, 3.5, 3.3, 3.1, 3.3, 3.7, 3.6, 3.1, 3.1, 3.5, 4.6, 4.8, 4.7, 4.6, 5.1, 5.4, 5.9, 6.1, 6.0, 5.8, 5.6, 5.6, 5.7, 5.7, 5.9, 5.1, 4.6, 3.9, 3.6, 3.4, 3.3, 3.5, 3.6, 3.9, 3.9, 3.9, 3.8, 3.7, 3.8, 3.7, 4.0, 4.1, 4.3, 4.4, 4.4, 4.3, 4.2, 4.0, 3.7, 3.7, 3.2, 3.0, 2.8, 2.9, 3.6, 5.0, 5.8, 6.2, 6.3, 6.2, 5.9, 5.8, 5.8, 5.7, 5.7, 5.5, 5.6, 5.6, 5.4, 4.7, 4.0, 3.6, 3.6, 3.7, 3.7, 3.7, 3.5, 3.4, 3.3, 3.3, 3.3, 3.2, 3.3, 3.2, 3.2, 3.2, 3.3, 3.3, 3.3, 3.4, 3.3, 3.3, 3.3, 3.5, 3.5, 3.5, 3.5, 3.3, 3.2, 3.2, 3.7, 4.8, 5.2, 5.4, 5.2, 5.2, 5.3, 5.5, 5.7, 5.7, 5.6, 5.1, 4.0, 3.6, 3.3, 3.5, 3.4, 3.4, 3.4, 3.3, 3.4, 3.3, 3.3, 3.2, 3.3, 3.2, 3.2, 3.0, 3.0, 3.1, 3.2, 3.3, 3.3, 3.2, 3.2, 3.2, 3.4, 3.5, 3.2, 3.1, 3.4, 4.7, 5.9, 5.7, 5.7, 5.8, 5.6, 5.3, 5.0, 4.2, 3.6, 3.1, 3.2, 3.4, 3.2, 3.2, 3.1, 3.3, 3.2, 3.2, 3.2, 3.4, 3.7, 3.9, 3.8, 3.3, 3.4, 4.0, 5.0, 5.0, 5.3, 6.0, 6.1, 5.6, 5.1, 5.0, 4.8, 4.8, 5.1, 5.3, 5.7, 5.7, 5.7, 5.7, 5.5, 4.7, 4.2, 3.6, 3.3, 3.2, 3.2, 3.5, 3.6, 3.7, 3.7, 3.7, 3.6, 3.6, 3.5, 3.5, 3.6, 3.8, 4.1, 4.3, 4.2, 4.1, 4.0, 4.0, 3.9, 3.9, 3.8, 4.0, 4.0, 3.9, 3.9, 3.9, 4.2, 4.2, 3.9, 3.6, 3.4, 3.4, 3.6, 3.7, 3.8, 3.9, 3.8, 3.9, 3.8, 4.0, 3.9, 3.9, 3.9, 4.0, 3.9, 3.8, 3.7, 3.8, 3.7, 3.9, 3.7, 3.6, 3.3, 3.7, 4.4, 5.5, 5.2, 5.0, 5.1, 5.2, 5.4, 5.4, 5.0, 4.5, 4.0, 4.3, 4.7, 4.8, 5.0, 5.1, 5.2, 4.8, 4.3, 4.0, 4.0, 4.1, 4.3, 4.4, 4.3, 4.2, 4.0, 4.2, 4.3, 4.5, 4.2, 4.2, 4.4, 4.0, 4.0, 3.8, 4.1, 4.3, 4.4, 4.5, 4.6, 4.6, 4.5, 4.3, 4.2, 4.2, 4.5, 4.6, 4.8, 4.7, 4.6, 4.3, 4.5, 4.8, 5.1, 5.0, 4.9, 4.9, 4.7, 4.6, 4.7, 4.8, 4.8, 4.7, 4.5, 4.5, 4.6, 5.0, 5.2, 5.1, 4.8, 4.7, 4.6, 4.4, 4.3, 4.3, 4.4, 4.1, 4.1, 4.9, 5.0, 5.1, 5.2, 5.3, 5.3, 5.4, 5.4, 5.5, 5.3, 5.3, 5.6, 5.7, 5.8, 5.5, 5.4, 5.5, 5.4, 5.4, 5.5, 5.4, 5.8, 5.8, 2.9, 3.2, 3.2, 3.4, 3.4, 3.5, 3.3, 3.3, 3.2, 3.2, 3.2, 3.2, 3.0, 3.0, 3.2, 3.4, 3.4, 3.2, 3.1, 2.9, 2.8, 2.7, 2.6, 2.6, 2.6, 2.7, 2.7, 2.7, 2.8, 2.8, 2.8, 2.7, 2.7, 2.8, 2.8, 2.7, 2.5, 2.4, 2.3, 2.3, 2.4, 2.4, 2.4, 2.5, 2.6, 2.6, 2.6, 2.6, 2.8, 3.0, 2.9, 2.8, 2.7, 2.6, 2.4, 2.4, 2.5, 3.0, 3.2, 2.5, 2.1, 1.9, 2.3, 2.3, 5.0, 4.5, 4.1, 3.6, 3.5, 3.6, 3.7, 4.1, 4.7, 5.2, 5.4, 5.1, 4.7, 4.7, 4.7, 4.8, 4.7, 4.9, 4.9, 4.9, 4.7, 4.5, 4.0, 4.0, 3.9, 4.0, 3.6, 3.8, 4.0, 4.8, 4.8, 4.9, 5.0, 4.8, 4.6, 4.3, 3.7, 3.3, 3.2, 2.8, 2.4, 2.1, 2.0, 2.1, 2.2, 2.6, 2.6, 2.5, 2.3, 2.5, 2.3, 2.4, 2.3, 3.4, 4.2, 4.2, 4.2, 4.0, 4.0, 3.8, 3.6, 3.4, 3.3, 3.2, 3.3, 3.3, 3.2, 3.0, 3.0, 3.1, 3.2, 3.2, 3.3, 3.5, 3.5, 3.3, 2.9, 2.8, 2.7, 2.9, 3.0, 2.6, 2.5, 2.4, 3.1, 2.5, 2.1, 1.8, 3.6, 3.6, 3.9, 3.9, 3.8, 4.0, 4.4, 4.8, 3.3, 2.4, 1.8, 1.5, 2.4, 3.0, 3.1, 3.3, 3.3, 3.3, 3.2, 3.1, 3.2, 3.2, 3.5, 3.5, 3.6, 3.6, 3.8, 3.7, 2.9, 2.5, 2.0, 2.8, 3.5, 3.6, 3.5, 3.2, 2.8, 2.4, 2.2, 2.5, 3.2, 3.5, 4.1, 4.8, 4.7, 4.0, 3.5, 3.4, 3.3, 3.5, 3.5, 3.4, 3.3, 3.3, 3.5, 3.6, 3.5, 3.3, 3.0, 2.8, 2.8, 2.7, 2.7, 2.7, 2.6, 2.7, 2.7, 2.8, 3.0, 3.1, 3.3, 3.3, 3.1, 2.9, 2.7, 2.7, 2.6, 2.6, 2.5, 2.6, 2.6, 2.7, 2.6, 2.6, 2.7, 3.0, 2.6, 2.5, 2.2, 2.0, 3.2, 3.1, 2.9, 2.8, 2.9, 3.0, 3.0, 2.9, 2.8, 2.9, 2.9, 2.9, 2.7, 2.7, 2.7, 2.8, 2.8, 2.9, 2.8, 2.8, 2.7, 2.7, 2.7, 2.7, 2.8, 2.7, 2.6, 2.6, 2.8, 2.7, 2.6, 2.6, 2.6, 2.7, 2.8, 2.8, 2.8, 2.8, 3.0, 3.1, 3.3, 3.2, 2.4, 2.1, 1.9, 1.9, 2.0, 2.0, 4.4, 4.1, 3.7, 3.3, 3.4, 2.5, 2.2, 2.4, 2.6, 2.6, 2.7, 2.6, 2.5, 2.3, 2.3, 2.6, 2.9, 3.0, 3.0, 3.0, 3.0, 3.0, 3.0, 3.1, 3.4, 4.0, 4.2, 4.3, 4.3, 4.4, 4.6, 4.7, 4.8, 4.7, 4.7, 4.7, 4.9, 4.5, 3.8, 2.3, 2.8, 2.7, 2.6, 2.6, 2.9, 3.2, 3.3, 3.2, 3.2, 3.0, 3.2, 3.1, 3.1, 2.9, 3.0, 3.0, 2.8, 2.8, 3.3, 3.3, 3.1, 2.7, 2.5, 2.8, 3.1, 3.3, 3.0, 2.9, 3.1, 3.3, 3.2, 3.2, 3.1, 2.9, 2.7, 2.9, 3.3, 3.6, 3.1, 2.8, 2.4, 3.0, 3.3, 3.2, 2.9, 2.9, 2.9, 2.5, 2.1, 1.8, 1.8, 4.6, 4.0, 3.6, 3.5, 3.6, 3.7, 3.8, 3.9, 3.6, 3.2, 2.9, 2.9, 2.9, 2.9, 2.8, 2.8, 3.0, 3.3, 3.3, 3.2, 3.2, 3.3, 3.4, 3.4, 3.6, 3.3, 3.4, 3.4, 3.5, 3.4, 3.4, 3.3, 3.4, 3.3, 3.6, 3.7, 3.7, 3.5, 3.4, 3.5, 3.6, 3.6, 3.7, 3.8, 3.9, 4.1, 4.1, 4.3, 4.2, 4.2, 3.9, 4.0, 4.0, 4.1, 4.2, 4.1, 4.1, 4.1, 4.3, 4.4, 4.5, 4.6, 4.8, 5.1, 4.8, 4.8, 4.5, 4.5, 4.084, 3.501, 3.4, 3.4, 3.4, 3.5, 3.6, 3.7, 3.7, 3.7, 3.7, 3.5, 3.3, 3.3, 3.4, 3.6, 3.4, 3.0, 2.8, 2.6, 2.4, 2.5, 2.8, 3.0, 3.3, 3.5, 3.4, 3.4, 3.4, 3.4, 3.6, 3.6, 3.5, 3.3, 3.2, 3.1, 3.1, 3.1, 3.1, 3.1, 3.1, 3.1, 3.1, 3.1, 3.1, 3.2, 3.2, 3.2, 3.2, 3.1, 3.1, 3.1, 3.1, 3.2, 3.4, 3.9, 4.4, 4.8, 4.9, 4.8, 4.6, 4.4, 3.8, 3.6, 3.6, 3.7, 3.8, 3.9, 4.0, 4.1, 4.1, 4.1, 4.1, 4.0, 4.0, 3.9, 3.7, 3.7, 3.6, 3.6, 3.6, 3.8, 4.4, 5.0, 5.0, 4.8, 4.6, 4.3, 4.1, 3.9, 3.8, 3.8, 3.7, 3.7, 3.6, 3.6, 3.4, 3.3, 3.4, 3.5, 3.6, 3.7, 3.8, 3.8, 3.8, 3.8, 3.6, 3.3, 3.2, 2.5, 2.8, 3.1, 3.3, 3.8, 3.9, 3.8, 3.8, 4.0, 4.0, 3.8, 3.6, 3.2, 3.1, 3.0, 2.9, 2.8, 2.7, 2.6, 2.6, 2.6, 2.6, 2.7, 2.8, 3.0, 3.1, 3.3, 3.6, 3.7, 3.6, 3.5, 3.3, 3.0, 3.0, 2.9, 2.9, 2.8, 2.8, 2.9, 2.9, 3.0, 3.1, 3.1, 3.2, 3.2, 3.3, 3.4, 3.5, 3.6, 3.3, 3.4, 3.6, 3.9, 4.5, 4.2, 3.6, 3.4, 3.5, 3.6, 3.8, 4.1, 4.7, 4.9, 4.7, 4.5, 4.3, 4.2, 4.3, 4.5, 4.6, 4.6, 4.5, 4.1, 3.6, 3.2, 3.1, 3.1, 3.2, 3.4, 3.6, 3.9, 4.1, 4.2, 4.0, 3.8, 3.7, 3.2, 2.6, 2.6, 2.7, 3.0, 3.4, 3.4, 3.3, 3.2, 3.4, 4.0, 4.7, 5.3, 5.8, 5.8, 5.6, 5.2, 5.1, 5.0, 5.0, 5.0, 5.0, 5.1, 5.1, 5.1, 5.1, 5.1, 5.1, 4.9, 4.4, 3.7, 3.3, 2.9, 2.6, 2.5, 2.4, 2.4, 2.4, 2.5, 2.7, 2.7, 2.8, 2.7, 2.6, 2.6, 2.6, 2.6, 2.6, 2.8, 3.0, 3.3, 3.5, 3.5, 3.4, 3.3, 3.4, 3.3, 3.2, 3.3, 3.4, 3.9, 4.0, 4.3, 4.6, 4.7, 4.7, 4.7, 4.4, 3.8, 3.6, 3.5, 3.4, 3.4, 3.3, 3.3, 3.3, 3.2, 3.2, 3.1, 3.2, 3.3, 3.3, 3.3, 3.2, 3.2, 3.1, 3.1, 3.3, 3.4, 3.5, 3.6, 3.4, 3.2, 3.2, 3.2, 3.5, 4.1, 4.7, 5.0, 4.8, 4.5, 3.8, 2.9, 2.6, 2.7, 2.9, 3.1, 3.0, 2.9, 2.8, 2.7, 2.6, 3.3, 3.8, 4.2, 4.3, 4.4, 4.5, 4.5, 4.5, 4.5, 4.5, 4.5, 4.4, 4.2, 3.9, 3.7, 3.6, 3.5, 3.5, 3.6, 3.8, 4.1, 4.2, 4.4, 4.5, 4.6, 4.7, 4.7, 4.7, 4.5, 4.4, 4.5, 4.7, 4.8, 4.7, 4.5, 4.5, 4.2, 3.9, 3.4, 3.2, 3.1, 3.0, 3.0, 3.1, 3.2, 3.2, 3.3, 3.3, 3.2, 3.2, 3.1, 3.1, 3.2, 3.2, 3.3, 3.3, 3.4, 3.4, 3.4, 3.4, 3.4, 3.3, 3.2, 3.1, 3.0, 3.0, 3.1, 3.4, 3.6, 3.7, 3.7, 3.7, 3.7, 3.7, 3.7, 3.7, 3.7, 3.7, 3.5, 3.3, 3.0, 2.9, 3.1, 3.3, 3.3, 3.1, 2.7, 1.8, 1.0, 3.4, 4.6, 4.6, 4.5, 4.3, 4.3, 4.5, 4.6, 4.6, 4.6, 4.5, 4.3, 4.3, 4.3, 4.2, 4.2, 4.3, 4.4, 4.4, 4.5, 4.7, 4.7, 4.8, 4.8, 4.7, 4.5, 4.2, 3.9, 3.8, 3.8, 3.9, 3.9, 3.8, 3.9, 3.9, 4.0, 4.3, 4.4, 4.5, 4.6, 4.6, 4.6, 4.4, 4.4, 4.3, 4.3, 4.3, 4.5, 4.7, 4.8, 4.7, 4.5, 3.9, 3.4, 2.7, 2.5, 2.4, 2.4, 2.4, 2.5, 2.7, 3.2, 3.8, 4.9, 3.631, 3.45, 3.364, 3.187, 3.099, 3.069, 3.077, 3.101, 3.078, 3.062, 3.074, 3.114, 3.133, 3.136, 3.173, 3.179, 3.121, 3.077, 3.058, 3.067, 3.105, 3.127, 3.154, 3.211, 3.281, 3.251, 3.167, 3.159, 3.119, 3.022, 2.928, 2.892, 2.892, 2.895, 2.886, 2.881, 2.838, 2.754, 2.686, 2.617, 2.574, 2.571, 2.556, 2.552, 2.514, 2.508, 2.516, 2.581, 2.589, 2.629, 2.694, 2.702, 2.694, 2.726, 2.769, 2.844, 2.892, 2.882, 2.892, 2.912, 2.835, 2.781, 2.777, 2.817, 2.74, 2.635, 2.662, 2.735, 2.956, 3.158, 3.099, 3.154, 3.277, 3.564, 3.996, 4.547, 4.857, 4.925, 4.86, 4.534, 4.305, 4.131, 3.967, 3.839, 3.898, 3.973, 3.683, 3.45, 3.427, 3.358, 3.343, 3.528, 3.841, 3.985, 4.171, 4.313, 4.365, 4.362, 4.305, 4.188, 4.147, 4.128, 4.203, 4.296, 4.436, 4.525, 4.633, 4.612, 4.6, 4.549, 4.442, 4.256, 4.001, 3.812, 3.542, 3.101, 0.99, 1.234, 1.787, 2.36, 2.806, 3.236, 3.542, 3.762, 3.803, 3.8, 3.776, 3.689, 3.693, 3.59, 3.598, 3.544, 3.731, 3.811, 3.675, 3.533, 3.564, 3.592, 3.575, 3.552, 3.482, 3.375, 3.292, 3.231, 3.301, 3.356, 3.364, 3.311, 3.228, 3.093, 2.925, 2.785, 2.723, 2.697, 2.653, 2.651, 2.657, 2.67, 2.648, 2.676, 2.674, 2.681, 2.74, 2.762, 2.776, 2.777, 2.773, 2.59, 2.293, 2.28, 2.339, 2.43, 2.664, 2.664, 3.032, 3.098, 3.151, 3.15, 3.231, 3.302, 3.384, 3.406, 3.459, 3.494, 3.587, 3.745, 3.903, 3.908, 3.23, 2.242, 2.479, 2.981, 3.099, 3.038, 3.029, 3.079, 3.138, 3.296, 3.46, 3.626, 3.726, 3.83, 3.856, 3.853, 3.875, 3.692, 3.626, 3.605, 3.543, 3.551, 3.511, 3.498, 3.473, 3.479, 3.528, 3.561, 3.626, 3.652, 3.594, 3.367, 3.34, 3.315, 3.404, 3.524, 3.578, 3.553, 3.491, 3.425, 3.326, 3.358, 3.218, 3.144, 3.17, 3.208, 3.25, 3.288, 3.414, 3.399, 3.374, 3.4, 3.4, 3.496, 3.429, 3.13, 3.058, 3.031, 3.03, 3.097, 3.285, 3.305, 3.25, 3.243, 3.186, 3.183, 3.223, 3.328, 3.273, 3.226, 3.227, 3.214, 3.159, 3.151, 3.166, 3.162, 3.131, 3.138, 3.157, 3.179, 3.146, 3.113, 3.118, 3.057, 3.025, 3.007, 3.028, 3.047, 3.054, 3.089, 3.112, 3.086, 3.084, 3.049, 3.011, 2.956, 2.692, 2.627, 2.722, 2.857, 3.057, 3.365, 3.515, 3.515, 3.513, 3.388, 3.256, 3.145, 3.013, 2.841, 2.776, 2.718, 2.705, 2.708, 2.762, 2.831, 2.885, 2.953, 2.975, 2.965, 2.954, 2.967, 2.916, 2.883, 2.863, 2.887, 2.893, 2.885, 2.879, 2.872, 2.841, 2.845, 2.837, 2.82, 2.814, 2.835, 2.868, 2.933, 2.968, 3.018, 3.02, 2.992, 2.927, 2.877, 2.869, 2.889, 2.919, 2.919, 2.908, 2.876, 2.888, 2.879, 2.873, 2.849, 2.854, 2.581, 2.442, 2.442, 2.512, 2.609, 2.788, 3.32, 3.715, 3.97, 4.177, 4.305, 4.388, 4.193, 3.496, 2.502, 2.736, 3.13, 2.941, 2.358, 2.155, 2.099, 2.15, 2.311, 2.7, 2.907, 3.141, 3.388, 3.44, 3.708, 3.662, 3.628, 3.201, 2.605, 2.436, 2.453, 2.572, 3.046, 3.804, 4.125, 4.369, 4.438, 4.31, 4.357, 4.317, 4.397, 4.498, 4.544, 4.503, 4.455, 4.376, 4.28, 4.126, 3.921, 3.823, 3.77, 3.331, 2.72, 2.558, 2.573, 2.552, 2.568, 2.68, 2.72, 2.622, 2.482, 2.337, 2.116, 2.682, 3.064, 3.142, 3.235, 3.343, 3.624, 3.645, 3.391, 3.366, 3.395, 3.479, 3.52, 3.749, 3.794, 3.776, 3.599, 3.399, 3.19, 2.934, 2.647, 2.526, 2.527, 2.603, 2.726, 2.306, 2.893, 3.941, 4.449, 4.611, 4.69, 4.753, 4.695, 4.608, 4.557, 4.609, 4.643, 4.66, 4.665, 4.725, 4.748, 4.735, 4.724, 4.681, 4.598, 4.552, 4.446, 4.276, 4.098, 3.984, 3.895, 3.859, 3.878, 3.918, 3.962, 4.045, 4.087, 4.129, 4.214, 4.271, 4.296, 4.253, 4.346, 4.364, 4.394, 4.398, 4.386, 4.33, 4.343, 4.419, 4.476, 4.514, 4.64, 4.698, 4.586, 4.493, 4.454, 4.409, 3.691, 2.608, 2.826, 2.84, 2.899, 2.917, 3.022, 3.298, 3.521, 3.59, 3.518, 3.5, 3.416, 3.195, 2.963, 2.979, 3.16, 3.223, 3.361, 3.395, 3.076, 3.135, 3.002, 3.16, 2.773, 2.541, 2.512, 2.666, 2.807, 2.941, 2.981, 3.078, 3.17, 3.107, 3.012, 3.014, 2.971, 2.947, 2.787, 2.807, 2.838, 2.844, 2.76, 2.58, 2.703, 2.795, 2.938, 2.691, 2.654, 2.75, 2.891, 2.922, 2.981, 3.065, 3.133, 3.32, 3.662, 4.394, 4.562, 4.894, 5.121, 5.098, 5.008, 4.695, 4.359, 3.91, 3.461, 3.434, 3.473, 3.412, 3.527, 3.424, 3.441, 3.201, 3.19, 3.244, 3.67, 4.227, 4.742, 4.867, 4.891, 5.223, 5.059, 5.258, 5.258, 5.246, 5.488, 5.863, 5.715, 5.848, 5.187, 5.047, 4.75, 4.797, 4.852, 4.914, 5.07, 4.996, 4.785, 4.699, 4.914, 4.953, 4.492, 3.815, 3.693, 3.58, 3.863, 3.871, 4.004, 3.775, 4.148, 4.148, 4.258, 4.797, 4.113, 3.49, 3.057, 2.682, 3.076, 3.299, 3.611, 3.256, 3.354, 3.25, 3.342, 3.15, 3.029, 2.844, 2.75, 2.699, 2.885, 3.262, 3.418, 3.373, 3.232, 3.231, 3.356, 3.398, 3.348, 3.348, 3.457, 3.223, 2.879, 2.732, 3.008, 3.213, 2.959, 2.805, 2.906, 3.561, 3.807, 3.805, 4.094, 4.418, 4.758, 5.156, 5.051, 5.047, 4.406, 3.904, 3.609, 3.785, 4.312, 4.598, 4.875, 4.141, 3.826, 3.291, 3.393, 3.18, 3.08, 2.992, 3.082, 3.443, 3.684, 3.77, 3.754, 3.598, 3.342, 3.08, 3.023, 3.1, 3.309, 3.316, 3.494, 3.527, 3.574, 3.209, 2.682, 2.498, 2.648, 4.438, 5.324, 5.52, 5.152, 5.023, 4.644, 5.152, 4.918, 4.918, 4.731, 4.059, 4.16, 4.394, 4.926, 5.144, 5.406, 5.324, 5.41, 4.977, 5.129, 5.184, 5.223, 4.762, 4.004, 3.711, 3.527, 3.486, 2.959, 2.713, 2.947, 3.074, 3.424, 3.369, 3.596, 3.648, 3.51, 3.242, 3.176, 3.17, 3.131, 3.123, 3.065, 2.984, 2.895, 2.889, 3.09, 3.201, 3.08, 3.143, 3.512, 4.285, 4.543, 4.551, 4.719, 4.656, 4.336, 4.441, 4.547, 4.711, 4.582, 3.936, 3.328, 2.809, 2.709, 2.936, 3.275, 3.52, 3.4, 3.4, 3.316, 3.147, 3.184, 3.109, 3.238, 3.336, 3.371, 3.289, 3.127, 3.106, 3.275, 3.277, 3.26, 2.822, 2.816, 3.065, 4.199, 5.238, 5.551, 5.336, 5.586, 4.809, 4.602, 4.586, 5.32, 5.254, 3.469, 2.94, 2.617, 2.855, 2.914, 2.998, 3.092, 3.191, 3.592, 4.191, 4.93, 5.102, 5.156, 5.156, 5.254, 5.102, 4.805, 4.613, 5.074, 6.371, 6.094, 5.77, 5.332, 5.07, 5.094, 5.465, 5.82, 5.324, 5.129, 4.633, 4.77, 4.754, 4.754, 5.074, 4.984, 4.836, 4.977, 5.039, 5.141, 4.699, 4.574, 4.602, 4.754, 3.9, 3.231, 2.744, 2.805, 3.076, 3.545, 3.492, 3.381, 3.289, 3.184, 3.16, 3.15, 3.211, 3.299, 3.625, 3.656, 3.83, 3.617, 3.609, 3.682, 3.836, 4.262, 4.102, 3.957, 3.75, 3.871, 3.973, 3.674, 3.596, 3.467, 3.676, 3.641, 3.365, 3.242, 3.176, 3.318, 3.131, 3.334, 3.518, 4.121, 4.0, 4.305, 4.555, 4.731, 3.815, 3.117, 2.75, 2.957, 3.078, 3.283, 3.172, 3.031, 2.932, 2.943, 3.182, 3.137, 3.356, 3.557, 3.481, 3.354, 3.443, 3.871, 4.105, 4.109, 4.125, 4.098, 3.783, 3.594, 3.57, 3.65, 3.955, 4.242, 4.402, 4.383, 4.172, 4.207, 4.066, 4.172, 3.951, 3.963, 3.877, 4.148, 4.023, 3.885, 3.818, 4.027, 4.422, 4.469, 4.371, 4.062, 4.062, 4.137, 4.105, 3.965, 3.674, 5.1, 5.2, 5.3, 5.3, 5.4, 5.4, 5.5, 5.3, 5.3, 5.6, 5.7, 5.8, 4.125, 4.23, 6.321, 6.16, 5.865, 5.315, 4.52, 4.727, 4.687, 4.594, 4.867, 4.93, 5.352, 4.961, 5.012, 4.652, 5.539, 5.027, 5.144, 5.633, 6.231, 5.898, 5.754, 5.609, 6.18, 6.422, 5.484, 5.398, 5.297, 5.426, 4.93, 4.894, 5.047, 5.391, 5.652, 5.508, 5.352, 4.926, 4.875, 5.031, 6.062, 6.227, 5.672, 4.406, 3.912, 3.557, 5.672, 4.66, 4.656, 3.7, 3.4, 3.4, 3.4, 3.3, 3.3, 3.3, 3.4, 3.4, 3.4, 3.3, 3.4, 3.5, 3.5, 3.5, 3.5, 3.5, 3.4, 3.3, 3.3, 3.3, 3.3, 3.4, 3.3, 3.2, 3.3, 3.3, 3.2, 3.1, 3.2, 3.1, 3.2, 3.2, 3.2, 3.2, 3.2, 3.2, 3.2, 3.4, 3.7, 3.8, 3.9, 3.9, 4.0, 4.3, 4.0, 3.9, 4.1, 4.1, 3.7, 3.7, 3.6, 3.3, 3.2, 3.2, 3.1, 3.1, 3.1, 3.2, 3.5, 3.6, 3.8, 3.8, 3.9, 3.9, 3.8, 3.9, 3.9, 3.8, 3.7, 3.7, 3.6, 3.6, 3.8, 3.7, 3.6, 3.6, 3.6, 3.6, 3.6, 3.6, 3.7, 3.7, 3.6, 3.5, 3.5, 3.4, 3.3, 3.3, 3.3, 3.3, 3.4, 3.5, 3.5, 3.5, 3.4, 3.4, 3.3, 3.3, 3.4, 3.5, 3.4, 3.3, 3.2, 3.0, 2.9, 2.9, 2.8, 2.8, 2.9, 3.1, 3.3, 3.6, 4.0, 4.3, 4.5, 4.5, 4.3, 4.1, 4.0, 3.7, 3.4, 3.2, 3.0, 3.0, 2.9, 3.1, 3.4, 3.5, 3.9, 4.0, 4.1, 4.0, 3.8, 3.8, 3.7, 3.7, 3.6, 3.6, 3.5, 3.4, 3.2, 3.1, 3.1, 3.2, 3.3, 3.3, 3.4, 3.3, 3.3, 3.2, 3.1, 3.0, 3.1, 3.4, 3.7, 4.0, 4.0, 4.5, 4.6, 4.6, 4.6, 4.5, 4.5, 4.6, 4.4, 4.1, 3.9, 3.8, 3.6, 3.6, 3.7, 3.8, 3.9, 4.0, 4.2, 4.3, 4.4, 4.8, 4.8, 4.7, 4.7, 4.7, 4.6, 4.5, 4.5, 4.4, 4.3, 4.3, 4.3, 4.1, 3.9, 3.7, 3.4, 3.4, 3.2, 3.2, 3.1, 3.1, 3.2, 3.1, 3.1, 3.5, 3.5, 3.6, 3.9, 3.9, 4.2, 4.3, 4.6, 4.7, 4.7, 4.7, 4.7, 4.9, 5.0, 5.0, 5.0, 4.9, 4.7, 4.6, 4.5, 4.4, 4.3, 4.1, 3.8, 3.8, 3.8, 3.8, 3.9, 3.9, 3.8, 3.6, 3.5, 3.4, 3.2, 3.1, 3.0, 3.1, 3.3, 3.4, 3.3, 3.2, 3.3, 3.3, 3.2, 3.2, 3.2, 3.2, 3.2, 3.3, 3.4, 3.5, 3.9, 3.9, 4.0, 4.3, 4.4, 4.4, 4.2, 4.0, 3.6, 3.4, 3.2, 3.1, 3.0, 2.9, 3.0, 3.2, 3.2, 3.2, 3.3, 3.3, 3.1, 3.1, 3.1, 3.2, 3.2, 3.2, 3.2, 3.2, 3.2, 3.4, 3.6, 3.9, 4.3, 4.7, 4.9, 4.7, 4.8, 4.5, 4.3, 4.2, 4.0, 3.8, 3.5, 3.4, 3.2, 3.0, 2.9, 2.9, 3.0, 3.1, 3.3, 3.3, 3.3, 3.4, 3.5, 3.5, 3.5, 3.5, 3.7, 3.8, 4.1, 4.4, 4.6, 4.7, 4.6, 4.7, 4.8, 4.8, 4.8, 4.9, 4.9, 4.9, 4.8, 4.8, 4.9, 4.8, 4.7, 4.7, 4.7, 4.6, 4.6, 4.6, 4.6, 4.6, 4.5, 4.5, 4.5, 4.5, 4.6, 4.6, 4.6, 4.7, 4.6, 4.6, 4.6, 4.4, 4.3, 4.2, 3.9, 3.6, 3.4, 3.4, 3.3, 3.4, 3.5, 3.6, 3.6, 3.7, 3.7, 3.8, 3.8, 3.7, 3.7, 3.6, 3.6, 3.5, 3.5, 3.5, 3.4, 3.4, 3.6, 3.7, 3.7, 3.8, 3.8, 3.7, 3.6, 3.4, 3.4, 3.3, 3.2, 3.3, 3.4, 3.4, 3.4, 3.4, 3.4, 3.6, 3.5, 3.8, 3.8, 3.9, 4.3, 4.5, 4.5, 4.3, 4.1, 3.9, 3.7, 3.5, 3.4, 3.4, 3.5, 3.6, 3.7, 3.8, 4.1, 4.0, 4.2, 4.2, 4.1, 3.9, 3.9, 3.9, 3.7, 3.8, 4.0, 3.9, 3.9, 4.0, 4.0, 3.9, 3.8, 3.8, 3.9, 4.0, 4.1, 4.1, 4.2, 4.2, 4.1, 4.0, 3.9, 3.9, 3.9, 4.0, 4.2, 4.4, 4.4, 4.3, 4.2, 4.2, 4.1, 4.1, 4.1, 4.4, 4.2, 4.1, 4.0, 3.9, 3.6, 3.6, 3.7, 3.9, 4.0, 4.2, 4.3, 4.4, 4.1, 3.9, 3.162, 2.932, 2.953, 3.42, 3.324, 3.324, 3.127, 2.818, 2.684, 2.557, 2.787, 2.795, 2.635, 2.621, 2.59, 2.9, 3.063, 3.01, 3.277, 4.008, 4.52, 4.375, 3.943, 3.58, 3.395, 3.467, 3.547, 3.799, 4.273, 3.356, 2.783, 2.416, 2.496, 2.969, 2.967, 3.406, 3.836, 4.863, 4.516, 4.168, 3.955, 3.928, 3.953, 3.93, 3.586, 3.299, 3.088, 3.211, 3.232, 2.979, 3.094, 3.104, 3.254, 3.326, 3.393, 3.52, 3.178, 3.221, 3.186, 3.412, 3.484, 3.441, 3.547, 3.459, 3.83, 4.281, 4.652, 4.5, 4.105, 4.094, 3.902, 4.133, 3.83, 4.109, 4.129, 4.742, 4.965, 4.68, 4.727, 4.629, 5.086, 4.77, 4.633, 3.898, 3.896, 3.896, 3.74, 4.211, 3.881, 3.539, 3.221, 3.172, 3.248, 3.141, 3.162, 3.041, 3.074, 2.994, 3.098, 3.234, 3.74, 4.242, 4.242, 4.984, 5.223, 5.152, 4.875, 4.875, 4.863, 4.457, 4.773, 3.217, 2.467, 2.168, 2.037, 1.941, 1.888, 1.802, 2.248, 3.102, 3.488, 3.334, 3.25, 3.025, 2.709, 2.934, 2.34, 1.968, 1.75, 1.666, 2.354, 3.387, 3.209, 2.902, 2.648, 2.652, 3.076, 3.871, 4.312, 4.363, 4.492, 4.891, 4.641, 4.363, 4.0, 4.219, 4.242, 4.391, 3.863, 3.352, 3.195, 3.359, 3.949, 4.078, 4.164, 4.375, 4.477, 4.738, 4.445, 4.27, 4.246, 4.144, 4.187, 4.144, 4.578, 2.908, 2.35, 2.043, 1.927, 2.15, 2.004, 1.641, 1.465, 1.513, 1.741, 2.879, 2.285, 2.102, 2.199, 3.854, 4.781, 4.871, 4.742, 4.578, 4.52, 4.727, 4.687, 4.594, 4.867, 4.93, 5.352, 4.961, 5.012, 4.652, 3.912, 3.065, 2.76, 2.656, 2.926, 3.053, 3.297, 3.348, 3.363, 3.857, 3.961, 3.775, 3.232, 2.981, 3.201, 3.215, 2.94, 2.699, 2.647, 2.91, 2.963, 2.945, 3.205, 3.123, 2.606, 2.4, 2.4, 2.258, 3.275, 3.836, 4.023, 4.207, 4.508, 5.105, 4.844, 4.445, 4.379, 4.668, 5.113, 4.746, 4.379, 4.066, 3.598, 3.268, 3.188, 3.143, 3.092, 2.996, 3.016, 3.055, 3.209, 3.191, 3.332, 3.236, 2.854, 2.342, 2.123, 4.785, 5.039, 4.742, 4.469, 4.668, 5.109, 5.641, 5.082, 4.617, 4.125, 4.574, 4.285, 3.852, 3.678, 3.35, 4.879, 4.789, 3.891, 3.691, 3.631, 3.742, 3.719, 3.531, 3.371, 3.463, 3.607, 4.16, 4.785, 5.699, 6.309, 5.539, 5.027, 5.144, 5.633, 6.231, 5.898, 5.754, 5.609, 6.18, 6.422, 5.484, 5.398, 5.297, 5.426, 4.93, 4.894, 5.047, 5.391, 5.652, 5.508, 5.352, 4.926, 4.875, 5.031, 6.062, 6.227, 5.672, 4.406, 3.912, 3.557, 5.672, 4.406, 3.912, 3.557, 3.69, 3.836, 3.852, 3.828, 3.828, 3.494, 3.551, 3.33, 3.416, 3.172, 2.367, 2.059, 1.814, 1.894, 2.52, 2.504, 2.443, 2.393, 2.66, 2.795, 2.838, 2.674, 2.395, 2.186, 2.137, 2.383, 3.113, 3.693, 3.854, 3.883, 4.039, 3.918, 3.297, 2.361, 2.15, 2.104, 1.795, 1.524, 1.605, 2.533, 4.492, 4.785, 5.008, 5.02, 4.66, 4.656, 4.516, 4.051, 3.863, 3.945, 4.527, 4.793, 4.738, 4.637, 4.539, 4.832, 4.797, 4.5, 3.83, 3.434, 3.318, 3.393, 3.422, 3.697, 4.035, 4.422, 4.203, 3.908, 3.943, 4.02, 4.156, 3.828, 3.805, 3.584, 3.645, 3.629, 3.727, 3.617, 3.344, 3.19, 3.152, 3.295]\n",
            "\n"
          ]
        }
      ]
    },
    {
      "cell_type": "code",
      "source": [
        "# PE value < 3.19972 will statistically infere low PE reading which indicates the presence of oil and gas.\n",
        "# PE value > 3.19972 will statistically infere high PE reading which indicates the less/no possibility of presence of oil and gas."
      ],
      "metadata": {
        "id": "PtThouJ39LFW"
      },
      "execution_count": null,
      "outputs": []
    },
    {
      "cell_type": "markdown",
      "source": [
        "\n",
        "\n",
        "1.   ILD_log value > 0.60654952374\n",
        "2.   DeltaPHI value > 2.427199999999999\n",
        "3.   PHIND value < 10.612000000000002\n",
        "4.   GR value < 61.955999999999996\n",
        "5.   PE value < 3.19972\n",
        "\n"
      ],
      "metadata": {
        "id": "kWpbhWdb1OzV"
      }
    },
    {
      "cell_type": "code",
      "source": [
        "import pandas as pd\n",
        "import numpy as np\n",
        "import matplotlib.pyplot as plt\n",
        "from mpl_toolkits.mplot3d import Axes3D\n",
        "from sklearn.tree import DecisionTreeClassifier, export_text\n",
        "\n",
        "# load the data into a pandas DataFrame\n",
        "df = pd.read_csv('WELL_LOG_MAIN_DATASET - 1.csv')\n",
        "\n",
        "# extract the columns you want to plot\n",
        "x = df['Depth']\n",
        "y = df['GR_oil']\n",
        "z = df['NM_M']\n",
        "\n",
        "# create a 3D plot\n",
        "fig = plt.figure()\n",
        "ax = fig.add_subplot(111, projection='3d')\n",
        "ax.scatter(x, y, z)\n",
        "\n",
        "# fit a decision tree to the data to extract inference rules\n",
        "X = np.array([x, y]).T\n",
        "y = np.array(z)\n",
        "tree = DecisionTreeClassifier(random_state=0)\n",
        "tree.fit(X, y)\n",
        "rules = export_text(tree, feature_names=['Depth', 'G'])\n",
        "\n",
        "# display the inference rules\n",
        "print(rules)"
      ],
      "metadata": {
        "colab": {
          "base_uri": "https://localhost:8080/",
          "height": 1000
        },
        "id": "qWGrv1gBsS9P",
        "outputId": "582f3883-aee2-41c4-ca2f-7eb1d08a1946"
      },
      "execution_count": null,
      "outputs": [
        {
          "output_type": "stream",
          "name": "stdout",
          "text": [
            "|--- GR_oil <= 0.50\n",
            "|   |--- Depth <= 2993.25\n",
            "|   |   |--- Depth <= 2948.25\n",
            "|   |   |   |--- Depth <= 2938.75\n",
            "|   |   |   |   |--- Depth <= 2669.25\n",
            "|   |   |   |   |   |--- Depth <= 2608.75\n",
            "|   |   |   |   |   |   |--- class: 1\n",
            "|   |   |   |   |   |--- Depth >  2608.75\n",
            "|   |   |   |   |   |   |--- Depth <= 2646.00\n",
            "|   |   |   |   |   |   |   |--- Depth <= 2630.75\n",
            "|   |   |   |   |   |   |   |   |--- Depth <= 2621.25\n",
            "|   |   |   |   |   |   |   |   |   |--- Depth <= 2610.00\n",
            "|   |   |   |   |   |   |   |   |   |   |--- class: 2\n",
            "|   |   |   |   |   |   |   |   |   |--- Depth >  2610.00\n",
            "|   |   |   |   |   |   |   |   |   |   |--- Depth <= 2611.75\n",
            "|   |   |   |   |   |   |   |   |   |   |   |--- class: 1\n",
            "|   |   |   |   |   |   |   |   |   |   |--- Depth >  2611.75\n",
            "|   |   |   |   |   |   |   |   |   |   |   |--- truncated branch of depth 13\n",
            "|   |   |   |   |   |   |   |   |--- Depth >  2621.25\n",
            "|   |   |   |   |   |   |   |   |   |--- Depth <= 2627.75\n",
            "|   |   |   |   |   |   |   |   |   |   |--- class: 2\n",
            "|   |   |   |   |   |   |   |   |   |--- Depth >  2627.75\n",
            "|   |   |   |   |   |   |   |   |   |   |--- Depth <= 2628.25\n",
            "|   |   |   |   |   |   |   |   |   |   |   |--- class: 1\n",
            "|   |   |   |   |   |   |   |   |   |   |--- Depth >  2628.25\n",
            "|   |   |   |   |   |   |   |   |   |   |   |--- truncated branch of depth 5\n",
            "|   |   |   |   |   |   |   |--- Depth >  2630.75\n",
            "|   |   |   |   |   |   |   |   |--- Depth <= 2643.25\n",
            "|   |   |   |   |   |   |   |   |   |--- class: 1\n",
            "|   |   |   |   |   |   |   |   |--- Depth >  2643.25\n",
            "|   |   |   |   |   |   |   |   |   |--- Depth <= 2644.75\n",
            "|   |   |   |   |   |   |   |   |   |   |--- Depth <= 2643.75\n",
            "|   |   |   |   |   |   |   |   |   |   |   |--- class: 1\n",
            "|   |   |   |   |   |   |   |   |   |   |--- Depth >  2643.75\n",
            "|   |   |   |   |   |   |   |   |   |   |   |--- truncated branch of depth 2\n",
            "|   |   |   |   |   |   |   |   |   |--- Depth >  2644.75\n",
            "|   |   |   |   |   |   |   |   |   |   |--- class: 1\n",
            "|   |   |   |   |   |   |--- Depth >  2646.00\n",
            "|   |   |   |   |   |   |   |--- Depth <= 2657.25\n",
            "|   |   |   |   |   |   |   |   |--- Depth <= 2652.75\n",
            "|   |   |   |   |   |   |   |   |   |--- class: 2\n",
            "|   |   |   |   |   |   |   |   |--- Depth >  2652.75\n",
            "|   |   |   |   |   |   |   |   |   |--- Depth <= 2653.75\n",
            "|   |   |   |   |   |   |   |   |   |   |--- Depth <= 2653.25\n",
            "|   |   |   |   |   |   |   |   |   |   |   |--- class: 1\n",
            "|   |   |   |   |   |   |   |   |   |   |--- Depth >  2653.25\n",
            "|   |   |   |   |   |   |   |   |   |   |   |--- class: 1\n",
            "|   |   |   |   |   |   |   |   |   |--- Depth >  2653.75\n",
            "|   |   |   |   |   |   |   |   |   |   |--- class: 2\n",
            "|   |   |   |   |   |   |   |--- Depth >  2657.25\n",
            "|   |   |   |   |   |   |   |   |--- Depth <= 2664.25\n",
            "|   |   |   |   |   |   |   |   |   |--- Depth <= 2659.75\n",
            "|   |   |   |   |   |   |   |   |   |   |--- Depth <= 2657.75\n",
            "|   |   |   |   |   |   |   |   |   |   |   |--- class: 1\n",
            "|   |   |   |   |   |   |   |   |   |   |--- Depth >  2657.75\n",
            "|   |   |   |   |   |   |   |   |   |   |   |--- truncated branch of depth 4\n",
            "|   |   |   |   |   |   |   |   |   |--- Depth >  2659.75\n",
            "|   |   |   |   |   |   |   |   |   |   |--- Depth <= 2662.75\n",
            "|   |   |   |   |   |   |   |   |   |   |   |--- class: 1\n",
            "|   |   |   |   |   |   |   |   |   |   |--- Depth >  2662.75\n",
            "|   |   |   |   |   |   |   |   |   |   |   |--- truncated branch of depth 3\n",
            "|   |   |   |   |   |   |   |   |--- Depth >  2664.25\n",
            "|   |   |   |   |   |   |   |   |   |--- class: 2\n",
            "|   |   |   |   |--- Depth >  2669.25\n",
            "|   |   |   |   |   |--- Depth <= 2809.50\n",
            "|   |   |   |   |   |   |--- Depth <= 2781.25\n",
            "|   |   |   |   |   |   |   |--- Depth <= 2768.00\n",
            "|   |   |   |   |   |   |   |   |--- Depth <= 2749.75\n",
            "|   |   |   |   |   |   |   |   |   |--- Depth <= 2696.25\n",
            "|   |   |   |   |   |   |   |   |   |   |--- class: 1\n",
            "|   |   |   |   |   |   |   |   |   |--- Depth >  2696.25\n",
            "|   |   |   |   |   |   |   |   |   |   |--- Depth <= 2696.75\n",
            "|   |   |   |   |   |   |   |   |   |   |   |--- class: 1\n",
            "|   |   |   |   |   |   |   |   |   |   |--- Depth >  2696.75\n",
            "|   |   |   |   |   |   |   |   |   |   |   |--- truncated branch of depth 6\n",
            "|   |   |   |   |   |   |   |   |--- Depth >  2749.75\n",
            "|   |   |   |   |   |   |   |   |   |--- Depth <= 2756.00\n",
            "|   |   |   |   |   |   |   |   |   |   |--- Depth <= 2754.25\n",
            "|   |   |   |   |   |   |   |   |   |   |   |--- truncated branch of depth 2\n",
            "|   |   |   |   |   |   |   |   |   |   |--- Depth >  2754.25\n",
            "|   |   |   |   |   |   |   |   |   |   |   |--- class: 2\n",
            "|   |   |   |   |   |   |   |   |   |--- Depth >  2756.00\n",
            "|   |   |   |   |   |   |   |   |   |   |--- class: 1\n",
            "|   |   |   |   |   |   |   |--- Depth >  2768.00\n",
            "|   |   |   |   |   |   |   |   |--- Depth <= 2774.25\n",
            "|   |   |   |   |   |   |   |   |   |--- class: 2\n",
            "|   |   |   |   |   |   |   |   |--- Depth >  2774.25\n",
            "|   |   |   |   |   |   |   |   |   |--- Depth <= 2776.75\n",
            "|   |   |   |   |   |   |   |   |   |   |--- Depth <= 2774.75\n",
            "|   |   |   |   |   |   |   |   |   |   |   |--- class: 1\n",
            "|   |   |   |   |   |   |   |   |   |   |--- Depth >  2774.75\n",
            "|   |   |   |   |   |   |   |   |   |   |   |--- truncated branch of depth 4\n",
            "|   |   |   |   |   |   |   |   |   |--- Depth >  2776.75\n",
            "|   |   |   |   |   |   |   |   |   |   |--- Depth <= 2777.75\n",
            "|   |   |   |   |   |   |   |   |   |   |   |--- class: 1\n",
            "|   |   |   |   |   |   |   |   |   |   |--- Depth >  2777.75\n",
            "|   |   |   |   |   |   |   |   |   |   |   |--- truncated branch of depth 6\n",
            "|   |   |   |   |   |   |--- Depth >  2781.25\n",
            "|   |   |   |   |   |   |   |--- class: 1\n",
            "|   |   |   |   |   |--- Depth >  2809.50\n",
            "|   |   |   |   |   |   |--- Depth <= 2838.75\n",
            "|   |   |   |   |   |   |   |--- Depth <= 2826.25\n",
            "|   |   |   |   |   |   |   |   |--- Depth <= 2815.50\n",
            "|   |   |   |   |   |   |   |   |   |--- Depth <= 2810.75\n",
            "|   |   |   |   |   |   |   |   |   |   |--- class: 2\n",
            "|   |   |   |   |   |   |   |   |   |--- Depth >  2810.75\n",
            "|   |   |   |   |   |   |   |   |   |   |--- Depth <= 2813.75\n",
            "|   |   |   |   |   |   |   |   |   |   |   |--- truncated branch of depth 6\n",
            "|   |   |   |   |   |   |   |   |   |   |--- Depth >  2813.75\n",
            "|   |   |   |   |   |   |   |   |   |   |   |--- class: 1\n",
            "|   |   |   |   |   |   |   |   |--- Depth >  2815.50\n",
            "|   |   |   |   |   |   |   |   |   |--- Depth <= 2825.75\n",
            "|   |   |   |   |   |   |   |   |   |   |--- class: 2\n",
            "|   |   |   |   |   |   |   |   |   |--- Depth >  2825.75\n",
            "|   |   |   |   |   |   |   |   |   |   |--- class: 2\n",
            "|   |   |   |   |   |   |   |--- Depth >  2826.25\n",
            "|   |   |   |   |   |   |   |   |--- Depth <= 2826.75\n",
            "|   |   |   |   |   |   |   |   |   |--- class: 1\n",
            "|   |   |   |   |   |   |   |   |--- Depth >  2826.75\n",
            "|   |   |   |   |   |   |   |   |   |--- Depth <= 2829.75\n",
            "|   |   |   |   |   |   |   |   |   |   |--- Depth <= 2827.25\n",
            "|   |   |   |   |   |   |   |   |   |   |   |--- class: 1\n",
            "|   |   |   |   |   |   |   |   |   |   |--- Depth >  2827.25\n",
            "|   |   |   |   |   |   |   |   |   |   |   |--- truncated branch of depth 5\n",
            "|   |   |   |   |   |   |   |   |   |--- Depth >  2829.75\n",
            "|   |   |   |   |   |   |   |   |   |   |--- Depth <= 2832.75\n",
            "|   |   |   |   |   |   |   |   |   |   |   |--- truncated branch of depth 6\n",
            "|   |   |   |   |   |   |   |   |   |   |--- Depth >  2832.75\n",
            "|   |   |   |   |   |   |   |   |   |   |   |--- truncated branch of depth 6\n",
            "|   |   |   |   |   |   |--- Depth >  2838.75\n",
            "|   |   |   |   |   |   |   |--- Depth <= 2891.75\n",
            "|   |   |   |   |   |   |   |   |--- Depth <= 2875.25\n",
            "|   |   |   |   |   |   |   |   |   |--- Depth <= 2854.25\n",
            "|   |   |   |   |   |   |   |   |   |   |--- Depth <= 2840.75\n",
            "|   |   |   |   |   |   |   |   |   |   |   |--- truncated branch of depth 4\n",
            "|   |   |   |   |   |   |   |   |   |   |--- Depth >  2840.75\n",
            "|   |   |   |   |   |   |   |   |   |   |   |--- truncated branch of depth 3\n",
            "|   |   |   |   |   |   |   |   |   |--- Depth >  2854.25\n",
            "|   |   |   |   |   |   |   |   |   |   |--- Depth <= 2860.75\n",
            "|   |   |   |   |   |   |   |   |   |   |   |--- truncated branch of depth 8\n",
            "|   |   |   |   |   |   |   |   |   |   |--- Depth >  2860.75\n",
            "|   |   |   |   |   |   |   |   |   |   |   |--- truncated branch of depth 9\n",
            "|   |   |   |   |   |   |   |   |--- Depth >  2875.25\n",
            "|   |   |   |   |   |   |   |   |   |--- Depth <= 2888.25\n",
            "|   |   |   |   |   |   |   |   |   |   |--- Depth <= 2885.25\n",
            "|   |   |   |   |   |   |   |   |   |   |   |--- truncated branch of depth 8\n",
            "|   |   |   |   |   |   |   |   |   |   |--- Depth >  2885.25\n",
            "|   |   |   |   |   |   |   |   |   |   |   |--- truncated branch of depth 5\n",
            "|   |   |   |   |   |   |   |   |   |--- Depth >  2888.25\n",
            "|   |   |   |   |   |   |   |   |   |   |--- Depth <= 2891.25\n",
            "|   |   |   |   |   |   |   |   |   |   |   |--- truncated branch of depth 5\n",
            "|   |   |   |   |   |   |   |   |   |   |--- Depth >  2891.25\n",
            "|   |   |   |   |   |   |   |   |   |   |   |--- class: 1\n",
            "|   |   |   |   |   |   |   |--- Depth >  2891.75\n",
            "|   |   |   |   |   |   |   |   |--- Depth <= 2920.75\n",
            "|   |   |   |   |   |   |   |   |   |--- Depth <= 2905.25\n",
            "|   |   |   |   |   |   |   |   |   |   |--- Depth <= 2900.75\n",
            "|   |   |   |   |   |   |   |   |   |   |   |--- class: 1\n",
            "|   |   |   |   |   |   |   |   |   |   |--- Depth >  2900.75\n",
            "|   |   |   |   |   |   |   |   |   |   |   |--- truncated branch of depth 7\n",
            "|   |   |   |   |   |   |   |   |   |--- Depth >  2905.25\n",
            "|   |   |   |   |   |   |   |   |   |   |--- class: 1\n",
            "|   |   |   |   |   |   |   |   |--- Depth >  2920.75\n",
            "|   |   |   |   |   |   |   |   |   |--- Depth <= 2931.75\n",
            "|   |   |   |   |   |   |   |   |   |   |--- Depth <= 2923.75\n",
            "|   |   |   |   |   |   |   |   |   |   |   |--- truncated branch of depth 5\n",
            "|   |   |   |   |   |   |   |   |   |   |--- Depth >  2923.75\n",
            "|   |   |   |   |   |   |   |   |   |   |   |--- truncated branch of depth 3\n",
            "|   |   |   |   |   |   |   |   |   |--- Depth >  2931.75\n",
            "|   |   |   |   |   |   |   |   |   |   |--- Depth <= 2935.75\n",
            "|   |   |   |   |   |   |   |   |   |   |   |--- truncated branch of depth 6\n",
            "|   |   |   |   |   |   |   |   |   |   |--- Depth >  2935.75\n",
            "|   |   |   |   |   |   |   |   |   |   |   |--- truncated branch of depth 3\n",
            "|   |   |   |--- Depth >  2938.75\n",
            "|   |   |   |   |--- Depth <= 2945.75\n",
            "|   |   |   |   |   |--- Depth <= 2941.25\n",
            "|   |   |   |   |   |   |--- Depth <= 2939.25\n",
            "|   |   |   |   |   |   |   |--- class: 1\n",
            "|   |   |   |   |   |   |--- Depth >  2939.25\n",
            "|   |   |   |   |   |   |   |--- Depth <= 2939.75\n",
            "|   |   |   |   |   |   |   |   |--- class: 1\n",
            "|   |   |   |   |   |   |   |--- Depth >  2939.75\n",
            "|   |   |   |   |   |   |   |   |--- Depth <= 2940.25\n",
            "|   |   |   |   |   |   |   |   |   |--- class: 1\n",
            "|   |   |   |   |   |   |   |   |--- Depth >  2940.25\n",
            "|   |   |   |   |   |   |   |   |   |--- Depth <= 2940.75\n",
            "|   |   |   |   |   |   |   |   |   |   |--- class: 1\n",
            "|   |   |   |   |   |   |   |   |   |--- Depth >  2940.75\n",
            "|   |   |   |   |   |   |   |   |   |   |--- class: 1\n",
            "|   |   |   |   |   |--- Depth >  2941.25\n",
            "|   |   |   |   |   |   |--- Depth <= 2941.75\n",
            "|   |   |   |   |   |   |   |--- class: 2\n",
            "|   |   |   |   |   |   |--- Depth >  2941.75\n",
            "|   |   |   |   |   |   |   |--- Depth <= 2945.25\n",
            "|   |   |   |   |   |   |   |   |--- Depth <= 2943.75\n",
            "|   |   |   |   |   |   |   |   |   |--- Depth <= 2943.25\n",
            "|   |   |   |   |   |   |   |   |   |   |--- Depth <= 2942.25\n",
            "|   |   |   |   |   |   |   |   |   |   |   |--- class: 2\n",
            "|   |   |   |   |   |   |   |   |   |   |--- Depth >  2942.25\n",
            "|   |   |   |   |   |   |   |   |   |   |   |--- truncated branch of depth 2\n",
            "|   |   |   |   |   |   |   |   |   |--- Depth >  2943.25\n",
            "|   |   |   |   |   |   |   |   |   |   |--- class: 2\n",
            "|   |   |   |   |   |   |   |   |--- Depth >  2943.75\n",
            "|   |   |   |   |   |   |   |   |   |--- Depth <= 2944.25\n",
            "|   |   |   |   |   |   |   |   |   |   |--- class: 2\n",
            "|   |   |   |   |   |   |   |   |   |--- Depth >  2944.25\n",
            "|   |   |   |   |   |   |   |   |   |   |--- Depth <= 2944.75\n",
            "|   |   |   |   |   |   |   |   |   |   |   |--- class: 2\n",
            "|   |   |   |   |   |   |   |   |   |   |--- Depth >  2944.75\n",
            "|   |   |   |   |   |   |   |   |   |   |   |--- class: 2\n",
            "|   |   |   |   |   |   |   |--- Depth >  2945.25\n",
            "|   |   |   |   |   |   |   |   |--- class: 2\n",
            "|   |   |   |   |--- Depth >  2945.75\n",
            "|   |   |   |   |   |--- Depth <= 2946.25\n",
            "|   |   |   |   |   |   |--- class: 1\n",
            "|   |   |   |   |   |--- Depth >  2946.25\n",
            "|   |   |   |   |   |   |--- Depth <= 2947.75\n",
            "|   |   |   |   |   |   |   |--- Depth <= 2946.75\n",
            "|   |   |   |   |   |   |   |   |--- class: 1\n",
            "|   |   |   |   |   |   |   |--- Depth >  2946.75\n",
            "|   |   |   |   |   |   |   |   |--- Depth <= 2947.25\n",
            "|   |   |   |   |   |   |   |   |   |--- class: 1\n",
            "|   |   |   |   |   |   |   |   |--- Depth >  2947.25\n",
            "|   |   |   |   |   |   |   |   |   |--- class: 1\n",
            "|   |   |   |   |   |   |--- Depth >  2947.75\n",
            "|   |   |   |   |   |   |   |--- class: 1\n",
            "|   |   |--- Depth >  2948.25\n",
            "|   |   |   |--- Depth <= 2965.75\n",
            "|   |   |   |   |--- Depth <= 2955.25\n",
            "|   |   |   |   |   |--- Depth <= 2954.75\n",
            "|   |   |   |   |   |   |--- class: 1\n",
            "|   |   |   |   |   |--- Depth >  2954.75\n",
            "|   |   |   |   |   |   |--- class: 1\n",
            "|   |   |   |   |--- Depth >  2955.25\n",
            "|   |   |   |   |   |--- class: 1\n",
            "|   |   |   |--- Depth >  2965.75\n",
            "|   |   |   |   |--- Depth <= 2969.25\n",
            "|   |   |   |   |   |--- Depth <= 2968.25\n",
            "|   |   |   |   |   |   |--- Depth <= 2967.75\n",
            "|   |   |   |   |   |   |   |--- Depth <= 2966.25\n",
            "|   |   |   |   |   |   |   |   |--- class: 1\n",
            "|   |   |   |   |   |   |   |--- Depth >  2966.25\n",
            "|   |   |   |   |   |   |   |   |--- Depth <= 2966.75\n",
            "|   |   |   |   |   |   |   |   |   |--- class: 1\n",
            "|   |   |   |   |   |   |   |   |--- Depth >  2966.75\n",
            "|   |   |   |   |   |   |   |   |   |--- Depth <= 2967.25\n",
            "|   |   |   |   |   |   |   |   |   |   |--- class: 1\n",
            "|   |   |   |   |   |   |   |   |   |--- Depth >  2967.25\n",
            "|   |   |   |   |   |   |   |   |   |   |--- class: 1\n",
            "|   |   |   |   |   |   |--- Depth >  2967.75\n",
            "|   |   |   |   |   |   |   |--- class: 1\n",
            "|   |   |   |   |   |--- Depth >  2968.25\n",
            "|   |   |   |   |   |   |--- Depth <= 2968.75\n",
            "|   |   |   |   |   |   |   |--- class: 1\n",
            "|   |   |   |   |   |   |--- Depth >  2968.75\n",
            "|   |   |   |   |   |   |   |--- class: 1\n",
            "|   |   |   |   |--- Depth >  2969.25\n",
            "|   |   |   |   |   |--- Depth <= 2981.25\n",
            "|   |   |   |   |   |   |--- Depth <= 2973.75\n",
            "|   |   |   |   |   |   |   |--- Depth <= 2972.75\n",
            "|   |   |   |   |   |   |   |   |--- class: 1\n",
            "|   |   |   |   |   |   |   |--- Depth >  2972.75\n",
            "|   |   |   |   |   |   |   |   |--- Depth <= 2973.25\n",
            "|   |   |   |   |   |   |   |   |   |--- class: 1\n",
            "|   |   |   |   |   |   |   |   |--- Depth >  2973.25\n",
            "|   |   |   |   |   |   |   |   |   |--- class: 1\n",
            "|   |   |   |   |   |   |--- Depth >  2973.75\n",
            "|   |   |   |   |   |   |   |--- class: 1\n",
            "|   |   |   |   |   |--- Depth >  2981.25\n",
            "|   |   |   |   |   |   |--- Depth <= 2983.25\n",
            "|   |   |   |   |   |   |   |--- Depth <= 2982.75\n",
            "|   |   |   |   |   |   |   |   |--- Depth <= 2981.75\n",
            "|   |   |   |   |   |   |   |   |   |--- class: 1\n",
            "|   |   |   |   |   |   |   |   |--- Depth >  2981.75\n",
            "|   |   |   |   |   |   |   |   |   |--- Depth <= 2982.25\n",
            "|   |   |   |   |   |   |   |   |   |   |--- class: 1\n",
            "|   |   |   |   |   |   |   |   |   |--- Depth >  2982.25\n",
            "|   |   |   |   |   |   |   |   |   |   |--- class: 1\n",
            "|   |   |   |   |   |   |   |--- Depth >  2982.75\n",
            "|   |   |   |   |   |   |   |   |--- class: 1\n",
            "|   |   |   |   |   |   |--- Depth >  2983.25\n",
            "|   |   |   |   |   |   |   |--- class: 1\n",
            "|   |--- Depth >  2993.25\n",
            "|   |   |--- Depth <= 3002.75\n",
            "|   |   |   |--- Depth <= 3001.25\n",
            "|   |   |   |   |--- class: 2\n",
            "|   |   |   |--- Depth >  3001.25\n",
            "|   |   |   |   |--- Depth <= 3001.75\n",
            "|   |   |   |   |   |--- class: 2\n",
            "|   |   |   |   |--- Depth >  3001.75\n",
            "|   |   |   |   |   |--- Depth <= 3002.25\n",
            "|   |   |   |   |   |   |--- class: 2\n",
            "|   |   |   |   |   |--- Depth >  3002.25\n",
            "|   |   |   |   |   |   |--- class: 2\n",
            "|   |   |--- Depth >  3002.75\n",
            "|   |   |   |--- Depth <= 3043.75\n",
            "|   |   |   |   |--- Depth <= 3021.75\n",
            "|   |   |   |   |   |--- Depth <= 3013.25\n",
            "|   |   |   |   |   |   |--- Depth <= 3010.75\n",
            "|   |   |   |   |   |   |   |--- Depth <= 3003.75\n",
            "|   |   |   |   |   |   |   |   |--- Depth <= 3003.25\n",
            "|   |   |   |   |   |   |   |   |   |--- class: 2\n",
            "|   |   |   |   |   |   |   |   |--- Depth >  3003.25\n",
            "|   |   |   |   |   |   |   |   |   |--- class: 2\n",
            "|   |   |   |   |   |   |   |--- Depth >  3003.75\n",
            "|   |   |   |   |   |   |   |   |--- Depth <= 3006.75\n",
            "|   |   |   |   |   |   |   |   |   |--- Depth <= 3005.25\n",
            "|   |   |   |   |   |   |   |   |   |   |--- Depth <= 3004.25\n",
            "|   |   |   |   |   |   |   |   |   |   |   |--- class: 1\n",
            "|   |   |   |   |   |   |   |   |   |   |--- Depth >  3004.25\n",
            "|   |   |   |   |   |   |   |   |   |   |   |--- truncated branch of depth 2\n",
            "|   |   |   |   |   |   |   |   |   |--- Depth >  3005.25\n",
            "|   |   |   |   |   |   |   |   |   |   |--- Depth <= 3005.75\n",
            "|   |   |   |   |   |   |   |   |   |   |   |--- class: 1\n",
            "|   |   |   |   |   |   |   |   |   |   |--- Depth >  3005.75\n",
            "|   |   |   |   |   |   |   |   |   |   |   |--- truncated branch of depth 2\n",
            "|   |   |   |   |   |   |   |   |--- Depth >  3006.75\n",
            "|   |   |   |   |   |   |   |   |   |--- Depth <= 3008.25\n",
            "|   |   |   |   |   |   |   |   |   |   |--- Depth <= 3007.75\n",
            "|   |   |   |   |   |   |   |   |   |   |   |--- truncated branch of depth 2\n",
            "|   |   |   |   |   |   |   |   |   |   |--- Depth >  3007.75\n",
            "|   |   |   |   |   |   |   |   |   |   |   |--- class: 2\n",
            "|   |   |   |   |   |   |   |   |   |--- Depth >  3008.25\n",
            "|   |   |   |   |   |   |   |   |   |   |--- Depth <= 3008.75\n",
            "|   |   |   |   |   |   |   |   |   |   |   |--- class: 1\n",
            "|   |   |   |   |   |   |   |   |   |   |--- Depth >  3008.75\n",
            "|   |   |   |   |   |   |   |   |   |   |   |--- truncated branch of depth 4\n",
            "|   |   |   |   |   |   |--- Depth >  3010.75\n",
            "|   |   |   |   |   |   |   |--- Depth <= 3011.75\n",
            "|   |   |   |   |   |   |   |   |--- Depth <= 3011.25\n",
            "|   |   |   |   |   |   |   |   |   |--- class: 2\n",
            "|   |   |   |   |   |   |   |   |--- Depth >  3011.25\n",
            "|   |   |   |   |   |   |   |   |   |--- class: 1\n",
            "|   |   |   |   |   |   |   |--- Depth >  3011.75\n",
            "|   |   |   |   |   |   |   |   |--- Depth <= 3012.25\n",
            "|   |   |   |   |   |   |   |   |   |--- class: 2\n",
            "|   |   |   |   |   |   |   |   |--- Depth >  3012.25\n",
            "|   |   |   |   |   |   |   |   |   |--- Depth <= 3012.75\n",
            "|   |   |   |   |   |   |   |   |   |   |--- class: 2\n",
            "|   |   |   |   |   |   |   |   |   |--- Depth >  3012.75\n",
            "|   |   |   |   |   |   |   |   |   |   |--- class: 2\n",
            "|   |   |   |   |   |--- Depth >  3013.25\n",
            "|   |   |   |   |   |   |--- Depth <= 3015.75\n",
            "|   |   |   |   |   |   |   |--- Depth <= 3014.75\n",
            "|   |   |   |   |   |   |   |   |--- Depth <= 3013.75\n",
            "|   |   |   |   |   |   |   |   |   |--- class: 1\n",
            "|   |   |   |   |   |   |   |   |--- Depth >  3013.75\n",
            "|   |   |   |   |   |   |   |   |   |--- Depth <= 3014.25\n",
            "|   |   |   |   |   |   |   |   |   |   |--- class: 1\n",
            "|   |   |   |   |   |   |   |   |   |--- Depth >  3014.25\n",
            "|   |   |   |   |   |   |   |   |   |   |--- class: 1\n",
            "|   |   |   |   |   |   |   |--- Depth >  3014.75\n",
            "|   |   |   |   |   |   |   |   |--- Depth <= 3015.25\n",
            "|   |   |   |   |   |   |   |   |   |--- class: 1\n",
            "|   |   |   |   |   |   |   |   |--- Depth >  3015.25\n",
            "|   |   |   |   |   |   |   |   |   |--- class: 1\n",
            "|   |   |   |   |   |   |--- Depth >  3015.75\n",
            "|   |   |   |   |   |   |   |--- Depth <= 3016.75\n",
            "|   |   |   |   |   |   |   |   |--- Depth <= 3016.25\n",
            "|   |   |   |   |   |   |   |   |   |--- class: 1\n",
            "|   |   |   |   |   |   |   |   |--- Depth >  3016.25\n",
            "|   |   |   |   |   |   |   |   |   |--- class: 1\n",
            "|   |   |   |   |   |   |   |--- Depth >  3016.75\n",
            "|   |   |   |   |   |   |   |   |--- Depth <= 3017.75\n",
            "|   |   |   |   |   |   |   |   |   |--- Depth <= 3017.25\n",
            "|   |   |   |   |   |   |   |   |   |   |--- class: 1\n",
            "|   |   |   |   |   |   |   |   |   |--- Depth >  3017.25\n",
            "|   |   |   |   |   |   |   |   |   |   |--- class: 1\n",
            "|   |   |   |   |   |   |   |   |--- Depth >  3017.75\n",
            "|   |   |   |   |   |   |   |   |   |--- Depth <= 3018.25\n",
            "|   |   |   |   |   |   |   |   |   |   |--- class: 1\n",
            "|   |   |   |   |   |   |   |   |   |--- Depth >  3018.25\n",
            "|   |   |   |   |   |   |   |   |   |   |--- Depth <= 3019.25\n",
            "|   |   |   |   |   |   |   |   |   |   |   |--- truncated branch of depth 2\n",
            "|   |   |   |   |   |   |   |   |   |   |--- Depth >  3019.25\n",
            "|   |   |   |   |   |   |   |   |   |   |   |--- truncated branch of depth 5\n",
            "|   |   |   |   |--- Depth >  3021.75\n",
            "|   |   |   |   |   |--- Depth <= 3033.75\n",
            "|   |   |   |   |   |   |--- class: 1\n",
            "|   |   |   |   |   |--- Depth >  3033.75\n",
            "|   |   |   |   |   |   |--- Depth <= 3036.25\n",
            "|   |   |   |   |   |   |   |--- class: 2\n",
            "|   |   |   |   |   |   |--- Depth >  3036.25\n",
            "|   |   |   |   |   |   |   |--- class: 1\n",
            "|   |   |   |--- Depth >  3043.75\n",
            "|   |   |   |   |--- Depth <= 3086.25\n",
            "|   |   |   |   |   |--- class: 2\n",
            "|   |   |   |   |--- Depth >  3086.25\n",
            "|   |   |   |   |   |--- class: 1\n",
            "|--- GR_oil >  0.50\n",
            "|   |--- Depth <= 2805.75\n",
            "|   |   |--- Depth <= 2781.25\n",
            "|   |   |   |--- Depth <= 2750.00\n",
            "|   |   |   |   |--- Depth <= 2603.75\n",
            "|   |   |   |   |   |--- class: 1\n",
            "|   |   |   |   |--- Depth >  2603.75\n",
            "|   |   |   |   |   |--- Depth <= 2721.75\n",
            "|   |   |   |   |   |   |--- Depth <= 2690.75\n",
            "|   |   |   |   |   |   |   |--- Depth <= 2671.00\n",
            "|   |   |   |   |   |   |   |   |--- Depth <= 2658.50\n",
            "|   |   |   |   |   |   |   |   |   |--- Depth <= 2646.75\n",
            "|   |   |   |   |   |   |   |   |   |   |--- Depth <= 2620.50\n",
            "|   |   |   |   |   |   |   |   |   |   |   |--- class: 2\n",
            "|   |   |   |   |   |   |   |   |   |   |--- Depth >  2620.50\n",
            "|   |   |   |   |   |   |   |   |   |   |   |--- truncated branch of depth 6\n",
            "|   |   |   |   |   |   |   |   |   |--- Depth >  2646.75\n",
            "|   |   |   |   |   |   |   |   |   |   |--- Depth <= 2651.25\n",
            "|   |   |   |   |   |   |   |   |   |   |   |--- class: 1\n",
            "|   |   |   |   |   |   |   |   |   |   |--- Depth >  2651.25\n",
            "|   |   |   |   |   |   |   |   |   |   |   |--- truncated branch of depth 3\n",
            "|   |   |   |   |   |   |   |   |--- Depth >  2658.50\n",
            "|   |   |   |   |   |   |   |   |   |--- class: 2\n",
            "|   |   |   |   |   |   |   |--- Depth >  2671.00\n",
            "|   |   |   |   |   |   |   |   |--- Depth <= 2689.75\n",
            "|   |   |   |   |   |   |   |   |   |--- class: 1\n",
            "|   |   |   |   |   |   |   |   |--- Depth >  2689.75\n",
            "|   |   |   |   |   |   |   |   |   |--- Depth <= 2690.25\n",
            "|   |   |   |   |   |   |   |   |   |   |--- class: 1\n",
            "|   |   |   |   |   |   |   |   |   |--- Depth >  2690.25\n",
            "|   |   |   |   |   |   |   |   |   |   |--- class: 1\n",
            "|   |   |   |   |   |   |--- Depth >  2690.75\n",
            "|   |   |   |   |   |   |   |--- Depth <= 2701.00\n",
            "|   |   |   |   |   |   |   |   |--- class: 2\n",
            "|   |   |   |   |   |   |   |--- Depth >  2701.00\n",
            "|   |   |   |   |   |   |   |   |--- Depth <= 2709.50\n",
            "|   |   |   |   |   |   |   |   |   |--- class: 1\n",
            "|   |   |   |   |   |   |   |   |--- Depth >  2709.50\n",
            "|   |   |   |   |   |   |   |   |   |--- class: 2\n",
            "|   |   |   |   |   |--- Depth >  2721.75\n",
            "|   |   |   |   |   |   |--- Depth <= 2738.25\n",
            "|   |   |   |   |   |   |   |--- class: 1\n",
            "|   |   |   |   |   |   |--- Depth >  2738.25\n",
            "|   |   |   |   |   |   |   |--- Depth <= 2742.25\n",
            "|   |   |   |   |   |   |   |   |--- Depth <= 2741.25\n",
            "|   |   |   |   |   |   |   |   |   |--- Depth <= 2738.75\n",
            "|   |   |   |   |   |   |   |   |   |   |--- class: 1\n",
            "|   |   |   |   |   |   |   |   |   |--- Depth >  2738.75\n",
            "|   |   |   |   |   |   |   |   |   |   |--- Depth <= 2739.25\n",
            "|   |   |   |   |   |   |   |   |   |   |   |--- class: 1\n",
            "|   |   |   |   |   |   |   |   |   |   |--- Depth >  2739.25\n",
            "|   |   |   |   |   |   |   |   |   |   |   |--- truncated branch of depth 4\n",
            "|   |   |   |   |   |   |   |   |--- Depth >  2741.25\n",
            "|   |   |   |   |   |   |   |   |   |--- class: 2\n",
            "|   |   |   |   |   |   |   |--- Depth >  2742.25\n",
            "|   |   |   |   |   |   |   |   |--- class: 1\n",
            "|   |   |   |--- Depth >  2750.00\n",
            "|   |   |   |   |--- Depth <= 2761.25\n",
            "|   |   |   |   |   |--- Depth <= 2757.25\n",
            "|   |   |   |   |   |   |--- class: 2\n",
            "|   |   |   |   |   |--- Depth >  2757.25\n",
            "|   |   |   |   |   |   |--- class: 1\n",
            "|   |   |   |   |--- Depth >  2761.25\n",
            "|   |   |   |   |   |--- class: 2\n",
            "|   |   |--- Depth >  2781.25\n",
            "|   |   |   |--- class: 1\n",
            "|   |--- Depth >  2805.75\n",
            "|   |   |--- Depth <= 2924.25\n",
            "|   |   |   |--- Depth <= 2833.75\n",
            "|   |   |   |   |--- Depth <= 2810.75\n",
            "|   |   |   |   |   |--- Depth <= 2809.25\n",
            "|   |   |   |   |   |   |--- class: 2\n",
            "|   |   |   |   |   |--- Depth >  2809.25\n",
            "|   |   |   |   |   |   |--- Depth <= 2809.75\n",
            "|   |   |   |   |   |   |   |--- class: 2\n",
            "|   |   |   |   |   |   |--- Depth >  2809.75\n",
            "|   |   |   |   |   |   |   |--- Depth <= 2810.25\n",
            "|   |   |   |   |   |   |   |   |--- class: 1\n",
            "|   |   |   |   |   |   |   |--- Depth >  2810.25\n",
            "|   |   |   |   |   |   |   |   |--- class: 2\n",
            "|   |   |   |   |--- Depth >  2810.75\n",
            "|   |   |   |   |   |--- class: 2\n",
            "|   |   |   |--- Depth >  2833.75\n",
            "|   |   |   |   |--- Depth <= 2847.25\n",
            "|   |   |   |   |   |--- Depth <= 2838.75\n",
            "|   |   |   |   |   |   |--- Depth <= 2834.75\n",
            "|   |   |   |   |   |   |   |--- Depth <= 2834.25\n",
            "|   |   |   |   |   |   |   |   |--- class: 2\n",
            "|   |   |   |   |   |   |   |--- Depth >  2834.25\n",
            "|   |   |   |   |   |   |   |   |--- class: 1\n",
            "|   |   |   |   |   |   |--- Depth >  2834.75\n",
            "|   |   |   |   |   |   |   |--- Depth <= 2835.25\n",
            "|   |   |   |   |   |   |   |   |--- class: 1\n",
            "|   |   |   |   |   |   |   |--- Depth >  2835.25\n",
            "|   |   |   |   |   |   |   |   |--- class: 1\n",
            "|   |   |   |   |   |--- Depth >  2838.75\n",
            "|   |   |   |   |   |   |--- Depth <= 2841.75\n",
            "|   |   |   |   |   |   |   |--- Depth <= 2839.25\n",
            "|   |   |   |   |   |   |   |   |--- class: 2\n",
            "|   |   |   |   |   |   |   |--- Depth >  2839.25\n",
            "|   |   |   |   |   |   |   |   |--- Depth <= 2840.75\n",
            "|   |   |   |   |   |   |   |   |   |--- Depth <= 2839.75\n",
            "|   |   |   |   |   |   |   |   |   |   |--- class: 1\n",
            "|   |   |   |   |   |   |   |   |   |--- Depth >  2839.75\n",
            "|   |   |   |   |   |   |   |   |   |   |--- Depth <= 2840.25\n",
            "|   |   |   |   |   |   |   |   |   |   |   |--- class: 1\n",
            "|   |   |   |   |   |   |   |   |   |   |--- Depth >  2840.25\n",
            "|   |   |   |   |   |   |   |   |   |   |   |--- class: 1\n",
            "|   |   |   |   |   |   |   |   |--- Depth >  2840.75\n",
            "|   |   |   |   |   |   |   |   |   |--- Depth <= 2841.25\n",
            "|   |   |   |   |   |   |   |   |   |   |--- class: 2\n",
            "|   |   |   |   |   |   |   |   |   |--- Depth >  2841.25\n",
            "|   |   |   |   |   |   |   |   |   |   |--- class: 1\n",
            "|   |   |   |   |   |   |--- Depth >  2841.75\n",
            "|   |   |   |   |   |   |   |--- Depth <= 2845.25\n",
            "|   |   |   |   |   |   |   |   |--- Depth <= 2843.75\n",
            "|   |   |   |   |   |   |   |   |   |--- Depth <= 2842.75\n",
            "|   |   |   |   |   |   |   |   |   |   |--- Depth <= 2842.25\n",
            "|   |   |   |   |   |   |   |   |   |   |   |--- class: 1\n",
            "|   |   |   |   |   |   |   |   |   |   |--- Depth >  2842.25\n",
            "|   |   |   |   |   |   |   |   |   |   |   |--- class: 1\n",
            "|   |   |   |   |   |   |   |   |   |--- Depth >  2842.75\n",
            "|   |   |   |   |   |   |   |   |   |   |--- Depth <= 2843.25\n",
            "|   |   |   |   |   |   |   |   |   |   |   |--- class: 1\n",
            "|   |   |   |   |   |   |   |   |   |   |--- Depth >  2843.25\n",
            "|   |   |   |   |   |   |   |   |   |   |   |--- class: 1\n",
            "|   |   |   |   |   |   |   |   |--- Depth >  2843.75\n",
            "|   |   |   |   |   |   |   |   |   |--- class: 1\n",
            "|   |   |   |   |   |   |   |--- Depth >  2845.25\n",
            "|   |   |   |   |   |   |   |   |--- Depth <= 2846.75\n",
            "|   |   |   |   |   |   |   |   |   |--- Depth <= 2846.25\n",
            "|   |   |   |   |   |   |   |   |   |   |--- Depth <= 2845.75\n",
            "|   |   |   |   |   |   |   |   |   |   |   |--- class: 1\n",
            "|   |   |   |   |   |   |   |   |   |   |--- Depth >  2845.75\n",
            "|   |   |   |   |   |   |   |   |   |   |   |--- class: 1\n",
            "|   |   |   |   |   |   |   |   |   |--- Depth >  2846.25\n",
            "|   |   |   |   |   |   |   |   |   |   |--- class: 2\n",
            "|   |   |   |   |   |   |   |   |--- Depth >  2846.75\n",
            "|   |   |   |   |   |   |   |   |   |--- class: 1\n",
            "|   |   |   |   |--- Depth >  2847.25\n",
            "|   |   |   |   |   |--- Depth <= 2889.75\n",
            "|   |   |   |   |   |   |--- Depth <= 2865.75\n",
            "|   |   |   |   |   |   |   |--- Depth <= 2857.25\n",
            "|   |   |   |   |   |   |   |   |--- class: 2\n",
            "|   |   |   |   |   |   |   |--- Depth >  2857.25\n",
            "|   |   |   |   |   |   |   |   |--- Depth <= 2858.50\n",
            "|   |   |   |   |   |   |   |   |   |--- class: 1\n",
            "|   |   |   |   |   |   |   |   |--- Depth >  2858.50\n",
            "|   |   |   |   |   |   |   |   |   |--- class: 2\n",
            "|   |   |   |   |   |   |--- Depth >  2865.75\n",
            "|   |   |   |   |   |   |   |--- Depth <= 2871.50\n",
            "|   |   |   |   |   |   |   |   |--- Depth <= 2868.50\n",
            "|   |   |   |   |   |   |   |   |   |--- Depth <= 2866.75\n",
            "|   |   |   |   |   |   |   |   |   |   |--- Depth <= 2866.25\n",
            "|   |   |   |   |   |   |   |   |   |   |   |--- class: 1\n",
            "|   |   |   |   |   |   |   |   |   |   |--- Depth >  2866.25\n",
            "|   |   |   |   |   |   |   |   |   |   |   |--- class: 2\n",
            "|   |   |   |   |   |   |   |   |   |--- Depth >  2866.75\n",
            "|   |   |   |   |   |   |   |   |   |   |--- class: 2\n",
            "|   |   |   |   |   |   |   |   |--- Depth >  2868.50\n",
            "|   |   |   |   |   |   |   |   |   |--- class: 1\n",
            "|   |   |   |   |   |   |   |--- Depth >  2871.50\n",
            "|   |   |   |   |   |   |   |   |--- Depth <= 2876.25\n",
            "|   |   |   |   |   |   |   |   |   |--- class: 2\n",
            "|   |   |   |   |   |   |   |   |--- Depth >  2876.25\n",
            "|   |   |   |   |   |   |   |   |   |--- Depth <= 2879.25\n",
            "|   |   |   |   |   |   |   |   |   |   |--- class: 1\n",
            "|   |   |   |   |   |   |   |   |   |--- Depth >  2879.25\n",
            "|   |   |   |   |   |   |   |   |   |   |--- Depth <= 2884.75\n",
            "|   |   |   |   |   |   |   |   |   |   |   |--- class: 2\n",
            "|   |   |   |   |   |   |   |   |   |   |--- Depth >  2884.75\n",
            "|   |   |   |   |   |   |   |   |   |   |   |--- truncated branch of depth 4\n",
            "|   |   |   |   |   |--- Depth >  2889.75\n",
            "|   |   |   |   |   |   |--- Depth <= 2904.25\n",
            "|   |   |   |   |   |   |   |--- Depth <= 2900.75\n",
            "|   |   |   |   |   |   |   |   |--- Depth <= 2891.75\n",
            "|   |   |   |   |   |   |   |   |   |--- class: 1\n",
            "|   |   |   |   |   |   |   |   |--- Depth >  2891.75\n",
            "|   |   |   |   |   |   |   |   |   |--- Depth <= 2894.75\n",
            "|   |   |   |   |   |   |   |   |   |   |--- Depth <= 2892.25\n",
            "|   |   |   |   |   |   |   |   |   |   |   |--- class: 1\n",
            "|   |   |   |   |   |   |   |   |   |   |--- Depth >  2892.25\n",
            "|   |   |   |   |   |   |   |   |   |   |   |--- class: 2\n",
            "|   |   |   |   |   |   |   |   |   |--- Depth >  2894.75\n",
            "|   |   |   |   |   |   |   |   |   |   |--- Depth <= 2895.25\n",
            "|   |   |   |   |   |   |   |   |   |   |   |--- class: 1\n",
            "|   |   |   |   |   |   |   |   |   |   |--- Depth >  2895.25\n",
            "|   |   |   |   |   |   |   |   |   |   |   |--- truncated branch of depth 11\n",
            "|   |   |   |   |   |   |   |--- Depth >  2900.75\n",
            "|   |   |   |   |   |   |   |   |--- Depth <= 2903.75\n",
            "|   |   |   |   |   |   |   |   |   |--- class: 1\n",
            "|   |   |   |   |   |   |   |   |--- Depth >  2903.75\n",
            "|   |   |   |   |   |   |   |   |   |--- class: 1\n",
            "|   |   |   |   |   |   |--- Depth >  2904.25\n",
            "|   |   |   |   |   |   |   |--- Depth <= 2910.75\n",
            "|   |   |   |   |   |   |   |   |--- Depth <= 2908.75\n",
            "|   |   |   |   |   |   |   |   |   |--- Depth <= 2905.25\n",
            "|   |   |   |   |   |   |   |   |   |   |--- Depth <= 2904.75\n",
            "|   |   |   |   |   |   |   |   |   |   |   |--- class: 2\n",
            "|   |   |   |   |   |   |   |   |   |   |--- Depth >  2904.75\n",
            "|   |   |   |   |   |   |   |   |   |   |   |--- class: 2\n",
            "|   |   |   |   |   |   |   |   |   |--- Depth >  2905.25\n",
            "|   |   |   |   |   |   |   |   |   |   |--- Depth <= 2907.75\n",
            "|   |   |   |   |   |   |   |   |   |   |   |--- truncated branch of depth 3\n",
            "|   |   |   |   |   |   |   |   |   |   |--- Depth >  2907.75\n",
            "|   |   |   |   |   |   |   |   |   |   |   |--- truncated branch of depth 2\n",
            "|   |   |   |   |   |   |   |   |--- Depth >  2908.75\n",
            "|   |   |   |   |   |   |   |   |   |--- class: 2\n",
            "|   |   |   |   |   |   |   |--- Depth >  2910.75\n",
            "|   |   |   |   |   |   |   |   |--- Depth <= 2915.25\n",
            "|   |   |   |   |   |   |   |   |   |--- Depth <= 2912.75\n",
            "|   |   |   |   |   |   |   |   |   |   |--- Depth <= 2911.75\n",
            "|   |   |   |   |   |   |   |   |   |   |   |--- truncated branch of depth 2\n",
            "|   |   |   |   |   |   |   |   |   |   |--- Depth >  2911.75\n",
            "|   |   |   |   |   |   |   |   |   |   |   |--- truncated branch of depth 2\n",
            "|   |   |   |   |   |   |   |   |   |--- Depth >  2912.75\n",
            "|   |   |   |   |   |   |   |   |   |   |--- Depth <= 2913.25\n",
            "|   |   |   |   |   |   |   |   |   |   |   |--- class: 2\n",
            "|   |   |   |   |   |   |   |   |   |   |--- Depth >  2913.25\n",
            "|   |   |   |   |   |   |   |   |   |   |   |--- truncated branch of depth 4\n",
            "|   |   |   |   |   |   |   |   |--- Depth >  2915.25\n",
            "|   |   |   |   |   |   |   |   |   |--- Depth <= 2918.25\n",
            "|   |   |   |   |   |   |   |   |   |   |--- class: 2\n",
            "|   |   |   |   |   |   |   |   |   |--- Depth >  2918.25\n",
            "|   |   |   |   |   |   |   |   |   |   |--- Depth <= 2922.25\n",
            "|   |   |   |   |   |   |   |   |   |   |   |--- truncated branch of depth 5\n",
            "|   |   |   |   |   |   |   |   |   |   |--- Depth >  2922.25\n",
            "|   |   |   |   |   |   |   |   |   |   |   |--- truncated branch of depth 2\n",
            "|   |   |--- Depth >  2924.25\n",
            "|   |   |   |--- Depth <= 2995.25\n",
            "|   |   |   |   |--- Depth <= 2993.25\n",
            "|   |   |   |   |   |--- Depth <= 2941.75\n",
            "|   |   |   |   |   |   |--- Depth <= 2930.25\n",
            "|   |   |   |   |   |   |   |--- Depth <= 2929.75\n",
            "|   |   |   |   |   |   |   |   |--- Depth <= 2927.25\n",
            "|   |   |   |   |   |   |   |   |   |--- Depth <= 2926.75\n",
            "|   |   |   |   |   |   |   |   |   |   |--- class: 2\n",
            "|   |   |   |   |   |   |   |   |   |--- Depth >  2926.75\n",
            "|   |   |   |   |   |   |   |   |   |   |--- class: 2\n",
            "|   |   |   |   |   |   |   |   |--- Depth >  2927.25\n",
            "|   |   |   |   |   |   |   |   |   |--- class: 2\n",
            "|   |   |   |   |   |   |   |--- Depth >  2929.75\n",
            "|   |   |   |   |   |   |   |   |--- class: 2\n",
            "|   |   |   |   |   |   |--- Depth >  2930.25\n",
            "|   |   |   |   |   |   |   |--- class: 2\n",
            "|   |   |   |   |   |--- Depth >  2941.75\n",
            "|   |   |   |   |   |   |--- Depth <= 2943.25\n",
            "|   |   |   |   |   |   |   |--- class: 1\n",
            "|   |   |   |   |   |   |--- Depth >  2943.25\n",
            "|   |   |   |   |   |   |   |--- Depth <= 2986.25\n",
            "|   |   |   |   |   |   |   |   |--- Depth <= 2974.25\n",
            "|   |   |   |   |   |   |   |   |   |--- Depth <= 2964.75\n",
            "|   |   |   |   |   |   |   |   |   |   |--- Depth <= 2963.75\n",
            "|   |   |   |   |   |   |   |   |   |   |   |--- truncated branch of depth 6\n",
            "|   |   |   |   |   |   |   |   |   |   |--- Depth >  2963.75\n",
            "|   |   |   |   |   |   |   |   |   |   |   |--- truncated branch of depth 2\n",
            "|   |   |   |   |   |   |   |   |   |--- Depth >  2964.75\n",
            "|   |   |   |   |   |   |   |   |   |   |--- class: 2\n",
            "|   |   |   |   |   |   |   |   |--- Depth >  2974.25\n",
            "|   |   |   |   |   |   |   |   |   |--- Depth <= 2975.25\n",
            "|   |   |   |   |   |   |   |   |   |   |--- Depth <= 2974.75\n",
            "|   |   |   |   |   |   |   |   |   |   |   |--- class: 1\n",
            "|   |   |   |   |   |   |   |   |   |   |--- Depth >  2974.75\n",
            "|   |   |   |   |   |   |   |   |   |   |   |--- class: 1\n",
            "|   |   |   |   |   |   |   |   |   |--- Depth >  2975.25\n",
            "|   |   |   |   |   |   |   |   |   |   |--- Depth <= 2980.75\n",
            "|   |   |   |   |   |   |   |   |   |   |   |--- truncated branch of depth 6\n",
            "|   |   |   |   |   |   |   |   |   |   |--- Depth >  2980.75\n",
            "|   |   |   |   |   |   |   |   |   |   |   |--- truncated branch of depth 6\n",
            "|   |   |   |   |   |   |   |--- Depth >  2986.25\n",
            "|   |   |   |   |   |   |   |   |--- Depth <= 2991.25\n",
            "|   |   |   |   |   |   |   |   |   |--- class: 2\n",
            "|   |   |   |   |   |   |   |   |--- Depth >  2991.25\n",
            "|   |   |   |   |   |   |   |   |   |--- Depth <= 2991.75\n",
            "|   |   |   |   |   |   |   |   |   |   |--- class: 2\n",
            "|   |   |   |   |   |   |   |   |   |--- Depth >  2991.75\n",
            "|   |   |   |   |   |   |   |   |   |   |--- class: 2\n",
            "|   |   |   |   |--- Depth >  2993.25\n",
            "|   |   |   |   |   |--- Depth <= 2994.25\n",
            "|   |   |   |   |   |   |--- Depth <= 2993.75\n",
            "|   |   |   |   |   |   |   |--- class: 2\n",
            "|   |   |   |   |   |   |--- Depth >  2993.75\n",
            "|   |   |   |   |   |   |   |--- class: 2\n",
            "|   |   |   |   |   |--- Depth >  2994.25\n",
            "|   |   |   |   |   |   |--- Depth <= 2994.75\n",
            "|   |   |   |   |   |   |   |--- class: 2\n",
            "|   |   |   |   |   |   |--- Depth >  2994.75\n",
            "|   |   |   |   |   |   |   |--- class: 2\n",
            "|   |   |   |--- Depth >  2995.25\n",
            "|   |   |   |   |--- Depth <= 3022.75\n",
            "|   |   |   |   |   |--- class: 2\n",
            "|   |   |   |   |--- Depth >  3022.75\n",
            "|   |   |   |   |   |--- Depth <= 3023.25\n",
            "|   |   |   |   |   |   |--- class: 2\n",
            "|   |   |   |   |   |--- Depth >  3023.25\n",
            "|   |   |   |   |   |   |--- Depth <= 3032.25\n",
            "|   |   |   |   |   |   |   |--- Depth <= 3028.25\n",
            "|   |   |   |   |   |   |   |   |--- class: 2\n",
            "|   |   |   |   |   |   |   |--- Depth >  3028.25\n",
            "|   |   |   |   |   |   |   |   |--- Depth <= 3029.25\n",
            "|   |   |   |   |   |   |   |   |   |--- Depth <= 3028.75\n",
            "|   |   |   |   |   |   |   |   |   |   |--- class: 1\n",
            "|   |   |   |   |   |   |   |   |   |--- Depth >  3028.75\n",
            "|   |   |   |   |   |   |   |   |   |   |--- class: 1\n",
            "|   |   |   |   |   |   |   |   |--- Depth >  3029.25\n",
            "|   |   |   |   |   |   |   |   |   |--- Depth <= 3031.75\n",
            "|   |   |   |   |   |   |   |   |   |   |--- class: 2\n",
            "|   |   |   |   |   |   |   |   |   |--- Depth >  3031.75\n",
            "|   |   |   |   |   |   |   |   |   |   |--- class: 2\n",
            "|   |   |   |   |   |   |--- Depth >  3032.25\n",
            "|   |   |   |   |   |   |   |--- Depth <= 3083.50\n",
            "|   |   |   |   |   |   |   |   |--- Depth <= 3054.25\n",
            "|   |   |   |   |   |   |   |   |   |--- Depth <= 3052.75\n",
            "|   |   |   |   |   |   |   |   |   |   |--- Depth <= 3043.75\n",
            "|   |   |   |   |   |   |   |   |   |   |   |--- class: 2\n",
            "|   |   |   |   |   |   |   |   |   |   |--- Depth >  3043.75\n",
            "|   |   |   |   |   |   |   |   |   |   |   |--- truncated branch of depth 2\n",
            "|   |   |   |   |   |   |   |   |   |--- Depth >  3052.75\n",
            "|   |   |   |   |   |   |   |   |   |   |--- class: 1\n",
            "|   |   |   |   |   |   |   |   |--- Depth >  3054.25\n",
            "|   |   |   |   |   |   |   |   |   |--- class: 2\n",
            "|   |   |   |   |   |   |   |--- Depth >  3083.50\n",
            "|   |   |   |   |   |   |   |   |--- Depth <= 3100.75\n",
            "|   |   |   |   |   |   |   |   |   |--- class: 1\n",
            "|   |   |   |   |   |   |   |   |--- Depth >  3100.75\n",
            "|   |   |   |   |   |   |   |   |   |--- class: 2\n",
            "\n"
          ]
        },
        {
          "output_type": "display_data",
          "data": {
            "text/plain": [
              "<Figure size 432x288 with 1 Axes>"
            ],
            "image/png": "[encoded data removed]"
          },
          "metadata": {
            "needs_background": "light"
          }
        }
      ]
    },
    {
      "cell_type": "code",
      "source": [
        "import pandas as pd\n",
        "import plotly.graph_objects as go\n",
        "\n",
        "# load the data into a pandas DataFrame\n",
        "df = pd.read_csv('WELL_LOG_MAIN_DATASET - 1.csv')\n",
        "\n",
        "# extract the columns you want to plot\n",
        "x = df['Depth']\n",
        "y = df['GR_oil']\n",
        "z = df['NM_M']\n",
        "\n",
        "# create a 3D plot using Plotly\n",
        "fig = go.Figure(data=[go.Scatter3d(x=x, y=y, z=z, mode='markers')])\n",
        "fig.update_layout(scene=dict(xaxis_title='Depth',\n",
        "                             yaxis_title='GR_oil',\n",
        "                             zaxis_title='NM_M'))\n",
        "fig.show()\n"
      ],
      "metadata": {
        "colab": {
          "base_uri": "https://localhost:8080/",
          "height": 542
        },
        "id": "GrFIZzb7vP3W",
        "outputId": "2492c1db-c933-4c9a-d90f-1a62e36d9003"
      },
      "execution_count": null,
      "outputs": [
        {
          "output_type": "display_data",
          "data": {
            "text/html": [
              "<html>\n",
              "<head><meta charset=\"utf-8\" /></head>\n",
              "<body>\n",
              "    <div>            <script src=\"https://cdnjs.cloudflare.com/ajax/libs/mathjax/2.7.5/MathJax.js?config=TeX-AMS-MML_SVG\"></script><script type=\"text/javascript\">if (window.MathJax) {MathJax.Hub.Config({SVG: {font: \"STIX-Web\"}});}</script>                <script type=\"text/javascript\">window.PlotlyConfig = {MathJaxConfig: 'local'};</script>\n",
              "        <script src=\"https://cdn.plot.ly/plotly-2.8.3.min.js\"></script>                <div id=\"47900332-0183-4108-8267-71f57cf7946e\" class=\"plotly-graph-div\" style=\"height:525px; width:100%;\"></div>            <script type=\"text/javascript\">                                    window.PLOTLYENV=window.PLOTLYENV || {};                                    if (document.getElementById(\"47900332-0183-4108-8267-71f57cf7946e\")) {                    Plotly.newPlot(                        \"47900332-0183-4108-8267-71f57cf7946e\",                        [{\"mode\":\"markers\",\"x\":[2793.0,2793.5,2794.0,2794.5,2795.0,2795.5,2796.0,2796.5,2797.0,2797.5,2798.0,2798.5,2799.0,2799.5,2800.0,2800.5,2801.0,2801.5,2802.0,2802.5,2803.0,2803.5,2804.0,2804.5,2805.0,2805.5,2806.0,2806.5,2807.0,2807.5,2808.0,2808.5,2809.0,2809.5,2810.0,2810.5,2811.0,2811.5,2812.0,2812.5,2813.0,2813.5,2814.0,2814.5,2815.0,2815.5,2816.0,2816.5,2817.0,2817.5,2818.0,2818.5,2819.0,2819.5,2820.0,2820.5,2821.0,2821.5,2822.0,2822.5,2823.0,2823.5,2824.0,2824.5,2825.0,2825.5,2826.0,2826.5,2827.0,2827.5,2828.0,2828.5,2829.0,2829.5,2830.0,2830.5,2831.0,2831.5,2832.0,2832.5,2833.0,2833.5,2834.0,2834.5,2835.0,2835.5,2836.0,2836.5,2837.0,2837.5,2838.0,2838.5,2839.0,2839.5,2840.0,2840.5,2841.0,2841.5,2842.0,2842.5,2843.0,2843.5,2844.0,2844.5,2845.0,2845.5,2846.0,2846.5,2847.0,2847.5,2848.0,2848.5,2849.0,2849.5,2850.0,2850.5,2851.0,2851.5,2852.0,2852.5,2853.0,2853.5,2854.0,2854.5,2855.0,2855.5,2856.0,2856.5,2857.0,2857.5,2858.0,2858.5,2859.0,2859.5,2860.0,2860.5,2861.0,2861.5,2862.0,2862.5,2863.0,2863.5,2864.0,2864.5,2865.0,2865.5,2866.0,2866.5,2867.0,2867.5,2868.0,2868.5,2869.0,2869.5,2870.0,2870.5,2871.0,2871.5,2872.0,2872.5,2873.0,2873.5,2874.0,2874.5,2875.0,2875.5,2876.0,2876.5,2877.0,2877.5,2878.0,2878.5,2879.0,2879.5,2880.0,2880.5,2881.0,2881.5,2882.0,2882.5,2883.0,2883.5,2884.0,2884.5,2885.0,2885.5,2886.0,2886.5,2887.0,2887.5,2888.0,2888.5,2889.0,2889.5,2890.0,2890.5,2891.0,2891.5,2892.0,2892.5,2893.0,2893.5,2894.0,2894.5,2895.0,2895.5,2896.0,2896.5,2897.0,2897.5,2898.0,2898.5,2899.0,2899.5,2900.0,2900.5,2901.0,2901.5,2902.0,2902.5,2903.0,2903.5,2904.0,2904.5,2905.0,2905.5,2906.0,2906.5,2907.0,2907.5,2908.0,2908.5,2909.0,2909.5,2910.0,2910.5,2911.0,2911.5,2912.0,2912.5,2913.0,2913.5,2914.0,2914.5,2915.0,2915.5,2916.0,2916.5,2917.0,2917.5,2918.0,2918.5,2919.0,2919.5,2920.0,2920.5,2921.0,2921.5,2922.0,2922.5,2923.0,2923.5,2924.0,2924.5,2925.0,2925.5,2926.0,2926.5,2927.0,2927.5,2928.0,2928.5,2929.0,2929.5,2930.0,2930.5,2931.0,2931.5,2932.0,2932.5,2933.0,2933.5,2934.0,2934.5,2935.0,2935.5,2936.0,2936.5,2937.0,2937.5,2938.0,2938.5,2939.0,2939.5,2940.0,2940.5,2941.0,2941.5,2942.0,2942.5,2943.0,2944.0,2944.0,2944.5,2945.0,2945.5,2946.0,2946.5,2947.0,2947.5,2948.0,2948.5,2949.0,2949.5,2950.0,2950.5,2951.0,2951.5,2952.0,2952.5,2953.0,2953.5,2954.0,2954.5,2955.0,2955.5,2956.0,2956.5,2957.0,2957.5,2958.0,2958.5,2959.0,2959.5,2960.0,2960.5,2961.0,2961.5,2962.0,2962.5,2963.0,2963.5,2964.0,2964.5,2965.0,2965.5,2966.0,2966.5,2967.0,2967.5,2968.0,2968.5,2969.0,2969.5,2970.0,2970.5,2971.0,2971.5,2972.0,2972.5,2973.0,2973.5,2974.0,2974.5,2975.0,2975.5,2976.0,2976.5,2977.0,2977.5,2978.0,2978.5,2979.0,2979.5,2980.0,2980.5,2981.0,2981.5,2982.0,2982.5,2983.0,2983.5,2984.0,2984.5,2985.0,2985.5,2986.0,2986.5,2987.0,2987.5,2988.0,2988.5,2989.0,2989.5,2990.0,2990.5,2991.0,2991.5,2992.0,2992.5,2993.0,2993.5,2994.0,2994.5,2995.0,2995.5,2996.0,2996.5,2997.0,2997.5,2998.0,2998.5,2999.0,2999.5,3000.0,3000.5,3001.0,3001.5,3002.0,3002.5,3003.0,3003.5,3004.0,3004.5,3005.0,3005.5,3006.0,3006.5,3007.0,3007.5,3008.0,3008.5,3009.0,3009.5,3010.0,3010.5,3011.0,3011.5,3012.0,3012.5,3013.0,3013.5,3014.0,3014.5,3015.0,3015.5,3016.0,3016.5,3017.0,3017.5,3018.0,3018.5,3019.0,3019.5,3020.0,3020.5,3021.0,3021.5,3022.0,3022.5,3023.0,3023.5,3024.0,3024.5,3025.0,3025.5,3026.0,3026.5,3027.0,3027.5,3028.0,2774.5,2775.0,2775.5,2776.0,2776.5,2777.0,2777.5,2778.0,2778.5,2779.0,2779.5,2780.0,2780.5,2781.0,2781.5,2782.0,2782.5,2783.0,2783.5,2784.0,2784.5,2785.0,2785.5,2786.0,2786.5,2787.0,2787.5,2788.0,2788.5,2789.0,2789.5,2790.0,2790.5,2791.0,2791.5,2792.0,2792.5,2793.0,2793.5,2794.0,2794.5,2795.0,2795.5,2796.0,2796.5,2797.0,2797.5,2798.0,2798.5,2799.0,2799.5,2800.0,2800.5,2801.0,2801.5,2802.0,2802.5,2803.0,2803.5,2804.0,2804.5,2805.0,2805.5,2806.0,2807.0,2807.5,2808.0,2808.5,2809.0,2809.5,2810.0,2810.5,2811.0,2811.5,2812.0,2812.5,2813.0,2813.5,2814.0,2814.5,2815.0,2815.5,2816.0,2816.5,2817.0,2817.5,2818.0,2818.5,2819.0,2819.5,2820.0,2820.5,2821.0,2821.5,2822.0,2822.5,2823.0,2823.5,2824.0,2824.5,2825.0,2825.5,2826.0,2826.5,2827.0,2827.5,2828.0,2828.5,2829.0,2829.5,2830.0,2830.5,2831.0,2831.5,2832.0,2832.5,2833.0,2833.5,2834.0,2834.5,2835.0,2835.5,2836.0,2836.5,2837.0,2837.5,2838.0,2838.5,2839.0,2839.5,2840.0,2840.5,2841.0,2841.5,2842.0,2842.5,2843.0,2843.5,2844.0,2844.5,2845.0,2845.5,2846.0,2846.5,2847.0,2847.5,2848.0,2848.5,2849.0,2849.5,2850.0,2850.5,2852.5,2853.0,2853.5,2854.0,2854.5,2855.0,2855.5,2856.0,2856.5,2857.0,2857.5,2858.0,2859.0,2859.5,2860.0,2860.5,2861.0,2861.5,2862.0,2862.5,2863.0,2863.5,2864.0,2864.5,2865.0,2865.5,2866.0,2866.5,2867.0,2867.5,2868.0,2868.5,2869.0,2869.5,2870.0,2870.5,2871.0,2871.5,2872.0,2872.5,2873.0,2873.5,2874.0,2874.5,2875.0,2875.5,2876.0,2876.5,2877.0,2877.5,2878.0,2878.5,2879.0,2879.5,2880.0,2880.5,2881.0,2881.5,2882.0,2882.5,2883.0,2883.5,2884.0,2884.5,2885.0,2885.5,2886.0,2886.5,2887.0,2887.5,2888.0,2888.5,2889.0,2889.5,2890.0,2890.5,2891.0,2891.5,2892.0,2892.5,2893.0,2893.5,2894.0,2894.5,2895.0,2895.5,2896.0,2896.5,2897.0,2897.5,2899.5,2900.0,2900.5,2901.0,2901.5,2902.0,2902.5,2903.0,2903.5,2904.0,2904.5,2905.0,2905.5,2906.0,2906.5,2907.0,2907.5,2908.0,2908.5,2909.0,2909.5,2910.0,2910.5,2911.0,2911.5,2912.0,2912.5,2913.0,2913.5,2914.0,2914.5,2915.0,2915.5,2916.0,2916.5,2917.0,2917.5,2918.0,2918.5,2919.0,2919.5,2920.0,2920.5,2921.0,2921.5,2922.0,2922.5,2923.0,2924.0,2924.5,2925.0,2925.5,2926.0,2926.5,2927.0,2930.0,2930.5,2931.0,2931.5,2932.0,2932.5,2933.0,2933.5,2934.0,2934.5,2935.0,2935.5,2936.0,2936.5,2937.0,2937.5,2938.0,2938.5,2939.0,2939.5,2940.0,2940.5,2941.0,2941.5,2942.0,2942.5,2943.0,2943.5,2944.0,2944.5,2945.0,2945.5,2946.0,2948.0,2948.5,2949.0,2949.5,2950.0,2950.5,2951.0,2951.5,2952.0,2952.5,2953.0,2953.5,2954.0,2954.5,2955.0,2955.5,2956.0,2956.5,2957.0,2957.5,2958.0,2958.5,2959.0,2959.5,2960.0,2960.5,2961.0,2961.5,2962.0,2962.5,2963.0,2963.5,2964.0,2964.5,2965.0,2965.5,2966.0,2966.5,2967.0,2967.5,2968.0,2968.5,2969.0,2969.5,2970.0,2970.5,2971.0,2971.5,2972.0,2972.5,2973.0,2974.5,2975.0,2975.5,2976.0,2976.5,2977.0,2977.5,2978.0,2978.5,2979.0,2979.5,2980.0,2980.5,2981.0,2981.5,2982.0,2982.5,2983.0,2983.5,2984.0,2984.5,2985.0,2985.5,2986.0,2986.5,2987.0,2987.5,2988.0,2988.5,2989.0,2989.5,2990.0,2990.5,2991.0,2991.5,2992.0,2992.5,2993.0,2993.5,2994.0,2994.5,2995.0,2995.5,2996.0,2996.5,2997.0,2997.5,2998.0,2998.5,2999.0,2999.5,3000.0,3000.5,3001.0,3001.5,3002.0,3002.5,3003.0,3003.5,3004.0,3004.5,3005.0,3005.5,3006.0,3006.5,3007.0,3007.5,3008.0,2610.5,2611.0,2611.5,2612.0,2612.5,2613.0,2613.5,2614.0,2614.5,2615.0,2615.5,2616.0,2616.5,2617.0,2617.5,2618.0,2618.5,2619.0,2619.5,2620.0,2620.5,2621.0,2621.5,2622.0,2622.5,2623.0,2623.5,2624.0,2624.5,2625.0,2625.5,2626.0,2626.5,2627.0,2627.5,2628.0,2628.5,2629.0,2629.5,2630.0,2630.5,2631.0,2631.5,2632.0,2632.5,2633.0,2633.5,2634.0,2634.5,2635.0,2635.5,2636.0,2636.5,2637.0,2637.5,2638.0,2638.5,2639.0,2639.5,2640.0,2640.5,2641.0,2641.5,2642.0,2642.5,2643.0,2643.5,2644.0,2644.5,2645.0,2645.5,2646.0,2646.5,2647.0,2647.5,2648.0,2648.5,2649.0,2649.5,2650.0,2650.5,2651.0,2651.5,2652.0,2652.5,2653.0,2653.5,2654.0,2654.5,2655.0,2655.5,2656.0,2656.5,2657.0,2657.5,2658.0,2658.5,2659.0,2659.5,2660.0,2660.5,2661.0,2661.5,2662.0,2662.5,2663.0,2663.5,2664.0,2664.5,2665.0,2665.5,2666.0,2666.5,2667.0,2667.5,2668.0,2668.5,2669.0,2669.5,2670.0,2670.5,2671.0,2671.5,2672.0,2672.5,2673.0,2673.5,2674.0,2674.5,2675.0,2675.5,2676.0,2676.5,2677.0,2677.5,2678.0,2678.5,2679.0,2679.5,2680.0,2680.5,2681.0,2681.5,2682.0,2682.5,2683.0,2683.5,2684.0,2684.5,2685.0,2685.5,2686.0,2686.5,2687.0,2687.5,2688.0,2688.5,2689.0,2689.5,2690.0,2690.5,2691.0,2691.5,2692.0,2692.5,2693.0,2693.5,2694.0,2694.5,2695.0,2695.5,2696.0,2696.5,2697.0,2697.5,2698.0,2698.5,2699.0,2699.5,2700.0,2700.5,2701.0,2701.5,2702.0,2702.5,2703.0,2703.5,2704.0,2704.5,2705.0,2705.5,2706.0,2706.5,2707.0,2707.5,2708.0,2708.5,2709.0,2709.5,2710.0,2710.5,2711.0,2711.5,2712.0,2712.5,2713.0,2713.5,2714.0,2714.5,2715.0,2715.5,2716.0,2716.5,2717.0,2717.5,2718.0,2718.5,2719.0,2719.5,2720.0,2720.5,2721.0,2721.5,2722.0,2722.5,2723.0,2723.5,2724.0,2724.5,2725.0,2725.5,2726.0,2726.5,2727.0,2727.5,2728.0,2728.5,2729.0,2729.5,2730.0,2730.5,2731.0,2731.5,2732.0,2732.5,2733.0,2733.5,2734.0,2734.5,2735.0,2735.5,2736.0,2736.5,2737.0,2737.5,2738.0,2738.5,2739.0,2739.5,2740.0,2740.5,2741.0,2741.5,2742.0,2742.5,2743.0,2743.5,2744.0,2744.5,2745.0,2745.5,2746.0,2746.5,2747.0,2747.5,2748.0,2748.5,2749.0,2749.5,2750.0,2750.5,2751.0,2751.5,2752.0,2752.5,2753.0,2753.5,2754.0,2754.5,2755.0,2755.5,2756.0,2756.5,2757.0,2757.5,2758.0,2758.5,2759.0,2759.5,2760.0,2760.5,2761.0,2761.5,2762.0,2762.5,2763.0,2763.5,2764.0,2764.5,2765.0,2765.5,2766.0,2766.5,2767.0,2767.5,2768.0,2768.5,2769.0,2769.5,2770.0,2770.5,2771.0,2771.5,2772.0,2772.5,2773.0,2773.5,2774.0,2774.5,2775.0,2775.5,2776.0,2776.5,2777.0,2777.5,2778.0,2778.5,2779.0,2779.5,2780.0,2780.5,2781.0,2781.5,2782.0,2782.5,2783.0,2783.5,2784.0,2784.5,2785.0,2785.5,2786.0,2786.5,2787.0,2787.5,2788.0,2788.5,2789.0,2789.5,2790.0,2790.5,2791.0,2791.5,2792.0,2792.5,2793.0,2793.5,2794.0,2794.5,2795.0,2795.5,2796.0,2796.5,2797.0,2797.5,2798.0,2798.5,2799.0,2799.5,2800.0,2800.5,2801.0,2801.5,2802.0,2802.5,2803.0,2803.5,2804.0,2804.5,2805.0,2805.5,2806.0,2806.5,2807.0,2807.5,2808.0,2808.5,2810.5,2811.0,2811.5,2812.0,2812.5,2813.0,2813.5,2814.0,2814.5,2815.0,2815.5,2816.0,2816.5,2817.0,2817.5,2818.0,2818.5,2819.0,2819.5,2820.0,2820.5,2821.0,2821.5,2822.0,2822.5,2823.0,2823.5,2824.0,2824.5,2825.0,2825.5,2826.0,2826.5,2827.0,2827.5,2828.0,2828.5,2829.0,2829.5,2830.0,2830.5,2831.0,2831.5,2832.0,2832.5,2833.0,2833.5,2834.0,2834.5,2835.0,2835.5,2836.0,2836.5,2837.0,2837.5,2838.0,2838.5,2839.0,2839.5,2840.0,2840.5,2841.0,2841.5,2842.0,2573.5,2574.0,2574.5,2575.0,2575.5,2576.0,2576.5,2577.0,2577.5,2578.0,2578.5,2579.0,2579.5,2580.0,2580.5,2581.0,2581.5,2582.0,2582.5,2583.0,2583.5,2584.0,2584.5,2585.0,2585.5,2586.0,2586.5,2587.0,2587.5,2588.0,2588.5,2589.0,2589.5,2590.0,2590.5,2591.0,2591.5,2592.0,2592.5,2593.0,2593.5,2594.0,2594.5,2595.0,2595.5,2596.0,2596.5,2597.0,2597.5,2598.0,2598.5,2599.0,2599.5,2600.0,2600.5,2601.0,2601.5,2602.0,2602.5,2603.0,2603.5,2604.0,2604.5,2605.0,2605.5,2606.0,2606.5,2607.0,2607.5,2608.0,2608.5,2609.0,2609.5,2610.0,2610.5,2611.0,2611.5,2612.0,2612.5,2613.0,2613.5,2614.0,2614.5,2615.0,2615.5,2616.0,2616.5,2617.0,2617.5,2618.0,2618.5,2619.0,2619.5,2620.0,2620.5,2621.0,2621.5,2622.0,2622.5,2623.0,2623.5,2624.0,2624.5,2625.0,2625.5,2626.0,2626.5,2627.0,2627.5,2628.0,2628.5,2629.0,2629.5,2630.0,2630.5,2631.0,2632.5,2633.0,2633.5,2634.0,2634.5,2635.0,2635.5,2636.0,2636.5,2637.0,2637.5,2638.0,2638.5,2639.0,2639.5,2640.0,2640.5,2641.0,2641.5,2642.0,2642.5,2643.0,2643.5,2644.0,2644.5,2645.0,2645.5,2646.0,2646.5,2647.0,2647.5,2648.0,2648.5,2649.0,2649.5,2650.0,2650.5,2651.0,2651.5,2652.0,2652.5,2653.0,2653.5,2654.0,2654.5,2655.0,2655.5,2656.0,2656.5,2657.0,2657.5,2658.0,2658.5,2659.0,2659.5,2660.0,2660.5,2661.0,2661.5,2662.0,2662.5,2663.0,2663.5,2664.0,2664.5,2665.0,2665.5,2666.0,2666.5,2667.0,2667.5,2668.0,2668.5,2669.0,2669.5,2671.0,2672.0,2672.5,2673.0,2673.5,2674.0,2674.5,2675.0,2675.5,2676.0,2676.5,2677.0,2677.5,2678.0,2678.5,2679.0,2679.5,2680.0,2680.5,2681.0,2681.5,2682.0,2682.5,2683.0,2683.5,2684.0,2684.5,2685.0,2685.5,2686.0,2686.5,2687.0,2687.5,2688.0,2688.5,2689.0,2689.5,2690.0,2690.5,2691.0,2691.5,2692.0,2692.5,2693.0,2693.5,2694.0,2694.5,2695.0,2695.5,2696.0,2696.5,2696.5,2697.0,2697.5,2698.0,2698.5,2699.0,2699.5,2700.0,2700.5,2701.0,2701.5,2702.0,2702.5,2703.0,2703.5,2704.0,2704.5,2705.0,2705.5,2706.0,2706.5,2707.0,2707.5,2708.0,2708.5,2709.0,2709.5,2710.0,2710.5,2711.0,2711.5,2712.0,2712.5,2713.0,2713.5,2714.0,2714.5,2715.0,2715.5,2716.0,2716.5,2717.0,2717.5,2718.0,2718.5,2719.0,2719.5,2720.0,2720.5,2721.0,2721.5,2721.5,2722.0,2722.5,2723.0,2723.5,2724.0,2724.5,2725.0,2725.5,2726.0,2726.5,2727.0,2727.5,2728.0,2728.5,2729.0,2729.5,2730.0,2730.5,2731.0,2731.5,2732.0,2732.5,2733.0,2733.5,2734.0,2734.5,2735.0,2735.5,2736.0,2736.5,2737.0,2737.5,2738.0,2738.5,2739.0,2739.5,2740.0,2740.5,2741.0,2741.5,2742.0,2742.5,2743.0,2743.5,2744.0,2744.5,2745.0,2745.5,2746.0,2746.5,2747.0,2747.5,2748.0,2748.5,2749.0,2749.5,2750.0,2750.5,2751.0,2751.5,2752.0,2752.5,2753.0,2753.5,2754.0,2754.5,2757.0,2757.5,2758.0,2758.5,2759.0,2759.5,2760.0,2760.5,2761.0,2761.5,2762.0,2762.5,2763.0,2763.5,2764.0,2764.5,2765.0,2765.5,2766.0,2766.5,2767.0,2767.5,2768.0,2768.5,2769.0,2769.5,2770.0,2770.5,2771.0,2771.5,2772.0,2772.5,2773.0,2773.5,2774.0,2774.5,2775.0,2775.5,2776.0,2776.5,2777.0,2777.5,2778.0,2778.5,2779.0,2779.5,2780.0,2780.5,2781.0,2781.5,2782.0,2782.5,2788.0,2793.5,2794.0,2794.5,2795.0,2795.5,2796.0,2796.5,2797.0,2797.5,2798.0,2798.5,2799.0,2799.5,2800.0,2800.5,2801.0,2801.5,2802.0,2802.5,2803.0,2803.5,2804.0,2804.5,2805.0,2805.5,2808.0,2808.5,2809.0,2809.5,2810.0,2810.5,2811.0,2811.5,2812.0,2812.5,2813.0,2813.5,2814.0,2814.5,2815.0,2815.5,2816.0,2816.5,2817.0,2817.5,2818.0,2818.5,2819.0,2819.5,2820.0,2820.5,2821.0,2821.5,2822.0,2822.5,2823.0,2823.5,2824.0,2824.5,2825.0,2825.5,2826.0,2826.5,2827.0,2827.5,2828.0,2828.5,2829.0,2829.5,2830.0,2830.5,2831.0,2831.5,2832.0,2832.5,2833.0,2833.5,2834.0,2837.0,2837.5,2838.0,2838.5,2839.0,2839.5,2840.0,2840.5,2841.0,2841.5,2853.5,2854.0,2854.5,2855.0,2855.5,2856.0,2856.5,2857.0,2857.5,2858.0,2858.5,2859.0,2859.5,2860.0,2860.5,2861.0,2861.5,2862.0,2862.5,2863.0,2863.5,2864.0,2864.5,2865.0,2865.5,2866.0,2866.5,2867.0,2867.5,2868.0,2868.5,2869.0,2869.5,2870.0,2870.5,2871.0,2871.5,2872.0,2872.5,2873.0,2873.5,2874.0,2874.5,2875.0,2875.5,2876.0,2876.5,2877.0,2877.5,2878.0,2878.5,2879.0,2879.5,2880.0,2880.5,2881.0,2881.5,2882.0,2882.5,2883.0,2883.5,2884.0,2884.5,2885.0,2885.5,2886.0,2886.5,2887.0,2887.5,2888.0,2888.5,2889.0,2889.5,2890.0,2890.5,2891.0,2891.5,2892.0,2892.5,2893.0,2893.5,2894.0,2894.5,2895.0,2895.5,2896.0,2896.5,2897.0,2897.5,2898.0,2898.5,2899.0,2899.5,2900.0,2900.5,2901.0,2901.5,2902.0,2902.5,2903.0,2903.5,2904.0,2904.5,2905.0,2905.5,2906.0,2906.5,2907.0,2907.5,2908.0,2908.5,2909.0,2909.5,2910.0,2910.5,2911.0,2911.5,2912.0,2912.5,2913.0,2913.5,2914.0,2914.5,2915.0,2915.5,2916.0,2916.5,2917.0,2917.5,2918.0,2918.5,2919.0,2919.5,2920.0,2920.5,2921.0,2921.5,2922.0,2922.5,2923.0,2923.5,2924.0,2924.5,2925.0,2925.5,2926.0,2926.5,2927.0,2927.5,2928.0,2928.5,2929.0,2929.5,2930.0,2930.5,2931.0,2931.5,2932.0,2932.5,2933.0,2933.5,2934.0,2934.5,2935.0,2935.5,2936.0,2936.5,2937.0,2937.5,2938.0,2938.5,2939.0,2939.5,2940.0,2940.5,2941.0,2941.5,2942.0,2942.5,2943.0,2943.5,2944.0,2944.5,2945.0,2945.5,2946.0,2946.5,2947.0,2947.5,2948.0,2948.5,2949.0,2949.5,2950.0,2950.5,2951.0,2951.5,2952.0,2952.5,2953.0,2953.5,2954.0,2954.5,2955.0,2955.5,2956.0,2956.5,2957.0,2957.5,2958.0,2958.5,2959.0,2959.5,2960.0,2960.5,2961.0,2961.5,2962.0,2962.5,2963.0,2963.5,2964.0,2964.5,2965.0,2965.5,2966.0,2966.5,2967.0,2967.5,2968.0,2968.5,2969.0,2969.5,2970.0,2970.5,2971.0,2971.5,2972.0,2972.5,2973.0,2973.5,2974.0,2974.5,2975.0,2975.5,2976.0,2976.5,2977.0,2977.5,2978.0,2978.5,2979.0,2979.5,2980.0,2980.5,2981.0,2981.5,2982.0,2982.5,2983.0,2983.5,2984.0,2984.5,2985.0,2985.5,2986.0,2986.5,2987.0,2987.5,2988.0,2988.5,2989.0,2989.5,2990.0,2990.5,2991.0,2991.5,2992.0,2992.5,2993.0,2993.5,2994.0,2994.5,2995.0,2995.5,2996.0,2996.5,2997.0,2997.5,2998.0,2998.5,2999.0,2999.5,3000.0,3000.5,3001.0,3001.5,3002.0,3002.5,3003.0,3003.5,3004.0,3004.5,3005.0,3005.5,3006.0,3006.5,3007.0,3007.5,3008.0,3008.5,3009.0,3009.5,3010.0,3010.5,3011.0,3011.5,3012.0,3012.5,3013.0,3013.5,3014.0,3014.5,3015.0,3015.5,3016.0,3016.5,3017.0,3017.5,3018.0,3018.5,3019.0,3019.5,3020.0,3020.5,3021.0,3021.5,3022.0,3022.5,3023.0,3023.5,3024.0,3024.5,3025.0,3025.5,3026.0,3026.5,3027.0,3027.5,3028.0,3028.5,3029.0,3029.5,3030.0,3030.5,3031.0,3031.5,3032.0,3032.5,3033.0,3033.5,3034.0,3034.5,3035.0,3035.5,3036.0,3036.5,3037.0,3037.5,3038.0,3038.5,3039.0,3039.5,3040.0,3040.5,3041.0,3041.5,3042.0,3042.5,3043.0,3043.5,3044.0,3044.5,3045.0,3045.5,3046.0,3046.5,3047.0,3047.5,3048.0,3048.5,3049.0,3049.5,3050.0,3050.5,3051.0,3051.5,3052.0,3052.5,3053.0,3053.5,3054.0,3054.5,3055.0,3055.5,3056.0,3056.5,3057.0,3057.5,3058.0,3058.5,3059.0,3059.5,3060.0,3060.5,3018.0,3018.5,3019.0,3019.5,3020.0,3020.5,3021.0,3021.5,3022.0,3022.5,3023.0,3023.5,2843.0,2843.5,2914.0,2914.5,2915.0,2915.5,3009.5,3010.0,3010.5,3011.0,3011.5,3012.0,3012.5,3013.0,3013.5,3014.0,3061.5,3062.0,3062.5,3063.0,3063.5,3064.0,3064.5,3065.0,3065.5,3066.0,3066.5,3067.0,3067.5,3068.0,3068.5,3069.0,3069.5,3070.0,3070.5,3071.0,3071.5,3072.0,3072.5,3073.0,3073.5,3074.0,3074.5,3075.0,3075.5,3076.0,3076.5,3077.0,3077.5,3078.0,3078.5,3079.0,3079.5,3080.0,3104.0,3104.5,2826.0,2826.5,2827.0,2827.5,2828.0,2828.5,2829.0,2829.5,2830.0,2830.5,2831.0,2831.5,2832.0,2832.5,2833.0,2833.5,2834.0,2834.5,2835.0,2835.5,2836.0,2836.5,2837.0,2837.5,2838.0,2838.5,2839.0,2839.5,2840.0,2840.5,2841.0,2841.5,2842.0,2842.5,2843.0,2843.5,2844.0,2844.5,2845.0,2845.5,2846.0,2846.5,2847.0,2847.5,2848.0,2848.5,2849.0,2849.5,2850.0,2850.5,2851.0,2851.5,2852.0,2852.5,2853.0,2853.5,2854.0,2854.5,2855.0,2855.5,2856.0,2856.5,2857.0,2857.5,2858.0,2858.5,2859.0,2859.5,2860.0,2860.5,2861.0,2861.5,2862.0,2862.5,2863.0,2863.5,2864.0,2864.5,2865.0,2865.5,2866.0,2866.5,2867.0,2867.5,2868.0,2868.5,2869.0,2869.5,2870.0,2870.5,2871.0,2871.5,2872.0,2872.5,2873.0,2873.5,2874.0,2874.5,2875.0,2875.5,2876.0,2876.5,2877.0,2877.5,2878.0,2878.5,2879.0,2879.5,2880.0,2880.5,2881.0,2881.5,2882.0,2882.5,2883.0,2883.5,2884.0,2884.5,2885.0,2885.5,2886.0,2886.5,2887.0,2887.5,2888.0,2888.5,2889.0,2889.5,2890.0,2890.5,2891.0,2891.5,2892.0,2892.5,2893.0,2893.5,2894.0,2894.5,2895.0,2895.5,2896.0,2896.5,2897.0,2897.5,2898.0,2898.5,2899.0,2899.5,2900.0,2900.5,2901.0,2901.5,2902.0,2902.5,2903.0,2903.5,2904.0,2904.5,2905.0,2905.5,2906.0,2906.5,2907.0,2907.5,2908.0,2908.5,2909.0,2909.5,2910.0,2910.5,2911.0,2911.5,2912.0,2912.5,2913.0,2913.5,2914.0,2914.5,2915.0,2915.5,2916.0,2916.5,2917.0,2917.5,2918.0,2918.5,2919.0,2919.5,2920.0,2920.5,2921.0,2921.5,2922.0,2922.5,2923.0,2923.5,2924.0,2924.5,2925.0,2925.5,2926.0,2926.5,2927.0,2927.5,2928.0,2928.5,2929.0,2929.5,2930.0,2930.5,2931.0,2931.5,2932.0,2932.5,2933.0,2933.5,2934.0,2934.5,2935.0,2935.5,2936.0,2936.5,2937.0,2937.5,2938.0,2938.5,2939.0,2939.5,2940.0,2940.5,2941.0,2941.5,2942.0,2942.5,2943.0,2943.5,2944.0,2944.5,2945.0,2945.5,2946.0,2946.5,2947.0,2947.5,2948.0,2948.5,2949.0,2949.5,2950.0,2950.5,2951.0,2951.5,2952.0,2952.5,2953.0,2953.5,2954.0,2954.5,2955.0,2955.5,2956.0,2956.5,2957.0,2957.5,2958.0,2958.5,2959.0,2959.5,2960.0,2960.5,2961.0,2961.5,2962.0,2962.5,2963.0,2963.5,2964.0,2964.5,2965.0,2965.5,2966.0,2966.5,2967.0,2967.5,2968.0,2968.5,2969.0,2969.5,2970.0,2970.5,2971.0,2971.5,2972.0,2972.5,2973.0,2973.5,2974.0,2974.5,2975.0,2975.5,2976.0,2976.5,2977.0,2977.5,2978.0,2978.5,2979.0,2979.5,2980.0,2980.5,2981.0,2981.5,2982.0,2982.5,2983.0,2983.5,2984.0,2984.5,2985.0,2985.5,2986.0,2986.5,2987.0,2987.5,2988.0,2988.5,2989.0,2989.5,2990.0,2990.5,2991.0,2991.5,2992.0,2992.5,2993.0,2993.5,2994.0,2994.5,2995.0,2995.5,2996.0,2996.5,2997.0,2997.5,2998.0,2998.5,2999.0,2999.5,3000.0,3000.5,3001.0,3001.5,3002.0,3002.5,3003.0,3003.5,3004.0,3004.5,3005.0,3005.5,3006.0,3006.5,3007.0,3007.5,3008.0,3008.5,3009.0,3009.5,3010.0,3010.5,3011.0,3011.5,3012.0,3012.5,3013.0,3013.5,3014.0,3014.5,3015.0,3015.5,3016.0,3016.5,3017.0,3017.5,3018.0,3018.5,3019.0,3019.5,3020.0,3020.5,3021.0,3021.5,3022.0,3022.5,3023.0,3023.5,3024.0,3024.5,3025.0,3025.5,3026.0,3026.5,3027.0,3027.5,3028.0,3028.5,3029.0,3029.5,3030.0,3030.5,3031.0,3031.5,3032.0,3032.5,3033.0,3033.5,3034.0,3034.5,3035.0,3035.5,3036.0,3036.5,3037.0,3037.5,3038.0,3038.5,3039.0,3039.5,3040.0,3040.5,3041.0,3041.5,3042.0,3042.5,3043.0,3043.5,3044.0,3044.5,3045.0,3045.5,3046.0,3046.5,3047.0,3047.5,3048.0,3048.5,3049.0,3049.5,3050.0,3050.5,3051.0,3051.5,3052.0,3052.5,3053.0,3053.5,3054.0,3054.5,3055.0,3055.5,3056.0,3056.5,3057.0,2917.5,2918.0,2918.5,2919.0,2919.5,2920.0,2920.5,2921.0,2921.5,2922.0,2922.5,2923.0,2923.5,2924.0,2924.5,2925.0,2925.5,2926.0,2926.5,2927.0,2927.5,2928.0,2928.5,2929.0,2929.5,2930.0,2930.5,2931.0,2931.5,2932.0,2932.5,2933.0,2933.5,2934.0,2934.5,2935.0,2935.5,2936.0,2936.5,2937.0,2937.5,2938.0,2938.5,2939.0,2939.5,2940.0,2940.5,2941.0,2941.5,2942.0,2942.5,2943.0,2943.5,2944.0,2944.5,2945.0,2945.5,2946.0,2946.5,2947.0,2947.5,2948.0,2948.5,2949.0,2949.5,2950.0,2950.5,2951.0,2951.5,2952.0,2952.5,2953.0,2953.5,2954.0,2954.5,2955.0,2955.5,2956.0,2956.5,2957.0,2957.5,2958.0,2958.5,2959.0,2959.5,2960.0,2960.5,2961.0,2961.5,2962.0,2962.5,2963.0,2963.5,2964.0,2964.5,2965.0,2965.5,2966.0,2966.5,2967.0,2967.5,2968.0,2968.5,2969.0,2969.5,2970.0,2970.5,2971.0,2971.5,2972.0,2972.5,2973.0,2973.5,2974.0,2974.5,2975.0,2975.5,2976.0,2976.5,2977.0,2977.5,2978.0,2978.5,2979.0,2979.5,2980.0,2980.5,2981.0,2981.5,2982.0,2982.5,2983.0,2983.5,2984.0,2984.5,2985.0,2985.5,2986.0,2986.5,2987.0,2987.5,2988.0,2988.5,2989.0,2989.5,2990.0,2990.5,2991.0,2991.5,2992.0,2992.5,2993.0,2993.5,2994.0,2994.5,2995.0,2995.5,2996.0,2996.5,2997.0,2997.5,2998.0,2998.5,2999.0,2999.5,3000.0,3000.5,3001.0,3001.5,3002.0,3002.5,3003.0,3003.5,3004.0,3004.5,3005.0,3005.5,3006.0,3006.5,3007.0,3007.5,3008.0,3008.5,3009.0,3009.5,3010.0,3010.5,3011.0,3011.5,3012.0,3012.5,3013.0,3013.5,3014.0,3014.5,3015.0,3015.5,3016.0,3016.5,3017.0,3017.5,3018.0,3018.5,3019.0,3019.5,3020.0,3020.5,3021.0,3021.5,3022.0,3022.5,3023.0,3023.5,3024.0,3024.5,3025.0,3025.5,3026.0,3026.5,3027.0,3027.5,3028.0,3028.5,3029.0,3029.5,3030.0,3030.5,3031.0,3031.5,3032.0,3032.5,3033.0,3033.5,3034.0,3034.5,3035.0,3035.5,3036.0,3036.5,3037.0,3037.5,3038.0,3038.5,3039.0,3039.5,3040.0,3040.5,3041.0,3041.5,3042.0,3042.5,3044.0,3044.5,3045.0,3045.5,3046.0,3046.5,3047.0,3047.5,3048.0,3048.5,3049.0,3049.5,3050.0,3050.5,3051.0,3054.0,3054.5,3055.0,3055.5,3056.0,3056.5,3057.0,3057.5,3058.0,3058.5,3059.0,3059.5,3060.0,3060.5,3061.0,3061.5,3062.0,3062.5,3063.0,3063.5,3064.0,3064.5,3065.0,3065.5,3066.0,3066.5,3067.0,3067.5,3068.0,3068.5,3069.0,3069.5,3070.0,3070.5,3071.0,3071.5,3072.0,3072.5,3073.0,3073.5,3074.0,3074.5,3075.0,3075.5,3076.0,3076.5,3077.0,3077.5,3078.0,3078.5,3079.0,3079.5,3080.0,3080.5,3081.0,3081.5,3082.0,3082.5,3083.0,3083.5,3084.0,3084.5,3085.0,3085.5,3086.0,3086.5,3087.0,3087.5,3088.0,3088.5,3089.0,3089.5,3090.0,3090.5,3091.0,3091.5,3092.0,3092.5,3093.0,3093.5,3094.0,3094.5,3095.0,3095.5,3096.0,3096.5,3097.0,3097.5,3098.0,3098.5,3099.0,3099.5,3100.0,3100.5,3101.0,3101.5,3102.0,3102.5,3103.0,3103.5,3104.0,3104.5,3105.0,3105.5,3106.0,3106.5,3107.0,3107.5,3108.0,3108.5,3109.0,3109.5,3110.0,3110.5,3111.0,3111.5,3112.0,3112.5,3113.0,3113.5,3114.0,3114.5,3115.0,3115.5,3116.0,3116.5,3117.0,3117.5,3118.0,3118.5,3119.0,3119.5,3120.0,3120.5,3121.0,3121.5,3122.0,3122.5],\"y\":[0,0,0,0,0,0,0,0,0,0,0,0,0,0,0,0,0,0,0,1,1,1,0,0,1,0,0,0,0,0,0,0,0,1,1,1,0,0,0,0,0,0,0,1,1,1,1,1,0,0,0,0,0,1,1,1,1,1,1,1,1,1,1,1,0,1,0,1,0,0,0,0,0,0,1,1,1,1,1,1,1,1,1,1,1,0,0,0,0,0,0,0,1,0,0,0,0,0,0,0,1,1,1,0,0,0,0,0,0,0,0,0,0,0,0,0,0,0,0,0,0,0,0,0,0,0,0,0,0,0,0,0,0,1,1,1,1,1,1,1,1,1,1,1,1,1,1,1,1,1,0,0,0,0,0,0,0,0,0,0,0,0,0,0,0,0,0,0,0,0,0,1,0,0,0,0,0,0,1,1,1,1,1,1,1,1,1,1,1,1,1,1,1,1,1,0,0,0,0,0,0,0,0,0,0,0,0,0,0,0,0,0,0,0,0,0,0,0,0,0,0,0,0,0,0,1,1,1,1,1,1,1,1,1,1,1,1,0,0,0,0,0,0,1,0,0,0,0,0,0,0,1,0,1,0,0,0,0,0,0,0,0,0,0,0,1,1,1,1,1,1,1,1,1,1,0,0,0,0,0,0,0,0,0,0,0,0,0,0,0,0,1,1,1,1,1,1,1,0,0,0,0,0,0,0,0,0,0,0,0,0,0,0,0,0,0,0,0,0,0,0,0,0,0,0,0,0,0,0,0,0,0,0,0,0,0,0,0,0,0,0,0,0,0,0,0,0,0,0,0,0,0,0,0,0,0,0,0,0,0,0,0,0,0,0,0,0,0,1,1,1,1,1,1,1,1,1,1,1,0,0,1,1,1,1,1,1,1,1,1,1,1,1,1,1,1,1,1,1,1,1,1,1,1,1,1,1,1,1,1,1,1,1,0,0,0,0,0,0,0,0,0,1,1,1,1,1,1,1,1,1,1,1,1,1,1,0,1,0,0,0,0,0,0,0,0,1,1,1,1,1,1,1,1,1,1,1,1,1,1,1,1,1,1,1,1,1,1,1,1,1,0,0,0,0,0,0,0,0,0,0,0,0,0,0,0,0,0,0,0,0,0,1,1,1,1,1,1,1,1,1,1,1,1,1,1,1,1,0,1,1,0,0,0,0,0,0,0,0,0,0,0,0,0,0,0,0,0,1,0,0,0,0,1,1,1,1,1,1,1,1,0,0,0,0,0,0,0,0,1,1,1,1,1,1,1,0,0,0,0,0,1,1,1,1,1,0,0,0,0,0,0,0,0,0,0,0,0,0,0,0,0,0,0,0,0,0,0,0,1,1,1,1,1,0,0,0,0,1,1,1,1,1,1,1,1,1,1,1,1,1,1,1,1,0,0,0,0,0,0,0,0,0,1,1,1,1,1,1,1,1,1,1,1,0,0,0,0,0,0,0,0,0,0,0,0,0,0,0,1,0,0,0,0,0,0,1,1,0,0,0,0,0,1,1,1,1,1,1,1,1,0,0,0,0,0,0,0,0,0,0,0,0,0,0,0,0,1,1,1,0,0,0,0,0,0,0,0,0,0,1,0,0,0,0,0,0,0,0,0,0,0,0,0,0,0,1,1,1,1,1,1,1,1,1,0,0,1,0,0,1,0,0,0,0,0,0,0,1,1,0,1,1,0,1,0,0,0,0,0,0,0,0,0,0,0,0,0,0,0,0,1,1,1,1,1,1,1,0,0,0,0,0,0,0,0,0,1,1,1,1,1,1,1,1,1,1,1,1,1,1,0,0,0,0,0,0,0,0,0,0,0,0,0,0,0,0,0,0,0,0,0,0,0,0,0,0,0,0,0,0,0,0,0,0,0,0,0,0,0,0,0,0,0,0,0,0,0,0,0,0,0,0,0,0,0,0,0,0,0,0,0,1,1,1,1,1,1,1,1,1,1,1,1,1,1,1,1,1,1,1,1,1,1,1,1,1,1,1,1,1,1,1,1,1,1,1,1,1,1,1,1,1,1,0,0,0,0,0,0,0,0,0,0,0,0,0,0,0,0,0,0,0,0,1,1,1,1,1,0,0,0,0,0,0,0,0,0,0,0,0,0,0,0,0,0,0,0,0,0,0,0,1,1,1,1,1,1,1,1,1,1,1,1,1,0,0,0,0,0,0,0,0,0,0,0,0,0,0,0,0,0,0,1,1,1,1,1,1,1,1,1,1,1,1,1,0,0,0,1,1,1,1,0,0,0,0,0,0,0,0,0,1,1,0,0,0,0,0,0,0,0,0,0,0,0,0,0,0,1,1,1,1,1,1,0,0,0,0,0,0,0,0,0,0,1,1,1,1,1,0,0,0,0,0,0,0,0,0,0,0,0,0,0,0,0,0,1,1,1,1,1,1,1,1,1,1,1,1,1,0,0,0,0,0,0,0,0,0,1,1,1,1,1,1,1,1,1,1,1,1,1,1,1,1,1,1,1,1,1,1,0,0,0,0,0,0,1,1,0,0,0,0,0,0,0,0,0,0,0,0,0,0,1,1,1,1,1,1,1,1,1,1,1,1,1,1,1,1,1,1,1,1,1,1,1,0,0,0,0,0,0,0,0,0,0,0,0,0,0,0,0,0,0,0,0,1,0,0,0,0,0,0,0,0,0,1,1,1,1,1,1,1,1,1,1,1,1,0,0,0,0,0,0,0,0,1,1,1,0,0,0,0,0,0,0,0,0,0,0,1,1,1,1,1,1,1,1,0,0,0,0,0,0,0,0,1,1,1,1,1,1,1,1,1,1,1,1,1,1,1,1,1,1,1,1,0,1,1,1,1,1,1,1,1,0,0,0,0,0,0,0,0,0,0,0,0,0,0,0,0,0,0,0,0,0,0,0,0,0,0,0,0,0,0,0,0,0,0,0,0,0,0,0,0,0,0,0,0,0,0,0,0,0,0,0,0,0,0,0,0,0,0,0,0,0,0,1,1,1,1,1,1,1,1,1,1,1,1,1,1,1,1,1,1,1,1,1,1,1,1,1,1,1,1,1,1,1,1,1,1,0,0,0,0,0,0,0,0,0,0,0,0,0,1,1,1,1,1,1,0,0,0,0,0,0,0,0,1,1,1,0,0,0,0,0,0,0,0,0,0,0,0,0,0,0,0,0,0,0,0,0,0,0,0,0,1,1,1,1,1,0,1,0,1,1,0,1,1,1,1,1,1,1,1,1,1,1,1,1,0,0,0,0,0,0,0,0,0,0,0,0,0,0,0,0,0,0,0,0,0,0,0,0,1,1,1,1,0,0,0,0,0,0,0,0,0,0,0,0,1,1,1,1,0,0,0,0,0,0,0,0,0,0,0,0,0,0,0,0,0,0,0,0,0,0,0,0,0,0,0,0,0,0,0,0,1,1,0,0,0,0,0,0,1,0,0,0,0,0,0,0,0,1,1,1,1,1,1,1,1,1,1,1,1,1,1,1,0,0,1,1,1,1,1,1,1,0,0,0,0,0,0,0,0,0,0,0,0,0,0,0,0,1,1,1,1,1,0,0,0,0,0,1,1,1,1,0,0,0,0,0,0,0,0,1,1,1,0,0,0,0,1,1,1,1,1,1,0,0,0,0,0,0,0,0,1,1,1,1,1,0,0,0,0,0,0,0,0,0,0,0,0,0,0,0,0,0,0,0,0,0,0,1,0,0,0,0,0,0,0,0,0,1,1,0,0,0,0,0,0,0,0,0,0,0,0,0,0,0,0,0,0,0,0,0,0,0,0,0,0,0,0,0,0,0,0,0,0,1,1,1,1,1,1,1,1,1,1,1,1,1,0,0,0,0,0,0,0,0,0,0,0,0,1,1,1,1,1,1,1,1,1,1,0,0,0,0,0,0,0,0,0,0,0,0,0,0,0,0,0,0,1,1,1,1,1,1,1,1,0,0,0,0,0,0,0,0,0,0,0,0,0,0,0,0,0,0,0,0,0,1,1,1,1,1,0,0,0,0,0,0,0,0,0,0,0,0,0,0,0,0,0,0,0,0,0,0,0,0,0,0,0,0,0,0,0,0,0,0,0,0,0,0,0,0,0,0,0,0,0,0,0,0,0,0,0,0,0,1,1,1,1,1,1,1,1,1,1,1,1,1,1,1,1,1,1,1,1,1,1,1,0,0,0,0,0,0,0,0,0,0,0,0,0,0,1,0,0,0,0,0,0,1,1,1,1,1,1,0,0,0,0,0,0,0,1,1,1,1,1,1,0,0,0,0,0,0,0,0,0,0,0,0,0,0,0,0,0,0,0,0,0,0,0,0,0,1,1,0,0,0,0,0,0,0,0,0,0,0,0,0,0,0,0,0,0,0,0,0,0,0,0,0,0,1,1,1,1,1,1,1,0,0,0,1,1,0,0,0,0,0,0,0,0,0,0,0,0,1,1,1,1,1,1,1,1,1,1,1,1,1,1,1,1,1,1,0,0,0,0,0,0,1,1,1,0,0,0,0,0,0,1,0,0,0,0,0,0,0,0,0,0,0,0,0,0,0,0,0,0,0,0,0,0,0,0,0,0,1,1,1,1,1,1,1,1,1,1,1,1,1,1,1,1,1,1,1,1,0,0,0,0,0,0,0,0,0,0,0,0,0,0,0,0,0,0,0,0,0,0,0,1,1,1,1,1,1,1,1,1,1,1,1,1,1,1,1,1,1,1,1,1,1,1,0,0,0,0,0,0,0,0,0,0,0,0,0,0,0,0,0,0,0,0,0,0,0,0,0,0,0,1,1,1,1,1,1,1,1,1,1,1,1,0,0,0,0,0,0,0,0,0,0,0,0,0,0,0,0,0,0,0,0,0,0,0,1,1,1,1,1,1,1,1,1,1,1,1,0,0,0,1,1,1,1,1,1,1,1,1,1,1,1,1,1,0,0,0,0,0,0,0,0,0,0,0,0,0,0,0,0,0,0,0,0,0,0,0,0,0,0,0,0,0,0,0,0,0,0,0,0,0,0,0,0,0,0,0,0,0,0,0,0,0,0,0,0,0,0,0,0,0,0,0,0,0,0,0,1,1,1,1,1,1,1,1,1,1,1,1,1,1,1,1,1,1,1,1,1,1,1,1,1,1,1,1,1,1,1,1,1,1,1,1,0,0,0,1,0,0,0,0,0,0,0,0,0,0,0,0,0,0,1,1,1,1,1,1,1,1,1,1,1,1,1,1,1,1,1,1,1,1,1,1,1,1,1,1,1,1,1,1,1,1,1,1,1,1,1,1,1,1,1,1,1,1,1,1,1,1,1,1,1,1,1,1,1,1,1,1,1,1,1,1,1,1,1,0,0,0,0,0,1,1,0,0,0,0,0,0,0,0,0,0,0,0,0,0,0,0,0,1,1,1,1,1,1,1,1,1,0,0,0,0,0,1,1,1,0,0,0,0,0,1,1,1,1,1,1,1,1,1,1,1,1,1,1,1,1,1,1,0,0,0,0,0,0,0,0,0,0,0,0,0,1,1,1,1,1,1,1,1,1,1,1,1,1,0,0,0,0,0,0,0,0,0,0,0,1,1,1,1,1,0,0,0,0,0,0,0,0,0,0,0,0,0,0,1,1,1,1,1,1,1,1,0,0,0,0,0,0,0,0,0,1,1,1,0,0,0,0,0,1,1,1,1,1,1,1,1,1,1,1,1,1,0,0,0,1,1,1,1,1,1,1,1,1,1,1,1,1,1,1,1,1,1,1,1,1,1,1,1,1,1,1,1,1,1,1,1,1,1,1,1,0,0,0,0,0,0,0,0,0,0,0,0,0,0,0,0,0,1,1,1,1,1,1,1,1,1,1,1,1,1,1,1,1,1,1,1,1,1,1,1,1,1,1,1,1,0,0,0,0,0,0,0,0,0,0,1,1,1,0,0,0,0,0,1,1,1,1,1,1,1,1,1,1,1,1,0,0,0,0,0,0,0,0,0,0,0,1,1,0,0,0,0,0,0,1,1,1,1,1,1,1,1,1,1,1,1,1,1,1,0,0,0,0,0,0,0,0,0,0,0,0,0,0,1,1,1,1,1,1,1,1,1,1,1,1,1,1,1,1,1,1,1,1,1,1,1,1,1,1,1,1,1,1,1,1,0,0,0,0,0,0,0,0,0,0,0,0,0,0,0,0,0,0,0,0,0,0,0,0,0,0,0,0,0,0,0,0,0,0,0,0,0,0,0,0,0,0,0,0,0,0,0,0,0,1,1,1,1,1,1,1,1,1,1,1,1,1,1,1,1,1,1,1,1,1,1,1,1,1,1,1,1,1,1,1,1,1,1,1,1,1,1,1,1,1,1,1,1,0,0,0,0,0,1,1,0,0,0,0,0,0,0,0,0,0,0,0,0,0,1,1,1,1,0,0,0,0,0,0,0,0,0,0,0,0,0,0,0,0,0,0,0,1,1,1,1,1,1,1,1,1,1,1,0,0,0,0,0,0,0,1,1,1,1,1,1,0,0,0,0,0,0,0,0,0,0,0,0,0,1,1,1,1,1,1,1,1,1,1,1,1,1,1,1,1,1,1,1,1,1,1,1,1,1,1,1,1,1,1,1,1,1,1,1,1,1,1,1,1,1,0,0,0,0,0,0,0,1,1,1,1,1,1,1,0,0,0,0,0,0,0,0,0,0,1,0,1,1,1,1,0,0,0,0,1,0,0,0,1,1,1,1,1,1,1,1,1,1,1,1,1,1,1,1,1,0,0,1,1,0,0,0,0,0,0,0,0,0,0,0,0,0,0,0,0,0,0,0,0,0,0,0,1,1,1,1,1,1,1,1,1,1,1,1,1,1,1,1,0,0,0,0,0,0,0,0,0,0,0,0,0,0,0,0,0,0,0,0,0,0,0,0,0,0,0,1,1,1,1,1,1,1,1,1,1,1,1,1,1,1,0,0,0,0,0,0,0,0,0,0,0,0,0,0,1,1,1,1,1,1,1,0,1,1,1,1,1,1,1,1,1,1,1,1,0,0,0,0,0,0,0,0,0,1,1,1,1,1,1,1,1,1,1,1,1,1,1,1,1,1,1,1,1,1,1,1,1,1,1,1,1,1,1,1,1,1,1,0,0,0,0,0,0,0,0,0,0,0,0,0,0,0,0,0,0,0,0,0,0,0,1,0,0,0,0,0,0,0,0,0,0,0,0,0,0,0,0,0,0,0,0,0,1,1,1,1,1,1,1,1,1,1,1,1,1,1,1,1,1,1,1,1,1,1,1,1,1,1,1,1,1,1,1,1,1,1,1,1,1,1,1,1,1,1,1,1,1],\"z\":[1,1,1,1,1,1,1,1,1,1,1,1,1,1,1,1,1,1,1,1,1,1,1,1,1,1,1,1,1,1,1,1,1,1,1,1,1,1,1,1,1,1,1,2,2,2,2,2,2,2,2,2,2,2,2,2,2,2,2,2,2,2,2,2,2,2,2,2,2,2,2,2,2,2,2,2,2,2,2,2,2,2,2,2,2,2,2,2,2,2,2,2,2,2,1,1,1,1,1,1,1,1,1,1,1,1,1,1,1,1,1,1,1,1,1,1,1,1,1,1,1,1,1,1,1,1,1,1,1,1,1,1,2,2,2,2,2,2,2,2,2,2,2,2,2,2,2,2,2,2,1,1,1,1,1,1,1,1,1,1,1,1,1,1,1,1,1,1,1,1,1,1,1,1,1,1,1,1,2,2,2,2,2,2,2,2,2,2,2,2,2,2,2,2,1,1,1,1,1,1,1,1,1,1,1,1,1,1,1,1,1,1,1,1,1,1,1,1,1,1,1,1,1,1,2,2,2,2,2,2,2,2,2,2,2,2,1,1,1,1,1,1,1,1,1,1,1,1,1,1,1,1,1,1,1,1,1,1,1,1,1,1,1,1,1,2,2,2,2,2,2,2,2,2,1,1,1,1,1,1,1,1,1,1,1,1,1,1,1,1,2,2,2,2,2,2,2,2,2,2,2,2,2,2,2,2,2,2,2,2,2,1,1,1,1,1,1,1,1,1,1,1,1,1,1,1,1,1,1,1,1,1,1,1,1,1,1,1,1,1,1,1,1,1,1,1,1,1,1,1,1,1,1,1,1,1,1,1,1,1,1,1,1,1,1,1,1,1,2,2,2,2,2,2,2,2,2,2,2,2,2,2,2,2,2,2,2,2,2,2,2,2,2,2,2,2,2,2,2,2,2,2,2,2,2,2,2,2,2,2,2,2,2,2,2,2,2,2,2,2,2,2,2,2,2,2,2,2,2,2,2,2,2,2,2,2,2,2,2,2,2,2,2,2,2,2,2,2,2,2,2,2,2,2,2,2,2,2,2,2,2,2,2,2,2,2,2,2,2,2,2,1,1,1,1,1,1,1,1,1,1,1,1,1,1,1,1,1,1,1,1,1,1,1,1,1,1,1,1,1,1,1,1,1,1,1,1,1,1,1,1,1,1,1,1,1,1,1,1,1,1,1,1,1,1,1,1,1,1,1,1,1,1,1,2,2,2,2,2,2,2,2,2,2,2,2,2,2,2,2,2,2,2,2,2,2,2,2,2,2,2,2,2,2,2,2,2,2,2,2,2,2,2,2,1,1,1,1,1,1,1,1,1,1,1,1,1,1,1,1,1,1,1,1,1,1,1,1,1,1,1,1,1,1,1,1,1,1,1,1,1,1,1,1,1,1,1,1,1,1,1,1,1,2,2,2,2,2,2,2,2,2,2,1,1,1,1,1,1,1,1,1,1,1,1,1,1,1,1,1,1,1,1,1,1,1,1,1,1,1,1,1,1,2,2,2,2,2,2,2,1,1,1,1,1,1,1,1,1,1,1,1,1,1,1,1,1,1,1,1,1,1,1,1,1,1,1,1,1,1,1,1,1,1,1,1,1,1,1,1,1,1,1,1,1,1,1,1,1,1,1,1,1,1,1,1,1,1,1,1,1,1,1,1,1,1,1,1,1,1,1,1,1,1,1,1,1,1,1,1,1,1,1,1,1,1,1,1,1,1,1,1,2,2,2,2,2,1,1,1,1,1,1,1,1,1,1,2,2,2,2,2,2,2,2,2,2,2,2,2,2,2,2,2,2,2,2,2,2,2,1,1,1,1,1,1,1,1,1,1,1,1,1,1,1,1,1,1,1,1,1,1,1,1,1,1,1,1,1,1,1,1,1,1,1,1,1,1,1,1,1,1,1,1,1,1,1,1,1,1,1,1,2,2,2,2,2,2,2,2,2,2,2,2,2,2,2,2,2,2,2,2,2,2,2,2,2,2,2,2,2,2,2,2,2,2,2,2,2,2,2,2,2,2,2,2,2,2,2,2,2,2,2,2,2,2,2,2,2,2,2,2,2,2,2,2,2,2,2,2,1,1,1,1,1,1,1,1,1,1,1,1,1,1,1,1,1,1,1,1,1,1,1,1,1,1,1,1,1,1,1,1,1,1,1,1,1,1,1,1,1,1,1,1,1,1,1,1,1,1,1,1,1,2,2,2,2,2,2,2,2,2,2,2,2,2,2,2,2,2,2,2,2,2,2,2,2,2,2,2,2,2,2,2,2,2,2,2,2,2,2,2,2,2,2,2,2,2,2,2,2,2,2,2,2,2,2,2,2,2,2,2,2,2,2,2,2,2,2,2,1,1,1,1,1,1,1,1,1,1,1,1,1,1,1,1,1,1,1,1,1,1,1,1,1,1,1,1,1,1,1,1,1,1,1,1,1,1,1,2,2,2,2,2,2,2,2,2,2,2,2,2,2,2,2,2,2,2,2,2,2,2,1,1,1,1,1,1,1,1,1,1,1,1,1,1,1,1,1,1,1,1,1,2,2,2,2,2,2,2,2,2,2,2,2,2,2,2,2,2,2,2,2,1,1,1,1,1,1,1,1,1,1,1,1,1,1,1,1,1,1,1,1,1,1,1,1,1,1,1,1,1,1,1,1,2,2,2,2,2,2,2,2,2,1,1,1,1,1,1,1,1,1,1,1,1,1,1,1,1,1,1,1,1,1,1,1,1,2,2,2,2,2,2,1,1,1,1,1,1,1,1,1,1,1,1,2,2,2,2,2,2,2,2,2,2,2,2,2,2,2,2,2,2,2,2,2,2,2,2,2,2,2,2,2,2,2,2,2,2,2,2,1,1,1,1,1,1,1,1,1,1,1,1,1,1,1,1,1,1,1,1,1,1,1,1,1,1,1,1,1,1,1,1,1,1,1,1,1,1,1,1,1,1,1,1,1,1,1,1,1,1,1,1,1,1,1,2,2,2,2,2,2,2,2,2,2,2,2,2,2,2,2,2,2,2,2,2,2,2,2,2,2,2,2,2,2,2,2,2,2,2,2,2,2,2,2,2,2,2,2,2,2,2,2,2,1,1,1,1,1,1,1,1,1,1,2,2,2,2,2,1,1,1,1,1,1,1,1,1,1,1,1,1,1,1,1,1,1,1,1,1,1,1,1,1,1,1,1,1,1,1,1,1,1,1,1,1,1,1,1,1,1,1,1,1,1,1,1,1,1,1,1,1,1,1,1,1,1,1,1,1,1,1,1,1,1,1,1,1,1,1,2,2,2,2,2,2,2,2,2,2,2,2,2,2,2,2,2,2,2,2,2,2,2,2,2,2,2,2,2,2,2,2,2,2,2,2,2,2,2,2,2,2,2,2,1,1,1,1,1,1,1,1,1,1,1,1,1,1,1,1,1,1,1,1,1,1,1,1,1,1,1,1,1,1,1,1,1,1,1,1,1,1,1,1,1,1,1,1,1,1,1,1,1,1,1,1,1,1,1,1,1,1,1,1,1,1,1,1,1,2,2,2,2,2,2,2,2,2,2,1,1,1,1,1,1,1,1,1,1,1,1,1,1,1,1,1,1,1,1,1,1,1,1,1,1,1,1,1,1,1,1,1,1,1,1,1,1,1,1,1,1,1,1,1,1,1,1,1,1,1,2,1,1,1,1,1,1,1,1,1,1,1,1,1,1,1,1,1,1,1,1,1,1,1,1,1,1,1,1,1,1,1,1,1,1,1,1,1,1,1,1,1,1,1,1,1,1,1,1,1,1,1,2,1,1,1,1,1,1,1,1,1,1,1,1,1,1,1,1,1,1,1,1,1,1,1,1,1,1,1,1,1,1,1,1,1,1,1,1,1,1,1,1,1,1,1,1,1,1,1,1,1,1,1,1,1,1,1,1,2,2,2,2,2,2,2,2,2,2,1,1,1,1,1,1,1,1,1,1,1,1,1,1,1,1,1,1,1,1,2,2,2,2,2,2,2,2,2,2,2,2,2,2,2,2,2,2,2,2,1,1,1,1,1,1,1,1,1,1,1,1,1,1,1,1,1,1,1,1,1,1,1,1,1,1,1,1,1,1,1,1,1,1,1,1,1,1,2,2,2,2,2,2,2,2,2,2,2,2,2,2,2,2,2,2,2,2,2,2,2,2,2,2,2,2,2,2,2,2,2,2,2,2,2,2,2,2,2,2,2,2,2,2,2,2,2,2,2,2,2,2,2,2,2,2,2,2,2,2,2,1,1,1,1,1,1,1,1,1,1,1,1,1,1,1,1,1,1,1,1,1,1,1,1,1,1,1,1,1,1,1,1,1,1,1,1,1,1,1,1,1,1,1,1,2,2,2,2,2,2,2,2,2,2,2,2,2,2,2,2,2,2,2,2,2,2,2,2,2,2,2,2,2,2,2,2,2,2,2,2,2,2,2,2,2,2,2,2,2,2,2,2,2,2,2,2,2,2,2,2,2,2,2,2,1,1,1,1,1,1,1,1,1,1,1,1,1,1,1,1,1,1,1,1,1,1,1,1,1,1,1,1,1,1,1,1,1,1,2,2,2,2,2,2,2,2,2,2,2,2,2,2,2,2,2,2,2,2,1,1,1,1,1,1,1,1,1,1,1,1,1,1,1,1,1,1,1,1,1,1,2,2,2,2,2,2,2,2,2,2,2,2,2,2,2,2,2,2,2,2,2,2,2,2,1,1,1,1,1,1,1,1,1,1,1,1,1,1,1,1,1,1,1,1,1,1,1,1,1,1,2,2,2,2,2,2,2,2,2,2,2,2,1,1,1,1,1,1,1,1,1,1,1,1,1,1,1,1,1,1,1,1,1,1,1,1,2,2,2,2,2,2,2,2,2,2,1,1,1,1,1,1,1,1,2,2,2,2,2,2,2,2,2,2,2,2,2,2,2,2,2,2,2,2,2,2,2,2,2,2,2,2,2,2,2,2,2,2,2,2,1,1,1,1,1,1,1,1,1,1,1,1,1,1,1,1,1,1,1,1,1,1,1,1,1,1,1,1,1,1,1,1,1,1,1,1,1,1,2,2,2,2,2,2,2,2,2,2,2,2,2,2,2,2,2,2,2,2,2,2,2,2,2,2,2,2,2,2,2,2,2,2,2,2,2,2,2,2,2,2,2,2,2,2,2,2,2,2,2,2,2,2,2,2,2,2,2,2,2,2,2,2,2,2,2,2,2,2,2,2,2,2,2,2,2,2,2,2,2,2,2,2,2,2,2,2,2,2,2,2,2,2,2,2,2,2,2,2,2,2,2,2,2,2,2,2,2,2,2,2,2,2,2,2,2,2,2,2,2,2,2,2,2,1,1,1,1,1,1,1,1,1,1,1,1,1,1,1,1,1,1,1,1,1,1,1,1,1,1,1,1,1,1,1,1,1,1,1,1,1,1,2,2,2,2,1,2,2,2,2,2,2,2,2,2,2,2,2,2,2,2,2,2,2,2,2,2,2,2,2,2,2,2,2,2,2,2,2,2,2,2,2,2,2,2,2,2,2,2,2,2,2,2,2,2,2,2,2,2,2,2,2,2,2,2,2,2,2,2,2,2,2,2,2,2,2,2,2,2,2,2,2,2,2,2,2,2,2,1,1,1,1,1,1,1,1,1,1,1,1,1,1,1,1,1,1,1,1,1,1,1,1,1,1,1,1,1,1,1,1,2,2,2,2,2,2,2,2,2,2,2,2,2,2,2,2,2,2,2,2,2,2,2,2,2,2,2,2,2,2,2,2,2,2,2,2,2,2,2,1,1,1,1,1,1,1,1,1,1,2,2,2,2,2,2,2,2,2,2,2,2,2,2,2,2,2,2,2,2,2,2,2,2,2,2,1,1,1,1,1,1,1,1,1,1,1,1,1,1,1,1,1,1,1,1,1,1,2,2,2,2,2,2,2,2,2,2,1,1,1,1,1,1,1,1,1,1,1,1,1,1,1,1,1,1,1,1,2,2,2,2,2,2,2,2,2,2,2,2,2,1,1,1,1,1,1,1,1,1,1,1,1,1,1,2,2,2,2,2,2,2,2,2,2,2,2,2,2,2,2,2,2,2,2,2,2,2,2,2,2,2,2,2,2,2,2,2,2,2,2,2,2,2,2,2,2,2,1,1,1,1,1,1,1,1,1,1,1,1,1,1,1,1,1,1,1,1,1,1,1,1,1,1,1,1,1,1,1,1,1,1,1,1,1,1,1,1,1,2,2,2,2,2,2,2,2,2,2,2,2,2,2,2,2,2,2,2,2,2,2,2,2,2,2,2,2,2,2,2,2,2,2,2,2,2,2,2,2,2,2,2,2,2,2,2,2,2,2,2,2,2,2,2,2,2,2,2,2,2,2,2,2,2,2,2,2,1,1,1,1,1,1,1,1,1,1,1,1,1,1,1,1,1,1,1,2,2,2,2,2,2,2,2,2,2,2,2,2,2,2,2,2,2,2,2,2,2,2,2,2,2,2,2,2,2,2,2,2,2,2,2,2,2,2,2,2,2,2,2,2,2,2,2,2,2,2,2,2,2,2,2,2,2,2,2,2,2,2,2,2,2,2,2,2,2,2,2,2,2,2,2,2,2,2,2,2,2,2,2,2,2,2,2,2,2,2,2,2,2,1,1,1,1,1,1,1,1,1,1,1,1,1,1,1,1,1,1,1,1,1,1,1,2,2,2,2,2,2,2,2,2,2,2,2,2,2,2,2,2,2,2,2,2,2,2,2,2,2,2,2,2,2,2,2,1,1,1,1,1,1,1,1,1,1,1,2,2,2,2,2,2,2,2,2,2,2,2,2,2,2,2,2,2,2,2,2,2,2,2,2,2,2,2,2,2,1,1,1,1,1,1,1,1,1,1,1,1,1,1,1,2,2,2,2,2,2,2,2,2,2,2,2,2,2,1,1,1,1,1,1,1,1,1,1,1,1,1,1,2,2,2,2,2,2,2,2,2,2,2,2,2,2,1,2,2,2,2,2,2,2,2,2,2,2,2,2,2,2,2,2,2,2,2,2,2,2,2,2,2,2,2,2,2,2,2,2,2,2,2,2,2,2,2,2,2,2,2,2,2,2,2,2,2,2,2,2,2,2,2,2,2,2,2,2,2,2,2,1,1,1,1,1,1,1,1,1,1,1,1,1,1,1,1,1,1,1,1,1,1,1,1,1,1,1,1,1,2,2,2,2,2,2,2,2,2,2,2,2,2,2,2,2,2,2,2,2,2,2,2,2,2,2,2,2,2,2,2,2,2,2,2,2,2,2,2,2,2,2,2,2],\"type\":\"scatter3d\"}],                        {\"template\":{\"data\":{\"bar\":[{\"error_x\":{\"color\":\"#2a3f5f\"},\"error_y\":{\"color\":\"#2a3f5f\"},\"marker\":{\"line\":{\"color\":\"#E5ECF6\",\"width\":0.5},\"pattern\":{\"fillmode\":\"overlay\",\"size\":10,\"solidity\":0.2}},\"type\":\"bar\"}],\"barpolar\":[{\"marker\":{\"line\":{\"color\":\"#E5ECF6\",\"width\":0.5},\"pattern\":{\"fillmode\":\"overlay\",\"size\":10,\"solidity\":0.2}},\"type\":\"barpolar\"}],\"carpet\":[{\"aaxis\":{\"endlinecolor\":\"#2a3f5f\",\"gridcolor\":\"white\",\"linecolor\":\"white\",\"minorgridcolor\":\"white\",\"startlinecolor\":\"#2a3f5f\"},\"baxis\":{\"endlinecolor\":\"#2a3f5f\",\"gridcolor\":\"white\",\"linecolor\":\"white\",\"minorgridcolor\":\"white\",\"startlinecolor\":\"#2a3f5f\"},\"type\":\"carpet\"}],\"choropleth\":[{\"colorbar\":{\"outlinewidth\":0,\"ticks\":\"\"},\"type\":\"choropleth\"}],\"contour\":[{\"colorbar\":{\"outlinewidth\":0,\"ticks\":\"\"},\"colorscale\":[[0.0,\"#0d0887\"],[0.1111111111111111,\"#46039f\"],[0.2222222222222222,\"#7201a8\"],[0.3333333333333333,\"#9c179e\"],[0.4444444444444444,\"#bd3786\"],[0.5555555555555556,\"#d8576b\"],[0.6666666666666666,\"#ed7953\"],[0.7777777777777778,\"#fb9f3a\"],[0.8888888888888888,\"#fdca26\"],[1.0,\"#f0f921\"]],\"type\":\"contour\"}],\"contourcarpet\":[{\"colorbar\":{\"outlinewidth\":0,\"ticks\":\"\"},\"type\":\"contourcarpet\"}],\"heatmap\":[{\"colorbar\":{\"outlinewidth\":0,\"ticks\":\"\"},\"colorscale\":[[0.0,\"#0d0887\"],[0.1111111111111111,\"#46039f\"],[0.2222222222222222,\"#7201a8\"],[0.3333333333333333,\"#9c179e\"],[0.4444444444444444,\"#bd3786\"],[0.5555555555555556,\"#d8576b\"],[0.6666666666666666,\"#ed7953\"],[0.7777777777777778,\"#fb9f3a\"],[0.8888888888888888,\"#fdca26\"],[1.0,\"#f0f921\"]],\"type\":\"heatmap\"}],\"heatmapgl\":[{\"colorbar\":{\"outlinewidth\":0,\"ticks\":\"\"},\"colorscale\":[[0.0,\"#0d0887\"],[0.1111111111111111,\"#46039f\"],[0.2222222222222222,\"#7201a8\"],[0.3333333333333333,\"#9c179e\"],[0.4444444444444444,\"#bd3786\"],[0.5555555555555556,\"#d8576b\"],[0.6666666666666666,\"#ed7953\"],[0.7777777777777778,\"#fb9f3a\"],[0.8888888888888888,\"#fdca26\"],[1.0,\"#f0f921\"]],\"type\":\"heatmapgl\"}],\"histogram\":[{\"marker\":{\"pattern\":{\"fillmode\":\"overlay\",\"size\":10,\"solidity\":0.2}},\"type\":\"histogram\"}],\"histogram2d\":[{\"colorbar\":{\"outlinewidth\":0,\"ticks\":\"\"},\"colorscale\":[[0.0,\"#0d0887\"],[0.1111111111111111,\"#46039f\"],[0.2222222222222222,\"#7201a8\"],[0.3333333333333333,\"#9c179e\"],[0.4444444444444444,\"#bd3786\"],[0.5555555555555556,\"#d8576b\"],[0.6666666666666666,\"#ed7953\"],[0.7777777777777778,\"#fb9f3a\"],[0.8888888888888888,\"#fdca26\"],[1.0,\"#f0f921\"]],\"type\":\"histogram2d\"}],\"histogram2dcontour\":[{\"colorbar\":{\"outlinewidth\":0,\"ticks\":\"\"},\"colorscale\":[[0.0,\"#0d0887\"],[0.1111111111111111,\"#46039f\"],[0.2222222222222222,\"#7201a8\"],[0.3333333333333333,\"#9c179e\"],[0.4444444444444444,\"#bd3786\"],[0.5555555555555556,\"#d8576b\"],[0.6666666666666666,\"#ed7953\"],[0.7777777777777778,\"#fb9f3a\"],[0.8888888888888888,\"#fdca26\"],[1.0,\"#f0f921\"]],\"type\":\"histogram2dcontour\"}],\"mesh3d\":[{\"colorbar\":{\"outlinewidth\":0,\"ticks\":\"\"},\"type\":\"mesh3d\"}],\"parcoords\":[{\"line\":{\"colorbar\":{\"outlinewidth\":0,\"ticks\":\"\"}},\"type\":\"parcoords\"}],\"pie\":[{\"automargin\":true,\"type\":\"pie\"}],\"scatter\":[{\"marker\":{\"colorbar\":{\"outlinewidth\":0,\"ticks\":\"\"}},\"type\":\"scatter\"}],\"scatter3d\":[{\"line\":{\"colorbar\":{\"outlinewidth\":0,\"ticks\":\"\"}},\"marker\":{\"colorbar\":{\"outlinewidth\":0,\"ticks\":\"\"}},\"type\":\"scatter3d\"}],\"scattercarpet\":[{\"marker\":{\"colorbar\":{\"outlinewidth\":0,\"ticks\":\"\"}},\"type\":\"scattercarpet\"}],\"scattergeo\":[{\"marker\":{\"colorbar\":{\"outlinewidth\":0,\"ticks\":\"\"}},\"type\":\"scattergeo\"}],\"scattergl\":[{\"marker\":{\"colorbar\":{\"outlinewidth\":0,\"ticks\":\"\"}},\"type\":\"scattergl\"}],\"scattermapbox\":[{\"marker\":{\"colorbar\":{\"outlinewidth\":0,\"ticks\":\"\"}},\"type\":\"scattermapbox\"}],\"scatterpolar\":[{\"marker\":{\"colorbar\":{\"outlinewidth\":0,\"ticks\":\"\"}},\"type\":\"scatterpolar\"}],\"scatterpolargl\":[{\"marker\":{\"colorbar\":{\"outlinewidth\":0,\"ticks\":\"\"}},\"type\":\"scatterpolargl\"}],\"scatterternary\":[{\"marker\":{\"colorbar\":{\"outlinewidth\":0,\"ticks\":\"\"}},\"type\":\"scatterternary\"}],\"surface\":[{\"colorbar\":{\"outlinewidth\":0,\"ticks\":\"\"},\"colorscale\":[[0.0,\"#0d0887\"],[0.1111111111111111,\"#46039f\"],[0.2222222222222222,\"#7201a8\"],[0.3333333333333333,\"#9c179e\"],[0.4444444444444444,\"#bd3786\"],[0.5555555555555556,\"#d8576b\"],[0.6666666666666666,\"#ed7953\"],[0.7777777777777778,\"#fb9f3a\"],[0.8888888888888888,\"#fdca26\"],[1.0,\"#f0f921\"]],\"type\":\"surface\"}],\"table\":[{\"cells\":{\"fill\":{\"color\":\"#EBF0F8\"},\"line\":{\"color\":\"white\"}},\"header\":{\"fill\":{\"color\":\"#C8D4E3\"},\"line\":{\"color\":\"white\"}},\"type\":\"table\"}]},\"layout\":{\"annotationdefaults\":{\"arrowcolor\":\"#2a3f5f\",\"arrowhead\":0,\"arrowwidth\":1},\"autotypenumbers\":\"strict\",\"coloraxis\":{\"colorbar\":{\"outlinewidth\":0,\"ticks\":\"\"}},\"colorscale\":{\"diverging\":[[0,\"#8e0152\"],[0.1,\"#c51b7d\"],[0.2,\"#de77ae\"],[0.3,\"#f1b6da\"],[0.4,\"#fde0ef\"],[0.5,\"#f7f7f7\"],[0.6,\"#e6f5d0\"],[0.7,\"#b8e186\"],[0.8,\"#7fbc41\"],[0.9,\"#4d9221\"],[1,\"#276419\"]],\"sequential\":[[0.0,\"#0d0887\"],[0.1111111111111111,\"#46039f\"],[0.2222222222222222,\"#7201a8\"],[0.3333333333333333,\"#9c179e\"],[0.4444444444444444,\"#bd3786\"],[0.5555555555555556,\"#d8576b\"],[0.6666666666666666,\"#ed7953\"],[0.7777777777777778,\"#fb9f3a\"],[0.8888888888888888,\"#fdca26\"],[1.0,\"#f0f921\"]],\"sequentialminus\":[[0.0,\"#0d0887\"],[0.1111111111111111,\"#46039f\"],[0.2222222222222222,\"#7201a8\"],[0.3333333333333333,\"#9c179e\"],[0.4444444444444444,\"#bd3786\"],[0.5555555555555556,\"#d8576b\"],[0.6666666666666666,\"#ed7953\"],[0.7777777777777778,\"#fb9f3a\"],[0.8888888888888888,\"#fdca26\"],[1.0,\"#f0f921\"]]},\"colorway\":[\"#636efa\",\"#EF553B\",\"#00cc96\",\"#ab63fa\",\"#FFA15A\",\"#19d3f3\",\"#FF6692\",\"#B6E880\",\"#FF97FF\",\"#FECB52\"],\"font\":{\"color\":\"#2a3f5f\"},\"geo\":{\"bgcolor\":\"white\",\"lakecolor\":\"white\",\"landcolor\":\"#E5ECF6\",\"showlakes\":true,\"showland\":true,\"subunitcolor\":\"white\"},\"hoverlabel\":{\"align\":\"left\"},\"hovermode\":\"closest\",\"mapbox\":{\"style\":\"light\"},\"paper_bgcolor\":\"white\",\"plot_bgcolor\":\"#E5ECF6\",\"polar\":{\"angularaxis\":{\"gridcolor\":\"white\",\"linecolor\":\"white\",\"ticks\":\"\"},\"bgcolor\":\"#E5ECF6\",\"radialaxis\":{\"gridcolor\":\"white\",\"linecolor\":\"white\",\"ticks\":\"\"}},\"scene\":{\"xaxis\":{\"backgroundcolor\":\"#E5ECF6\",\"gridcolor\":\"white\",\"gridwidth\":2,\"linecolor\":\"white\",\"showbackground\":true,\"ticks\":\"\",\"zerolinecolor\":\"white\"},\"yaxis\":{\"backgroundcolor\":\"#E5ECF6\",\"gridcolor\":\"white\",\"gridwidth\":2,\"linecolor\":\"white\",\"showbackground\":true,\"ticks\":\"\",\"zerolinecolor\":\"white\"},\"zaxis\":{\"backgroundcolor\":\"#E5ECF6\",\"gridcolor\":\"white\",\"gridwidth\":2,\"linecolor\":\"white\",\"showbackground\":true,\"ticks\":\"\",\"zerolinecolor\":\"white\"}},\"shapedefaults\":{\"line\":{\"color\":\"#2a3f5f\"}},\"ternary\":{\"aaxis\":{\"gridcolor\":\"white\",\"linecolor\":\"white\",\"ticks\":\"\"},\"baxis\":{\"gridcolor\":\"white\",\"linecolor\":\"white\",\"ticks\":\"\"},\"bgcolor\":\"#E5ECF6\",\"caxis\":{\"gridcolor\":\"white\",\"linecolor\":\"white\",\"ticks\":\"\"}},\"title\":{\"x\":0.05},\"xaxis\":{\"automargin\":true,\"gridcolor\":\"white\",\"linecolor\":\"white\",\"ticks\":\"\",\"title\":{\"standoff\":15},\"zerolinecolor\":\"white\",\"zerolinewidth\":2},\"yaxis\":{\"automargin\":true,\"gridcolor\":\"white\",\"linecolor\":\"white\",\"ticks\":\"\",\"title\":{\"standoff\":15},\"zerolinecolor\":\"white\",\"zerolinewidth\":2}}},\"scene\":{\"xaxis\":{\"title\":{\"text\":\"Depth\"}},\"yaxis\":{\"title\":{\"text\":\"GR_oil\"}},\"zaxis\":{\"title\":{\"text\":\"NM_M\"}}}},                        {\"responsive\": true}                    ).then(function(){\n",
              "                            \n",
              "var gd = document.getElementById('47900332-0183-4108-8267-71f57cf7946e');\n",
              "var x = new MutationObserver(function (mutations, observer) {{\n",
              "        var display = window.getComputedStyle(gd).display;\n",
              "        if (!display || display === 'none') {{\n",
              "            console.log([gd, 'removed!']);\n",
              "            Plotly.purge(gd);\n",
              "            observer.disconnect();\n",
              "        }}\n",
              "}});\n",
              "\n",
              "// Listen for the removal of the full notebook cells\n",
              "var notebookContainer = gd.closest('#notebook-container');\n",
              "if (notebookContainer) {{\n",
              "    x.observe(notebookContainer, {childList: true});\n",
              "}}\n",
              "\n",
              "// Listen for the clearing of the current output cell\n",
              "var outputEl = gd.closest('.output');\n",
              "if (outputEl) {{\n",
              "    x.observe(outputEl, {childList: true});\n",
              "}}\n",
              "\n",
              "                        })                };                            </script>        </div>\n",
              "</body>\n",
              "</html>"
            ]
          },
          "metadata": {}
        }
      ]
    },
    {
      "cell_type": "markdown",
      "source": [
        "# Label Encoding using scikit-learn library:"
      ],
      "metadata": {
        "id": "0wb7wp56mpdZ"
      }
    },
    {
      "cell_type": "code",
      "source": [
        "import pandas as pd\n",
        "df = pd.read_csv(\"WELL_LOG_MAIN_DATASET.csv\")"
      ],
      "metadata": {
        "id": "pcbGuP5RJE3f"
      },
      "execution_count": null,
      "outputs": []
    },
    {
      "cell_type": "code",
      "source": [
        "from sklearn.preprocessing import LabelEncoder\n",
        "\n",
        "le = LabelEncoder()\n",
        "df['Presence'] = le.fit_transform(df['Presence'])\n",
        "df['Well Name'] = le.fit_transform(df['Well Name'])\n",
        "df['Formation'] = le.fit_transform(df['Formation'])"
      ],
      "metadata": {
        "id": "s-Z0dX6inBQg"
      },
      "execution_count": null,
      "outputs": []
    },
    {
      "cell_type": "code",
      "source": [
        "df.drop(['new'], axis=1)"
      ],
      "metadata": {
        "colab": {
          "base_uri": "https://localhost:8080/",
          "height": 505
        },
        "id": "ch8UbBFnn_qg",
        "outputId": "2f343f44-9e1a-4a87-b82a-1b9e22d7353d"
      },
      "execution_count": null,
      "outputs": [
        {
          "output_type": "execute_result",
          "data": {
            "text/plain": [
              "      Formation  Facies   Depth      GR  ILD_log10  DeltaPHI   PHIND     PE  \\\n",
              "0             1       3  2793.0  77.450      0.664     9.900  11.915  4.600   \n",
              "1             1       3  2793.5  78.260      0.661    14.200  12.565  4.100   \n",
              "2             1       3  2794.0  79.050      0.658    14.800  13.050  3.600   \n",
              "3             1       3  2794.5  86.100      0.655    13.900  13.115  3.500   \n",
              "4             1       3  2795.0  74.580      0.647    13.500  13.300  3.400   \n",
              "...         ...     ...     ...     ...        ...       ...     ...    ...   \n",
              "3227         12       5  3120.5  46.719      0.947     1.828   7.254  3.617   \n",
              "3228         12       5  3121.0  44.563      0.953     2.241   8.013  3.344   \n",
              "3229         12       5  3121.5  49.719      0.964     2.925   8.013  3.190   \n",
              "3230         12       5  3122.0  51.469      0.965     3.083   7.708  3.152   \n",
              "3231         12       5  3122.5  50.031      0.970     2.609   6.668  3.295   \n",
              "\n",
              "      NM_M  RELPOS  Well Name  Presence  \n",
              "0        1   1.000          7         0  \n",
              "1        1   0.979          7         0  \n",
              "2        1   0.957          7         0  \n",
              "3        1   0.936          7         0  \n",
              "4        1   0.915          7         0  \n",
              "...    ...     ...        ...       ...  \n",
              "3227     2   0.685          0         2  \n",
              "3228     2   0.677          0         2  \n",
              "3229     2   0.669          0         0  \n",
              "3230     2   0.661          0         0  \n",
              "3231     2   0.653          0         0  \n",
              "\n",
              "[3232 rows x 12 columns]"
            ],
            "text/html": [
              "\n",
              "  <div id=\"df-224bf3f3-c3ec-459b-bcb7-0286ed213c69\">\n",
              "    <div class=\"colab-df-container\">\n",
              "      <div>\n",
              "<style scoped>\n",
              "    .dataframe tbody tr th:only-of-type {\n",
              "        vertical-align: middle;\n",
              "    }\n",
              "\n",
              "    .dataframe tbody tr th {\n",
              "        vertical-align: top;\n",
              "    }\n",
              "\n",
              "    .dataframe thead th {\n",
              "        text-align: right;\n",
              "    }\n",
              "</style>\n",
              "<table border=\"1\" class=\"dataframe\">\n",
              "  <thead>\n",
              "    <tr style=\"text-align: right;\">\n",
              "      <th></th>\n",
              "      <th>Formation</th>\n",
              "      <th>Facies</th>\n",
              "      <th>Depth</th>\n",
              "      <th>GR</th>\n",
              "      <th>ILD_log10</th>\n",
              "      <th>DeltaPHI</th>\n",
              "      <th>PHIND</th>\n",
              "      <th>PE</th>\n",
              "      <th>NM_M</th>\n",
              "      <th>RELPOS</th>\n",
              "      <th>Well Name</th>\n",
              "      <th>Presence</th>\n",
              "    </tr>\n",
              "  </thead>\n",
              "  <tbody>\n",
              "    <tr>\n",
              "      <th>0</th>\n",
              "      <td>1</td>\n",
              "      <td>3</td>\n",
              "      <td>2793.0</td>\n",
              "      <td>77.450</td>\n",
              "      <td>0.664</td>\n",
              "      <td>9.900</td>\n",
              "      <td>11.915</td>\n",
              "      <td>4.600</td>\n",
              "      <td>1</td>\n",
              "      <td>1.000</td>\n",
              "      <td>7</td>\n",
              "      <td>0</td>\n",
              "    </tr>\n",
              "    <tr>\n",
              "      <th>1</th>\n",
              "      <td>1</td>\n",
              "      <td>3</td>\n",
              "      <td>2793.5</td>\n",
              "      <td>78.260</td>\n",
              "      <td>0.661</td>\n",
              "      <td>14.200</td>\n",
              "      <td>12.565</td>\n",
              "      <td>4.100</td>\n",
              "      <td>1</td>\n",
              "      <td>0.979</td>\n",
              "      <td>7</td>\n",
              "      <td>0</td>\n",
              "    </tr>\n",
              "    <tr>\n",
              "      <th>2</th>\n",
              "      <td>1</td>\n",
              "      <td>3</td>\n",
              "      <td>2794.0</td>\n",
              "      <td>79.050</td>\n",
              "      <td>0.658</td>\n",
              "      <td>14.800</td>\n",
              "      <td>13.050</td>\n",
              "      <td>3.600</td>\n",
              "      <td>1</td>\n",
              "      <td>0.957</td>\n",
              "      <td>7</td>\n",
              "      <td>0</td>\n",
              "    </tr>\n",
              "    <tr>\n",
              "      <th>3</th>\n",
              "      <td>1</td>\n",
              "      <td>3</td>\n",
              "      <td>2794.5</td>\n",
              "      <td>86.100</td>\n",
              "      <td>0.655</td>\n",
              "      <td>13.900</td>\n",
              "      <td>13.115</td>\n",
              "      <td>3.500</td>\n",
              "      <td>1</td>\n",
              "      <td>0.936</td>\n",
              "      <td>7</td>\n",
              "      <td>0</td>\n",
              "    </tr>\n",
              "    <tr>\n",
              "      <th>4</th>\n",
              "      <td>1</td>\n",
              "      <td>3</td>\n",
              "      <td>2795.0</td>\n",
              "      <td>74.580</td>\n",
              "      <td>0.647</td>\n",
              "      <td>13.500</td>\n",
              "      <td>13.300</td>\n",
              "      <td>3.400</td>\n",
              "      <td>1</td>\n",
              "      <td>0.915</td>\n",
              "      <td>7</td>\n",
              "      <td>0</td>\n",
              "    </tr>\n",
              "    <tr>\n",
              "      <th>...</th>\n",
              "      <td>...</td>\n",
              "      <td>...</td>\n",
              "      <td>...</td>\n",
              "      <td>...</td>\n",
              "      <td>...</td>\n",
              "      <td>...</td>\n",
              "      <td>...</td>\n",
              "      <td>...</td>\n",
              "      <td>...</td>\n",
              "      <td>...</td>\n",
              "      <td>...</td>\n",
              "      <td>...</td>\n",
              "    </tr>\n",
              "    <tr>\n",
              "      <th>3227</th>\n",
              "      <td>12</td>\n",
              "      <td>5</td>\n",
              "      <td>3120.5</td>\n",
              "      <td>46.719</td>\n",
              "      <td>0.947</td>\n",
              "      <td>1.828</td>\n",
              "      <td>7.254</td>\n",
              "      <td>3.617</td>\n",
              "      <td>2</td>\n",
              "      <td>0.685</td>\n",
              "      <td>0</td>\n",
              "      <td>2</td>\n",
              "    </tr>\n",
              "    <tr>\n",
              "      <th>3228</th>\n",
              "      <td>12</td>\n",
              "      <td>5</td>\n",
              "      <td>3121.0</td>\n",
              "      <td>44.563</td>\n",
              "      <td>0.953</td>\n",
              "      <td>2.241</td>\n",
              "      <td>8.013</td>\n",
              "      <td>3.344</td>\n",
              "      <td>2</td>\n",
              "      <td>0.677</td>\n",
              "      <td>0</td>\n",
              "      <td>2</td>\n",
              "    </tr>\n",
              "    <tr>\n",
              "      <th>3229</th>\n",
              "      <td>12</td>\n",
              "      <td>5</td>\n",
              "      <td>3121.5</td>\n",
              "      <td>49.719</td>\n",
              "      <td>0.964</td>\n",
              "      <td>2.925</td>\n",
              "      <td>8.013</td>\n",
              "      <td>3.190</td>\n",
              "      <td>2</td>\n",
              "      <td>0.669</td>\n",
              "      <td>0</td>\n",
              "      <td>0</td>\n",
              "    </tr>\n",
              "    <tr>\n",
              "      <th>3230</th>\n",
              "      <td>12</td>\n",
              "      <td>5</td>\n",
              "      <td>3122.0</td>\n",
              "      <td>51.469</td>\n",
              "      <td>0.965</td>\n",
              "      <td>3.083</td>\n",
              "      <td>7.708</td>\n",
              "      <td>3.152</td>\n",
              "      <td>2</td>\n",
              "      <td>0.661</td>\n",
              "      <td>0</td>\n",
              "      <td>0</td>\n",
              "    </tr>\n",
              "    <tr>\n",
              "      <th>3231</th>\n",
              "      <td>12</td>\n",
              "      <td>5</td>\n",
              "      <td>3122.5</td>\n",
              "      <td>50.031</td>\n",
              "      <td>0.970</td>\n",
              "      <td>2.609</td>\n",
              "      <td>6.668</td>\n",
              "      <td>3.295</td>\n",
              "      <td>2</td>\n",
              "      <td>0.653</td>\n",
              "      <td>0</td>\n",
              "      <td>0</td>\n",
              "    </tr>\n",
              "  </tbody>\n",
              "</table>\n",
              "<p>3232 rows × 12 columns</p>\n",
              "</div>\n",
              "      <button class=\"colab-df-convert\" onclick=\"convertToInteractive('df-224bf3f3-c3ec-459b-bcb7-0286ed213c69')\"\n",
              "              title=\"Convert this dataframe to an interactive table.\"\n",
              "              style=\"display:none;\">\n",
              "        \n",
              "  <svg xmlns=\"http://www.w3.org/2000/svg\" height=\"24px\"viewBox=\"0 0 24 24\"\n",
              "       width=\"24px\">\n",
              "    <path d=\"M0 0h24v24H0V0z\" fill=\"none\"/>\n",
              "    <path d=\"M18.56 5.44l.94 2.06.94-2.06 2.06-.94-2.06-.94-.94-2.06-.94 2.06-2.06.94zm-11 1L8.5 8.5l.94-2.06 2.06-.94-2.06-.94L8.5 2.5l-.94 2.06-2.06.94zm10 10l.94 2.06.94-2.06 2.06-.94-2.06-.94-.94-2.06-.94 2.06-2.06.94z\"/><path d=\"M17.41 7.96l-1.37-1.37c-.4-.4-.92-.59-1.43-.59-.52 0-1.04.2-1.43.59L10.3 9.45l-7.72 7.72c-.78.78-.78 2.05 0 2.83L4 21.41c.39.39.9.59 1.41.59.51 0 1.02-.2 1.41-.59l7.78-7.78 2.81-2.81c.8-.78.8-2.07 0-2.86zM5.41 20L4 18.59l7.72-7.72 1.47 1.35L5.41 20z\"/>\n",
              "  </svg>\n",
              "      </button>\n",
              "      \n",
              "  <style>\n",
              "    .colab-df-container {\n",
              "      display:flex;\n",
              "      flex-wrap:wrap;\n",
              "      gap: 12px;\n",
              "    }\n",
              "\n",
              "    .colab-df-convert {\n",
              "      background-color: #E8F0FE;\n",
              "      border: none;\n",
              "      border-radius: 50%;\n",
              "      cursor: pointer;\n",
              "      display: none;\n",
              "      fill: #1967D2;\n",
              "      height: 32px;\n",
              "      padding: 0 0 0 0;\n",
              "      width: 32px;\n",
              "    }\n",
              "\n",
              "    .colab-df-convert:hover {\n",
              "      background-color: #E2EBFA;\n",
              "      box-shadow: 0px 1px 2px rgba(60, 64, 67, 0.3), 0px 1px 3px 1px rgba(60, 64, 67, 0.15);\n",
              "      fill: #174EA6;\n",
              "    }\n",
              "\n",
              "    [theme=dark] .colab-df-convert {\n",
              "      background-color: #3B4455;\n",
              "      fill: #D2E3FC;\n",
              "    }\n",
              "\n",
              "    [theme=dark] .colab-df-convert:hover {\n",
              "      background-color: #434B5C;\n",
              "      box-shadow: 0px 1px 3px 1px rgba(0, 0, 0, 0.15);\n",
              "      filter: drop-shadow(0px 1px 2px rgba(0, 0, 0, 0.3));\n",
              "      fill: #FFFFFF;\n",
              "    }\n",
              "  </style>\n",
              "\n",
              "      <script>\n",
              "        const buttonEl =\n",
              "          document.querySelector('#df-224bf3f3-c3ec-459b-bcb7-0286ed213c69 button.colab-df-convert');\n",
              "        buttonEl.style.display =\n",
              "          google.colab.kernel.accessAllowed ? 'block' : 'none';\n",
              "\n",
              "        async function convertToInteractive(key) {\n",
              "          const element = document.querySelector('#df-224bf3f3-c3ec-459b-bcb7-0286ed213c69');\n",
              "          const dataTable =\n",
              "            await google.colab.kernel.invokeFunction('convertToInteractive',\n",
              "                                                     [key], {});\n",
              "          if (!dataTable) return;\n",
              "\n",
              "          const docLinkHtml = 'Like what you see? Visit the ' +\n",
              "            '<a target=\"_blank\" href=https://colab.research.google.com/notebooks/data_table.ipynb>data table notebook</a>'\n",
              "            + ' to learn more about interactive tables.';\n",
              "          element.innerHTML = '';\n",
              "          dataTable['output_type'] = 'display_data';\n",
              "          await google.colab.output.renderOutput(dataTable, element);\n",
              "          const docLink = document.createElement('div');\n",
              "          docLink.innerHTML = docLinkHtml;\n",
              "          element.appendChild(docLink);\n",
              "        }\n",
              "      </script>\n",
              "    </div>\n",
              "  </div>\n",
              "  "
            ]
          },
          "metadata": {},
          "execution_count": 6
        }
      ]
    },
    {
      "cell_type": "code",
      "source": [
        "# Step 1: Data Collection\n",
        "import pandas as pd\n",
        "data = pd.read_csv('WELL_LOG_MAIN_DATASET.csv')\n",
        "\n",
        "# Step 2: Data Preprocessing\n",
        "X = data.drop('target', axis=1)\n",
        "y = data['target']\n",
        "\n",
        "# Step 3: Model Training\n",
        "from sklearn.model_selection import train_test_split\n",
        "from sklearn.ensemble import RandomForestClassifier\n",
        "\n",
        "X_train, X_test, y_train, y_test = train_test_split(X, y, test_size=0.2, random_state=42)\n",
        "\n",
        "model = RandomForestClassifier(n_estimators=100, max_depth=5)\n",
        "model.fit(X_train, y_train)\n",
        "\n",
        "# Step 4: Model Deployment\n",
        "import pickle\n",
        "with open('model.pkl', 'wb') as f:\n",
        "    pickle.dump(model, f)\n",
        "\n",
        "# Step 5: Prediction\n",
        "new_data = pd.read_csv('new_data.csv')\n",
        "with open('model.pkl', 'rb') as f:\n",
        "    model = pickle.load(f)\n",
        "    \n",
        "predictions = model.predict(new_data)\n"
      ],
      "metadata": {
        "id": "meeu51HUZIK8"
      },
      "execution_count": null,
      "outputs": []
    },
    {
      "cell_type": "code",
      "source": [
        "# Step 1: Data Collection\n",
        "import pandas as pd\n",
        "data = pd.read_csv('WELL_LOG_MAIN_DATASET.csv')"
      ],
      "metadata": {
        "id": "EFg-vMzpZbKa"
      },
      "execution_count": null,
      "outputs": []
    },
    {
      "cell_type": "code",
      "source": [
        "# Step 2: Data Preprocessing\n",
        "from sklearn.preprocessing import LabelEncoder\n",
        "le = LabelEncoder()\n",
        "data['Presence'] = le.fit_transform(data['Presence'])\n",
        "data['Well Name'] = le.fit_transform(data['Well Name'])\n",
        "data['Formation'] = le.fit_transform(data['Formation'])\n",
        "X = data.iloc[:,:-1]\n",
        "X"
      ],
      "metadata": {
        "colab": {
          "base_uri": "https://localhost:8080/",
          "height": 505
        },
        "id": "U6Mx9Te2ZfzI",
        "outputId": "b9f07bf7-6b12-4135-d99c-5ee5584b4b5f"
      },
      "execution_count": null,
      "outputs": [
        {
          "output_type": "execute_result",
          "data": {
            "text/plain": [
              "      Formation  Facies   Depth      GR  ILD_log10  DeltaPHI   PHIND     PE  \\\n",
              "0             1       3  2793.0  77.450      0.664     9.900  11.915  4.600   \n",
              "1             1       3  2793.5  78.260      0.661    14.200  12.565  4.100   \n",
              "2             1       3  2794.0  79.050      0.658    14.800  13.050  3.600   \n",
              "3             1       3  2794.5  86.100      0.655    13.900  13.115  3.500   \n",
              "4             1       3  2795.0  74.580      0.647    13.500  13.300  3.400   \n",
              "...         ...     ...     ...     ...        ...       ...     ...    ...   \n",
              "3227         12       5  3120.5  46.719      0.947     1.828   7.254  3.617   \n",
              "3228         12       5  3121.0  44.563      0.953     2.241   8.013  3.344   \n",
              "3229         12       5  3121.5  49.719      0.964     2.925   8.013  3.190   \n",
              "3230         12       5  3122.0  51.469      0.965     3.083   7.708  3.152   \n",
              "3231         12       5  3122.5  50.031      0.970     2.609   6.668  3.295   \n",
              "\n",
              "      NM_M  RELPOS  Well Name  \n",
              "0        1   1.000          7  \n",
              "1        1   0.979          7  \n",
              "2        1   0.957          7  \n",
              "3        1   0.936          7  \n",
              "4        1   0.915          7  \n",
              "...    ...     ...        ...  \n",
              "3227     2   0.685          0  \n",
              "3228     2   0.677          0  \n",
              "3229     2   0.669          0  \n",
              "3230     2   0.661          0  \n",
              "3231     2   0.653          0  \n",
              "\n",
              "[3232 rows x 11 columns]"
            ],
            "text/html": [
              "\n",
              "  <div id=\"df-30ccb3f8-df16-4ffe-8f4f-4c43004cf7a2\">\n",
              "    <div class=\"colab-df-container\">\n",
              "      <div>\n",
              "<style scoped>\n",
              "    .dataframe tbody tr th:only-of-type {\n",
              "        vertical-align: middle;\n",
              "    }\n",
              "\n",
              "    .dataframe tbody tr th {\n",
              "        vertical-align: top;\n",
              "    }\n",
              "\n",
              "    .dataframe thead th {\n",
              "        text-align: right;\n",
              "    }\n",
              "</style>\n",
              "<table border=\"1\" class=\"dataframe\">\n",
              "  <thead>\n",
              "    <tr style=\"text-align: right;\">\n",
              "      <th></th>\n",
              "      <th>Formation</th>\n",
              "      <th>Facies</th>\n",
              "      <th>Depth</th>\n",
              "      <th>GR</th>\n",
              "      <th>ILD_log10</th>\n",
              "      <th>DeltaPHI</th>\n",
              "      <th>PHIND</th>\n",
              "      <th>PE</th>\n",
              "      <th>NM_M</th>\n",
              "      <th>RELPOS</th>\n",
              "      <th>Well Name</th>\n",
              "    </tr>\n",
              "  </thead>\n",
              "  <tbody>\n",
              "    <tr>\n",
              "      <th>0</th>\n",
              "      <td>1</td>\n",
              "      <td>3</td>\n",
              "      <td>2793.0</td>\n",
              "      <td>77.450</td>\n",
              "      <td>0.664</td>\n",
              "      <td>9.900</td>\n",
              "      <td>11.915</td>\n",
              "      <td>4.600</td>\n",
              "      <td>1</td>\n",
              "      <td>1.000</td>\n",
              "      <td>7</td>\n",
              "    </tr>\n",
              "    <tr>\n",
              "      <th>1</th>\n",
              "      <td>1</td>\n",
              "      <td>3</td>\n",
              "      <td>2793.5</td>\n",
              "      <td>78.260</td>\n",
              "      <td>0.661</td>\n",
              "      <td>14.200</td>\n",
              "      <td>12.565</td>\n",
              "      <td>4.100</td>\n",
              "      <td>1</td>\n",
              "      <td>0.979</td>\n",
              "      <td>7</td>\n",
              "    </tr>\n",
              "    <tr>\n",
              "      <th>2</th>\n",
              "      <td>1</td>\n",
              "      <td>3</td>\n",
              "      <td>2794.0</td>\n",
              "      <td>79.050</td>\n",
              "      <td>0.658</td>\n",
              "      <td>14.800</td>\n",
              "      <td>13.050</td>\n",
              "      <td>3.600</td>\n",
              "      <td>1</td>\n",
              "      <td>0.957</td>\n",
              "      <td>7</td>\n",
              "    </tr>\n",
              "    <tr>\n",
              "      <th>3</th>\n",
              "      <td>1</td>\n",
              "      <td>3</td>\n",
              "      <td>2794.5</td>\n",
              "      <td>86.100</td>\n",
              "      <td>0.655</td>\n",
              "      <td>13.900</td>\n",
              "      <td>13.115</td>\n",
              "      <td>3.500</td>\n",
              "      <td>1</td>\n",
              "      <td>0.936</td>\n",
              "      <td>7</td>\n",
              "    </tr>\n",
              "    <tr>\n",
              "      <th>4</th>\n",
              "      <td>1</td>\n",
              "      <td>3</td>\n",
              "      <td>2795.0</td>\n",
              "      <td>74.580</td>\n",
              "      <td>0.647</td>\n",
              "      <td>13.500</td>\n",
              "      <td>13.300</td>\n",
              "      <td>3.400</td>\n",
              "      <td>1</td>\n",
              "      <td>0.915</td>\n",
              "      <td>7</td>\n",
              "    </tr>\n",
              "    <tr>\n",
              "      <th>...</th>\n",
              "      <td>...</td>\n",
              "      <td>...</td>\n",
              "      <td>...</td>\n",
              "      <td>...</td>\n",
              "      <td>...</td>\n",
              "      <td>...</td>\n",
              "      <td>...</td>\n",
              "      <td>...</td>\n",
              "      <td>...</td>\n",
              "      <td>...</td>\n",
              "      <td>...</td>\n",
              "    </tr>\n",
              "    <tr>\n",
              "      <th>3227</th>\n",
              "      <td>12</td>\n",
              "      <td>5</td>\n",
              "      <td>3120.5</td>\n",
              "      <td>46.719</td>\n",
              "      <td>0.947</td>\n",
              "      <td>1.828</td>\n",
              "      <td>7.254</td>\n",
              "      <td>3.617</td>\n",
              "      <td>2</td>\n",
              "      <td>0.685</td>\n",
              "      <td>0</td>\n",
              "    </tr>\n",
              "    <tr>\n",
              "      <th>3228</th>\n",
              "      <td>12</td>\n",
              "      <td>5</td>\n",
              "      <td>3121.0</td>\n",
              "      <td>44.563</td>\n",
              "      <td>0.953</td>\n",
              "      <td>2.241</td>\n",
              "      <td>8.013</td>\n",
              "      <td>3.344</td>\n",
              "      <td>2</td>\n",
              "      <td>0.677</td>\n",
              "      <td>0</td>\n",
              "    </tr>\n",
              "    <tr>\n",
              "      <th>3229</th>\n",
              "      <td>12</td>\n",
              "      <td>5</td>\n",
              "      <td>3121.5</td>\n",
              "      <td>49.719</td>\n",
              "      <td>0.964</td>\n",
              "      <td>2.925</td>\n",
              "      <td>8.013</td>\n",
              "      <td>3.190</td>\n",
              "      <td>2</td>\n",
              "      <td>0.669</td>\n",
              "      <td>0</td>\n",
              "    </tr>\n",
              "    <tr>\n",
              "      <th>3230</th>\n",
              "      <td>12</td>\n",
              "      <td>5</td>\n",
              "      <td>3122.0</td>\n",
              "      <td>51.469</td>\n",
              "      <td>0.965</td>\n",
              "      <td>3.083</td>\n",
              "      <td>7.708</td>\n",
              "      <td>3.152</td>\n",
              "      <td>2</td>\n",
              "      <td>0.661</td>\n",
              "      <td>0</td>\n",
              "    </tr>\n",
              "    <tr>\n",
              "      <th>3231</th>\n",
              "      <td>12</td>\n",
              "      <td>5</td>\n",
              "      <td>3122.5</td>\n",
              "      <td>50.031</td>\n",
              "      <td>0.970</td>\n",
              "      <td>2.609</td>\n",
              "      <td>6.668</td>\n",
              "      <td>3.295</td>\n",
              "      <td>2</td>\n",
              "      <td>0.653</td>\n",
              "      <td>0</td>\n",
              "    </tr>\n",
              "  </tbody>\n",
              "</table>\n",
              "<p>3232 rows × 11 columns</p>\n",
              "</div>\n",
              "      <button class=\"colab-df-convert\" onclick=\"convertToInteractive('df-30ccb3f8-df16-4ffe-8f4f-4c43004cf7a2')\"\n",
              "              title=\"Convert this dataframe to an interactive table.\"\n",
              "              style=\"display:none;\">\n",
              "        \n",
              "  <svg xmlns=\"http://www.w3.org/2000/svg\" height=\"24px\"viewBox=\"0 0 24 24\"\n",
              "       width=\"24px\">\n",
              "    <path d=\"M0 0h24v24H0V0z\" fill=\"none\"/>\n",
              "    <path d=\"M18.56 5.44l.94 2.06.94-2.06 2.06-.94-2.06-.94-.94-2.06-.94 2.06-2.06.94zm-11 1L8.5 8.5l.94-2.06 2.06-.94-2.06-.94L8.5 2.5l-.94 2.06-2.06.94zm10 10l.94 2.06.94-2.06 2.06-.94-2.06-.94-.94-2.06-.94 2.06-2.06.94z\"/><path d=\"M17.41 7.96l-1.37-1.37c-.4-.4-.92-.59-1.43-.59-.52 0-1.04.2-1.43.59L10.3 9.45l-7.72 7.72c-.78.78-.78 2.05 0 2.83L4 21.41c.39.39.9.59 1.41.59.51 0 1.02-.2 1.41-.59l7.78-7.78 2.81-2.81c.8-.78.8-2.07 0-2.86zM5.41 20L4 18.59l7.72-7.72 1.47 1.35L5.41 20z\"/>\n",
              "  </svg>\n",
              "      </button>\n",
              "      \n",
              "  <style>\n",
              "    .colab-df-container {\n",
              "      display:flex;\n",
              "      flex-wrap:wrap;\n",
              "      gap: 12px;\n",
              "    }\n",
              "\n",
              "    .colab-df-convert {\n",
              "      background-color: #E8F0FE;\n",
              "      border: none;\n",
              "      border-radius: 50%;\n",
              "      cursor: pointer;\n",
              "      display: none;\n",
              "      fill: #1967D2;\n",
              "      height: 32px;\n",
              "      padding: 0 0 0 0;\n",
              "      width: 32px;\n",
              "    }\n",
              "\n",
              "    .colab-df-convert:hover {\n",
              "      background-color: #E2EBFA;\n",
              "      box-shadow: 0px 1px 2px rgba(60, 64, 67, 0.3), 0px 1px 3px 1px rgba(60, 64, 67, 0.15);\n",
              "      fill: #174EA6;\n",
              "    }\n",
              "\n",
              "    [theme=dark] .colab-df-convert {\n",
              "      background-color: #3B4455;\n",
              "      fill: #D2E3FC;\n",
              "    }\n",
              "\n",
              "    [theme=dark] .colab-df-convert:hover {\n",
              "      background-color: #434B5C;\n",
              "      box-shadow: 0px 1px 3px 1px rgba(0, 0, 0, 0.15);\n",
              "      filter: drop-shadow(0px 1px 2px rgba(0, 0, 0, 0.3));\n",
              "      fill: #FFFFFF;\n",
              "    }\n",
              "  </style>\n",
              "\n",
              "      <script>\n",
              "        const buttonEl =\n",
              "          document.querySelector('#df-30ccb3f8-df16-4ffe-8f4f-4c43004cf7a2 button.colab-df-convert');\n",
              "        buttonEl.style.display =\n",
              "          google.colab.kernel.accessAllowed ? 'block' : 'none';\n",
              "\n",
              "        async function convertToInteractive(key) {\n",
              "          const element = document.querySelector('#df-30ccb3f8-df16-4ffe-8f4f-4c43004cf7a2');\n",
              "          const dataTable =\n",
              "            await google.colab.kernel.invokeFunction('convertToInteractive',\n",
              "                                                     [key], {});\n",
              "          if (!dataTable) return;\n",
              "\n",
              "          const docLinkHtml = 'Like what you see? Visit the ' +\n",
              "            '<a target=\"_blank\" href=https://colab.research.google.com/notebooks/data_table.ipynb>data table notebook</a>'\n",
              "            + ' to learn more about interactive tables.';\n",
              "          element.innerHTML = '';\n",
              "          dataTable['output_type'] = 'display_data';\n",
              "          await google.colab.output.renderOutput(dataTable, element);\n",
              "          const docLink = document.createElement('div');\n",
              "          docLink.innerHTML = docLinkHtml;\n",
              "          element.appendChild(docLink);\n",
              "        }\n",
              "      </script>\n",
              "    </div>\n",
              "  </div>\n",
              "  "
            ]
          },
          "metadata": {},
          "execution_count": 6
        }
      ]
    },
    {
      "cell_type": "code",
      "source": [
        "Y = data.iloc[:,-1]\n",
        "Y"
      ],
      "metadata": {
        "colab": {
          "base_uri": "https://localhost:8080/"
        },
        "id": "yT9xjEmpZ8MG",
        "outputId": "4f67b6ed-5e27-4169-c678-5d8454004c61"
      },
      "execution_count": null,
      "outputs": [
        {
          "output_type": "execute_result",
          "data": {
            "text/plain": [
              "0       0\n",
              "1       0\n",
              "2       0\n",
              "3       0\n",
              "4       0\n",
              "       ..\n",
              "3227    2\n",
              "3228    2\n",
              "3229    0\n",
              "3230    0\n",
              "3231    0\n",
              "Name: Presence, Length: 3232, dtype: int64"
            ]
          },
          "metadata": {},
          "execution_count": 8
        }
      ]
    },
    {
      "cell_type": "code",
      "source": [
        "# Step 3: Model Training\n",
        "from sklearn.model_selection import train_test_split\n",
        "from sklearn.ensemble import RandomForestClassifier\n",
        "\n",
        "X_train, X_test, Y_train, Y_test = train_test_split(X, Y, test_size=0.2, random_state=42)\n",
        "\n",
        "model = RandomForestClassifier(n_estimators=100, max_depth=5)\n",
        "model.fit(X_train, Y_train)"
      ],
      "metadata": {
        "colab": {
          "base_uri": "https://localhost:8080/",
          "height": 75
        },
        "id": "id76p7HCaE5e",
        "outputId": "ef9d4a32-3294-4a78-a1dd-e782a2c54ca7"
      },
      "execution_count": null,
      "outputs": [
        {
          "output_type": "execute_result",
          "data": {
            "text/plain": [
              "RandomForestClassifier(max_depth=5)"
            ],
            "text/html": [
              "<style>#sk-container-id-1 {color: black;background-color: white;}#sk-container-id-1 pre{padding: 0;}#sk-container-id-1 div.sk-toggleable {background-color: white;}#sk-container-id-1 label.sk-toggleable__label {cursor: pointer;display: block;width: 100%;margin-bottom: 0;padding: 0.3em;box-sizing: border-box;text-align: center;}#sk-container-id-1 label.sk-toggleable__label-arrow:before {content: \"▸\";float: left;margin-right: 0.25em;color: #696969;}#sk-container-id-1 label.sk-toggleable__label-arrow:hover:before {color: black;}#sk-container-id-1 div.sk-estimator:hover label.sk-toggleable__label-arrow:before {color: black;}#sk-container-id-1 div.sk-toggleable__content {max-height: 0;max-width: 0;overflow: hidden;text-align: left;background-color: #f0f8ff;}#sk-container-id-1 div.sk-toggleable__content pre {margin: 0.2em;color: black;border-radius: 0.25em;background-color: #f0f8ff;}#sk-container-id-1 input.sk-toggleable__control:checked~div.sk-toggleable__content {max-height: 200px;max-width: 100%;overflow: auto;}#sk-container-id-1 input.sk-toggleable__control:checked~label.sk-toggleable__label-arrow:before {content: \"▾\";}#sk-container-id-1 div.sk-estimator input.sk-toggleable__control:checked~label.sk-toggleable__label {background-color: #d4ebff;}#sk-container-id-1 div.sk-label input.sk-toggleable__control:checked~label.sk-toggleable__label {background-color: #d4ebff;}#sk-container-id-1 input.sk-hidden--visually {border: 0;clip: rect(1px 1px 1px 1px);clip: rect(1px, 1px, 1px, 1px);height: 1px;margin: -1px;overflow: hidden;padding: 0;position: absolute;width: 1px;}#sk-container-id-1 div.sk-estimator {font-family: monospace;background-color: #f0f8ff;border: 1px dotted black;border-radius: 0.25em;box-sizing: border-box;margin-bottom: 0.5em;}#sk-container-id-1 div.sk-estimator:hover {background-color: #d4ebff;}#sk-container-id-1 div.sk-parallel-item::after {content: \"\";width: 100%;border-bottom: 1px solid gray;flex-grow: 1;}#sk-container-id-1 div.sk-label:hover label.sk-toggleable__label {background-color: #d4ebff;}#sk-container-id-1 div.sk-serial::before {content: \"\";position: absolute;border-left: 1px solid gray;box-sizing: border-box;top: 0;bottom: 0;left: 50%;z-index: 0;}#sk-container-id-1 div.sk-serial {display: flex;flex-direction: column;align-items: center;background-color: white;padding-right: 0.2em;padding-left: 0.2em;position: relative;}#sk-container-id-1 div.sk-item {position: relative;z-index: 1;}#sk-container-id-1 div.sk-parallel {display: flex;align-items: stretch;justify-content: center;background-color: white;position: relative;}#sk-container-id-1 div.sk-item::before, #sk-container-id-1 div.sk-parallel-item::before {content: \"\";position: absolute;border-left: 1px solid gray;box-sizing: border-box;top: 0;bottom: 0;left: 50%;z-index: -1;}#sk-container-id-1 div.sk-parallel-item {display: flex;flex-direction: column;z-index: 1;position: relative;background-color: white;}#sk-container-id-1 div.sk-parallel-item:first-child::after {align-self: flex-end;width: 50%;}#sk-container-id-1 div.sk-parallel-item:last-child::after {align-self: flex-start;width: 50%;}#sk-container-id-1 div.sk-parallel-item:only-child::after {width: 0;}#sk-container-id-1 div.sk-dashed-wrapped {border: 1px dashed gray;margin: 0 0.4em 0.5em 0.4em;box-sizing: border-box;padding-bottom: 0.4em;background-color: white;}#sk-container-id-1 div.sk-label label {font-family: monospace;font-weight: bold;display: inline-block;line-height: 1.2em;}#sk-container-id-1 div.sk-label-container {text-align: center;}#sk-container-id-1 div.sk-container {/* jupyter's `normalize.less` sets `[hidden] { display: none; }` but bootstrap.min.css set `[hidden] { display: none !important; }` so we also need the `!important` here to be able to override the default hidden behavior on the sphinx rendered scikit-learn.org. See: https://github.com/scikit-learn/scikit-learn/issues/21755 */display: inline-block !important;position: relative;}#sk-container-id-1 div.sk-text-repr-fallback {display: none;}</style><div id=\"sk-container-id-1\" class=\"sk-top-container\"><div class=\"sk-text-repr-fallback\"><pre>RandomForestClassifier(max_depth=5)</pre><b>In a Jupyter environment, please rerun this cell to show the HTML representation or trust the notebook. <br />On GitHub, the HTML representation is unable to render, please try loading this page with nbviewer.org.</b></div><div class=\"sk-container\" hidden><div class=\"sk-item\"><div class=\"sk-estimator sk-toggleable\"><input class=\"sk-toggleable__control sk-hidden--visually\" id=\"sk-estimator-id-1\" type=\"checkbox\" checked><label for=\"sk-estimator-id-1\" class=\"sk-toggleable__label sk-toggleable__label-arrow\">RandomForestClassifier</label><div class=\"sk-toggleable__content\"><pre>RandomForestClassifier(max_depth=5)</pre></div></div></div></div></div>"
            ]
          },
          "metadata": {},
          "execution_count": 10
        }
      ]
    },
    {
      "cell_type": "code",
      "source": [
        "# Step 4: Model Deployment\n",
        "import pickle\n",
        "with open('model.pkl', 'wb') as f:\n",
        "    pickle.dump(model, f)"
      ],
      "metadata": {
        "id": "gE9QD48zaZsy"
      },
      "execution_count": null,
      "outputs": []
    },
    {
      "cell_type": "code",
      "source": [
        "# Step 5: Prediction\n",
        "new_data = pd.read_csv('New dataset facies2_Sheet1 .csv')\n",
        "from sklearn.preprocessing import LabelEncoder\n",
        "le = LabelEncoder()\n",
        "new_data['Well Name'] = le.fit_transform(new_data['Well Name'])\n",
        "new_data['Formation'] = le.fit_transform(new_data['Formation'])\n",
        "with open('model.pkl', 'rb') as f:\n",
        "    model = pickle.load(f)\n",
        "    \n",
        "predictions = model.predict(new_data)"
      ],
      "metadata": {
        "id": "glbjhAilalob"
      },
      "execution_count": null,
      "outputs": []
    },
    {
      "cell_type": "code",
      "source": [
        "print(predictions)"
      ],
      "metadata": {
        "colab": {
          "base_uri": "https://localhost:8080/"
        },
        "id": "Et2zVzoteSUW",
        "outputId": "ba50c6b7-10dc-407b-ff8e-fb945bc52760"
      },
      "execution_count": null,
      "outputs": [
        {
          "output_type": "stream",
          "name": "stdout",
          "text": [
            "[0 1 1 1 0 0 0 0 0 0 0 0 0 0 0 0 2 1 1 1 0 0 0 0 2 2 2 2 2 2 0 0 0 0 0 0 1\n",
            " 1 1 1 1 1 1 1 0 0 2 2 2 2 2 0 0 0 0 0 0 0 0 0 0 0 2 2 2 0 0 0 0 0 2 2 2 2\n",
            " 2 1 1 1 1 1 1 1 1 1 1 1 1 2 2 2 2 2 2 0 0 0 0 0 0 0 0 0 0 0 0 0 2 2 2 2 2\n",
            " 2 2 2 2 2 2 2 2 2 0 0 0 0 0 0 0 0 1 1 1 1 0 0 0 0 0 0 0 0 0 0 0 0 0 1 1 1\n",
            " 1 1 1 0 0 0 0 2 2 2 2 2 2 1 1 0 1 1 1 2 0 2 2 2 2 2 2 2 2 2 2 2 2 2 2 1 1\n",
            " 1 1 1 1 1 1 0 0 1 1 1 0 1 1 1 1 1 1 2 2 2 2 2 2 2 2 2 2 2 2 1 1 1 1 1 2 2\n",
            " 2 2 2 2 2 0 0 0 1 1 1 1 1 1 0 0 0 0 0 2 0 0 1 1 1 1 0 0 2 1 1 1 2 2 0 2 2\n",
            " 1 1 1 0 0 0 1 1 0 2 2 2 2 2 0 0 1 1 1 1 2 2 2 2 2 2 2 2 2 2 2 1 1 1 1 1 1\n",
            " 1 1 1 1 1 1 1 1 1 1 1 1 1 1 1 2 2 2 2 2 2 2 2 1 1 1 1 1 1 1 2 2 2 2 2 0 0\n",
            " 2 1 1 1 1 1 1 1 1 1 1 1 1 1 1 1 1 1 1 1 1 1 0 0 0 1 1 1 1 1 1 1 0 0 0 1 1\n",
            " 1 1 1 1 0 0 0 2 2 2 2 1 2 2 2 1 1 1 1 1 1 1 1 1 2 2 2 0 0 0 0 0 0 2 2 2 2\n",
            " 2 2 2 2 2 2 2 2 2 2 2 2 2 2 2 2 2 0 0 0 2 0 2 2 2 2 2 2 2 2 2 2 2 2 2 1 0\n",
            " 0 1 0 2 1 0 0 1 1 1 1 1 1 1 1 1 0 0 0 0 0 0 0 0 0 0 0 0 0 0 0 0 0 2 2 2 2\n",
            " 2 2 2 2 2 1 1 1 1 1 1 1 1 1 1 1 1 1 0 0 0 0 0 0 0 0 0 2 2 2 2 2 2 2 0 0 0\n",
            " 0 2 2 2 2 2 2 2 2 2 2 2 2 2 2 2 2 2 2 2 2 2 2 0 0 0 0 1 1 1 1 1 1 1 1 1 1\n",
            " 1 1 1 1 1 1 1 1 2 2 0 0 2 2 2 2 2 2 2 2 1 1 1 1 2 2 2 2 2 2 1 1 1 1 2 2 2\n",
            " 2 2 2 2 2 2 2 2 2 2 2 2 2 2 2 2 2 2 2 2 2 2 2 2 2 2 2 2 2 0 0 0 1 1 2 2 1\n",
            " 1 1 1 1 1 1 1 1 1 1 1 1 1 1 1 1 1 1 1 1 1 1 1 1 1 1 1 1 1 1 1 1 1 1 2 2 2\n",
            " 1 1 0 0 0 0 0 0 0 2 1 0 0 0 0 1 1 0 1 1 1 1 1 2 2 0 0 0 0 2 2 2 2 2 2 2 2\n",
            " 2 1 1 1 2 2 2 0 2 1 1 1 1 1 1 1 1 1 1 1 1 1 1 2 2 2 2 2 2 2 2 2 2 2 2 2 0\n",
            " 0 0 0 0 0 2 0 1 1 1 0 0 0 0 1 2 2 2 0 0 2 1 1 1 1 1 1 1 1 1 1 1 1 1 1 1 1\n",
            " 1 1 1 1 1 1 2 1 1 1 1 1 1 1 1 1 1 1 1 1 1 1 1 1 1 1 1 1 2 2 2 0 0 0 2 0 0\n",
            " 0 0 0 0 0 0 0 0 1 1 1 1 1 1 1 1]\n"
          ]
        }
      ]
    },
    {
      "cell_type": "code",
      "source": [
        "import pandas as pd\n",
        "import numpy as np\n",
        "\n",
        "# define the mapping between numbers and categories\n",
        "mapping = {0: \"High\", 1: \"Low\", 2: \"Medium\"}\n",
        "\n",
        "# create a Pandas Series from the numerical array\n",
        "series = pd.Series(predictions)\n",
        "\n",
        "# use the map() method to apply the mapping to the series\n",
        "categories = series.map(mapping)\n",
        "\n",
        "# print the resulting categories\n",
        "print(categories)"
      ],
      "metadata": {
        "colab": {
          "base_uri": "https://localhost:8080/"
        },
        "id": "xBGCtDfoglPD",
        "outputId": "65b952a6-4f38-4d66-8d0f-bf1ba0cdf5d9"
      },
      "execution_count": null,
      "outputs": [
        {
          "output_type": "stream",
          "name": "stdout",
          "text": [
            "0      High\n",
            "1       Low\n",
            "2       Low\n",
            "3       Low\n",
            "4      High\n",
            "       ... \n",
            "825     Low\n",
            "826     Low\n",
            "827     Low\n",
            "828     Low\n",
            "829     Low\n",
            "Length: 830, dtype: object\n"
          ]
        }
      ]
    },
    {
      "cell_type": "code",
      "source": [
        "df = pd.DataFrame({'Predicted Presence': categories})\n",
        "df.to_csv(\"Prediction.csv\", index=False)"
      ],
      "metadata": {
        "id": "xHh8Ng9vfjpY"
      },
      "execution_count": null,
      "outputs": []
    },
    {
      "cell_type": "code",
      "source": [
        "import pandas as pd\n",
        "\n",
        "# read in the two CSV files\n",
        "df1 = pd.read_csv('New dataset facies2_Sheet1 .csv')\n",
        "df2 = pd.read_csv('Prediction.csv')\n",
        "\n",
        "# concatenate the data frames vertically\n",
        "result = pd.concat([df1, df2],axis=1)\n",
        "\n",
        "# export the concatenated data frame to a new CSV file\n",
        "result.to_csv('concatenated.csv')\n"
      ],
      "metadata": {
        "id": "TFpFzzqej-Hw"
      },
      "execution_count": null,
      "outputs": []
    }
  ]
}